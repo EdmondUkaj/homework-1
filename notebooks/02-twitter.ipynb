{
 "cells": [
  {
   "cell_type": "markdown",
   "metadata": {},
   "source": [
    "# Twitter\n",
    "\n",
    "---\n",
    "\n",
    "Group name: K\n",
    "\n",
    "---\n"
   ]
  },
  {
   "cell_type": "markdown",
   "metadata": {},
   "source": [
    "1. Schritt: Enviroment \"twitter\" einstellen, \"tweepy\"-package gibt uns Zugriff auf die Twitter API mit Python"
   ]
  },
  {
   "cell_type": "code",
   "execution_count": 1,
   "metadata": {},
   "outputs": [],
   "source": [
    "import tweepy"
   ]
  }
 ],
 "metadata": {
  "kernelspec": {
<<<<<<< HEAD
   "display_name": "Python 3.9.13 ('twitter')",
=======
   "display_name": "Python 3.9.6 64-bit",
>>>>>>> 71dbbdadfdc16604864e58f388dbcababa7ed2e0
   "language": "python",
   "name": "python3"
  },
  "language_info": {
   "codemirror_mode": {
    "name": "ipython",
    "version": 3
   },
   "file_extension": ".py",
   "mimetype": "text/x-python",
   "name": "python",
   "nbconvert_exporter": "python",
   "pygments_lexer": "ipython3",
<<<<<<< HEAD
   "version": "3.9.13"
=======
   "version": "3.9.6"
>>>>>>> 71dbbdadfdc16604864e58f388dbcababa7ed2e0
  },
  "orig_nbformat": 4,
  "vscode": {
   "interpreter": {
<<<<<<< HEAD
    "hash": "01cd50dbc571eae7ff6f0d7920e791286ecc4018f435c5f976ce4b3e13318d52"
=======
    "hash": "31f2aee4e71d21fbe5cf8b01ff0e069b9275f58929596ceb00d14d90e3e16cd6"
>>>>>>> 71dbbdadfdc16604864e58f388dbcababa7ed2e0
   }
  }
 },
 "nbformat": 4,
 "nbformat_minor": 2
}
