{
 "cells": [
  {
   "cell_type": "markdown",
   "metadata": {},
   "source": [
    "# Twitter\n",
    "\n",
    "---\n",
    "\n",
    "Group name: K\n",
    "\n",
    "---\n"
   ]
  },
  {
   "cell_type": "markdown",
   "metadata": {},
   "source": []
  },
  {
   "cell_type": "markdown",
   "metadata": {},
   "source": [
    "1. Schritt: Enviroment \"twitter\" einstellen, \"tweepy\"-package gibt uns Zugriff auf die Twitter API mit Python"
   ]
  },
  {
   "cell_type": "code",
   "execution_count": 1,
   "metadata": {},
   "outputs": [],
   "source": [
    "import tweepy"
   ]
  },
  {
   "cell_type": "markdown",
   "metadata": {},
   "source": [
    "2. Schritt: Twitterkeys importieren"
   ]
  },
  {
   "cell_type": "code",
   "execution_count": 2,
   "metadata": {},
   "outputs": [],
   "source": [
    "from keys import *"
   ]
  },
  {
   "cell_type": "markdown",
   "metadata": {},
   "source": [
    "3. Schritt: keys werden in der Funktion tweepy.Client genutzt"
   ]
  },
  {
   "cell_type": "code",
   "execution_count": 3,
   "metadata": {},
   "outputs": [],
   "source": [
    "import requests"
   ]
  },
  {
   "cell_type": "code",
   "execution_count": 5,
   "metadata": {},
   "outputs": [
    {
     "data": {
      "text/plain": [
       "<tweepy.client.Client at 0x1138dff40>"
      ]
     },
     "execution_count": 5,
     "metadata": {},
     "output_type": "execute_result"
    }
   ],
   "source": [
    "client = tweepy.Client( bearer_token=bearer_token, \n",
    "                        consumer_key=consumer_key, \n",
    "                        consumer_secret=consumer_secret, \n",
    "                        access_token=access_token, \n",
    "                        access_token_secret=access_token_secret, \n",
    "                        return_type = requests.Response,\n",
    "                        wait_on_rate_limit=True)\n",
    "\n",
    "client"
   ]
  },
  {
   "cell_type": "markdown",
   "metadata": {},
   "source": [
    "4. Schritt: Query definieren\n",
    "- Wir suchen nach Tweets von \"fivethirtyeight\" und wollen Retweets dabei ausschließen"
   ]
  },
  {
   "cell_type": "code",
   "execution_count": 6,
   "metadata": {},
   "outputs": [],
   "source": [
    "my_query = 'from:fivethirtyeight -is:retweet'"
   ]
  },
  {
   "cell_type": "markdown",
   "metadata": {},
   "source": [
    "5. Schritt: Query abfragen\n",
    "- mit der Funktion \"search_recent_tweets\" begrenzen wir uns auf die Tweets der letzten 7 Tage\n",
    "- wir fügen extra informationen hinzu, wie z.B. die ID des Autors und wann der Tweet entstanden ist \n",
    "- wir wollen max. 100 Ergebnisse"
   ]
  },
  {
   "cell_type": "code",
   "execution_count": 7,
   "metadata": {},
   "outputs": [],
   "source": [
    "tweets = client.search_recent_tweets(query=my_query, \n",
    "                                    tweet_fields=['author_id', 'created_at'],\n",
    "                                     max_results=100)"
   ]
  },
  {
   "cell_type": "markdown",
   "metadata": {},
   "source": [
    "6. Schritt: Konvertieren der Daten in einen Pandas Dataframe"
   ]
  },
  {
   "cell_type": "code",
   "execution_count": 13,
   "metadata": {},
   "outputs": [
    {
     "data": {
      "text/html": [
       "<div>\n",
       "<style scoped>\n",
       "    .dataframe tbody tr th:only-of-type {\n",
       "        vertical-align: middle;\n",
       "    }\n",
       "\n",
       "    .dataframe tbody tr th {\n",
       "        vertical-align: top;\n",
       "    }\n",
       "\n",
       "    .dataframe thead th {\n",
       "        text-align: right;\n",
       "    }\n",
       "</style>\n",
       "<table border=\"1\" class=\"dataframe\">\n",
       "  <thead>\n",
       "    <tr style=\"text-align: right;\">\n",
       "      <th></th>\n",
       "      <th>edit_history_tweet_ids</th>\n",
       "      <th>author_id</th>\n",
       "      <th>id</th>\n",
       "      <th>text</th>\n",
       "      <th>created_at</th>\n",
       "    </tr>\n",
       "  </thead>\n",
       "  <tbody>\n",
       "    <tr>\n",
       "      <th>0</th>\n",
       "      <td>[1594765107350732800]</td>\n",
       "      <td>2303751216</td>\n",
       "      <td>1594765107350732800</td>\n",
       "      <td>Check out our popular polling averages: https:...</td>\n",
       "      <td>2022-11-21T18:50:05.000Z</td>\n",
       "    </tr>\n",
       "    <tr>\n",
       "      <th>1</th>\n",
       "      <td>[1594741686558670849]</td>\n",
       "      <td>2303751216</td>\n",
       "      <td>1594741686558670849</td>\n",
       "      <td>Our #WorldCup predictions: https://t.co/B0tBVm...</td>\n",
       "      <td>2022-11-21T17:17:01.000Z</td>\n",
       "    </tr>\n",
       "    <tr>\n",
       "      <th>2</th>\n",
       "      <td>[1594738916514402304]</td>\n",
       "      <td>2303751216</td>\n",
       "      <td>1594738916514402304</td>\n",
       "      <td>Which World Cup player should you root for? ht...</td>\n",
       "      <td>2022-11-21T17:06:01.000Z</td>\n",
       "    </tr>\n",
       "    <tr>\n",
       "      <th>3</th>\n",
       "      <td>[1594718534327730190]</td>\n",
       "      <td>2303751216</td>\n",
       "      <td>1594718534327730190</td>\n",
       "      <td>The midterms made state governments bluer http...</td>\n",
       "      <td>2022-11-21T15:45:01.000Z</td>\n",
       "    </tr>\n",
       "    <tr>\n",
       "      <th>4</th>\n",
       "      <td>[1594683556885893121]</td>\n",
       "      <td>2303751216</td>\n",
       "      <td>1594683556885893121</td>\n",
       "      <td>Our NHL predictions: https://t.co/kLJIGfQc15</td>\n",
       "      <td>2022-11-21T13:26:02.000Z</td>\n",
       "    </tr>\n",
       "    <tr>\n",
       "      <th>...</th>\n",
       "      <td>...</td>\n",
       "      <td>...</td>\n",
       "      <td>...</td>\n",
       "      <td>...</td>\n",
       "      <td>...</td>\n",
       "    </tr>\n",
       "    <tr>\n",
       "      <th>95</th>\n",
       "      <td>[1592593394966183939]</td>\n",
       "      <td>2303751216</td>\n",
       "      <td>1592593394966183939</td>\n",
       "      <td>When the new Congress comes into session in Ja...</td>\n",
       "      <td>2022-11-15T19:00:28.000Z</td>\n",
       "    </tr>\n",
       "    <tr>\n",
       "      <th>96</th>\n",
       "      <td>[1592586512700510209]</td>\n",
       "      <td>2303751216</td>\n",
       "      <td>1592586512700510209</td>\n",
       "      <td>.@NateSilver538 breaks down the odds for the u...</td>\n",
       "      <td>2022-11-15T18:33:08.000Z</td>\n",
       "    </tr>\n",
       "    <tr>\n",
       "      <th>97</th>\n",
       "      <td>[1592574174555430912]</td>\n",
       "      <td>2303751216</td>\n",
       "      <td>1592574174555430912</td>\n",
       "      <td>Bookmark our uncalled races live blog to keep ...</td>\n",
       "      <td>2022-11-15T17:44:06.000Z</td>\n",
       "    </tr>\n",
       "    <tr>\n",
       "      <th>98</th>\n",
       "      <td>[1592568148947271680]</td>\n",
       "      <td>2303751216</td>\n",
       "      <td>1592568148947271680</td>\n",
       "      <td>Sure, TCU could make the playoff. But more imp...</td>\n",
       "      <td>2022-11-15T17:20:09.000Z</td>\n",
       "    </tr>\n",
       "    <tr>\n",
       "      <th>99</th>\n",
       "      <td>[1592561435531517953]</td>\n",
       "      <td>2303751216</td>\n",
       "      <td>1592561435531517953</td>\n",
       "      <td>Voter turnout was high again. Is this the new ...</td>\n",
       "      <td>2022-11-15T16:53:29.000Z</td>\n",
       "    </tr>\n",
       "  </tbody>\n",
       "</table>\n",
       "<p>100 rows × 5 columns</p>\n",
       "</div>"
      ],
      "text/plain": [
       "   edit_history_tweet_ids   author_id                   id  \\\n",
       "0   [1594765107350732800]  2303751216  1594765107350732800   \n",
       "1   [1594741686558670849]  2303751216  1594741686558670849   \n",
       "2   [1594738916514402304]  2303751216  1594738916514402304   \n",
       "3   [1594718534327730190]  2303751216  1594718534327730190   \n",
       "4   [1594683556885893121]  2303751216  1594683556885893121   \n",
       "..                    ...         ...                  ...   \n",
       "95  [1592593394966183939]  2303751216  1592593394966183939   \n",
       "96  [1592586512700510209]  2303751216  1592586512700510209   \n",
       "97  [1592574174555430912]  2303751216  1592574174555430912   \n",
       "98  [1592568148947271680]  2303751216  1592568148947271680   \n",
       "99  [1592561435531517953]  2303751216  1592561435531517953   \n",
       "\n",
       "                                                 text  \\\n",
       "0   Check out our popular polling averages: https:...   \n",
       "1   Our #WorldCup predictions: https://t.co/B0tBVm...   \n",
       "2   Which World Cup player should you root for? ht...   \n",
       "3   The midterms made state governments bluer http...   \n",
       "4        Our NHL predictions: https://t.co/kLJIGfQc15   \n",
       "..                                                ...   \n",
       "95  When the new Congress comes into session in Ja...   \n",
       "96  .@NateSilver538 breaks down the odds for the u...   \n",
       "97  Bookmark our uncalled races live blog to keep ...   \n",
       "98  Sure, TCU could make the playoff. But more imp...   \n",
       "99  Voter turnout was high again. Is this the new ...   \n",
       "\n",
       "                  created_at  \n",
       "0   2022-11-21T18:50:05.000Z  \n",
       "1   2022-11-21T17:17:01.000Z  \n",
       "2   2022-11-21T17:06:01.000Z  \n",
       "3   2022-11-21T15:45:01.000Z  \n",
       "4   2022-11-21T13:26:02.000Z  \n",
       "..                       ...  \n",
       "95  2022-11-15T19:00:28.000Z  \n",
       "96  2022-11-15T18:33:08.000Z  \n",
       "97  2022-11-15T17:44:06.000Z  \n",
       "98  2022-11-15T17:20:09.000Z  \n",
       "99  2022-11-15T16:53:29.000Z  \n",
       "\n",
       "[100 rows x 5 columns]"
      ]
     },
     "execution_count": 13,
     "metadata": {},
     "output_type": "execute_result"
    }
   ],
   "source": [
    "import pandas as pd\n",
    "\n",
    "tweets_dict = tweets.json() \n",
    "tweets_data = tweets_dict['data'] \n",
    "df = pd.json_normalize(tweets_data) \n",
    "\n",
    "tweets_data\n",
    "df"
   ]
  },
  {
   "cell_type": "markdown",
   "metadata": {},
   "source": [
    "7. Schritt: Dataframe in CSV Datei umwandelnund in data/raw abspeichern"
   ]
  },
  {
   "cell_type": "code",
   "execution_count": 14,
   "metadata": {},
   "outputs": [],
   "source": [
    "df.to_csv(\"/Users/helenbruker/Uni/OMM4/BigData/homework-1/data/raw/twitter.csv\")"
   ]
  }
 ],
 "metadata": {
  "kernelspec": {
   "display_name": "Python 3.9.13 ('twitter')",
   "language": "python",
   "name": "python3"
  },
  "language_info": {
   "codemirror_mode": {
    "name": "ipython",
    "version": 3
   },
   "file_extension": ".py",
   "mimetype": "text/x-python",
   "name": "python",
   "nbconvert_exporter": "python",
   "pygments_lexer": "ipython3",
   "version": "3.9.13"
  },
  "orig_nbformat": 4,
  "vscode": {
   "interpreter": {
    "hash": "01cd50dbc571eae7ff6f0d7920e791286ecc4018f435c5f976ce4b3e13318d52"
   }
  }
 },
 "nbformat": 4,
 "nbformat_minor": 2
}
