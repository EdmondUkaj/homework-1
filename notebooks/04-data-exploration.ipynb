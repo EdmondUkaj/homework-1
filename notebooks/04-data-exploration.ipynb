{
 "cells": [
  {
   "cell_type": "markdown",
   "metadata": {},
   "source": [
    "# Data exploration \n",
    "\n",
    "---\n",
    "\n",
    "Group name: K\n",
    "\n",
    "---\n"
   ]
  },
  {
   "cell_type": "markdown",
   "metadata": {},
   "source": [
    "## Introduction\n",
    "\n",
    "*This section includes a short description of the data* "
   ]
  },
  {
   "cell_type": "markdown",
   "metadata": {},
   "source": [
    "## Setup"
   ]
  },
  {
   "cell_type": "code",
   "execution_count": 4,
   "metadata": {},
   "outputs": [],
   "source": [
    "import pandas as pd\n",
    "import altair as alt"
   ]
  },
  {
   "cell_type": "markdown",
   "metadata": {},
   "source": [
    "## Data"
   ]
  },
  {
   "cell_type": "markdown",
   "metadata": {},
   "source": [
    "### Import data"
   ]
  },
  {
   "cell_type": "code",
   "execution_count": 5,
   "metadata": {},
   "outputs": [],
   "source": [
    "ROOT = \"/Users/helenbruker/Uni/OMM4/BigData/homework-1/data/external/\"\n",
    "DATA = \"fifa_countries_audience.csv\"\n",
    "\n",
    "df = pd.read_csv(ROOT + DATA)"
   ]
  },
  {
   "cell_type": "markdown",
   "metadata": {},
   "source": [
    "### Data structure"
   ]
  },
  {
   "cell_type": "code",
   "execution_count": 6,
   "metadata": {},
   "outputs": [
    {
     "data": {
      "text/html": [
       "<div>\n",
       "<style scoped>\n",
       "    .dataframe tbody tr th:only-of-type {\n",
       "        vertical-align: middle;\n",
       "    }\n",
       "\n",
       "    .dataframe tbody tr th {\n",
       "        vertical-align: top;\n",
       "    }\n",
       "\n",
       "    .dataframe thead th {\n",
       "        text-align: right;\n",
       "    }\n",
       "</style>\n",
       "<table border=\"1\" class=\"dataframe\">\n",
       "  <thead>\n",
       "    <tr style=\"text-align: right;\">\n",
       "      <th></th>\n",
       "      <th>country</th>\n",
       "      <th>confederation</th>\n",
       "      <th>population_share</th>\n",
       "      <th>tv_audience_share</th>\n",
       "      <th>gdp_weighted_share</th>\n",
       "    </tr>\n",
       "  </thead>\n",
       "  <tbody>\n",
       "    <tr>\n",
       "      <th>0</th>\n",
       "      <td>United States</td>\n",
       "      <td>CONCACAF</td>\n",
       "      <td>4.5</td>\n",
       "      <td>4.3</td>\n",
       "      <td>11.3</td>\n",
       "    </tr>\n",
       "    <tr>\n",
       "      <th>1</th>\n",
       "      <td>Japan</td>\n",
       "      <td>AFC</td>\n",
       "      <td>1.9</td>\n",
       "      <td>4.9</td>\n",
       "      <td>9.1</td>\n",
       "    </tr>\n",
       "    <tr>\n",
       "      <th>2</th>\n",
       "      <td>China</td>\n",
       "      <td>AFC</td>\n",
       "      <td>19.5</td>\n",
       "      <td>14.8</td>\n",
       "      <td>7.3</td>\n",
       "    </tr>\n",
       "    <tr>\n",
       "      <th>3</th>\n",
       "      <td>Germany</td>\n",
       "      <td>UEFA</td>\n",
       "      <td>1.2</td>\n",
       "      <td>2.9</td>\n",
       "      <td>6.3</td>\n",
       "    </tr>\n",
       "    <tr>\n",
       "      <th>4</th>\n",
       "      <td>Brazil</td>\n",
       "      <td>CONMEBOL</td>\n",
       "      <td>2.8</td>\n",
       "      <td>7.1</td>\n",
       "      <td>5.4</td>\n",
       "    </tr>\n",
       "    <tr>\n",
       "      <th>...</th>\n",
       "      <td>...</td>\n",
       "      <td>...</td>\n",
       "      <td>...</td>\n",
       "      <td>...</td>\n",
       "      <td>...</td>\n",
       "    </tr>\n",
       "    <tr>\n",
       "      <th>186</th>\n",
       "      <td>Tonga</td>\n",
       "      <td>OFC</td>\n",
       "      <td>0.0</td>\n",
       "      <td>0.0</td>\n",
       "      <td>0.0</td>\n",
       "    </tr>\n",
       "    <tr>\n",
       "      <th>187</th>\n",
       "      <td>Liberia</td>\n",
       "      <td>CAF</td>\n",
       "      <td>0.1</td>\n",
       "      <td>0.0</td>\n",
       "      <td>0.0</td>\n",
       "    </tr>\n",
       "    <tr>\n",
       "      <th>188</th>\n",
       "      <td>Palau</td>\n",
       "      <td>OFC</td>\n",
       "      <td>0.0</td>\n",
       "      <td>0.0</td>\n",
       "      <td>0.0</td>\n",
       "    </tr>\n",
       "    <tr>\n",
       "      <th>189</th>\n",
       "      <td>Nauru</td>\n",
       "      <td>OFC</td>\n",
       "      <td>0.0</td>\n",
       "      <td>0.0</td>\n",
       "      <td>0.0</td>\n",
       "    </tr>\n",
       "    <tr>\n",
       "      <th>190</th>\n",
       "      <td>Niue</td>\n",
       "      <td>OFC</td>\n",
       "      <td>0.0</td>\n",
       "      <td>0.0</td>\n",
       "      <td>0.0</td>\n",
       "    </tr>\n",
       "  </tbody>\n",
       "</table>\n",
       "<p>191 rows × 5 columns</p>\n",
       "</div>"
      ],
      "text/plain": [
       "           country confederation  population_share  tv_audience_share  \\\n",
       "0    United States      CONCACAF               4.5                4.3   \n",
       "1            Japan           AFC               1.9                4.9   \n",
       "2            China           AFC              19.5               14.8   \n",
       "3          Germany          UEFA               1.2                2.9   \n",
       "4           Brazil      CONMEBOL               2.8                7.1   \n",
       "..             ...           ...               ...                ...   \n",
       "186          Tonga           OFC               0.0                0.0   \n",
       "187        Liberia           CAF               0.1                0.0   \n",
       "188          Palau           OFC               0.0                0.0   \n",
       "189          Nauru           OFC               0.0                0.0   \n",
       "190           Niue           OFC               0.0                0.0   \n",
       "\n",
       "     gdp_weighted_share  \n",
       "0                  11.3  \n",
       "1                   9.1  \n",
       "2                   7.3  \n",
       "3                   6.3  \n",
       "4                   5.4  \n",
       "..                  ...  \n",
       "186                 0.0  \n",
       "187                 0.0  \n",
       "188                 0.0  \n",
       "189                 0.0  \n",
       "190                 0.0  \n",
       "\n",
       "[191 rows x 5 columns]"
      ]
     },
     "execution_count": 6,
     "metadata": {},
     "output_type": "execute_result"
    }
   ],
   "source": [
    "df"
   ]
  },
  {
   "cell_type": "markdown",
   "metadata": {},
   "source": [
    "### Data corrections"
   ]
  },
  {
   "cell_type": "markdown",
   "metadata": {},
   "source": [
    "Change data format from object to category"
   ]
  },
  {
   "cell_type": "code",
   "execution_count": 7,
   "metadata": {},
   "outputs": [],
   "source": [
    "df.country = df.country.astype(\"category\")\n",
    "df.population_share = df.population_share.astype(\"category\")\n",
    "df.tv_audience_share = df.tv_audience_share.astype(\"category\")\n",
    "df.gdp_weighted_share = df.gdp_weighted_share.astype(\"category\")"
   ]
  },
  {
   "cell_type": "markdown",
   "metadata": {},
   "source": [
    "## Exploratory data analysis"
   ]
  },
  {
   "cell_type": "code",
   "execution_count": 8,
   "metadata": {},
   "outputs": [
    {
     "data": {
      "text/plain": [
       "['population_share']"
      ]
     },
     "execution_count": 8,
     "metadata": {},
     "output_type": "execute_result"
    }
   ],
   "source": [
    "var_list = ['population_share']\n",
    "\n",
    "var_list"
   ]
  },
  {
   "cell_type": "code",
   "execution_count": 9,
   "metadata": {},
   "outputs": [
    {
     "data": {
      "text/html": [
       "<div>\n",
       "<style scoped>\n",
       "    .dataframe tbody tr th:only-of-type {\n",
       "        vertical-align: middle;\n",
       "    }\n",
       "\n",
       "    .dataframe tbody tr th {\n",
       "        vertical-align: top;\n",
       "    }\n",
       "\n",
       "    .dataframe thead th {\n",
       "        text-align: right;\n",
       "    }\n",
       "</style>\n",
       "<table border=\"1\" class=\"dataframe\">\n",
       "  <thead>\n",
       "    <tr style=\"text-align: right;\">\n",
       "      <th></th>\n",
       "      <th>population_share</th>\n",
       "    </tr>\n",
       "  </thead>\n",
       "  <tbody>\n",
       "    <tr>\n",
       "      <th>0</th>\n",
       "      <td>4.5</td>\n",
       "    </tr>\n",
       "    <tr>\n",
       "      <th>1</th>\n",
       "      <td>1.9</td>\n",
       "    </tr>\n",
       "    <tr>\n",
       "      <th>2</th>\n",
       "      <td>19.5</td>\n",
       "    </tr>\n",
       "    <tr>\n",
       "      <th>3</th>\n",
       "      <td>1.2</td>\n",
       "    </tr>\n",
       "    <tr>\n",
       "      <th>4</th>\n",
       "      <td>2.8</td>\n",
       "    </tr>\n",
       "    <tr>\n",
       "      <th>...</th>\n",
       "      <td>...</td>\n",
       "    </tr>\n",
       "    <tr>\n",
       "      <th>186</th>\n",
       "      <td>0.0</td>\n",
       "    </tr>\n",
       "    <tr>\n",
       "      <th>187</th>\n",
       "      <td>0.1</td>\n",
       "    </tr>\n",
       "    <tr>\n",
       "      <th>188</th>\n",
       "      <td>0.0</td>\n",
       "    </tr>\n",
       "    <tr>\n",
       "      <th>189</th>\n",
       "      <td>0.0</td>\n",
       "    </tr>\n",
       "    <tr>\n",
       "      <th>190</th>\n",
       "      <td>0.0</td>\n",
       "    </tr>\n",
       "  </tbody>\n",
       "</table>\n",
       "<p>191 rows × 1 columns</p>\n",
       "</div>"
      ],
      "text/plain": [
       "    population_share\n",
       "0                4.5\n",
       "1                1.9\n",
       "2               19.5\n",
       "3                1.2\n",
       "4                2.8\n",
       "..               ...\n",
       "186              0.0\n",
       "187              0.1\n",
       "188              0.0\n",
       "189              0.0\n",
       "190              0.0\n",
       "\n",
       "[191 rows x 1 columns]"
      ]
     },
     "execution_count": 9,
     "metadata": {},
     "output_type": "execute_result"
    }
   ],
   "source": [
    "source = df[var_list]\n",
    "\n",
    "source"
   ]
  },
  {
   "cell_type": "markdown",
   "metadata": {},
   "source": [
    "### 1. Standard bar chart"
   ]
  },
  {
   "cell_type": "code",
   "execution_count": 10,
   "metadata": {},
   "outputs": [
    {
     "name": "stderr",
     "output_type": "stream",
     "text": [
      "/opt/anaconda3/envs/bigdata/lib/python3.9/site-packages/altair/utils/core.py:317: FutureWarning: iteritems is deprecated and will be removed in a future version. Use .items instead.\n",
      "  for col_name, dtype in df.dtypes.iteritems():\n"
     ]
    },
    {
     "data": {
      "text/html": [
       "\n",
       "<div id=\"altair-viz-07a28e5eb1974d478bc43b464504885f\"></div>\n",
       "<script type=\"text/javascript\">\n",
       "  var VEGA_DEBUG = (typeof VEGA_DEBUG == \"undefined\") ? {} : VEGA_DEBUG;\n",
       "  (function(spec, embedOpt){\n",
       "    let outputDiv = document.currentScript.previousElementSibling;\n",
       "    if (outputDiv.id !== \"altair-viz-07a28e5eb1974d478bc43b464504885f\") {\n",
       "      outputDiv = document.getElementById(\"altair-viz-07a28e5eb1974d478bc43b464504885f\");\n",
       "    }\n",
       "    const paths = {\n",
       "      \"vega\": \"https://cdn.jsdelivr.net/npm//vega@5?noext\",\n",
       "      \"vega-lib\": \"https://cdn.jsdelivr.net/npm//vega-lib?noext\",\n",
       "      \"vega-lite\": \"https://cdn.jsdelivr.net/npm//vega-lite@4.17.0?noext\",\n",
       "      \"vega-embed\": \"https://cdn.jsdelivr.net/npm//vega-embed@6?noext\",\n",
       "    };\n",
       "\n",
       "    function maybeLoadScript(lib, version) {\n",
       "      var key = `${lib.replace(\"-\", \"\")}_version`;\n",
       "      return (VEGA_DEBUG[key] == version) ?\n",
       "        Promise.resolve(paths[lib]) :\n",
       "        new Promise(function(resolve, reject) {\n",
       "          var s = document.createElement('script');\n",
       "          document.getElementsByTagName(\"head\")[0].appendChild(s);\n",
       "          s.async = true;\n",
       "          s.onload = () => {\n",
       "            VEGA_DEBUG[key] = version;\n",
       "            return resolve(paths[lib]);\n",
       "          };\n",
       "          s.onerror = () => reject(`Error loading script: ${paths[lib]}`);\n",
       "          s.src = paths[lib];\n",
       "        });\n",
       "    }\n",
       "\n",
       "    function showError(err) {\n",
       "      outputDiv.innerHTML = `<div class=\"error\" style=\"color:red;\">${err}</div>`;\n",
       "      throw err;\n",
       "    }\n",
       "\n",
       "    function displayChart(vegaEmbed) {\n",
       "      vegaEmbed(outputDiv, spec, embedOpt)\n",
       "        .catch(err => showError(`Javascript Error: ${err.message}<br>This usually means there's a typo in your chart specification. See the javascript console for the full traceback.`));\n",
       "    }\n",
       "\n",
       "    if(typeof define === \"function\" && define.amd) {\n",
       "      requirejs.config({paths});\n",
       "      require([\"vega-embed\"], displayChart, err => showError(`Error loading script: ${err.message}`));\n",
       "    } else {\n",
       "      maybeLoadScript(\"vega\", \"5\")\n",
       "        .then(() => maybeLoadScript(\"vega-lite\", \"4.17.0\"))\n",
       "        .then(() => maybeLoadScript(\"vega-embed\", \"6\"))\n",
       "        .catch(showError)\n",
       "        .then(() => displayChart(vegaEmbed));\n",
       "    }\n",
       "  })({\"config\": {\"view\": {\"continuousWidth\": 400, \"continuousHeight\": 300}}, \"data\": {\"name\": \"data-0ed520243535788070bc892e8427f96d\"}, \"mark\": \"bar\", \"encoding\": {\"x\": {\"field\": \"population_share\", \"type\": \"nominal\"}, \"y\": {\"aggregate\": \"count\", \"field\": \"population_share\", \"type\": \"nominal\"}}, \"$schema\": \"https://vega.github.io/schema/vega-lite/v4.17.0.json\", \"datasets\": {\"data-0ed520243535788070bc892e8427f96d\": [{\"population_share\": 4.5}, {\"population_share\": 1.9}, {\"population_share\": 19.5}, {\"population_share\": 1.2}, {\"population_share\": 2.8}, {\"population_share\": 0.9}, {\"population_share\": 0.9}, {\"population_share\": 0.9}, {\"population_share\": 2.1}, {\"population_share\": 0.7}, {\"population_share\": 0.7}, {\"population_share\": 3.5}, {\"population_share\": 1.7}, {\"population_share\": 1.1}, {\"population_share\": 1.0}, {\"population_share\": 0.6}, {\"population_share\": 0.2}, {\"population_share\": 0.6}, {\"population_share\": 0.4}, {\"population_share\": 0.3}, {\"population_share\": 0.5}, {\"population_share\": 0.7}, {\"population_share\": 0.4}, {\"population_share\": 0.7}, {\"population_share\": 0.4}, {\"population_share\": 0.1}, {\"population_share\": 2.3}, {\"population_share\": 0.2}, {\"population_share\": 0.1}, {\"population_share\": 1.3}, {\"population_share\": 1.1}, {\"population_share\": 0.3}, {\"population_share\": 0.3}, {\"population_share\": 0.1}, {\"population_share\": 0.1}, {\"population_share\": 0.3}, {\"population_share\": 0.2}, {\"population_share\": 0.2}, {\"population_share\": 17.6}, {\"population_share\": 0.2}, {\"population_share\": 1.1}, {\"population_share\": 0.1}, {\"population_share\": 0.1}, {\"population_share\": 0.4}, {\"population_share\": 0.7}, {\"population_share\": 0.5}, {\"population_share\": 0.1}, {\"population_share\": 0.2}, {\"population_share\": 0.1}, {\"population_share\": 0.1}, {\"population_share\": 0.5}, {\"population_share\": 0.2}, {\"population_share\": 0.2}, {\"population_share\": 0.1}, {\"population_share\": 0.0}, {\"population_share\": 0.0}, {\"population_share\": 0.1}, {\"population_share\": 0.1}, {\"population_share\": 0.1}, {\"population_share\": 0.1}, {\"population_share\": 0.1}, {\"population_share\": 0.0}, {\"population_share\": 0.1}, {\"population_share\": 0.1}, {\"population_share\": 0.1}, {\"population_share\": 0.0}, {\"population_share\": 0.0}, {\"population_share\": 0.0}, {\"population_share\": 0.1}, {\"population_share\": 0.4}, {\"population_share\": 0.3}, {\"population_share\": 0.1}, {\"population_share\": 0.1}, {\"population_share\": 0.3}, {\"population_share\": 2.5}, {\"population_share\": 0.2}, {\"population_share\": 0.1}, {\"population_share\": 0.1}, {\"population_share\": 0.1}, {\"population_share\": 0.2}, {\"population_share\": 0.3}, {\"population_share\": 0.0}, {\"population_share\": 0.0}, {\"population_share\": 0.1}, {\"population_share\": 0.1}, {\"population_share\": 0.1}, {\"population_share\": 0.0}, {\"population_share\": 0.0}, {\"population_share\": 0.1}, {\"population_share\": 0.3}, {\"population_share\": 0.0}, {\"population_share\": 0.0}, {\"population_share\": 0.4}, {\"population_share\": 0.0}, {\"population_share\": 0.4}, {\"population_share\": 0.0}, {\"population_share\": 0.0}, {\"population_share\": 0.6}, {\"population_share\": 0.0}, {\"population_share\": 1.4}, {\"population_share\": 0.1}, {\"population_share\": 0.1}, {\"population_share\": 0.0}, {\"population_share\": 0.1}, {\"population_share\": 0.4}, {\"population_share\": 0.0}, {\"population_share\": 0.3}, {\"population_share\": 0.2}, {\"population_share\": 0.0}, {\"population_share\": 0.3}, {\"population_share\": 0.8}, {\"population_share\": 0.1}, {\"population_share\": 0.0}, {\"population_share\": 2.2}, {\"population_share\": 0.2}, {\"population_share\": 0.5}, {\"population_share\": 0.4}, {\"population_share\": 0.0}, {\"population_share\": 0.1}, {\"population_share\": 0.0}, {\"population_share\": 0.5}, {\"population_share\": 0.1}, {\"population_share\": 0.1}, {\"population_share\": 0.1}, {\"population_share\": 0.0}, {\"population_share\": 0.0}, {\"population_share\": 0.7}, {\"population_share\": 0.1}, {\"population_share\": 0.0}, {\"population_share\": 0.5}, {\"population_share\": 0.0}, {\"population_share\": 0.3}, {\"population_share\": 0.2}, {\"population_share\": 1.3}, {\"population_share\": 0.2}, {\"population_share\": 0.0}, {\"population_share\": 0.0}, {\"population_share\": 0.1}, {\"population_share\": 0.0}, {\"population_share\": 0.0}, {\"population_share\": 0.9}, {\"population_share\": 0.2}, {\"population_share\": 0.2}, {\"population_share\": 0.1}, {\"population_share\": 0.0}, {\"population_share\": 0.0}, {\"population_share\": 0.2}, {\"population_share\": 0.0}, {\"population_share\": 0.0}, {\"population_share\": 0.0}, {\"population_share\": 0.3}, {\"population_share\": 0.0}, {\"population_share\": 0.0}, {\"population_share\": 0.1}, {\"population_share\": 0.0}, {\"population_share\": 0.0}, {\"population_share\": 0.0}, {\"population_share\": 0.0}, {\"population_share\": 0.2}, {\"population_share\": 0.0}, {\"population_share\": 0.0}, {\"population_share\": 0.1}, {\"population_share\": 0.1}, {\"population_share\": 0.1}, {\"population_share\": 0.0}, {\"population_share\": 0.2}, {\"population_share\": 0.1}, {\"population_share\": 0.0}, {\"population_share\": 0.0}, {\"population_share\": 0.0}, {\"population_share\": 0.2}, {\"population_share\": 0.1}, {\"population_share\": 0.1}, {\"population_share\": 0.0}, {\"population_share\": 0.0}, {\"population_share\": 0.0}, {\"population_share\": 0.0}, {\"population_share\": 0.2}, {\"population_share\": 0.1}, {\"population_share\": 0.0}, {\"population_share\": 0.0}, {\"population_share\": 0.0}, {\"population_share\": 0.1}, {\"population_share\": 0.0}, {\"population_share\": 0.0}, {\"population_share\": 0.0}, {\"population_share\": 0.0}, {\"population_share\": 0.1}, {\"population_share\": 0.0}, {\"population_share\": 0.0}, {\"population_share\": 0.0}]}}, {\"mode\": \"vega-lite\"});\n",
       "</script>"
      ],
      "text/plain": [
       "alt.Chart(...)"
      ]
     },
     "execution_count": 10,
     "metadata": {},
     "output_type": "execute_result"
    }
   ],
   "source": [
    "alt.Chart(source).mark_bar().encode(\n",
    "    x=('population_share'),\n",
    "    y=alt.Y('count(population_share)')\n",
    ")"
   ]
  },
  {
   "cell_type": "markdown",
   "metadata": {},
   "source": []
  }
 ],
 "metadata": {
  "kernelspec": {
   "display_name": "Python 3.9.13 ('bigdata')",
   "language": "python",
   "name": "python3"
  },
  "language_info": {
   "codemirror_mode": {
    "name": "ipython",
    "version": 3
   },
   "file_extension": ".py",
   "mimetype": "text/x-python",
   "name": "python",
   "nbconvert_exporter": "python",
   "pygments_lexer": "ipython3",
   "version": "3.9.13"
  },
  "orig_nbformat": 4,
  "vscode": {
   "interpreter": {
    "hash": "1507ba80c64189e7cb5ef2c59e184db8cda2243c893e7000df2521cf41f47866"
   }
  }
 },
 "nbformat": 4,
 "nbformat_minor": 2
}
