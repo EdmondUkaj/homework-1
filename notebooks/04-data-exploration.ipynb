{
 "cells": [
  {
   "cell_type": "markdown",
   "metadata": {},
   "source": [
    "# Data exploration \n",
    "\n",
    "---\n",
    "\n",
    "Group name: K\n",
    "\n",
    "---\n"
   ]
  },
  {
   "cell_type": "markdown",
   "metadata": {},
   "source": [
    "## Introduction\n",
    "\n",
    "*This section includes a short description of the data* "
   ]
  },
  {
   "cell_type": "markdown",
   "metadata": {},
   "source": [
    "## Setup"
   ]
  },
  {
   "cell_type": "code",
   "execution_count": 192,
   "metadata": {},
   "outputs": [],
   "source": [
    "import pandas as pd\n",
    "import altair as alt"
   ]
  },
  {
   "cell_type": "markdown",
   "metadata": {},
   "source": [
    "## Data"
   ]
  },
  {
   "cell_type": "markdown",
   "metadata": {},
   "source": [
    "### Import data"
   ]
  },
  {
   "cell_type": "code",
   "execution_count": 193,
   "metadata": {},
   "outputs": [],
   "source": [
    "ROOT = \"/Users/helenbruker/Uni/OMM4/BigData/homework-1/data/external/\"\n",
    "DATA = \"fifa_countries_audience.csv\"\n",
    "\n",
    "df = pd.read_csv(ROOT + DATA)"
   ]
  },
  {
   "cell_type": "markdown",
   "metadata": {},
   "source": [
    "### Data structure"
   ]
  },
  {
   "cell_type": "code",
   "execution_count": 194,
   "metadata": {},
   "outputs": [
    {
     "data": {
      "text/html": [
       "<div>\n",
       "<style scoped>\n",
       "    .dataframe tbody tr th:only-of-type {\n",
       "        vertical-align: middle;\n",
       "    }\n",
       "\n",
       "    .dataframe tbody tr th {\n",
       "        vertical-align: top;\n",
       "    }\n",
       "\n",
       "    .dataframe thead th {\n",
       "        text-align: right;\n",
       "    }\n",
       "</style>\n",
       "<table border=\"1\" class=\"dataframe\">\n",
       "  <thead>\n",
       "    <tr style=\"text-align: right;\">\n",
       "      <th></th>\n",
       "      <th>country</th>\n",
       "      <th>confederation</th>\n",
       "      <th>population_share</th>\n",
       "      <th>tv_audience_share</th>\n",
       "      <th>gdp_weighted_share</th>\n",
       "    </tr>\n",
       "  </thead>\n",
       "  <tbody>\n",
       "    <tr>\n",
       "      <th>0</th>\n",
       "      <td>United States</td>\n",
       "      <td>CONCACAF</td>\n",
       "      <td>4.5</td>\n",
       "      <td>4.3</td>\n",
       "      <td>11.3</td>\n",
       "    </tr>\n",
       "    <tr>\n",
       "      <th>1</th>\n",
       "      <td>Japan</td>\n",
       "      <td>AFC</td>\n",
       "      <td>1.9</td>\n",
       "      <td>4.9</td>\n",
       "      <td>9.1</td>\n",
       "    </tr>\n",
       "    <tr>\n",
       "      <th>2</th>\n",
       "      <td>China</td>\n",
       "      <td>AFC</td>\n",
       "      <td>19.5</td>\n",
       "      <td>14.8</td>\n",
       "      <td>7.3</td>\n",
       "    </tr>\n",
       "    <tr>\n",
       "      <th>3</th>\n",
       "      <td>Germany</td>\n",
       "      <td>UEFA</td>\n",
       "      <td>1.2</td>\n",
       "      <td>2.9</td>\n",
       "      <td>6.3</td>\n",
       "    </tr>\n",
       "    <tr>\n",
       "      <th>4</th>\n",
       "      <td>Brazil</td>\n",
       "      <td>CONMEBOL</td>\n",
       "      <td>2.8</td>\n",
       "      <td>7.1</td>\n",
       "      <td>5.4</td>\n",
       "    </tr>\n",
       "    <tr>\n",
       "      <th>...</th>\n",
       "      <td>...</td>\n",
       "      <td>...</td>\n",
       "      <td>...</td>\n",
       "      <td>...</td>\n",
       "      <td>...</td>\n",
       "    </tr>\n",
       "    <tr>\n",
       "      <th>186</th>\n",
       "      <td>Tonga</td>\n",
       "      <td>OFC</td>\n",
       "      <td>0.0</td>\n",
       "      <td>0.0</td>\n",
       "      <td>0.0</td>\n",
       "    </tr>\n",
       "    <tr>\n",
       "      <th>187</th>\n",
       "      <td>Liberia</td>\n",
       "      <td>CAF</td>\n",
       "      <td>0.1</td>\n",
       "      <td>0.0</td>\n",
       "      <td>0.0</td>\n",
       "    </tr>\n",
       "    <tr>\n",
       "      <th>188</th>\n",
       "      <td>Palau</td>\n",
       "      <td>OFC</td>\n",
       "      <td>0.0</td>\n",
       "      <td>0.0</td>\n",
       "      <td>0.0</td>\n",
       "    </tr>\n",
       "    <tr>\n",
       "      <th>189</th>\n",
       "      <td>Nauru</td>\n",
       "      <td>OFC</td>\n",
       "      <td>0.0</td>\n",
       "      <td>0.0</td>\n",
       "      <td>0.0</td>\n",
       "    </tr>\n",
       "    <tr>\n",
       "      <th>190</th>\n",
       "      <td>Niue</td>\n",
       "      <td>OFC</td>\n",
       "      <td>0.0</td>\n",
       "      <td>0.0</td>\n",
       "      <td>0.0</td>\n",
       "    </tr>\n",
       "  </tbody>\n",
       "</table>\n",
       "<p>191 rows × 5 columns</p>\n",
       "</div>"
      ],
      "text/plain": [
       "           country confederation  population_share  tv_audience_share  \\\n",
       "0    United States      CONCACAF               4.5                4.3   \n",
       "1            Japan           AFC               1.9                4.9   \n",
       "2            China           AFC              19.5               14.8   \n",
       "3          Germany          UEFA               1.2                2.9   \n",
       "4           Brazil      CONMEBOL               2.8                7.1   \n",
       "..             ...           ...               ...                ...   \n",
       "186          Tonga           OFC               0.0                0.0   \n",
       "187        Liberia           CAF               0.1                0.0   \n",
       "188          Palau           OFC               0.0                0.0   \n",
       "189          Nauru           OFC               0.0                0.0   \n",
       "190           Niue           OFC               0.0                0.0   \n",
       "\n",
       "     gdp_weighted_share  \n",
       "0                  11.3  \n",
       "1                   9.1  \n",
       "2                   7.3  \n",
       "3                   6.3  \n",
       "4                   5.4  \n",
       "..                  ...  \n",
       "186                 0.0  \n",
       "187                 0.0  \n",
       "188                 0.0  \n",
       "189                 0.0  \n",
       "190                 0.0  \n",
       "\n",
       "[191 rows x 5 columns]"
      ]
     },
     "execution_count": 194,
     "metadata": {},
     "output_type": "execute_result"
    }
   ],
   "source": [
    "df"
   ]
  },
  {
   "cell_type": "code",
   "execution_count": 195,
   "metadata": {},
   "outputs": [
    {
     "name": "stdout",
     "output_type": "stream",
     "text": [
      "<class 'pandas.core.frame.DataFrame'>\n",
      "RangeIndex: 191 entries, 0 to 190\n",
      "Data columns (total 5 columns):\n",
      " #   Column              Non-Null Count  Dtype  \n",
      "---  ------              --------------  -----  \n",
      " 0   country             191 non-null    object \n",
      " 1   confederation       191 non-null    object \n",
      " 2   population_share    191 non-null    float64\n",
      " 3   tv_audience_share   191 non-null    float64\n",
      " 4   gdp_weighted_share  191 non-null    float64\n",
      "dtypes: float64(3), object(2)\n",
      "memory usage: 7.6+ KB\n"
     ]
    }
   ],
   "source": [
    "df.info()"
   ]
  },
  {
   "cell_type": "markdown",
   "metadata": {},
   "source": [
    "### Data corrections"
   ]
  },
  {
   "cell_type": "markdown",
   "metadata": {},
   "source": [
    "Change data format from object to category"
   ]
  },
  {
   "cell_type": "code",
   "execution_count": 196,
   "metadata": {},
   "outputs": [],
   "source": [
    "df.country = df.country.astype(\"category\")\n",
    "df.confederation = df.confederation.astype(\"category\")"
   ]
  },
  {
   "cell_type": "markdown",
   "metadata": {},
   "source": [
    "## Exploratory data analysis"
   ]
  },
  {
   "attachments": {},
   "cell_type": "markdown",
   "metadata": {},
   "source": [
    "### Visualization 1: Standard bar chart"
   ]
  },
  {
   "attachments": {},
   "cell_type": "markdown",
   "metadata": {},
   "source": [
    "Explanation of choice:"
   ]
  },
  {
   "cell_type": "code",
   "execution_count": 197,
   "metadata": {},
   "outputs": [
    {
     "data": {
      "text/plain": [
       "['country',\n",
       " 'confederation',\n",
       " 'tv_audience_share',\n",
       " 'gdp_weighted_share',\n",
       " 'population_share']"
      ]
     },
     "execution_count": 197,
     "metadata": {},
     "output_type": "execute_result"
    }
   ],
   "source": [
    "var_list = ['country', 'confederation', 'tv_audience_share', 'gdp_weighted_share', 'population_share']\n",
    "\n",
    "var_list"
   ]
  },
  {
   "cell_type": "code",
   "execution_count": 198,
   "metadata": {},
   "outputs": [
    {
     "data": {
      "text/html": [
       "<div>\n",
       "<style scoped>\n",
       "    .dataframe tbody tr th:only-of-type {\n",
       "        vertical-align: middle;\n",
       "    }\n",
       "\n",
       "    .dataframe tbody tr th {\n",
       "        vertical-align: top;\n",
       "    }\n",
       "\n",
       "    .dataframe thead th {\n",
       "        text-align: right;\n",
       "    }\n",
       "</style>\n",
       "<table border=\"1\" class=\"dataframe\">\n",
       "  <thead>\n",
       "    <tr style=\"text-align: right;\">\n",
       "      <th></th>\n",
       "      <th>country</th>\n",
       "      <th>confederation</th>\n",
       "      <th>tv_audience_share</th>\n",
       "      <th>gdp_weighted_share</th>\n",
       "      <th>population_share</th>\n",
       "    </tr>\n",
       "  </thead>\n",
       "  <tbody>\n",
       "    <tr>\n",
       "      <th>0</th>\n",
       "      <td>United States</td>\n",
       "      <td>CONCACAF</td>\n",
       "      <td>4.3</td>\n",
       "      <td>11.3</td>\n",
       "      <td>4.5</td>\n",
       "    </tr>\n",
       "    <tr>\n",
       "      <th>1</th>\n",
       "      <td>Japan</td>\n",
       "      <td>AFC</td>\n",
       "      <td>4.9</td>\n",
       "      <td>9.1</td>\n",
       "      <td>1.9</td>\n",
       "    </tr>\n",
       "    <tr>\n",
       "      <th>2</th>\n",
       "      <td>China</td>\n",
       "      <td>AFC</td>\n",
       "      <td>14.8</td>\n",
       "      <td>7.3</td>\n",
       "      <td>19.5</td>\n",
       "    </tr>\n",
       "    <tr>\n",
       "      <th>3</th>\n",
       "      <td>Germany</td>\n",
       "      <td>UEFA</td>\n",
       "      <td>2.9</td>\n",
       "      <td>6.3</td>\n",
       "      <td>1.2</td>\n",
       "    </tr>\n",
       "    <tr>\n",
       "      <th>4</th>\n",
       "      <td>Brazil</td>\n",
       "      <td>CONMEBOL</td>\n",
       "      <td>7.1</td>\n",
       "      <td>5.4</td>\n",
       "      <td>2.8</td>\n",
       "    </tr>\n",
       "    <tr>\n",
       "      <th>...</th>\n",
       "      <td>...</td>\n",
       "      <td>...</td>\n",
       "      <td>...</td>\n",
       "      <td>...</td>\n",
       "      <td>...</td>\n",
       "    </tr>\n",
       "    <tr>\n",
       "      <th>186</th>\n",
       "      <td>Tonga</td>\n",
       "      <td>OFC</td>\n",
       "      <td>0.0</td>\n",
       "      <td>0.0</td>\n",
       "      <td>0.0</td>\n",
       "    </tr>\n",
       "    <tr>\n",
       "      <th>187</th>\n",
       "      <td>Liberia</td>\n",
       "      <td>CAF</td>\n",
       "      <td>0.0</td>\n",
       "      <td>0.0</td>\n",
       "      <td>0.1</td>\n",
       "    </tr>\n",
       "    <tr>\n",
       "      <th>188</th>\n",
       "      <td>Palau</td>\n",
       "      <td>OFC</td>\n",
       "      <td>0.0</td>\n",
       "      <td>0.0</td>\n",
       "      <td>0.0</td>\n",
       "    </tr>\n",
       "    <tr>\n",
       "      <th>189</th>\n",
       "      <td>Nauru</td>\n",
       "      <td>OFC</td>\n",
       "      <td>0.0</td>\n",
       "      <td>0.0</td>\n",
       "      <td>0.0</td>\n",
       "    </tr>\n",
       "    <tr>\n",
       "      <th>190</th>\n",
       "      <td>Niue</td>\n",
       "      <td>OFC</td>\n",
       "      <td>0.0</td>\n",
       "      <td>0.0</td>\n",
       "      <td>0.0</td>\n",
       "    </tr>\n",
       "  </tbody>\n",
       "</table>\n",
       "<p>191 rows × 5 columns</p>\n",
       "</div>"
      ],
      "text/plain": [
       "           country confederation  tv_audience_share  gdp_weighted_share  \\\n",
       "0    United States      CONCACAF                4.3                11.3   \n",
       "1            Japan           AFC                4.9                 9.1   \n",
       "2            China           AFC               14.8                 7.3   \n",
       "3          Germany          UEFA                2.9                 6.3   \n",
       "4           Brazil      CONMEBOL                7.1                 5.4   \n",
       "..             ...           ...                ...                 ...   \n",
       "186          Tonga           OFC                0.0                 0.0   \n",
       "187        Liberia           CAF                0.0                 0.0   \n",
       "188          Palau           OFC                0.0                 0.0   \n",
       "189          Nauru           OFC                0.0                 0.0   \n",
       "190           Niue           OFC                0.0                 0.0   \n",
       "\n",
       "     population_share  \n",
       "0                 4.5  \n",
       "1                 1.9  \n",
       "2                19.5  \n",
       "3                 1.2  \n",
       "4                 2.8  \n",
       "..                ...  \n",
       "186               0.0  \n",
       "187               0.1  \n",
       "188               0.0  \n",
       "189               0.0  \n",
       "190               0.0  \n",
       "\n",
       "[191 rows x 5 columns]"
      ]
     },
     "execution_count": 198,
     "metadata": {},
     "output_type": "execute_result"
    }
   ],
   "source": [
    "df = df[var_list]\n",
    "\n",
    "df"
   ]
  },
  {
   "attachments": {},
   "cell_type": "markdown",
   "metadata": {},
   "source": [
    "### Visualizing:"
   ]
  },
  {
   "cell_type": "code",
   "execution_count": 199,
   "metadata": {},
   "outputs": [
    {
     "name": "stderr",
     "output_type": "stream",
     "text": [
      "/opt/anaconda3/envs/bigdata/lib/python3.9/site-packages/altair/utils/core.py:317: FutureWarning: iteritems is deprecated and will be removed in a future version. Use .items instead.\n",
      "  for col_name, dtype in df.dtypes.iteritems():\n"
     ]
    },
    {
     "data": {
      "text/html": [
       "\n",
       "<div id=\"altair-viz-210b89848c974f458a3a9a71ed4e933e\"></div>\n",
       "<script type=\"text/javascript\">\n",
       "  var VEGA_DEBUG = (typeof VEGA_DEBUG == \"undefined\") ? {} : VEGA_DEBUG;\n",
       "  (function(spec, embedOpt){\n",
       "    let outputDiv = document.currentScript.previousElementSibling;\n",
       "    if (outputDiv.id !== \"altair-viz-210b89848c974f458a3a9a71ed4e933e\") {\n",
       "      outputDiv = document.getElementById(\"altair-viz-210b89848c974f458a3a9a71ed4e933e\");\n",
       "    }\n",
       "    const paths = {\n",
       "      \"vega\": \"https://cdn.jsdelivr.net/npm//vega@5?noext\",\n",
       "      \"vega-lib\": \"https://cdn.jsdelivr.net/npm//vega-lib?noext\",\n",
       "      \"vega-lite\": \"https://cdn.jsdelivr.net/npm//vega-lite@4.17.0?noext\",\n",
       "      \"vega-embed\": \"https://cdn.jsdelivr.net/npm//vega-embed@6?noext\",\n",
       "    };\n",
       "\n",
       "    function maybeLoadScript(lib, version) {\n",
       "      var key = `${lib.replace(\"-\", \"\")}_version`;\n",
       "      return (VEGA_DEBUG[key] == version) ?\n",
       "        Promise.resolve(paths[lib]) :\n",
       "        new Promise(function(resolve, reject) {\n",
       "          var s = document.createElement('script');\n",
       "          document.getElementsByTagName(\"head\")[0].appendChild(s);\n",
       "          s.async = true;\n",
       "          s.onload = () => {\n",
       "            VEGA_DEBUG[key] = version;\n",
       "            return resolve(paths[lib]);\n",
       "          };\n",
       "          s.onerror = () => reject(`Error loading script: ${paths[lib]}`);\n",
       "          s.src = paths[lib];\n",
       "        });\n",
       "    }\n",
       "\n",
       "    function showError(err) {\n",
       "      outputDiv.innerHTML = `<div class=\"error\" style=\"color:red;\">${err}</div>`;\n",
       "      throw err;\n",
       "    }\n",
       "\n",
       "    function displayChart(vegaEmbed) {\n",
       "      vegaEmbed(outputDiv, spec, embedOpt)\n",
       "        .catch(err => showError(`Javascript Error: ${err.message}<br>This usually means there's a typo in your chart specification. See the javascript console for the full traceback.`));\n",
       "    }\n",
       "\n",
       "    if(typeof define === \"function\" && define.amd) {\n",
       "      requirejs.config({paths});\n",
       "      require([\"vega-embed\"], displayChart, err => showError(`Error loading script: ${err.message}`));\n",
       "    } else {\n",
       "      maybeLoadScript(\"vega\", \"5\")\n",
       "        .then(() => maybeLoadScript(\"vega-lite\", \"4.17.0\"))\n",
       "        .then(() => maybeLoadScript(\"vega-embed\", \"6\"))\n",
       "        .catch(showError)\n",
       "        .then(() => displayChart(vegaEmbed));\n",
       "    }\n",
       "  })({\"config\": {\"view\": {\"continuousWidth\": 400, \"continuousHeight\": 300}}, \"data\": {\"name\": \"data-dfda6e87cb8b25a7162d299fe9091735\"}, \"mark\": \"bar\", \"encoding\": {\"x\": {\"field\": \"confederation\", \"type\": \"nominal\"}, \"y\": {\"aggregate\": \"count\", \"field\": \"confederation\", \"type\": \"nominal\"}}, \"$schema\": \"https://vega.github.io/schema/vega-lite/v4.17.0.json\", \"datasets\": {\"data-dfda6e87cb8b25a7162d299fe9091735\": [{\"country\": \"United States\", \"confederation\": \"CONCACAF\", \"tv_audience_share\": 4.3, \"gdp_weighted_share\": 11.3, \"population_share\": 4.5}, {\"country\": \"Japan\", \"confederation\": \"AFC\", \"tv_audience_share\": 4.9, \"gdp_weighted_share\": 9.1, \"population_share\": 1.9}, {\"country\": \"China\", \"confederation\": \"AFC\", \"tv_audience_share\": 14.8, \"gdp_weighted_share\": 7.3, \"population_share\": 19.5}, {\"country\": \"Germany\", \"confederation\": \"UEFA\", \"tv_audience_share\": 2.9, \"gdp_weighted_share\": 6.3, \"population_share\": 1.2}, {\"country\": \"Brazil\", \"confederation\": \"CONMEBOL\", \"tv_audience_share\": 7.1, \"gdp_weighted_share\": 5.4, \"population_share\": 2.8}, {\"country\": \"United Kingdom\", \"confederation\": \"UEFA\", \"tv_audience_share\": 2.1, \"gdp_weighted_share\": 4.2, \"population_share\": 0.9}, {\"country\": \"Italy\", \"confederation\": \"UEFA\", \"tv_audience_share\": 2.1, \"gdp_weighted_share\": 4.0, \"population_share\": 0.9}, {\"country\": \"France\", \"confederation\": \"UEFA\", \"tv_audience_share\": 2.0, \"gdp_weighted_share\": 4.0, \"population_share\": 0.9}, {\"country\": \"Russia\", \"confederation\": \"UEFA\", \"tv_audience_share\": 3.1, \"gdp_weighted_share\": 3.5, \"population_share\": 2.1}, {\"country\": \"Spain\", \"confederation\": \"UEFA\", \"tv_audience_share\": 1.8, \"gdp_weighted_share\": 3.1, \"population_share\": 0.7}, {\"country\": \"South Korea\", \"confederation\": \"AFC\", \"tv_audience_share\": 1.8, \"gdp_weighted_share\": 3.0, \"population_share\": 0.7}, {\"country\": \"Indonesia\", \"confederation\": \"AFC\", \"tv_audience_share\": 6.7, \"gdp_weighted_share\": 2.9, \"population_share\": 3.5}, {\"country\": \"Mexico\", \"confederation\": \"CONCACAF\", \"tv_audience_share\": 3.2, \"gdp_weighted_share\": 2.6, \"population_share\": 1.7}, {\"country\": \"Turkey\", \"confederation\": \"UEFA\", \"tv_audience_share\": 2.3, \"gdp_weighted_share\": 2.0, \"population_share\": 1.1}, {\"country\": \"Thailand\", \"confederation\": \"AFC\", \"tv_audience_share\": 2.4, \"gdp_weighted_share\": 1.6, \"population_share\": 1.0}, {\"country\": \"Argentina\", \"confederation\": \"CONMEBOL\", \"tv_audience_share\": 1.5, \"gdp_weighted_share\": 1.6, \"population_share\": 0.6}, {\"country\": \"Netherlands\", \"confederation\": \"UEFA\", \"tv_audience_share\": 0.6, \"gdp_weighted_share\": 1.5, \"population_share\": 0.2}, {\"country\": \"Poland\", \"confederation\": \"UEFA\", \"tv_audience_share\": 1.2, \"gdp_weighted_share\": 1.3, \"population_share\": 0.6}, {\"country\": \"Saudi Arabia\", \"confederation\": \"AFC\", \"tv_audience_share\": 0.5, \"gdp_weighted_share\": 1.2, \"population_share\": 0.4}, {\"country\": \"Taiwan\", \"confederation\": \"AFC\", \"tv_audience_share\": 0.5, \"gdp_weighted_share\": 1.0, \"population_share\": 0.3}, {\"country\": \"Canada\", \"confederation\": \"CONCACAF\", \"tv_audience_share\": 0.5, \"gdp_weighted_share\": 1.0, \"population_share\": 0.5}, {\"country\": \"Colombia\", \"confederation\": \"CONMEBOL\", \"tv_audience_share\": 1.6, \"gdp_weighted_share\": 0.9, \"population_share\": 0.7}, {\"country\": \"Venezuela\", \"confederation\": \"CONMEBOL\", \"tv_audience_share\": 1.0, \"gdp_weighted_share\": 0.9, \"population_share\": 0.4}, {\"country\": \"South Africa\", \"confederation\": \"CAF\", \"tv_audience_share\": 1.3, \"gdp_weighted_share\": 0.8, \"population_share\": 0.7}, {\"country\": \"Malaysia\", \"confederation\": \"AFC\", \"tv_audience_share\": 0.7, \"gdp_weighted_share\": 0.7, \"population_share\": 0.4}, {\"country\": \"Switzerland\", \"confederation\": \"UEFA\", \"tv_audience_share\": 0.3, \"gdp_weighted_share\": 0.7, \"population_share\": 0.1}, {\"country\": \"Nigeria\", \"confederation\": \"CAF\", \"tv_audience_share\": 2.6, \"gdp_weighted_share\": 0.7, \"population_share\": 2.3}, {\"country\": \"Belgium\", \"confederation\": \"UEFA\", \"tv_audience_share\": 0.3, \"gdp_weighted_share\": 0.7, \"population_share\": 0.2}, {\"country\": \"Sweden\", \"confederation\": \"UEFA\", \"tv_audience_share\": 0.3, \"gdp_weighted_share\": 0.7, \"population_share\": 0.1}, {\"country\": \"Vietnam\", \"confederation\": \"AFC\", \"tv_audience_share\": 2.6, \"gdp_weighted_share\": 0.6, \"population_share\": 1.3}, {\"country\": \"Iran\", \"confederation\": \"AFC\", \"tv_audience_share\": 0.7, \"gdp_weighted_share\": 0.6, \"population_share\": 1.1}, {\"country\": \"Chile\", \"confederation\": \"CONMEBOL\", \"tv_audience_share\": 0.6, \"gdp_weighted_share\": 0.6, \"population_share\": 0.3}, {\"country\": \"Romania\", \"confederation\": \"UEFA\", \"tv_audience_share\": 0.7, \"gdp_weighted_share\": 0.6, \"population_share\": 0.3}, {\"country\": \"Austria\", \"confederation\": \"UEFA\", \"tv_audience_share\": 0.3, \"gdp_weighted_share\": 0.6, \"population_share\": 0.1}, {\"country\": \"Singapore\", \"confederation\": \"AFC\", \"tv_audience_share\": 0.2, \"gdp_weighted_share\": 0.6, \"population_share\": 0.1}, {\"country\": \"Australia\", \"confederation\": \"AFC\", \"tv_audience_share\": 0.3, \"gdp_weighted_share\": 0.5, \"population_share\": 0.3}, {\"country\": \"Greece\", \"confederation\": \"UEFA\", \"tv_audience_share\": 0.3, \"gdp_weighted_share\": 0.5, \"population_share\": 0.2}, {\"country\": \"Portugal\", \"confederation\": \"UEFA\", \"tv_audience_share\": 0.4, \"gdp_weighted_share\": 0.5, \"population_share\": 0.2}, {\"country\": \"India\", \"confederation\": \"AFC\", \"tv_audience_share\": 2.0, \"gdp_weighted_share\": 0.5, \"population_share\": 17.6}, {\"country\": \"Czech Republic\", \"confederation\": \"UEFA\", \"tv_audience_share\": 0.3, \"gdp_weighted_share\": 0.5, \"population_share\": 0.2}, {\"country\": \"Egypt\", \"confederation\": \"CAF\", \"tv_audience_share\": 0.8, \"gdp_weighted_share\": 0.5, \"population_share\": 1.1}, {\"country\": \"Denmark\", \"confederation\": \"UEFA\", \"tv_audience_share\": 0.2, \"gdp_weighted_share\": 0.5, \"population_share\": 0.1}, {\"country\": \"Norway\", \"confederation\": \"UEFA\", \"tv_audience_share\": 0.1, \"gdp_weighted_share\": 0.4, \"population_share\": 0.1}, {\"country\": \"Peru\", \"confederation\": \"CONMEBOL\", \"tv_audience_share\": 0.8, \"gdp_weighted_share\": 0.4, \"population_share\": 0.4}, {\"country\": \"Ukraine\", \"confederation\": \"UEFA\", \"tv_audience_share\": 0.9, \"gdp_weighted_share\": 0.4, \"population_share\": 0.7}, {\"country\": \"Iraq\", \"confederation\": \"AFC\", \"tv_audience_share\": 0.5, \"gdp_weighted_share\": 0.4, \"population_share\": 0.5}, {\"country\": \"Hungary\", \"confederation\": \"UEFA\", \"tv_audience_share\": 0.3, \"gdp_weighted_share\": 0.4, \"population_share\": 0.1}, {\"country\": \"Kazakhstan\", \"confederation\": \"UEFA\", \"tv_audience_share\": 0.3, \"gdp_weighted_share\": 0.3, \"population_share\": 0.2}, {\"country\": \"Finland\", \"confederation\": \"UEFA\", \"tv_audience_share\": 0.2, \"gdp_weighted_share\": 0.3, \"population_share\": 0.1}, {\"country\": \"Ireland\", \"confederation\": \"UEFA\", \"tv_audience_share\": 0.1, \"gdp_weighted_share\": 0.3, \"population_share\": 0.1}, {\"country\": \"Algeria\", \"confederation\": \"CAF\", \"tv_audience_share\": 0.4, \"gdp_weighted_share\": 0.3, \"population_share\": 0.5}, {\"country\": \"Cuba\", \"confederation\": \"CONCACAF\", \"tv_audience_share\": 0.3, \"gdp_weighted_share\": 0.3, \"population_share\": 0.2}, {\"country\": \"Ecuador\", \"confederation\": \"CONMEBOL\", \"tv_audience_share\": 0.5, \"gdp_weighted_share\": 0.3, \"population_share\": 0.2}, {\"country\": \"Slovakia\", \"confederation\": \"UEFA\", \"tv_audience_share\": 0.2, \"gdp_weighted_share\": 0.3, \"population_share\": 0.1}, {\"country\": \"Qatar\", \"confederation\": \"AFC\", \"tv_audience_share\": 0.0, \"gdp_weighted_share\": 0.2, \"population_share\": 0.0}, {\"country\": \"Kuwait\", \"confederation\": \"AFC\", \"tv_audience_share\": 0.1, \"gdp_weighted_share\": 0.2, \"population_share\": 0.0}, {\"country\": \"Bulgaria\", \"confederation\": \"UEFA\", \"tv_audience_share\": 0.2, \"gdp_weighted_share\": 0.2, \"population_share\": 0.1}, {\"country\": \"Serbia\", \"confederation\": \"UEFA\", \"tv_audience_share\": 0.3, \"gdp_weighted_share\": 0.2, \"population_share\": 0.1}, {\"country\": \"Belarus\", \"confederation\": \"UEFA\", \"tv_audience_share\": 0.2, \"gdp_weighted_share\": 0.2, \"population_share\": 0.1}, {\"country\": \"Hong Kong\", \"confederation\": \"AFC\", \"tv_audience_share\": 0.1, \"gdp_weighted_share\": 0.2, \"population_share\": 0.1}, {\"country\": \"Croatia\", \"confederation\": \"UEFA\", \"tv_audience_share\": 0.1, \"gdp_weighted_share\": 0.1, \"population_share\": 0.1}, {\"country\": \"Oman\", \"confederation\": \"AFC\", \"tv_audience_share\": 0.0, \"gdp_weighted_share\": 0.1, \"population_share\": 0.0}, {\"country\": \"Dominica Republic\", \"confederation\": \"CONCACAF\", \"tv_audience_share\": 0.2, \"gdp_weighted_share\": 0.1, \"population_share\": 0.1}, {\"country\": \"Azerbaijan\", \"confederation\": \"UEFA\", \"tv_audience_share\": 0.1, \"gdp_weighted_share\": 0.1, \"population_share\": 0.1}, {\"country\": \"New Zealand\", \"confederation\": \"OFC\", \"tv_audience_share\": 0.1, \"gdp_weighted_share\": 0.1, \"population_share\": 0.1}, {\"country\": \"Lithuania\", \"confederation\": \"UEFA\", \"tv_audience_share\": 0.1, \"gdp_weighted_share\": 0.1, \"population_share\": 0.0}, {\"country\": \"Slovenia\", \"confederation\": \"UEFA\", \"tv_audience_share\": 0.1, \"gdp_weighted_share\": 0.1, \"population_share\": 0.0}, {\"country\": \"Uruguay\", \"confederation\": \"CONMEBOL\", \"tv_audience_share\": 0.1, \"gdp_weighted_share\": 0.1, \"population_share\": 0.0}, {\"country\": \"Costa Rica\", \"confederation\": \"CONCACAF\", \"tv_audience_share\": 0.2, \"gdp_weighted_share\": 0.1, \"population_share\": 0.1}, {\"country\": \"Uzbekistan\", \"confederation\": \"AFC\", \"tv_audience_share\": 0.5, \"gdp_weighted_share\": 0.1, \"population_share\": 0.4}, {\"country\": \"Yemen\", \"confederation\": \"CAF\", \"tv_audience_share\": 0.4, \"gdp_weighted_share\": 0.1, \"population_share\": 0.3}, {\"country\": \"Israel\", \"confederation\": \"UEFA\", \"tv_audience_share\": 0.1, \"gdp_weighted_share\": 0.1, \"population_share\": 0.1}, {\"country\": \"El Salvador\", \"confederation\": \"CONCACAF\", \"tv_audience_share\": 0.2, \"gdp_weighted_share\": 0.1, \"population_share\": 0.1}, {\"country\": \"Syria\", \"confederation\": \"AFC\", \"tv_audience_share\": 0.3, \"gdp_weighted_share\": 0.1, \"population_share\": 0.3}, {\"country\": \"Pakistan\", \"confederation\": \"AFC\", \"tv_audience_share\": 0.4, \"gdp_weighted_share\": 0.1, \"population_share\": 2.5}, {\"country\": \"Guatemala\", \"confederation\": \"CONCACAF\", \"tv_audience_share\": 0.2, \"gdp_weighted_share\": 0.1, \"population_share\": 0.2}, {\"country\": \"Paraguay\", \"confederation\": \"CONMEBOL\", \"tv_audience_share\": 0.2, \"gdp_weighted_share\": 0.1, \"population_share\": 0.1}, {\"country\": \"Panama\", \"confederation\": \"CONCACAF\", \"tv_audience_share\": 0.1, \"gdp_weighted_share\": 0.1, \"population_share\": 0.1}, {\"country\": \"Bosnia-Herzegovina\", \"confederation\": \"UEFA\", \"tv_audience_share\": 0.1, \"gdp_weighted_share\": 0.1, \"population_share\": 0.1}, {\"country\": \"Cambodia\", \"confederation\": \"AFC\", \"tv_audience_share\": 0.5, \"gdp_weighted_share\": 0.1, \"population_share\": 0.2}, {\"country\": \"Ivory Coast\", \"confederation\": \"CAF\", \"tv_audience_share\": 0.4, \"gdp_weighted_share\": 0.1, \"population_share\": 0.3}, {\"country\": \"Macau\", \"confederation\": \"AFC\", \"tv_audience_share\": 0.0, \"gdp_weighted_share\": 0.1, \"population_share\": 0.0}, {\"country\": \"Latvia\", \"confederation\": \"UEFA\", \"tv_audience_share\": 0.1, \"gdp_weighted_share\": 0.1, \"population_share\": 0.0}, {\"country\": \"Lebanon\", \"confederation\": \"AFC\", \"tv_audience_share\": 0.1, \"gdp_weighted_share\": 0.1, \"population_share\": 0.1}, {\"country\": \"Jordan\", \"confederation\": \"AFC\", \"tv_audience_share\": 0.1, \"gdp_weighted_share\": 0.1, \"population_share\": 0.1}, {\"country\": \"Honduras\", \"confederation\": \"CONCACAF\", \"tv_audience_share\": 0.3, \"gdp_weighted_share\": 0.1, \"population_share\": 0.1}, {\"country\": \"Brunei\", \"confederation\": \"AFC\", \"tv_audience_share\": 0.0, \"gdp_weighted_share\": 0.1, \"population_share\": 0.0}, {\"country\": \"Albania\", \"confederation\": \"UEFA\", \"tv_audience_share\": 0.1, \"gdp_weighted_share\": 0.1, \"population_share\": 0.0}, {\"country\": \"Turkmenistan\", \"confederation\": \"AFC\", \"tv_audience_share\": 0.1, \"gdp_weighted_share\": 0.1, \"population_share\": 0.1}, {\"country\": \"Angola\", \"confederation\": \"CAF\", \"tv_audience_share\": 0.1, \"gdp_weighted_share\": 0.1, \"population_share\": 0.3}, {\"country\": \"Estonia\", \"confederation\": \"UEFA\", \"tv_audience_share\": 0.0, \"gdp_weighted_share\": 0.0, \"population_share\": 0.0}, {\"country\": \"Bahrain\", \"confederation\": \"AFC\", \"tv_audience_share\": 0.0, \"gdp_weighted_share\": 0.0, \"population_share\": 0.0}, {\"country\": \"Nepal\", \"confederation\": \"AFC\", \"tv_audience_share\": 0.4, \"gdp_weighted_share\": 0.0, \"population_share\": 0.4}, {\"country\": \"Cyprus\", \"confederation\": \"UEFA\", \"tv_audience_share\": 0.0, \"gdp_weighted_share\": 0.0, \"population_share\": 0.0}, {\"country\": \"Ghana\", \"confederation\": \"CAF\", \"tv_audience_share\": 0.2, \"gdp_weighted_share\": 0.0, \"population_share\": 0.4}, {\"country\": \"Mauritius\", \"confederation\": \"CAF\", \"tv_audience_share\": 0.0, \"gdp_weighted_share\": 0.0, \"population_share\": 0.0}, {\"country\": \"Macedonia\", \"confederation\": \"UEFA\", \"tv_audience_share\": 0.1, \"gdp_weighted_share\": 0.0, \"population_share\": 0.0}, {\"country\": \"Kenya\", \"confederation\": \"CAF\", \"tv_audience_share\": 0.3, \"gdp_weighted_share\": 0.0, \"population_share\": 0.6}, {\"country\": \"Trinidad &Tobago\", \"confederation\": \"CONCACAF\", \"tv_audience_share\": 0.0, \"gdp_weighted_share\": 0.0, \"population_share\": 0.0}, {\"country\": \"Philippines\", \"confederation\": \"AFC\", \"tv_audience_share\": 0.1, \"gdp_weighted_share\": 0.0, \"population_share\": 1.4}, {\"country\": \"Bolivia\", \"confederation\": \"CONMEBOL\", \"tv_audience_share\": 0.1, \"gdp_weighted_share\": 0.0, \"population_share\": 0.1}, {\"country\": \"Laos\", \"confederation\": \"AFC\", \"tv_audience_share\": 0.2, \"gdp_weighted_share\": 0.0, \"population_share\": 0.1}, {\"country\": \"Armenia\", \"confederation\": \"UEFA\", \"tv_audience_share\": 0.1, \"gdp_weighted_share\": 0.0, \"population_share\": 0.0}, {\"country\": \"Nicaragua\", \"confederation\": \"CONCACAF\", \"tv_audience_share\": 0.1, \"gdp_weighted_share\": 0.0, \"population_share\": 0.1}, {\"country\": \"Afghanistan\", \"confederation\": \"AFC\", \"tv_audience_share\": 0.3, \"gdp_weighted_share\": 0.0, \"population_share\": 0.4}, {\"country\": \"Kosovo\", \"confederation\": \"UEFA\", \"tv_audience_share\": 0.1, \"gdp_weighted_share\": 0.0, \"population_share\": 0.0}, {\"country\": \"Cameroon\", \"confederation\": \"CAF\", \"tv_audience_share\": 0.2, \"gdp_weighted_share\": 0.0, \"population_share\": 0.3}, {\"country\": \"Senegal\", \"confederation\": \"CAF\", \"tv_audience_share\": 0.2, \"gdp_weighted_share\": 0.0, \"population_share\": 0.2}, {\"country\": \"Jamaica\", \"confederation\": \"CONCACAF\", \"tv_audience_share\": 0.1, \"gdp_weighted_share\": 0.0, \"population_share\": 0.0}, {\"country\": \"Sri Lanka\", \"confederation\": \"AFC\", \"tv_audience_share\": 0.1, \"gdp_weighted_share\": 0.0, \"population_share\": 0.3}, {\"country\": \"Myanmar\", \"confederation\": \"AFC\", \"tv_audience_share\": 0.1, \"gdp_weighted_share\": 0.0, \"population_share\": 0.8}, {\"country\": \"Moldova\", \"confederation\": \"UEFA\", \"tv_audience_share\": 0.1, \"gdp_weighted_share\": 0.0, \"population_share\": 0.1}, {\"country\": \"Malta\", \"confederation\": \"UEFA\", \"tv_audience_share\": 0.0, \"gdp_weighted_share\": 0.0, \"population_share\": 0.0}, {\"country\": \"Bangladesh\", \"confederation\": \"AFC\", \"tv_audience_share\": 0.1, \"gdp_weighted_share\": 0.0, \"population_share\": 2.2}, {\"country\": \"Zambia\", \"confederation\": \"CAF\", \"tv_audience_share\": 0.1, \"gdp_weighted_share\": 0.0, \"population_share\": 0.2}, {\"country\": \"Morocco\", \"confederation\": \"CAF\", \"tv_audience_share\": 0.1, \"gdp_weighted_share\": 0.0, \"population_share\": 0.5}, {\"country\": \"North Korea\", \"confederation\": \"AFC\", \"tv_audience_share\": 0.2, \"gdp_weighted_share\": 0.0, \"population_share\": 0.4}, {\"country\": \"Botswana\", \"confederation\": \"CAF\", \"tv_audience_share\": 0.0, \"gdp_weighted_share\": 0.0, \"population_share\": 0.0}, {\"country\": \"Tajikistan\", \"confederation\": \"AFC\", \"tv_audience_share\": 0.1, \"gdp_weighted_share\": 0.0, \"population_share\": 0.1}, {\"country\": \"Iceland\", \"confederation\": \"UEFA\", \"tv_audience_share\": 0.0, \"gdp_weighted_share\": 0.0, \"population_share\": 0.0}, {\"country\": \"Uganda\", \"confederation\": \"CAF\", \"tv_audience_share\": 0.2, \"gdp_weighted_share\": 0.0, \"population_share\": 0.5}, {\"country\": \"Libya\", \"confederation\": \"CAF\", \"tv_audience_share\": 0.0, \"gdp_weighted_share\": 0.0, \"population_share\": 0.1}, {\"country\": \"Palestine\", \"confederation\": \"AFC\", \"tv_audience_share\": 0.1, \"gdp_weighted_share\": 0.0, \"population_share\": 0.1}, {\"country\": \"Kyrgyzstan\", \"confederation\": \"AFC\", \"tv_audience_share\": 0.1, \"gdp_weighted_share\": 0.0, \"population_share\": 0.1}, {\"country\": \"Mongolia\", \"confederation\": \"AFC\", \"tv_audience_share\": 0.0, \"gdp_weighted_share\": 0.0, \"population_share\": 0.0}, {\"country\": \"Montenegro\", \"confederation\": \"UEFA\", \"tv_audience_share\": 0.0, \"gdp_weighted_share\": 0.0, \"population_share\": 0.0}, {\"country\": \"Tanzania\", \"confederation\": \"CAF\", \"tv_audience_share\": 0.1, \"gdp_weighted_share\": 0.0, \"population_share\": 0.7}, {\"country\": \"Georgia\", \"confederation\": \"UEFA\", \"tv_audience_share\": 0.0, \"gdp_weighted_share\": 0.0, \"population_share\": 0.1}, {\"country\": \"Suriname\", \"confederation\": \"CONCACAF\", \"tv_audience_share\": 0.0, \"gdp_weighted_share\": 0.0, \"population_share\": 0.0}, {\"country\": \"Sudan\", \"confederation\": \"CAF\", \"tv_audience_share\": 0.1, \"gdp_weighted_share\": 0.0, \"population_share\": 0.5}, {\"country\": \"Gabon\", \"confederation\": \"CAF\", \"tv_audience_share\": 0.0, \"gdp_weighted_share\": 0.0, \"population_share\": 0.0}, {\"country\": \"Madagascar\", \"confederation\": \"CAF\", \"tv_audience_share\": 0.1, \"gdp_weighted_share\": 0.0, \"population_share\": 0.3}, {\"country\": \"Tunisia\", \"confederation\": \"AFC\", \"tv_audience_share\": 0.0, \"gdp_weighted_share\": 0.0, \"population_share\": 0.2}, {\"country\": \"Ethiopia\", \"confederation\": \"CAF\", \"tv_audience_share\": 0.2, \"gdp_weighted_share\": 0.0, \"population_share\": 1.3}, {\"country\": \"Zimbabwe\", \"confederation\": \"CAF\", \"tv_audience_share\": 0.1, \"gdp_weighted_share\": 0.0, \"population_share\": 0.2}, {\"country\": \"Namibia\", \"confederation\": \"CAF\", \"tv_audience_share\": 0.0, \"gdp_weighted_share\": 0.0, \"population_share\": 0.0}, {\"country\": \"Bahamas\", \"confederation\": \"CONCACAF\", \"tv_audience_share\": 0.0, \"gdp_weighted_share\": 0.0, \"population_share\": 0.0}, {\"country\": \"Papua New Guinea\", \"confederation\": \"OFC\", \"tv_audience_share\": 0.1, \"gdp_weighted_share\": 0.0, \"population_share\": 0.1}, {\"country\": \"Guyana\", \"confederation\": \"CONCACAF\", \"tv_audience_share\": 0.0, \"gdp_weighted_share\": 0.0, \"population_share\": 0.0}, {\"country\": \"Turks & Caicos\", \"confederation\": \"CONCACAF\", \"tv_audience_share\": 0.0, \"gdp_weighted_share\": 0.0, \"population_share\": 0.0}, {\"country\": \"Congo DR\", \"confederation\": \"CAF\", \"tv_audience_share\": 0.2, \"gdp_weighted_share\": 0.0, \"population_share\": 0.9}, {\"country\": \"Burkina Faso\", \"confederation\": \"CAF\", \"tv_audience_share\": 0.1, \"gdp_weighted_share\": 0.0, \"population_share\": 0.2}, {\"country\": \"Guinea\", \"confederation\": \"CAF\", \"tv_audience_share\": 0.1, \"gdp_weighted_share\": 0.0, \"population_share\": 0.2}, {\"country\": \"Haiti\", \"confederation\": \"CONCACAF\", \"tv_audience_share\": 0.1, \"gdp_weighted_share\": 0.0, \"population_share\": 0.1}, {\"country\": \"Fiji\", \"confederation\": \"OFC\", \"tv_audience_share\": 0.0, \"gdp_weighted_share\": 0.0, \"population_share\": 0.0}, {\"country\": \"Barbados\", \"confederation\": \"CONCACAF\", \"tv_audience_share\": 0.0, \"gdp_weighted_share\": 0.0, \"population_share\": 0.0}, {\"country\": \"Mali\", \"confederation\": \"CAF\", \"tv_audience_share\": 0.0, \"gdp_weighted_share\": 0.0, \"population_share\": 0.2}, {\"country\": \"Bermuda\", \"confederation\": \"CONCACAF\", \"tv_audience_share\": 0.0, \"gdp_weighted_share\": 0.0, \"population_share\": 0.0}, {\"country\": \"St. Maarten\", \"confederation\": \"CONCACAF\", \"tv_audience_share\": 0.0, \"gdp_weighted_share\": 0.0, \"population_share\": 0.0}, {\"country\": \"Equatorial Guinea\", \"confederation\": \"CAF\", \"tv_audience_share\": 0.0, \"gdp_weighted_share\": 0.0, \"population_share\": 0.0}, {\"country\": \"Mozambique\", \"confederation\": \"CAF\", \"tv_audience_share\": 0.1, \"gdp_weighted_share\": 0.0, \"population_share\": 0.3}, {\"country\": \"Seychelles\", \"confederation\": \"CAF\", \"tv_audience_share\": 0.0, \"gdp_weighted_share\": 0.0, \"population_share\": 0.0}, {\"country\": \"Cape Verde\", \"confederation\": \"CAF\", \"tv_audience_share\": 0.0, \"gdp_weighted_share\": 0.0, \"population_share\": 0.0}, {\"country\": \"Benin\", \"confederation\": \"CAF\", \"tv_audience_share\": 0.0, \"gdp_weighted_share\": 0.0, \"population_share\": 0.1}, {\"country\": \"Swaziland\", \"confederation\": \"CAF\", \"tv_audience_share\": 0.0, \"gdp_weighted_share\": 0.0, \"population_share\": 0.0}, {\"country\": \"Cayman Islands\", \"confederation\": \"CONCACAF\", \"tv_audience_share\": 0.0, \"gdp_weighted_share\": 0.0, \"population_share\": 0.0}, {\"country\": \"Aruba\", \"confederation\": \"CONCACAF\", \"tv_audience_share\": 0.0, \"gdp_weighted_share\": 0.0, \"population_share\": 0.0}, {\"country\": \"Maldives\", \"confederation\": \"AFC\", \"tv_audience_share\": 0.0, \"gdp_weighted_share\": 0.0, \"population_share\": 0.0}, {\"country\": \"Niger\", \"confederation\": \"CAF\", \"tv_audience_share\": 0.1, \"gdp_weighted_share\": 0.0, \"population_share\": 0.2}, {\"country\": \"Curacao\", \"confederation\": \"CONCACAF\", \"tv_audience_share\": 0.0, \"gdp_weighted_share\": 0.0, \"population_share\": 0.0}, {\"country\": \"St. Lucia\", \"confederation\": \"CONCACAF\", \"tv_audience_share\": 0.0, \"gdp_weighted_share\": 0.0, \"population_share\": 0.0}, {\"country\": \"Togo\", \"confederation\": \"CAF\", \"tv_audience_share\": 0.0, \"gdp_weighted_share\": 0.0, \"population_share\": 0.1}, {\"country\": \"Burundi\", \"confederation\": \"CAF\", \"tv_audience_share\": 0.1, \"gdp_weighted_share\": 0.0, \"population_share\": 0.1}, {\"country\": \"Congo, Rep.\", \"confederation\": \"CAF\", \"tv_audience_share\": 0.0, \"gdp_weighted_share\": 0.0, \"population_share\": 0.1}, {\"country\": \"Antigua & Barbuda\", \"confederation\": \"CONCACAF\", \"tv_audience_share\": 0.0, \"gdp_weighted_share\": 0.0, \"population_share\": 0.0}, {\"country\": \"Chad\", \"confederation\": \"CAF\", \"tv_audience_share\": 0.0, \"gdp_weighted_share\": 0.0, \"population_share\": 0.2}, {\"country\": \"Eritrea\", \"confederation\": \"CAF\", \"tv_audience_share\": 0.0, \"gdp_weighted_share\": 0.0, \"population_share\": 0.1}, {\"country\": \"Grenada\", \"confederation\": \"CONCACAF\", \"tv_audience_share\": 0.0, \"gdp_weighted_share\": 0.0, \"population_share\": 0.0}, {\"country\": \"Lesotho\", \"confederation\": \"CAF\", \"tv_audience_share\": 0.0, \"gdp_weighted_share\": 0.0, \"population_share\": 0.0}, {\"country\": \"St. Vincent\", \"confederation\": \"CONCACAF\", \"tv_audience_share\": 0.0, \"gdp_weighted_share\": 0.0, \"population_share\": 0.0}, {\"country\": \"Malawi\", \"confederation\": \"CAF\", \"tv_audience_share\": 0.0, \"gdp_weighted_share\": 0.0, \"population_share\": 0.2}, {\"country\": \"Sierra Leone\", \"confederation\": \"CAF\", \"tv_audience_share\": 0.0, \"gdp_weighted_share\": 0.0, \"population_share\": 0.1}, {\"country\": \"Mauritania\", \"confederation\": \"CAF\", \"tv_audience_share\": 0.0, \"gdp_weighted_share\": 0.0, \"population_share\": 0.1}, {\"country\": \"Solomon Islands\", \"confederation\": \"OFC\", \"tv_audience_share\": 0.0, \"gdp_weighted_share\": 0.0, \"population_share\": 0.0}, {\"country\": \"Dominica\", \"confederation\": \"CONCACAF\", \"tv_audience_share\": 0.0, \"gdp_weighted_share\": 0.0, \"population_share\": 0.0}, {\"country\": \"Timor\", \"confederation\": \"AFC\", \"tv_audience_share\": 0.0, \"gdp_weighted_share\": 0.0, \"population_share\": 0.0}, {\"country\": \"St. Kitts\", \"confederation\": \"CONCACAF\", \"tv_audience_share\": 0.0, \"gdp_weighted_share\": 0.0, \"population_share\": 0.0}, {\"country\": \"Rwanda\", \"confederation\": \"CAF\", \"tv_audience_share\": 0.0, \"gdp_weighted_share\": 0.0, \"population_share\": 0.2}, {\"country\": \"Somalia\", \"confederation\": \"CAF\", \"tv_audience_share\": 0.0, \"gdp_weighted_share\": 0.0, \"population_share\": 0.1}, {\"country\": \"Gambia\", \"confederation\": \"CAF\", \"tv_audience_share\": 0.0, \"gdp_weighted_share\": 0.0, \"population_share\": 0.0}, {\"country\": \"Samoa\", \"confederation\": \"OFC\", \"tv_audience_share\": 0.0, \"gdp_weighted_share\": 0.0, \"population_share\": 0.0}, {\"country\": \"Guinea-Bissau\", \"confederation\": \"CAF\", \"tv_audience_share\": 0.0, \"gdp_weighted_share\": 0.0, \"population_share\": 0.0}, {\"country\": \"Central African Republic\", \"confederation\": \"CAF\", \"tv_audience_share\": 0.0, \"gdp_weighted_share\": 0.0, \"population_share\": 0.1}, {\"country\": \"Vanuatu\", \"confederation\": \"OFC\", \"tv_audience_share\": 0.0, \"gdp_weighted_share\": 0.0, \"population_share\": 0.0}, {\"country\": \"American Samoa\", \"confederation\": \"OFC\", \"tv_audience_share\": 0.0, \"gdp_weighted_share\": 0.0, \"population_share\": 0.0}, {\"country\": \"Cook Islands\", \"confederation\": \"OFC\", \"tv_audience_share\": 0.0, \"gdp_weighted_share\": 0.0, \"population_share\": 0.0}, {\"country\": \"Tonga\", \"confederation\": \"OFC\", \"tv_audience_share\": 0.0, \"gdp_weighted_share\": 0.0, \"population_share\": 0.0}, {\"country\": \"Liberia\", \"confederation\": \"CAF\", \"tv_audience_share\": 0.0, \"gdp_weighted_share\": 0.0, \"population_share\": 0.1}, {\"country\": \"Palau\", \"confederation\": \"OFC\", \"tv_audience_share\": 0.0, \"gdp_weighted_share\": 0.0, \"population_share\": 0.0}, {\"country\": \"Nauru\", \"confederation\": \"OFC\", \"tv_audience_share\": 0.0, \"gdp_weighted_share\": 0.0, \"population_share\": 0.0}, {\"country\": \"Niue\", \"confederation\": \"OFC\", \"tv_audience_share\": 0.0, \"gdp_weighted_share\": 0.0, \"population_share\": 0.0}]}}, {\"mode\": \"vega-lite\"});\n",
       "</script>"
      ],
      "text/plain": [
       "alt.Chart(...)"
      ]
     },
     "execution_count": 199,
     "metadata": {},
     "output_type": "execute_result"
    }
   ],
   "source": [
    "alt.Chart(df).mark_bar().encode(\n",
    "    x=('confederation'),\n",
    "    y=alt.Y('count(confederation)')\n",
    ")"
   ]
  },
  {
   "cell_type": "markdown",
   "metadata": {},
   "source": []
  },
  {
   "cell_type": "code",
   "execution_count": 200,
   "metadata": {},
   "outputs": [
    {
     "data": {
      "text/html": [
       "\n",
       "<div id=\"altair-viz-840984eb3fda486ab6fbf05740849a2b\"></div>\n",
       "<script type=\"text/javascript\">\n",
       "  var VEGA_DEBUG = (typeof VEGA_DEBUG == \"undefined\") ? {} : VEGA_DEBUG;\n",
       "  (function(spec, embedOpt){\n",
       "    let outputDiv = document.currentScript.previousElementSibling;\n",
       "    if (outputDiv.id !== \"altair-viz-840984eb3fda486ab6fbf05740849a2b\") {\n",
       "      outputDiv = document.getElementById(\"altair-viz-840984eb3fda486ab6fbf05740849a2b\");\n",
       "    }\n",
       "    const paths = {\n",
       "      \"vega\": \"https://cdn.jsdelivr.net/npm//vega@5?noext\",\n",
       "      \"vega-lib\": \"https://cdn.jsdelivr.net/npm//vega-lib?noext\",\n",
       "      \"vega-lite\": \"https://cdn.jsdelivr.net/npm//vega-lite@4.17.0?noext\",\n",
       "      \"vega-embed\": \"https://cdn.jsdelivr.net/npm//vega-embed@6?noext\",\n",
       "    };\n",
       "\n",
       "    function maybeLoadScript(lib, version) {\n",
       "      var key = `${lib.replace(\"-\", \"\")}_version`;\n",
       "      return (VEGA_DEBUG[key] == version) ?\n",
       "        Promise.resolve(paths[lib]) :\n",
       "        new Promise(function(resolve, reject) {\n",
       "          var s = document.createElement('script');\n",
       "          document.getElementsByTagName(\"head\")[0].appendChild(s);\n",
       "          s.async = true;\n",
       "          s.onload = () => {\n",
       "            VEGA_DEBUG[key] = version;\n",
       "            return resolve(paths[lib]);\n",
       "          };\n",
       "          s.onerror = () => reject(`Error loading script: ${paths[lib]}`);\n",
       "          s.src = paths[lib];\n",
       "        });\n",
       "    }\n",
       "\n",
       "    function showError(err) {\n",
       "      outputDiv.innerHTML = `<div class=\"error\" style=\"color:red;\">${err}</div>`;\n",
       "      throw err;\n",
       "    }\n",
       "\n",
       "    function displayChart(vegaEmbed) {\n",
       "      vegaEmbed(outputDiv, spec, embedOpt)\n",
       "        .catch(err => showError(`Javascript Error: ${err.message}<br>This usually means there's a typo in your chart specification. See the javascript console for the full traceback.`));\n",
       "    }\n",
       "\n",
       "    if(typeof define === \"function\" && define.amd) {\n",
       "      requirejs.config({paths});\n",
       "      require([\"vega-embed\"], displayChart, err => showError(`Error loading script: ${err.message}`));\n",
       "    } else {\n",
       "      maybeLoadScript(\"vega\", \"5\")\n",
       "        .then(() => maybeLoadScript(\"vega-lite\", \"4.17.0\"))\n",
       "        .then(() => maybeLoadScript(\"vega-embed\", \"6\"))\n",
       "        .catch(showError)\n",
       "        .then(() => displayChart(vegaEmbed));\n",
       "    }\n",
       "  })({\"config\": {\"view\": {\"continuousWidth\": 400, \"continuousHeight\": 300}}, \"data\": {\"name\": \"data-dfda6e87cb8b25a7162d299fe9091735\"}, \"mark\": \"bar\", \"encoding\": {\"color\": {\"aggregate\": \"count\", \"field\": \"confederation\", \"legend\": {\"title\": \"Count\"}, \"type\": \"nominal\"}, \"x\": {\"axis\": {\"labelAngle\": 0, \"title\": \"Confederations\", \"titleAnchor\": \"start\"}, \"field\": \"confederation\", \"sort\": \"-y\", \"type\": \"nominal\"}, \"y\": {\"aggregate\": \"count\", \"axis\": {\"title\": \"Count\", \"titleAnchor\": \"end\"}, \"field\": \"confederation\", \"type\": \"nominal\"}}, \"height\": 150, \"title\": \"FIFA Confederation\", \"width\": 350, \"$schema\": \"https://vega.github.io/schema/vega-lite/v4.17.0.json\", \"datasets\": {\"data-dfda6e87cb8b25a7162d299fe9091735\": [{\"country\": \"United States\", \"confederation\": \"CONCACAF\", \"tv_audience_share\": 4.3, \"gdp_weighted_share\": 11.3, \"population_share\": 4.5}, {\"country\": \"Japan\", \"confederation\": \"AFC\", \"tv_audience_share\": 4.9, \"gdp_weighted_share\": 9.1, \"population_share\": 1.9}, {\"country\": \"China\", \"confederation\": \"AFC\", \"tv_audience_share\": 14.8, \"gdp_weighted_share\": 7.3, \"population_share\": 19.5}, {\"country\": \"Germany\", \"confederation\": \"UEFA\", \"tv_audience_share\": 2.9, \"gdp_weighted_share\": 6.3, \"population_share\": 1.2}, {\"country\": \"Brazil\", \"confederation\": \"CONMEBOL\", \"tv_audience_share\": 7.1, \"gdp_weighted_share\": 5.4, \"population_share\": 2.8}, {\"country\": \"United Kingdom\", \"confederation\": \"UEFA\", \"tv_audience_share\": 2.1, \"gdp_weighted_share\": 4.2, \"population_share\": 0.9}, {\"country\": \"Italy\", \"confederation\": \"UEFA\", \"tv_audience_share\": 2.1, \"gdp_weighted_share\": 4.0, \"population_share\": 0.9}, {\"country\": \"France\", \"confederation\": \"UEFA\", \"tv_audience_share\": 2.0, \"gdp_weighted_share\": 4.0, \"population_share\": 0.9}, {\"country\": \"Russia\", \"confederation\": \"UEFA\", \"tv_audience_share\": 3.1, \"gdp_weighted_share\": 3.5, \"population_share\": 2.1}, {\"country\": \"Spain\", \"confederation\": \"UEFA\", \"tv_audience_share\": 1.8, \"gdp_weighted_share\": 3.1, \"population_share\": 0.7}, {\"country\": \"South Korea\", \"confederation\": \"AFC\", \"tv_audience_share\": 1.8, \"gdp_weighted_share\": 3.0, \"population_share\": 0.7}, {\"country\": \"Indonesia\", \"confederation\": \"AFC\", \"tv_audience_share\": 6.7, \"gdp_weighted_share\": 2.9, \"population_share\": 3.5}, {\"country\": \"Mexico\", \"confederation\": \"CONCACAF\", \"tv_audience_share\": 3.2, \"gdp_weighted_share\": 2.6, \"population_share\": 1.7}, {\"country\": \"Turkey\", \"confederation\": \"UEFA\", \"tv_audience_share\": 2.3, \"gdp_weighted_share\": 2.0, \"population_share\": 1.1}, {\"country\": \"Thailand\", \"confederation\": \"AFC\", \"tv_audience_share\": 2.4, \"gdp_weighted_share\": 1.6, \"population_share\": 1.0}, {\"country\": \"Argentina\", \"confederation\": \"CONMEBOL\", \"tv_audience_share\": 1.5, \"gdp_weighted_share\": 1.6, \"population_share\": 0.6}, {\"country\": \"Netherlands\", \"confederation\": \"UEFA\", \"tv_audience_share\": 0.6, \"gdp_weighted_share\": 1.5, \"population_share\": 0.2}, {\"country\": \"Poland\", \"confederation\": \"UEFA\", \"tv_audience_share\": 1.2, \"gdp_weighted_share\": 1.3, \"population_share\": 0.6}, {\"country\": \"Saudi Arabia\", \"confederation\": \"AFC\", \"tv_audience_share\": 0.5, \"gdp_weighted_share\": 1.2, \"population_share\": 0.4}, {\"country\": \"Taiwan\", \"confederation\": \"AFC\", \"tv_audience_share\": 0.5, \"gdp_weighted_share\": 1.0, \"population_share\": 0.3}, {\"country\": \"Canada\", \"confederation\": \"CONCACAF\", \"tv_audience_share\": 0.5, \"gdp_weighted_share\": 1.0, \"population_share\": 0.5}, {\"country\": \"Colombia\", \"confederation\": \"CONMEBOL\", \"tv_audience_share\": 1.6, \"gdp_weighted_share\": 0.9, \"population_share\": 0.7}, {\"country\": \"Venezuela\", \"confederation\": \"CONMEBOL\", \"tv_audience_share\": 1.0, \"gdp_weighted_share\": 0.9, \"population_share\": 0.4}, {\"country\": \"South Africa\", \"confederation\": \"CAF\", \"tv_audience_share\": 1.3, \"gdp_weighted_share\": 0.8, \"population_share\": 0.7}, {\"country\": \"Malaysia\", \"confederation\": \"AFC\", \"tv_audience_share\": 0.7, \"gdp_weighted_share\": 0.7, \"population_share\": 0.4}, {\"country\": \"Switzerland\", \"confederation\": \"UEFA\", \"tv_audience_share\": 0.3, \"gdp_weighted_share\": 0.7, \"population_share\": 0.1}, {\"country\": \"Nigeria\", \"confederation\": \"CAF\", \"tv_audience_share\": 2.6, \"gdp_weighted_share\": 0.7, \"population_share\": 2.3}, {\"country\": \"Belgium\", \"confederation\": \"UEFA\", \"tv_audience_share\": 0.3, \"gdp_weighted_share\": 0.7, \"population_share\": 0.2}, {\"country\": \"Sweden\", \"confederation\": \"UEFA\", \"tv_audience_share\": 0.3, \"gdp_weighted_share\": 0.7, \"population_share\": 0.1}, {\"country\": \"Vietnam\", \"confederation\": \"AFC\", \"tv_audience_share\": 2.6, \"gdp_weighted_share\": 0.6, \"population_share\": 1.3}, {\"country\": \"Iran\", \"confederation\": \"AFC\", \"tv_audience_share\": 0.7, \"gdp_weighted_share\": 0.6, \"population_share\": 1.1}, {\"country\": \"Chile\", \"confederation\": \"CONMEBOL\", \"tv_audience_share\": 0.6, \"gdp_weighted_share\": 0.6, \"population_share\": 0.3}, {\"country\": \"Romania\", \"confederation\": \"UEFA\", \"tv_audience_share\": 0.7, \"gdp_weighted_share\": 0.6, \"population_share\": 0.3}, {\"country\": \"Austria\", \"confederation\": \"UEFA\", \"tv_audience_share\": 0.3, \"gdp_weighted_share\": 0.6, \"population_share\": 0.1}, {\"country\": \"Singapore\", \"confederation\": \"AFC\", \"tv_audience_share\": 0.2, \"gdp_weighted_share\": 0.6, \"population_share\": 0.1}, {\"country\": \"Australia\", \"confederation\": \"AFC\", \"tv_audience_share\": 0.3, \"gdp_weighted_share\": 0.5, \"population_share\": 0.3}, {\"country\": \"Greece\", \"confederation\": \"UEFA\", \"tv_audience_share\": 0.3, \"gdp_weighted_share\": 0.5, \"population_share\": 0.2}, {\"country\": \"Portugal\", \"confederation\": \"UEFA\", \"tv_audience_share\": 0.4, \"gdp_weighted_share\": 0.5, \"population_share\": 0.2}, {\"country\": \"India\", \"confederation\": \"AFC\", \"tv_audience_share\": 2.0, \"gdp_weighted_share\": 0.5, \"population_share\": 17.6}, {\"country\": \"Czech Republic\", \"confederation\": \"UEFA\", \"tv_audience_share\": 0.3, \"gdp_weighted_share\": 0.5, \"population_share\": 0.2}, {\"country\": \"Egypt\", \"confederation\": \"CAF\", \"tv_audience_share\": 0.8, \"gdp_weighted_share\": 0.5, \"population_share\": 1.1}, {\"country\": \"Denmark\", \"confederation\": \"UEFA\", \"tv_audience_share\": 0.2, \"gdp_weighted_share\": 0.5, \"population_share\": 0.1}, {\"country\": \"Norway\", \"confederation\": \"UEFA\", \"tv_audience_share\": 0.1, \"gdp_weighted_share\": 0.4, \"population_share\": 0.1}, {\"country\": \"Peru\", \"confederation\": \"CONMEBOL\", \"tv_audience_share\": 0.8, \"gdp_weighted_share\": 0.4, \"population_share\": 0.4}, {\"country\": \"Ukraine\", \"confederation\": \"UEFA\", \"tv_audience_share\": 0.9, \"gdp_weighted_share\": 0.4, \"population_share\": 0.7}, {\"country\": \"Iraq\", \"confederation\": \"AFC\", \"tv_audience_share\": 0.5, \"gdp_weighted_share\": 0.4, \"population_share\": 0.5}, {\"country\": \"Hungary\", \"confederation\": \"UEFA\", \"tv_audience_share\": 0.3, \"gdp_weighted_share\": 0.4, \"population_share\": 0.1}, {\"country\": \"Kazakhstan\", \"confederation\": \"UEFA\", \"tv_audience_share\": 0.3, \"gdp_weighted_share\": 0.3, \"population_share\": 0.2}, {\"country\": \"Finland\", \"confederation\": \"UEFA\", \"tv_audience_share\": 0.2, \"gdp_weighted_share\": 0.3, \"population_share\": 0.1}, {\"country\": \"Ireland\", \"confederation\": \"UEFA\", \"tv_audience_share\": 0.1, \"gdp_weighted_share\": 0.3, \"population_share\": 0.1}, {\"country\": \"Algeria\", \"confederation\": \"CAF\", \"tv_audience_share\": 0.4, \"gdp_weighted_share\": 0.3, \"population_share\": 0.5}, {\"country\": \"Cuba\", \"confederation\": \"CONCACAF\", \"tv_audience_share\": 0.3, \"gdp_weighted_share\": 0.3, \"population_share\": 0.2}, {\"country\": \"Ecuador\", \"confederation\": \"CONMEBOL\", \"tv_audience_share\": 0.5, \"gdp_weighted_share\": 0.3, \"population_share\": 0.2}, {\"country\": \"Slovakia\", \"confederation\": \"UEFA\", \"tv_audience_share\": 0.2, \"gdp_weighted_share\": 0.3, \"population_share\": 0.1}, {\"country\": \"Qatar\", \"confederation\": \"AFC\", \"tv_audience_share\": 0.0, \"gdp_weighted_share\": 0.2, \"population_share\": 0.0}, {\"country\": \"Kuwait\", \"confederation\": \"AFC\", \"tv_audience_share\": 0.1, \"gdp_weighted_share\": 0.2, \"population_share\": 0.0}, {\"country\": \"Bulgaria\", \"confederation\": \"UEFA\", \"tv_audience_share\": 0.2, \"gdp_weighted_share\": 0.2, \"population_share\": 0.1}, {\"country\": \"Serbia\", \"confederation\": \"UEFA\", \"tv_audience_share\": 0.3, \"gdp_weighted_share\": 0.2, \"population_share\": 0.1}, {\"country\": \"Belarus\", \"confederation\": \"UEFA\", \"tv_audience_share\": 0.2, \"gdp_weighted_share\": 0.2, \"population_share\": 0.1}, {\"country\": \"Hong Kong\", \"confederation\": \"AFC\", \"tv_audience_share\": 0.1, \"gdp_weighted_share\": 0.2, \"population_share\": 0.1}, {\"country\": \"Croatia\", \"confederation\": \"UEFA\", \"tv_audience_share\": 0.1, \"gdp_weighted_share\": 0.1, \"population_share\": 0.1}, {\"country\": \"Oman\", \"confederation\": \"AFC\", \"tv_audience_share\": 0.0, \"gdp_weighted_share\": 0.1, \"population_share\": 0.0}, {\"country\": \"Dominica Republic\", \"confederation\": \"CONCACAF\", \"tv_audience_share\": 0.2, \"gdp_weighted_share\": 0.1, \"population_share\": 0.1}, {\"country\": \"Azerbaijan\", \"confederation\": \"UEFA\", \"tv_audience_share\": 0.1, \"gdp_weighted_share\": 0.1, \"population_share\": 0.1}, {\"country\": \"New Zealand\", \"confederation\": \"OFC\", \"tv_audience_share\": 0.1, \"gdp_weighted_share\": 0.1, \"population_share\": 0.1}, {\"country\": \"Lithuania\", \"confederation\": \"UEFA\", \"tv_audience_share\": 0.1, \"gdp_weighted_share\": 0.1, \"population_share\": 0.0}, {\"country\": \"Slovenia\", \"confederation\": \"UEFA\", \"tv_audience_share\": 0.1, \"gdp_weighted_share\": 0.1, \"population_share\": 0.0}, {\"country\": \"Uruguay\", \"confederation\": \"CONMEBOL\", \"tv_audience_share\": 0.1, \"gdp_weighted_share\": 0.1, \"population_share\": 0.0}, {\"country\": \"Costa Rica\", \"confederation\": \"CONCACAF\", \"tv_audience_share\": 0.2, \"gdp_weighted_share\": 0.1, \"population_share\": 0.1}, {\"country\": \"Uzbekistan\", \"confederation\": \"AFC\", \"tv_audience_share\": 0.5, \"gdp_weighted_share\": 0.1, \"population_share\": 0.4}, {\"country\": \"Yemen\", \"confederation\": \"CAF\", \"tv_audience_share\": 0.4, \"gdp_weighted_share\": 0.1, \"population_share\": 0.3}, {\"country\": \"Israel\", \"confederation\": \"UEFA\", \"tv_audience_share\": 0.1, \"gdp_weighted_share\": 0.1, \"population_share\": 0.1}, {\"country\": \"El Salvador\", \"confederation\": \"CONCACAF\", \"tv_audience_share\": 0.2, \"gdp_weighted_share\": 0.1, \"population_share\": 0.1}, {\"country\": \"Syria\", \"confederation\": \"AFC\", \"tv_audience_share\": 0.3, \"gdp_weighted_share\": 0.1, \"population_share\": 0.3}, {\"country\": \"Pakistan\", \"confederation\": \"AFC\", \"tv_audience_share\": 0.4, \"gdp_weighted_share\": 0.1, \"population_share\": 2.5}, {\"country\": \"Guatemala\", \"confederation\": \"CONCACAF\", \"tv_audience_share\": 0.2, \"gdp_weighted_share\": 0.1, \"population_share\": 0.2}, {\"country\": \"Paraguay\", \"confederation\": \"CONMEBOL\", \"tv_audience_share\": 0.2, \"gdp_weighted_share\": 0.1, \"population_share\": 0.1}, {\"country\": \"Panama\", \"confederation\": \"CONCACAF\", \"tv_audience_share\": 0.1, \"gdp_weighted_share\": 0.1, \"population_share\": 0.1}, {\"country\": \"Bosnia-Herzegovina\", \"confederation\": \"UEFA\", \"tv_audience_share\": 0.1, \"gdp_weighted_share\": 0.1, \"population_share\": 0.1}, {\"country\": \"Cambodia\", \"confederation\": \"AFC\", \"tv_audience_share\": 0.5, \"gdp_weighted_share\": 0.1, \"population_share\": 0.2}, {\"country\": \"Ivory Coast\", \"confederation\": \"CAF\", \"tv_audience_share\": 0.4, \"gdp_weighted_share\": 0.1, \"population_share\": 0.3}, {\"country\": \"Macau\", \"confederation\": \"AFC\", \"tv_audience_share\": 0.0, \"gdp_weighted_share\": 0.1, \"population_share\": 0.0}, {\"country\": \"Latvia\", \"confederation\": \"UEFA\", \"tv_audience_share\": 0.1, \"gdp_weighted_share\": 0.1, \"population_share\": 0.0}, {\"country\": \"Lebanon\", \"confederation\": \"AFC\", \"tv_audience_share\": 0.1, \"gdp_weighted_share\": 0.1, \"population_share\": 0.1}, {\"country\": \"Jordan\", \"confederation\": \"AFC\", \"tv_audience_share\": 0.1, \"gdp_weighted_share\": 0.1, \"population_share\": 0.1}, {\"country\": \"Honduras\", \"confederation\": \"CONCACAF\", \"tv_audience_share\": 0.3, \"gdp_weighted_share\": 0.1, \"population_share\": 0.1}, {\"country\": \"Brunei\", \"confederation\": \"AFC\", \"tv_audience_share\": 0.0, \"gdp_weighted_share\": 0.1, \"population_share\": 0.0}, {\"country\": \"Albania\", \"confederation\": \"UEFA\", \"tv_audience_share\": 0.1, \"gdp_weighted_share\": 0.1, \"population_share\": 0.0}, {\"country\": \"Turkmenistan\", \"confederation\": \"AFC\", \"tv_audience_share\": 0.1, \"gdp_weighted_share\": 0.1, \"population_share\": 0.1}, {\"country\": \"Angola\", \"confederation\": \"CAF\", \"tv_audience_share\": 0.1, \"gdp_weighted_share\": 0.1, \"population_share\": 0.3}, {\"country\": \"Estonia\", \"confederation\": \"UEFA\", \"tv_audience_share\": 0.0, \"gdp_weighted_share\": 0.0, \"population_share\": 0.0}, {\"country\": \"Bahrain\", \"confederation\": \"AFC\", \"tv_audience_share\": 0.0, \"gdp_weighted_share\": 0.0, \"population_share\": 0.0}, {\"country\": \"Nepal\", \"confederation\": \"AFC\", \"tv_audience_share\": 0.4, \"gdp_weighted_share\": 0.0, \"population_share\": 0.4}, {\"country\": \"Cyprus\", \"confederation\": \"UEFA\", \"tv_audience_share\": 0.0, \"gdp_weighted_share\": 0.0, \"population_share\": 0.0}, {\"country\": \"Ghana\", \"confederation\": \"CAF\", \"tv_audience_share\": 0.2, \"gdp_weighted_share\": 0.0, \"population_share\": 0.4}, {\"country\": \"Mauritius\", \"confederation\": \"CAF\", \"tv_audience_share\": 0.0, \"gdp_weighted_share\": 0.0, \"population_share\": 0.0}, {\"country\": \"Macedonia\", \"confederation\": \"UEFA\", \"tv_audience_share\": 0.1, \"gdp_weighted_share\": 0.0, \"population_share\": 0.0}, {\"country\": \"Kenya\", \"confederation\": \"CAF\", \"tv_audience_share\": 0.3, \"gdp_weighted_share\": 0.0, \"population_share\": 0.6}, {\"country\": \"Trinidad &Tobago\", \"confederation\": \"CONCACAF\", \"tv_audience_share\": 0.0, \"gdp_weighted_share\": 0.0, \"population_share\": 0.0}, {\"country\": \"Philippines\", \"confederation\": \"AFC\", \"tv_audience_share\": 0.1, \"gdp_weighted_share\": 0.0, \"population_share\": 1.4}, {\"country\": \"Bolivia\", \"confederation\": \"CONMEBOL\", \"tv_audience_share\": 0.1, \"gdp_weighted_share\": 0.0, \"population_share\": 0.1}, {\"country\": \"Laos\", \"confederation\": \"AFC\", \"tv_audience_share\": 0.2, \"gdp_weighted_share\": 0.0, \"population_share\": 0.1}, {\"country\": \"Armenia\", \"confederation\": \"UEFA\", \"tv_audience_share\": 0.1, \"gdp_weighted_share\": 0.0, \"population_share\": 0.0}, {\"country\": \"Nicaragua\", \"confederation\": \"CONCACAF\", \"tv_audience_share\": 0.1, \"gdp_weighted_share\": 0.0, \"population_share\": 0.1}, {\"country\": \"Afghanistan\", \"confederation\": \"AFC\", \"tv_audience_share\": 0.3, \"gdp_weighted_share\": 0.0, \"population_share\": 0.4}, {\"country\": \"Kosovo\", \"confederation\": \"UEFA\", \"tv_audience_share\": 0.1, \"gdp_weighted_share\": 0.0, \"population_share\": 0.0}, {\"country\": \"Cameroon\", \"confederation\": \"CAF\", \"tv_audience_share\": 0.2, \"gdp_weighted_share\": 0.0, \"population_share\": 0.3}, {\"country\": \"Senegal\", \"confederation\": \"CAF\", \"tv_audience_share\": 0.2, \"gdp_weighted_share\": 0.0, \"population_share\": 0.2}, {\"country\": \"Jamaica\", \"confederation\": \"CONCACAF\", \"tv_audience_share\": 0.1, \"gdp_weighted_share\": 0.0, \"population_share\": 0.0}, {\"country\": \"Sri Lanka\", \"confederation\": \"AFC\", \"tv_audience_share\": 0.1, \"gdp_weighted_share\": 0.0, \"population_share\": 0.3}, {\"country\": \"Myanmar\", \"confederation\": \"AFC\", \"tv_audience_share\": 0.1, \"gdp_weighted_share\": 0.0, \"population_share\": 0.8}, {\"country\": \"Moldova\", \"confederation\": \"UEFA\", \"tv_audience_share\": 0.1, \"gdp_weighted_share\": 0.0, \"population_share\": 0.1}, {\"country\": \"Malta\", \"confederation\": \"UEFA\", \"tv_audience_share\": 0.0, \"gdp_weighted_share\": 0.0, \"population_share\": 0.0}, {\"country\": \"Bangladesh\", \"confederation\": \"AFC\", \"tv_audience_share\": 0.1, \"gdp_weighted_share\": 0.0, \"population_share\": 2.2}, {\"country\": \"Zambia\", \"confederation\": \"CAF\", \"tv_audience_share\": 0.1, \"gdp_weighted_share\": 0.0, \"population_share\": 0.2}, {\"country\": \"Morocco\", \"confederation\": \"CAF\", \"tv_audience_share\": 0.1, \"gdp_weighted_share\": 0.0, \"population_share\": 0.5}, {\"country\": \"North Korea\", \"confederation\": \"AFC\", \"tv_audience_share\": 0.2, \"gdp_weighted_share\": 0.0, \"population_share\": 0.4}, {\"country\": \"Botswana\", \"confederation\": \"CAF\", \"tv_audience_share\": 0.0, \"gdp_weighted_share\": 0.0, \"population_share\": 0.0}, {\"country\": \"Tajikistan\", \"confederation\": \"AFC\", \"tv_audience_share\": 0.1, \"gdp_weighted_share\": 0.0, \"population_share\": 0.1}, {\"country\": \"Iceland\", \"confederation\": \"UEFA\", \"tv_audience_share\": 0.0, \"gdp_weighted_share\": 0.0, \"population_share\": 0.0}, {\"country\": \"Uganda\", \"confederation\": \"CAF\", \"tv_audience_share\": 0.2, \"gdp_weighted_share\": 0.0, \"population_share\": 0.5}, {\"country\": \"Libya\", \"confederation\": \"CAF\", \"tv_audience_share\": 0.0, \"gdp_weighted_share\": 0.0, \"population_share\": 0.1}, {\"country\": \"Palestine\", \"confederation\": \"AFC\", \"tv_audience_share\": 0.1, \"gdp_weighted_share\": 0.0, \"population_share\": 0.1}, {\"country\": \"Kyrgyzstan\", \"confederation\": \"AFC\", \"tv_audience_share\": 0.1, \"gdp_weighted_share\": 0.0, \"population_share\": 0.1}, {\"country\": \"Mongolia\", \"confederation\": \"AFC\", \"tv_audience_share\": 0.0, \"gdp_weighted_share\": 0.0, \"population_share\": 0.0}, {\"country\": \"Montenegro\", \"confederation\": \"UEFA\", \"tv_audience_share\": 0.0, \"gdp_weighted_share\": 0.0, \"population_share\": 0.0}, {\"country\": \"Tanzania\", \"confederation\": \"CAF\", \"tv_audience_share\": 0.1, \"gdp_weighted_share\": 0.0, \"population_share\": 0.7}, {\"country\": \"Georgia\", \"confederation\": \"UEFA\", \"tv_audience_share\": 0.0, \"gdp_weighted_share\": 0.0, \"population_share\": 0.1}, {\"country\": \"Suriname\", \"confederation\": \"CONCACAF\", \"tv_audience_share\": 0.0, \"gdp_weighted_share\": 0.0, \"population_share\": 0.0}, {\"country\": \"Sudan\", \"confederation\": \"CAF\", \"tv_audience_share\": 0.1, \"gdp_weighted_share\": 0.0, \"population_share\": 0.5}, {\"country\": \"Gabon\", \"confederation\": \"CAF\", \"tv_audience_share\": 0.0, \"gdp_weighted_share\": 0.0, \"population_share\": 0.0}, {\"country\": \"Madagascar\", \"confederation\": \"CAF\", \"tv_audience_share\": 0.1, \"gdp_weighted_share\": 0.0, \"population_share\": 0.3}, {\"country\": \"Tunisia\", \"confederation\": \"AFC\", \"tv_audience_share\": 0.0, \"gdp_weighted_share\": 0.0, \"population_share\": 0.2}, {\"country\": \"Ethiopia\", \"confederation\": \"CAF\", \"tv_audience_share\": 0.2, \"gdp_weighted_share\": 0.0, \"population_share\": 1.3}, {\"country\": \"Zimbabwe\", \"confederation\": \"CAF\", \"tv_audience_share\": 0.1, \"gdp_weighted_share\": 0.0, \"population_share\": 0.2}, {\"country\": \"Namibia\", \"confederation\": \"CAF\", \"tv_audience_share\": 0.0, \"gdp_weighted_share\": 0.0, \"population_share\": 0.0}, {\"country\": \"Bahamas\", \"confederation\": \"CONCACAF\", \"tv_audience_share\": 0.0, \"gdp_weighted_share\": 0.0, \"population_share\": 0.0}, {\"country\": \"Papua New Guinea\", \"confederation\": \"OFC\", \"tv_audience_share\": 0.1, \"gdp_weighted_share\": 0.0, \"population_share\": 0.1}, {\"country\": \"Guyana\", \"confederation\": \"CONCACAF\", \"tv_audience_share\": 0.0, \"gdp_weighted_share\": 0.0, \"population_share\": 0.0}, {\"country\": \"Turks & Caicos\", \"confederation\": \"CONCACAF\", \"tv_audience_share\": 0.0, \"gdp_weighted_share\": 0.0, \"population_share\": 0.0}, {\"country\": \"Congo DR\", \"confederation\": \"CAF\", \"tv_audience_share\": 0.2, \"gdp_weighted_share\": 0.0, \"population_share\": 0.9}, {\"country\": \"Burkina Faso\", \"confederation\": \"CAF\", \"tv_audience_share\": 0.1, \"gdp_weighted_share\": 0.0, \"population_share\": 0.2}, {\"country\": \"Guinea\", \"confederation\": \"CAF\", \"tv_audience_share\": 0.1, \"gdp_weighted_share\": 0.0, \"population_share\": 0.2}, {\"country\": \"Haiti\", \"confederation\": \"CONCACAF\", \"tv_audience_share\": 0.1, \"gdp_weighted_share\": 0.0, \"population_share\": 0.1}, {\"country\": \"Fiji\", \"confederation\": \"OFC\", \"tv_audience_share\": 0.0, \"gdp_weighted_share\": 0.0, \"population_share\": 0.0}, {\"country\": \"Barbados\", \"confederation\": \"CONCACAF\", \"tv_audience_share\": 0.0, \"gdp_weighted_share\": 0.0, \"population_share\": 0.0}, {\"country\": \"Mali\", \"confederation\": \"CAF\", \"tv_audience_share\": 0.0, \"gdp_weighted_share\": 0.0, \"population_share\": 0.2}, {\"country\": \"Bermuda\", \"confederation\": \"CONCACAF\", \"tv_audience_share\": 0.0, \"gdp_weighted_share\": 0.0, \"population_share\": 0.0}, {\"country\": \"St. Maarten\", \"confederation\": \"CONCACAF\", \"tv_audience_share\": 0.0, \"gdp_weighted_share\": 0.0, \"population_share\": 0.0}, {\"country\": \"Equatorial Guinea\", \"confederation\": \"CAF\", \"tv_audience_share\": 0.0, \"gdp_weighted_share\": 0.0, \"population_share\": 0.0}, {\"country\": \"Mozambique\", \"confederation\": \"CAF\", \"tv_audience_share\": 0.1, \"gdp_weighted_share\": 0.0, \"population_share\": 0.3}, {\"country\": \"Seychelles\", \"confederation\": \"CAF\", \"tv_audience_share\": 0.0, \"gdp_weighted_share\": 0.0, \"population_share\": 0.0}, {\"country\": \"Cape Verde\", \"confederation\": \"CAF\", \"tv_audience_share\": 0.0, \"gdp_weighted_share\": 0.0, \"population_share\": 0.0}, {\"country\": \"Benin\", \"confederation\": \"CAF\", \"tv_audience_share\": 0.0, \"gdp_weighted_share\": 0.0, \"population_share\": 0.1}, {\"country\": \"Swaziland\", \"confederation\": \"CAF\", \"tv_audience_share\": 0.0, \"gdp_weighted_share\": 0.0, \"population_share\": 0.0}, {\"country\": \"Cayman Islands\", \"confederation\": \"CONCACAF\", \"tv_audience_share\": 0.0, \"gdp_weighted_share\": 0.0, \"population_share\": 0.0}, {\"country\": \"Aruba\", \"confederation\": \"CONCACAF\", \"tv_audience_share\": 0.0, \"gdp_weighted_share\": 0.0, \"population_share\": 0.0}, {\"country\": \"Maldives\", \"confederation\": \"AFC\", \"tv_audience_share\": 0.0, \"gdp_weighted_share\": 0.0, \"population_share\": 0.0}, {\"country\": \"Niger\", \"confederation\": \"CAF\", \"tv_audience_share\": 0.1, \"gdp_weighted_share\": 0.0, \"population_share\": 0.2}, {\"country\": \"Curacao\", \"confederation\": \"CONCACAF\", \"tv_audience_share\": 0.0, \"gdp_weighted_share\": 0.0, \"population_share\": 0.0}, {\"country\": \"St. Lucia\", \"confederation\": \"CONCACAF\", \"tv_audience_share\": 0.0, \"gdp_weighted_share\": 0.0, \"population_share\": 0.0}, {\"country\": \"Togo\", \"confederation\": \"CAF\", \"tv_audience_share\": 0.0, \"gdp_weighted_share\": 0.0, \"population_share\": 0.1}, {\"country\": \"Burundi\", \"confederation\": \"CAF\", \"tv_audience_share\": 0.1, \"gdp_weighted_share\": 0.0, \"population_share\": 0.1}, {\"country\": \"Congo, Rep.\", \"confederation\": \"CAF\", \"tv_audience_share\": 0.0, \"gdp_weighted_share\": 0.0, \"population_share\": 0.1}, {\"country\": \"Antigua & Barbuda\", \"confederation\": \"CONCACAF\", \"tv_audience_share\": 0.0, \"gdp_weighted_share\": 0.0, \"population_share\": 0.0}, {\"country\": \"Chad\", \"confederation\": \"CAF\", \"tv_audience_share\": 0.0, \"gdp_weighted_share\": 0.0, \"population_share\": 0.2}, {\"country\": \"Eritrea\", \"confederation\": \"CAF\", \"tv_audience_share\": 0.0, \"gdp_weighted_share\": 0.0, \"population_share\": 0.1}, {\"country\": \"Grenada\", \"confederation\": \"CONCACAF\", \"tv_audience_share\": 0.0, \"gdp_weighted_share\": 0.0, \"population_share\": 0.0}, {\"country\": \"Lesotho\", \"confederation\": \"CAF\", \"tv_audience_share\": 0.0, \"gdp_weighted_share\": 0.0, \"population_share\": 0.0}, {\"country\": \"St. Vincent\", \"confederation\": \"CONCACAF\", \"tv_audience_share\": 0.0, \"gdp_weighted_share\": 0.0, \"population_share\": 0.0}, {\"country\": \"Malawi\", \"confederation\": \"CAF\", \"tv_audience_share\": 0.0, \"gdp_weighted_share\": 0.0, \"population_share\": 0.2}, {\"country\": \"Sierra Leone\", \"confederation\": \"CAF\", \"tv_audience_share\": 0.0, \"gdp_weighted_share\": 0.0, \"population_share\": 0.1}, {\"country\": \"Mauritania\", \"confederation\": \"CAF\", \"tv_audience_share\": 0.0, \"gdp_weighted_share\": 0.0, \"population_share\": 0.1}, {\"country\": \"Solomon Islands\", \"confederation\": \"OFC\", \"tv_audience_share\": 0.0, \"gdp_weighted_share\": 0.0, \"population_share\": 0.0}, {\"country\": \"Dominica\", \"confederation\": \"CONCACAF\", \"tv_audience_share\": 0.0, \"gdp_weighted_share\": 0.0, \"population_share\": 0.0}, {\"country\": \"Timor\", \"confederation\": \"AFC\", \"tv_audience_share\": 0.0, \"gdp_weighted_share\": 0.0, \"population_share\": 0.0}, {\"country\": \"St. Kitts\", \"confederation\": \"CONCACAF\", \"tv_audience_share\": 0.0, \"gdp_weighted_share\": 0.0, \"population_share\": 0.0}, {\"country\": \"Rwanda\", \"confederation\": \"CAF\", \"tv_audience_share\": 0.0, \"gdp_weighted_share\": 0.0, \"population_share\": 0.2}, {\"country\": \"Somalia\", \"confederation\": \"CAF\", \"tv_audience_share\": 0.0, \"gdp_weighted_share\": 0.0, \"population_share\": 0.1}, {\"country\": \"Gambia\", \"confederation\": \"CAF\", \"tv_audience_share\": 0.0, \"gdp_weighted_share\": 0.0, \"population_share\": 0.0}, {\"country\": \"Samoa\", \"confederation\": \"OFC\", \"tv_audience_share\": 0.0, \"gdp_weighted_share\": 0.0, \"population_share\": 0.0}, {\"country\": \"Guinea-Bissau\", \"confederation\": \"CAF\", \"tv_audience_share\": 0.0, \"gdp_weighted_share\": 0.0, \"population_share\": 0.0}, {\"country\": \"Central African Republic\", \"confederation\": \"CAF\", \"tv_audience_share\": 0.0, \"gdp_weighted_share\": 0.0, \"population_share\": 0.1}, {\"country\": \"Vanuatu\", \"confederation\": \"OFC\", \"tv_audience_share\": 0.0, \"gdp_weighted_share\": 0.0, \"population_share\": 0.0}, {\"country\": \"American Samoa\", \"confederation\": \"OFC\", \"tv_audience_share\": 0.0, \"gdp_weighted_share\": 0.0, \"population_share\": 0.0}, {\"country\": \"Cook Islands\", \"confederation\": \"OFC\", \"tv_audience_share\": 0.0, \"gdp_weighted_share\": 0.0, \"population_share\": 0.0}, {\"country\": \"Tonga\", \"confederation\": \"OFC\", \"tv_audience_share\": 0.0, \"gdp_weighted_share\": 0.0, \"population_share\": 0.0}, {\"country\": \"Liberia\", \"confederation\": \"CAF\", \"tv_audience_share\": 0.0, \"gdp_weighted_share\": 0.0, \"population_share\": 0.1}, {\"country\": \"Palau\", \"confederation\": \"OFC\", \"tv_audience_share\": 0.0, \"gdp_weighted_share\": 0.0, \"population_share\": 0.0}, {\"country\": \"Nauru\", \"confederation\": \"OFC\", \"tv_audience_share\": 0.0, \"gdp_weighted_share\": 0.0, \"population_share\": 0.0}, {\"country\": \"Niue\", \"confederation\": \"OFC\", \"tv_audience_share\": 0.0, \"gdp_weighted_share\": 0.0, \"population_share\": 0.0}]}}, {\"mode\": \"vega-lite\"});\n",
       "</script>"
      ],
      "text/plain": [
       "alt.Chart(...)"
      ]
     },
     "execution_count": 200,
     "metadata": {},
     "output_type": "execute_result"
    }
   ],
   "source": [
    "chart = alt.Chart(df).mark_bar().encode(\n",
    "    x=alt.X('confederation',\n",
    "            sort='-y',\n",
    "            axis=alt.Axis(title=\"Confederations\", \n",
    "                          titleAnchor=\"start\", \n",
    "                          labelAngle=0)),\n",
    "    y=alt.Y('count(confederation)', \n",
    "            axis=alt.Axis(title = \"Count\", \n",
    "                          titleAnchor=\"end\")),\n",
    "    color= alt.Color('count(confederation)', \n",
    "                     legend=alt.Legend(title=\"Count\"))\n",
    ").properties(\n",
    "    title='FIFA Confederation',\n",
    "    width=350,\n",
    "    height=150\n",
    ")\n",
    "\n",
    "chart"
   ]
  },
  {
   "attachments": {},
   "cell_type": "markdown",
   "metadata": {},
   "source": [
    "### Visualization 2: Pie Chart"
   ]
  },
  {
   "cell_type": "code",
   "execution_count": 201,
   "metadata": {},
   "outputs": [
    {
     "data": {
      "text/html": [
       "<div>\n",
       "<style scoped>\n",
       "    .dataframe tbody tr th:only-of-type {\n",
       "        vertical-align: middle;\n",
       "    }\n",
       "\n",
       "    .dataframe tbody tr th {\n",
       "        vertical-align: top;\n",
       "    }\n",
       "\n",
       "    .dataframe thead th {\n",
       "        text-align: right;\n",
       "    }\n",
       "</style>\n",
       "<table border=\"1\" class=\"dataframe\">\n",
       "  <thead>\n",
       "    <tr style=\"text-align: right;\">\n",
       "      <th></th>\n",
       "      <th>category</th>\n",
       "      <th>value</th>\n",
       "    </tr>\n",
       "  </thead>\n",
       "  <tbody>\n",
       "    <tr>\n",
       "      <th>0</th>\n",
       "      <td>CAF</td>\n",
       "      <td>50</td>\n",
       "    </tr>\n",
       "    <tr>\n",
       "      <th>1</th>\n",
       "      <td>UEFA</td>\n",
       "      <td>46</td>\n",
       "    </tr>\n",
       "    <tr>\n",
       "      <th>2</th>\n",
       "      <td>AFC</td>\n",
       "      <td>43</td>\n",
       "    </tr>\n",
       "    <tr>\n",
       "      <th>3</th>\n",
       "      <td>CONCACAF</td>\n",
       "      <td>30</td>\n",
       "    </tr>\n",
       "    <tr>\n",
       "      <th>4</th>\n",
       "      <td>OFC</td>\n",
       "      <td>12</td>\n",
       "    </tr>\n",
       "    <tr>\n",
       "      <th>5</th>\n",
       "      <td>CONMEBOL</td>\n",
       "      <td>10</td>\n",
       "    </tr>\n",
       "  </tbody>\n",
       "</table>\n",
       "</div>"
      ],
      "text/plain": [
       "   category  value\n",
       "0       CAF     50\n",
       "1      UEFA     46\n",
       "2       AFC     43\n",
       "3  CONCACAF     30\n",
       "4       OFC     12\n",
       "5  CONMEBOL     10"
      ]
     },
     "execution_count": 201,
     "metadata": {},
     "output_type": "execute_result"
    }
   ],
   "source": [
    "source = pd.DataFrame(df.confederation.value_counts())\n",
    "source = source.reset_index()\n",
    "source.rename(columns={\"index\": \"category\", \"confederation\": \"value\"}, inplace=True)\n",
    "source"
   ]
  },
  {
   "cell_type": "code",
   "execution_count": 202,
   "metadata": {},
   "outputs": [
    {
     "name": "stderr",
     "output_type": "stream",
     "text": [
      "/opt/anaconda3/envs/bigdata/lib/python3.9/site-packages/altair/utils/core.py:317: FutureWarning: iteritems is deprecated and will be removed in a future version. Use .items instead.\n",
      "  for col_name, dtype in df.dtypes.iteritems():\n"
     ]
    },
    {
     "data": {
      "text/html": [
       "\n",
       "<div id=\"altair-viz-831836f7b41b45f9a96035ff9d3514d4\"></div>\n",
       "<script type=\"text/javascript\">\n",
       "  var VEGA_DEBUG = (typeof VEGA_DEBUG == \"undefined\") ? {} : VEGA_DEBUG;\n",
       "  (function(spec, embedOpt){\n",
       "    let outputDiv = document.currentScript.previousElementSibling;\n",
       "    if (outputDiv.id !== \"altair-viz-831836f7b41b45f9a96035ff9d3514d4\") {\n",
       "      outputDiv = document.getElementById(\"altair-viz-831836f7b41b45f9a96035ff9d3514d4\");\n",
       "    }\n",
       "    const paths = {\n",
       "      \"vega\": \"https://cdn.jsdelivr.net/npm//vega@5?noext\",\n",
       "      \"vega-lib\": \"https://cdn.jsdelivr.net/npm//vega-lib?noext\",\n",
       "      \"vega-lite\": \"https://cdn.jsdelivr.net/npm//vega-lite@4.17.0?noext\",\n",
       "      \"vega-embed\": \"https://cdn.jsdelivr.net/npm//vega-embed@6?noext\",\n",
       "    };\n",
       "\n",
       "    function maybeLoadScript(lib, version) {\n",
       "      var key = `${lib.replace(\"-\", \"\")}_version`;\n",
       "      return (VEGA_DEBUG[key] == version) ?\n",
       "        Promise.resolve(paths[lib]) :\n",
       "        new Promise(function(resolve, reject) {\n",
       "          var s = document.createElement('script');\n",
       "          document.getElementsByTagName(\"head\")[0].appendChild(s);\n",
       "          s.async = true;\n",
       "          s.onload = () => {\n",
       "            VEGA_DEBUG[key] = version;\n",
       "            return resolve(paths[lib]);\n",
       "          };\n",
       "          s.onerror = () => reject(`Error loading script: ${paths[lib]}`);\n",
       "          s.src = paths[lib];\n",
       "        });\n",
       "    }\n",
       "\n",
       "    function showError(err) {\n",
       "      outputDiv.innerHTML = `<div class=\"error\" style=\"color:red;\">${err}</div>`;\n",
       "      throw err;\n",
       "    }\n",
       "\n",
       "    function displayChart(vegaEmbed) {\n",
       "      vegaEmbed(outputDiv, spec, embedOpt)\n",
       "        .catch(err => showError(`Javascript Error: ${err.message}<br>This usually means there's a typo in your chart specification. See the javascript console for the full traceback.`));\n",
       "    }\n",
       "\n",
       "    if(typeof define === \"function\" && define.amd) {\n",
       "      requirejs.config({paths});\n",
       "      require([\"vega-embed\"], displayChart, err => showError(`Error loading script: ${err.message}`));\n",
       "    } else {\n",
       "      maybeLoadScript(\"vega\", \"5\")\n",
       "        .then(() => maybeLoadScript(\"vega-lite\", \"4.17.0\"))\n",
       "        .then(() => maybeLoadScript(\"vega-embed\", \"6\"))\n",
       "        .catch(showError)\n",
       "        .then(() => displayChart(vegaEmbed));\n",
       "    }\n",
       "  })({\"config\": {\"view\": {\"continuousWidth\": 400, \"continuousHeight\": 300}}, \"layer\": [{\"mark\": {\"type\": \"arc\", \"outerRadius\": 100}, \"encoding\": {\"color\": {\"field\": \"category\", \"legend\": null, \"type\": \"nominal\"}, \"theta\": {\"field\": \"value\", \"stack\": true, \"type\": \"quantitative\"}}}, {\"mark\": {\"type\": \"text\", \"radius\": 130, \"size\": 12}, \"encoding\": {\"color\": {\"field\": \"category\", \"legend\": null, \"type\": \"nominal\"}, \"text\": {\"field\": \"category\", \"type\": \"nominal\"}, \"theta\": {\"field\": \"value\", \"stack\": true, \"type\": \"quantitative\"}}}], \"data\": {\"name\": \"data-e62b7cf666ffc64ac1165d9d52b19632\"}, \"$schema\": \"https://vega.github.io/schema/vega-lite/v4.17.0.json\", \"datasets\": {\"data-e62b7cf666ffc64ac1165d9d52b19632\": [{\"category\": \"CAF\", \"value\": 50}, {\"category\": \"UEFA\", \"value\": 46}, {\"category\": \"AFC\", \"value\": 43}, {\"category\": \"CONCACAF\", \"value\": 30}, {\"category\": \"OFC\", \"value\": 12}, {\"category\": \"CONMEBOL\", \"value\": 10}]}}, {\"mode\": \"vega-lite\"});\n",
       "</script>"
      ],
      "text/plain": [
       "alt.LayerChart(...)"
      ]
     },
     "execution_count": 202,
     "metadata": {},
     "output_type": "execute_result"
    }
   ],
   "source": [
    "chart = alt.Chart(source).encode(\n",
    "    theta=alt.Theta(\"value:Q\", stack=True), \n",
    "    color=alt.Color(\"category:N\", legend=None)\n",
    ")\n",
    "\n",
    "pie = chart.mark_arc(outerRadius=100)\n",
    "text = chart.mark_text(radius=130, size=12).encode(text=\"category:N\")\n",
    "\n",
    "pie + text"
   ]
  },
  {
   "attachments": {},
   "cell_type": "markdown",
   "metadata": {},
   "source": [
    "### Visualization 3: Bubble chart"
   ]
  },
  {
   "cell_type": "code",
   "execution_count": 203,
   "metadata": {},
   "outputs": [
    {
     "data": {
      "text/html": [
       "\n",
       "<div id=\"altair-viz-1d5abad63d6b4c21a3f6a83fc7d5d011\"></div>\n",
       "<script type=\"text/javascript\">\n",
       "  var VEGA_DEBUG = (typeof VEGA_DEBUG == \"undefined\") ? {} : VEGA_DEBUG;\n",
       "  (function(spec, embedOpt){\n",
       "    let outputDiv = document.currentScript.previousElementSibling;\n",
       "    if (outputDiv.id !== \"altair-viz-1d5abad63d6b4c21a3f6a83fc7d5d011\") {\n",
       "      outputDiv = document.getElementById(\"altair-viz-1d5abad63d6b4c21a3f6a83fc7d5d011\");\n",
       "    }\n",
       "    const paths = {\n",
       "      \"vega\": \"https://cdn.jsdelivr.net/npm//vega@5?noext\",\n",
       "      \"vega-lib\": \"https://cdn.jsdelivr.net/npm//vega-lib?noext\",\n",
       "      \"vega-lite\": \"https://cdn.jsdelivr.net/npm//vega-lite@4.17.0?noext\",\n",
       "      \"vega-embed\": \"https://cdn.jsdelivr.net/npm//vega-embed@6?noext\",\n",
       "    };\n",
       "\n",
       "    function maybeLoadScript(lib, version) {\n",
       "      var key = `${lib.replace(\"-\", \"\")}_version`;\n",
       "      return (VEGA_DEBUG[key] == version) ?\n",
       "        Promise.resolve(paths[lib]) :\n",
       "        new Promise(function(resolve, reject) {\n",
       "          var s = document.createElement('script');\n",
       "          document.getElementsByTagName(\"head\")[0].appendChild(s);\n",
       "          s.async = true;\n",
       "          s.onload = () => {\n",
       "            VEGA_DEBUG[key] = version;\n",
       "            return resolve(paths[lib]);\n",
       "          };\n",
       "          s.onerror = () => reject(`Error loading script: ${paths[lib]}`);\n",
       "          s.src = paths[lib];\n",
       "        });\n",
       "    }\n",
       "\n",
       "    function showError(err) {\n",
       "      outputDiv.innerHTML = `<div class=\"error\" style=\"color:red;\">${err}</div>`;\n",
       "      throw err;\n",
       "    }\n",
       "\n",
       "    function displayChart(vegaEmbed) {\n",
       "      vegaEmbed(outputDiv, spec, embedOpt)\n",
       "        .catch(err => showError(`Javascript Error: ${err.message}<br>This usually means there's a typo in your chart specification. See the javascript console for the full traceback.`));\n",
       "    }\n",
       "\n",
       "    if(typeof define === \"function\" && define.amd) {\n",
       "      requirejs.config({paths});\n",
       "      require([\"vega-embed\"], displayChart, err => showError(`Error loading script: ${err.message}`));\n",
       "    } else {\n",
       "      maybeLoadScript(\"vega\", \"5\")\n",
       "        .then(() => maybeLoadScript(\"vega-lite\", \"4.17.0\"))\n",
       "        .then(() => maybeLoadScript(\"vega-embed\", \"6\"))\n",
       "        .catch(showError)\n",
       "        .then(() => displayChart(vegaEmbed));\n",
       "    }\n",
       "  })({\"config\": {\"view\": {\"continuousWidth\": 400, \"continuousHeight\": 300}}, \"data\": {\"name\": \"data-dfda6e87cb8b25a7162d299fe9091735\"}, \"mark\": \"point\", \"encoding\": {\"size\": {\"field\": \"population_share\", \"type\": \"quantitative\"}, \"x\": {\"field\": \"gdp_weighted_share\", \"type\": \"quantitative\"}, \"y\": {\"field\": \"tv_audience_share\", \"type\": \"quantitative\"}}, \"$schema\": \"https://vega.github.io/schema/vega-lite/v4.17.0.json\", \"datasets\": {\"data-dfda6e87cb8b25a7162d299fe9091735\": [{\"country\": \"United States\", \"confederation\": \"CONCACAF\", \"tv_audience_share\": 4.3, \"gdp_weighted_share\": 11.3, \"population_share\": 4.5}, {\"country\": \"Japan\", \"confederation\": \"AFC\", \"tv_audience_share\": 4.9, \"gdp_weighted_share\": 9.1, \"population_share\": 1.9}, {\"country\": \"China\", \"confederation\": \"AFC\", \"tv_audience_share\": 14.8, \"gdp_weighted_share\": 7.3, \"population_share\": 19.5}, {\"country\": \"Germany\", \"confederation\": \"UEFA\", \"tv_audience_share\": 2.9, \"gdp_weighted_share\": 6.3, \"population_share\": 1.2}, {\"country\": \"Brazil\", \"confederation\": \"CONMEBOL\", \"tv_audience_share\": 7.1, \"gdp_weighted_share\": 5.4, \"population_share\": 2.8}, {\"country\": \"United Kingdom\", \"confederation\": \"UEFA\", \"tv_audience_share\": 2.1, \"gdp_weighted_share\": 4.2, \"population_share\": 0.9}, {\"country\": \"Italy\", \"confederation\": \"UEFA\", \"tv_audience_share\": 2.1, \"gdp_weighted_share\": 4.0, \"population_share\": 0.9}, {\"country\": \"France\", \"confederation\": \"UEFA\", \"tv_audience_share\": 2.0, \"gdp_weighted_share\": 4.0, \"population_share\": 0.9}, {\"country\": \"Russia\", \"confederation\": \"UEFA\", \"tv_audience_share\": 3.1, \"gdp_weighted_share\": 3.5, \"population_share\": 2.1}, {\"country\": \"Spain\", \"confederation\": \"UEFA\", \"tv_audience_share\": 1.8, \"gdp_weighted_share\": 3.1, \"population_share\": 0.7}, {\"country\": \"South Korea\", \"confederation\": \"AFC\", \"tv_audience_share\": 1.8, \"gdp_weighted_share\": 3.0, \"population_share\": 0.7}, {\"country\": \"Indonesia\", \"confederation\": \"AFC\", \"tv_audience_share\": 6.7, \"gdp_weighted_share\": 2.9, \"population_share\": 3.5}, {\"country\": \"Mexico\", \"confederation\": \"CONCACAF\", \"tv_audience_share\": 3.2, \"gdp_weighted_share\": 2.6, \"population_share\": 1.7}, {\"country\": \"Turkey\", \"confederation\": \"UEFA\", \"tv_audience_share\": 2.3, \"gdp_weighted_share\": 2.0, \"population_share\": 1.1}, {\"country\": \"Thailand\", \"confederation\": \"AFC\", \"tv_audience_share\": 2.4, \"gdp_weighted_share\": 1.6, \"population_share\": 1.0}, {\"country\": \"Argentina\", \"confederation\": \"CONMEBOL\", \"tv_audience_share\": 1.5, \"gdp_weighted_share\": 1.6, \"population_share\": 0.6}, {\"country\": \"Netherlands\", \"confederation\": \"UEFA\", \"tv_audience_share\": 0.6, \"gdp_weighted_share\": 1.5, \"population_share\": 0.2}, {\"country\": \"Poland\", \"confederation\": \"UEFA\", \"tv_audience_share\": 1.2, \"gdp_weighted_share\": 1.3, \"population_share\": 0.6}, {\"country\": \"Saudi Arabia\", \"confederation\": \"AFC\", \"tv_audience_share\": 0.5, \"gdp_weighted_share\": 1.2, \"population_share\": 0.4}, {\"country\": \"Taiwan\", \"confederation\": \"AFC\", \"tv_audience_share\": 0.5, \"gdp_weighted_share\": 1.0, \"population_share\": 0.3}, {\"country\": \"Canada\", \"confederation\": \"CONCACAF\", \"tv_audience_share\": 0.5, \"gdp_weighted_share\": 1.0, \"population_share\": 0.5}, {\"country\": \"Colombia\", \"confederation\": \"CONMEBOL\", \"tv_audience_share\": 1.6, \"gdp_weighted_share\": 0.9, \"population_share\": 0.7}, {\"country\": \"Venezuela\", \"confederation\": \"CONMEBOL\", \"tv_audience_share\": 1.0, \"gdp_weighted_share\": 0.9, \"population_share\": 0.4}, {\"country\": \"South Africa\", \"confederation\": \"CAF\", \"tv_audience_share\": 1.3, \"gdp_weighted_share\": 0.8, \"population_share\": 0.7}, {\"country\": \"Malaysia\", \"confederation\": \"AFC\", \"tv_audience_share\": 0.7, \"gdp_weighted_share\": 0.7, \"population_share\": 0.4}, {\"country\": \"Switzerland\", \"confederation\": \"UEFA\", \"tv_audience_share\": 0.3, \"gdp_weighted_share\": 0.7, \"population_share\": 0.1}, {\"country\": \"Nigeria\", \"confederation\": \"CAF\", \"tv_audience_share\": 2.6, \"gdp_weighted_share\": 0.7, \"population_share\": 2.3}, {\"country\": \"Belgium\", \"confederation\": \"UEFA\", \"tv_audience_share\": 0.3, \"gdp_weighted_share\": 0.7, \"population_share\": 0.2}, {\"country\": \"Sweden\", \"confederation\": \"UEFA\", \"tv_audience_share\": 0.3, \"gdp_weighted_share\": 0.7, \"population_share\": 0.1}, {\"country\": \"Vietnam\", \"confederation\": \"AFC\", \"tv_audience_share\": 2.6, \"gdp_weighted_share\": 0.6, \"population_share\": 1.3}, {\"country\": \"Iran\", \"confederation\": \"AFC\", \"tv_audience_share\": 0.7, \"gdp_weighted_share\": 0.6, \"population_share\": 1.1}, {\"country\": \"Chile\", \"confederation\": \"CONMEBOL\", \"tv_audience_share\": 0.6, \"gdp_weighted_share\": 0.6, \"population_share\": 0.3}, {\"country\": \"Romania\", \"confederation\": \"UEFA\", \"tv_audience_share\": 0.7, \"gdp_weighted_share\": 0.6, \"population_share\": 0.3}, {\"country\": \"Austria\", \"confederation\": \"UEFA\", \"tv_audience_share\": 0.3, \"gdp_weighted_share\": 0.6, \"population_share\": 0.1}, {\"country\": \"Singapore\", \"confederation\": \"AFC\", \"tv_audience_share\": 0.2, \"gdp_weighted_share\": 0.6, \"population_share\": 0.1}, {\"country\": \"Australia\", \"confederation\": \"AFC\", \"tv_audience_share\": 0.3, \"gdp_weighted_share\": 0.5, \"population_share\": 0.3}, {\"country\": \"Greece\", \"confederation\": \"UEFA\", \"tv_audience_share\": 0.3, \"gdp_weighted_share\": 0.5, \"population_share\": 0.2}, {\"country\": \"Portugal\", \"confederation\": \"UEFA\", \"tv_audience_share\": 0.4, \"gdp_weighted_share\": 0.5, \"population_share\": 0.2}, {\"country\": \"India\", \"confederation\": \"AFC\", \"tv_audience_share\": 2.0, \"gdp_weighted_share\": 0.5, \"population_share\": 17.6}, {\"country\": \"Czech Republic\", \"confederation\": \"UEFA\", \"tv_audience_share\": 0.3, \"gdp_weighted_share\": 0.5, \"population_share\": 0.2}, {\"country\": \"Egypt\", \"confederation\": \"CAF\", \"tv_audience_share\": 0.8, \"gdp_weighted_share\": 0.5, \"population_share\": 1.1}, {\"country\": \"Denmark\", \"confederation\": \"UEFA\", \"tv_audience_share\": 0.2, \"gdp_weighted_share\": 0.5, \"population_share\": 0.1}, {\"country\": \"Norway\", \"confederation\": \"UEFA\", \"tv_audience_share\": 0.1, \"gdp_weighted_share\": 0.4, \"population_share\": 0.1}, {\"country\": \"Peru\", \"confederation\": \"CONMEBOL\", \"tv_audience_share\": 0.8, \"gdp_weighted_share\": 0.4, \"population_share\": 0.4}, {\"country\": \"Ukraine\", \"confederation\": \"UEFA\", \"tv_audience_share\": 0.9, \"gdp_weighted_share\": 0.4, \"population_share\": 0.7}, {\"country\": \"Iraq\", \"confederation\": \"AFC\", \"tv_audience_share\": 0.5, \"gdp_weighted_share\": 0.4, \"population_share\": 0.5}, {\"country\": \"Hungary\", \"confederation\": \"UEFA\", \"tv_audience_share\": 0.3, \"gdp_weighted_share\": 0.4, \"population_share\": 0.1}, {\"country\": \"Kazakhstan\", \"confederation\": \"UEFA\", \"tv_audience_share\": 0.3, \"gdp_weighted_share\": 0.3, \"population_share\": 0.2}, {\"country\": \"Finland\", \"confederation\": \"UEFA\", \"tv_audience_share\": 0.2, \"gdp_weighted_share\": 0.3, \"population_share\": 0.1}, {\"country\": \"Ireland\", \"confederation\": \"UEFA\", \"tv_audience_share\": 0.1, \"gdp_weighted_share\": 0.3, \"population_share\": 0.1}, {\"country\": \"Algeria\", \"confederation\": \"CAF\", \"tv_audience_share\": 0.4, \"gdp_weighted_share\": 0.3, \"population_share\": 0.5}, {\"country\": \"Cuba\", \"confederation\": \"CONCACAF\", \"tv_audience_share\": 0.3, \"gdp_weighted_share\": 0.3, \"population_share\": 0.2}, {\"country\": \"Ecuador\", \"confederation\": \"CONMEBOL\", \"tv_audience_share\": 0.5, \"gdp_weighted_share\": 0.3, \"population_share\": 0.2}, {\"country\": \"Slovakia\", \"confederation\": \"UEFA\", \"tv_audience_share\": 0.2, \"gdp_weighted_share\": 0.3, \"population_share\": 0.1}, {\"country\": \"Qatar\", \"confederation\": \"AFC\", \"tv_audience_share\": 0.0, \"gdp_weighted_share\": 0.2, \"population_share\": 0.0}, {\"country\": \"Kuwait\", \"confederation\": \"AFC\", \"tv_audience_share\": 0.1, \"gdp_weighted_share\": 0.2, \"population_share\": 0.0}, {\"country\": \"Bulgaria\", \"confederation\": \"UEFA\", \"tv_audience_share\": 0.2, \"gdp_weighted_share\": 0.2, \"population_share\": 0.1}, {\"country\": \"Serbia\", \"confederation\": \"UEFA\", \"tv_audience_share\": 0.3, \"gdp_weighted_share\": 0.2, \"population_share\": 0.1}, {\"country\": \"Belarus\", \"confederation\": \"UEFA\", \"tv_audience_share\": 0.2, \"gdp_weighted_share\": 0.2, \"population_share\": 0.1}, {\"country\": \"Hong Kong\", \"confederation\": \"AFC\", \"tv_audience_share\": 0.1, \"gdp_weighted_share\": 0.2, \"population_share\": 0.1}, {\"country\": \"Croatia\", \"confederation\": \"UEFA\", \"tv_audience_share\": 0.1, \"gdp_weighted_share\": 0.1, \"population_share\": 0.1}, {\"country\": \"Oman\", \"confederation\": \"AFC\", \"tv_audience_share\": 0.0, \"gdp_weighted_share\": 0.1, \"population_share\": 0.0}, {\"country\": \"Dominica Republic\", \"confederation\": \"CONCACAF\", \"tv_audience_share\": 0.2, \"gdp_weighted_share\": 0.1, \"population_share\": 0.1}, {\"country\": \"Azerbaijan\", \"confederation\": \"UEFA\", \"tv_audience_share\": 0.1, \"gdp_weighted_share\": 0.1, \"population_share\": 0.1}, {\"country\": \"New Zealand\", \"confederation\": \"OFC\", \"tv_audience_share\": 0.1, \"gdp_weighted_share\": 0.1, \"population_share\": 0.1}, {\"country\": \"Lithuania\", \"confederation\": \"UEFA\", \"tv_audience_share\": 0.1, \"gdp_weighted_share\": 0.1, \"population_share\": 0.0}, {\"country\": \"Slovenia\", \"confederation\": \"UEFA\", \"tv_audience_share\": 0.1, \"gdp_weighted_share\": 0.1, \"population_share\": 0.0}, {\"country\": \"Uruguay\", \"confederation\": \"CONMEBOL\", \"tv_audience_share\": 0.1, \"gdp_weighted_share\": 0.1, \"population_share\": 0.0}, {\"country\": \"Costa Rica\", \"confederation\": \"CONCACAF\", \"tv_audience_share\": 0.2, \"gdp_weighted_share\": 0.1, \"population_share\": 0.1}, {\"country\": \"Uzbekistan\", \"confederation\": \"AFC\", \"tv_audience_share\": 0.5, \"gdp_weighted_share\": 0.1, \"population_share\": 0.4}, {\"country\": \"Yemen\", \"confederation\": \"CAF\", \"tv_audience_share\": 0.4, \"gdp_weighted_share\": 0.1, \"population_share\": 0.3}, {\"country\": \"Israel\", \"confederation\": \"UEFA\", \"tv_audience_share\": 0.1, \"gdp_weighted_share\": 0.1, \"population_share\": 0.1}, {\"country\": \"El Salvador\", \"confederation\": \"CONCACAF\", \"tv_audience_share\": 0.2, \"gdp_weighted_share\": 0.1, \"population_share\": 0.1}, {\"country\": \"Syria\", \"confederation\": \"AFC\", \"tv_audience_share\": 0.3, \"gdp_weighted_share\": 0.1, \"population_share\": 0.3}, {\"country\": \"Pakistan\", \"confederation\": \"AFC\", \"tv_audience_share\": 0.4, \"gdp_weighted_share\": 0.1, \"population_share\": 2.5}, {\"country\": \"Guatemala\", \"confederation\": \"CONCACAF\", \"tv_audience_share\": 0.2, \"gdp_weighted_share\": 0.1, \"population_share\": 0.2}, {\"country\": \"Paraguay\", \"confederation\": \"CONMEBOL\", \"tv_audience_share\": 0.2, \"gdp_weighted_share\": 0.1, \"population_share\": 0.1}, {\"country\": \"Panama\", \"confederation\": \"CONCACAF\", \"tv_audience_share\": 0.1, \"gdp_weighted_share\": 0.1, \"population_share\": 0.1}, {\"country\": \"Bosnia-Herzegovina\", \"confederation\": \"UEFA\", \"tv_audience_share\": 0.1, \"gdp_weighted_share\": 0.1, \"population_share\": 0.1}, {\"country\": \"Cambodia\", \"confederation\": \"AFC\", \"tv_audience_share\": 0.5, \"gdp_weighted_share\": 0.1, \"population_share\": 0.2}, {\"country\": \"Ivory Coast\", \"confederation\": \"CAF\", \"tv_audience_share\": 0.4, \"gdp_weighted_share\": 0.1, \"population_share\": 0.3}, {\"country\": \"Macau\", \"confederation\": \"AFC\", \"tv_audience_share\": 0.0, \"gdp_weighted_share\": 0.1, \"population_share\": 0.0}, {\"country\": \"Latvia\", \"confederation\": \"UEFA\", \"tv_audience_share\": 0.1, \"gdp_weighted_share\": 0.1, \"population_share\": 0.0}, {\"country\": \"Lebanon\", \"confederation\": \"AFC\", \"tv_audience_share\": 0.1, \"gdp_weighted_share\": 0.1, \"population_share\": 0.1}, {\"country\": \"Jordan\", \"confederation\": \"AFC\", \"tv_audience_share\": 0.1, \"gdp_weighted_share\": 0.1, \"population_share\": 0.1}, {\"country\": \"Honduras\", \"confederation\": \"CONCACAF\", \"tv_audience_share\": 0.3, \"gdp_weighted_share\": 0.1, \"population_share\": 0.1}, {\"country\": \"Brunei\", \"confederation\": \"AFC\", \"tv_audience_share\": 0.0, \"gdp_weighted_share\": 0.1, \"population_share\": 0.0}, {\"country\": \"Albania\", \"confederation\": \"UEFA\", \"tv_audience_share\": 0.1, \"gdp_weighted_share\": 0.1, \"population_share\": 0.0}, {\"country\": \"Turkmenistan\", \"confederation\": \"AFC\", \"tv_audience_share\": 0.1, \"gdp_weighted_share\": 0.1, \"population_share\": 0.1}, {\"country\": \"Angola\", \"confederation\": \"CAF\", \"tv_audience_share\": 0.1, \"gdp_weighted_share\": 0.1, \"population_share\": 0.3}, {\"country\": \"Estonia\", \"confederation\": \"UEFA\", \"tv_audience_share\": 0.0, \"gdp_weighted_share\": 0.0, \"population_share\": 0.0}, {\"country\": \"Bahrain\", \"confederation\": \"AFC\", \"tv_audience_share\": 0.0, \"gdp_weighted_share\": 0.0, \"population_share\": 0.0}, {\"country\": \"Nepal\", \"confederation\": \"AFC\", \"tv_audience_share\": 0.4, \"gdp_weighted_share\": 0.0, \"population_share\": 0.4}, {\"country\": \"Cyprus\", \"confederation\": \"UEFA\", \"tv_audience_share\": 0.0, \"gdp_weighted_share\": 0.0, \"population_share\": 0.0}, {\"country\": \"Ghana\", \"confederation\": \"CAF\", \"tv_audience_share\": 0.2, \"gdp_weighted_share\": 0.0, \"population_share\": 0.4}, {\"country\": \"Mauritius\", \"confederation\": \"CAF\", \"tv_audience_share\": 0.0, \"gdp_weighted_share\": 0.0, \"population_share\": 0.0}, {\"country\": \"Macedonia\", \"confederation\": \"UEFA\", \"tv_audience_share\": 0.1, \"gdp_weighted_share\": 0.0, \"population_share\": 0.0}, {\"country\": \"Kenya\", \"confederation\": \"CAF\", \"tv_audience_share\": 0.3, \"gdp_weighted_share\": 0.0, \"population_share\": 0.6}, {\"country\": \"Trinidad &Tobago\", \"confederation\": \"CONCACAF\", \"tv_audience_share\": 0.0, \"gdp_weighted_share\": 0.0, \"population_share\": 0.0}, {\"country\": \"Philippines\", \"confederation\": \"AFC\", \"tv_audience_share\": 0.1, \"gdp_weighted_share\": 0.0, \"population_share\": 1.4}, {\"country\": \"Bolivia\", \"confederation\": \"CONMEBOL\", \"tv_audience_share\": 0.1, \"gdp_weighted_share\": 0.0, \"population_share\": 0.1}, {\"country\": \"Laos\", \"confederation\": \"AFC\", \"tv_audience_share\": 0.2, \"gdp_weighted_share\": 0.0, \"population_share\": 0.1}, {\"country\": \"Armenia\", \"confederation\": \"UEFA\", \"tv_audience_share\": 0.1, \"gdp_weighted_share\": 0.0, \"population_share\": 0.0}, {\"country\": \"Nicaragua\", \"confederation\": \"CONCACAF\", \"tv_audience_share\": 0.1, \"gdp_weighted_share\": 0.0, \"population_share\": 0.1}, {\"country\": \"Afghanistan\", \"confederation\": \"AFC\", \"tv_audience_share\": 0.3, \"gdp_weighted_share\": 0.0, \"population_share\": 0.4}, {\"country\": \"Kosovo\", \"confederation\": \"UEFA\", \"tv_audience_share\": 0.1, \"gdp_weighted_share\": 0.0, \"population_share\": 0.0}, {\"country\": \"Cameroon\", \"confederation\": \"CAF\", \"tv_audience_share\": 0.2, \"gdp_weighted_share\": 0.0, \"population_share\": 0.3}, {\"country\": \"Senegal\", \"confederation\": \"CAF\", \"tv_audience_share\": 0.2, \"gdp_weighted_share\": 0.0, \"population_share\": 0.2}, {\"country\": \"Jamaica\", \"confederation\": \"CONCACAF\", \"tv_audience_share\": 0.1, \"gdp_weighted_share\": 0.0, \"population_share\": 0.0}, {\"country\": \"Sri Lanka\", \"confederation\": \"AFC\", \"tv_audience_share\": 0.1, \"gdp_weighted_share\": 0.0, \"population_share\": 0.3}, {\"country\": \"Myanmar\", \"confederation\": \"AFC\", \"tv_audience_share\": 0.1, \"gdp_weighted_share\": 0.0, \"population_share\": 0.8}, {\"country\": \"Moldova\", \"confederation\": \"UEFA\", \"tv_audience_share\": 0.1, \"gdp_weighted_share\": 0.0, \"population_share\": 0.1}, {\"country\": \"Malta\", \"confederation\": \"UEFA\", \"tv_audience_share\": 0.0, \"gdp_weighted_share\": 0.0, \"population_share\": 0.0}, {\"country\": \"Bangladesh\", \"confederation\": \"AFC\", \"tv_audience_share\": 0.1, \"gdp_weighted_share\": 0.0, \"population_share\": 2.2}, {\"country\": \"Zambia\", \"confederation\": \"CAF\", \"tv_audience_share\": 0.1, \"gdp_weighted_share\": 0.0, \"population_share\": 0.2}, {\"country\": \"Morocco\", \"confederation\": \"CAF\", \"tv_audience_share\": 0.1, \"gdp_weighted_share\": 0.0, \"population_share\": 0.5}, {\"country\": \"North Korea\", \"confederation\": \"AFC\", \"tv_audience_share\": 0.2, \"gdp_weighted_share\": 0.0, \"population_share\": 0.4}, {\"country\": \"Botswana\", \"confederation\": \"CAF\", \"tv_audience_share\": 0.0, \"gdp_weighted_share\": 0.0, \"population_share\": 0.0}, {\"country\": \"Tajikistan\", \"confederation\": \"AFC\", \"tv_audience_share\": 0.1, \"gdp_weighted_share\": 0.0, \"population_share\": 0.1}, {\"country\": \"Iceland\", \"confederation\": \"UEFA\", \"tv_audience_share\": 0.0, \"gdp_weighted_share\": 0.0, \"population_share\": 0.0}, {\"country\": \"Uganda\", \"confederation\": \"CAF\", \"tv_audience_share\": 0.2, \"gdp_weighted_share\": 0.0, \"population_share\": 0.5}, {\"country\": \"Libya\", \"confederation\": \"CAF\", \"tv_audience_share\": 0.0, \"gdp_weighted_share\": 0.0, \"population_share\": 0.1}, {\"country\": \"Palestine\", \"confederation\": \"AFC\", \"tv_audience_share\": 0.1, \"gdp_weighted_share\": 0.0, \"population_share\": 0.1}, {\"country\": \"Kyrgyzstan\", \"confederation\": \"AFC\", \"tv_audience_share\": 0.1, \"gdp_weighted_share\": 0.0, \"population_share\": 0.1}, {\"country\": \"Mongolia\", \"confederation\": \"AFC\", \"tv_audience_share\": 0.0, \"gdp_weighted_share\": 0.0, \"population_share\": 0.0}, {\"country\": \"Montenegro\", \"confederation\": \"UEFA\", \"tv_audience_share\": 0.0, \"gdp_weighted_share\": 0.0, \"population_share\": 0.0}, {\"country\": \"Tanzania\", \"confederation\": \"CAF\", \"tv_audience_share\": 0.1, \"gdp_weighted_share\": 0.0, \"population_share\": 0.7}, {\"country\": \"Georgia\", \"confederation\": \"UEFA\", \"tv_audience_share\": 0.0, \"gdp_weighted_share\": 0.0, \"population_share\": 0.1}, {\"country\": \"Suriname\", \"confederation\": \"CONCACAF\", \"tv_audience_share\": 0.0, \"gdp_weighted_share\": 0.0, \"population_share\": 0.0}, {\"country\": \"Sudan\", \"confederation\": \"CAF\", \"tv_audience_share\": 0.1, \"gdp_weighted_share\": 0.0, \"population_share\": 0.5}, {\"country\": \"Gabon\", \"confederation\": \"CAF\", \"tv_audience_share\": 0.0, \"gdp_weighted_share\": 0.0, \"population_share\": 0.0}, {\"country\": \"Madagascar\", \"confederation\": \"CAF\", \"tv_audience_share\": 0.1, \"gdp_weighted_share\": 0.0, \"population_share\": 0.3}, {\"country\": \"Tunisia\", \"confederation\": \"AFC\", \"tv_audience_share\": 0.0, \"gdp_weighted_share\": 0.0, \"population_share\": 0.2}, {\"country\": \"Ethiopia\", \"confederation\": \"CAF\", \"tv_audience_share\": 0.2, \"gdp_weighted_share\": 0.0, \"population_share\": 1.3}, {\"country\": \"Zimbabwe\", \"confederation\": \"CAF\", \"tv_audience_share\": 0.1, \"gdp_weighted_share\": 0.0, \"population_share\": 0.2}, {\"country\": \"Namibia\", \"confederation\": \"CAF\", \"tv_audience_share\": 0.0, \"gdp_weighted_share\": 0.0, \"population_share\": 0.0}, {\"country\": \"Bahamas\", \"confederation\": \"CONCACAF\", \"tv_audience_share\": 0.0, \"gdp_weighted_share\": 0.0, \"population_share\": 0.0}, {\"country\": \"Papua New Guinea\", \"confederation\": \"OFC\", \"tv_audience_share\": 0.1, \"gdp_weighted_share\": 0.0, \"population_share\": 0.1}, {\"country\": \"Guyana\", \"confederation\": \"CONCACAF\", \"tv_audience_share\": 0.0, \"gdp_weighted_share\": 0.0, \"population_share\": 0.0}, {\"country\": \"Turks & Caicos\", \"confederation\": \"CONCACAF\", \"tv_audience_share\": 0.0, \"gdp_weighted_share\": 0.0, \"population_share\": 0.0}, {\"country\": \"Congo DR\", \"confederation\": \"CAF\", \"tv_audience_share\": 0.2, \"gdp_weighted_share\": 0.0, \"population_share\": 0.9}, {\"country\": \"Burkina Faso\", \"confederation\": \"CAF\", \"tv_audience_share\": 0.1, \"gdp_weighted_share\": 0.0, \"population_share\": 0.2}, {\"country\": \"Guinea\", \"confederation\": \"CAF\", \"tv_audience_share\": 0.1, \"gdp_weighted_share\": 0.0, \"population_share\": 0.2}, {\"country\": \"Haiti\", \"confederation\": \"CONCACAF\", \"tv_audience_share\": 0.1, \"gdp_weighted_share\": 0.0, \"population_share\": 0.1}, {\"country\": \"Fiji\", \"confederation\": \"OFC\", \"tv_audience_share\": 0.0, \"gdp_weighted_share\": 0.0, \"population_share\": 0.0}, {\"country\": \"Barbados\", \"confederation\": \"CONCACAF\", \"tv_audience_share\": 0.0, \"gdp_weighted_share\": 0.0, \"population_share\": 0.0}, {\"country\": \"Mali\", \"confederation\": \"CAF\", \"tv_audience_share\": 0.0, \"gdp_weighted_share\": 0.0, \"population_share\": 0.2}, {\"country\": \"Bermuda\", \"confederation\": \"CONCACAF\", \"tv_audience_share\": 0.0, \"gdp_weighted_share\": 0.0, \"population_share\": 0.0}, {\"country\": \"St. Maarten\", \"confederation\": \"CONCACAF\", \"tv_audience_share\": 0.0, \"gdp_weighted_share\": 0.0, \"population_share\": 0.0}, {\"country\": \"Equatorial Guinea\", \"confederation\": \"CAF\", \"tv_audience_share\": 0.0, \"gdp_weighted_share\": 0.0, \"population_share\": 0.0}, {\"country\": \"Mozambique\", \"confederation\": \"CAF\", \"tv_audience_share\": 0.1, \"gdp_weighted_share\": 0.0, \"population_share\": 0.3}, {\"country\": \"Seychelles\", \"confederation\": \"CAF\", \"tv_audience_share\": 0.0, \"gdp_weighted_share\": 0.0, \"population_share\": 0.0}, {\"country\": \"Cape Verde\", \"confederation\": \"CAF\", \"tv_audience_share\": 0.0, \"gdp_weighted_share\": 0.0, \"population_share\": 0.0}, {\"country\": \"Benin\", \"confederation\": \"CAF\", \"tv_audience_share\": 0.0, \"gdp_weighted_share\": 0.0, \"population_share\": 0.1}, {\"country\": \"Swaziland\", \"confederation\": \"CAF\", \"tv_audience_share\": 0.0, \"gdp_weighted_share\": 0.0, \"population_share\": 0.0}, {\"country\": \"Cayman Islands\", \"confederation\": \"CONCACAF\", \"tv_audience_share\": 0.0, \"gdp_weighted_share\": 0.0, \"population_share\": 0.0}, {\"country\": \"Aruba\", \"confederation\": \"CONCACAF\", \"tv_audience_share\": 0.0, \"gdp_weighted_share\": 0.0, \"population_share\": 0.0}, {\"country\": \"Maldives\", \"confederation\": \"AFC\", \"tv_audience_share\": 0.0, \"gdp_weighted_share\": 0.0, \"population_share\": 0.0}, {\"country\": \"Niger\", \"confederation\": \"CAF\", \"tv_audience_share\": 0.1, \"gdp_weighted_share\": 0.0, \"population_share\": 0.2}, {\"country\": \"Curacao\", \"confederation\": \"CONCACAF\", \"tv_audience_share\": 0.0, \"gdp_weighted_share\": 0.0, \"population_share\": 0.0}, {\"country\": \"St. Lucia\", \"confederation\": \"CONCACAF\", \"tv_audience_share\": 0.0, \"gdp_weighted_share\": 0.0, \"population_share\": 0.0}, {\"country\": \"Togo\", \"confederation\": \"CAF\", \"tv_audience_share\": 0.0, \"gdp_weighted_share\": 0.0, \"population_share\": 0.1}, {\"country\": \"Burundi\", \"confederation\": \"CAF\", \"tv_audience_share\": 0.1, \"gdp_weighted_share\": 0.0, \"population_share\": 0.1}, {\"country\": \"Congo, Rep.\", \"confederation\": \"CAF\", \"tv_audience_share\": 0.0, \"gdp_weighted_share\": 0.0, \"population_share\": 0.1}, {\"country\": \"Antigua & Barbuda\", \"confederation\": \"CONCACAF\", \"tv_audience_share\": 0.0, \"gdp_weighted_share\": 0.0, \"population_share\": 0.0}, {\"country\": \"Chad\", \"confederation\": \"CAF\", \"tv_audience_share\": 0.0, \"gdp_weighted_share\": 0.0, \"population_share\": 0.2}, {\"country\": \"Eritrea\", \"confederation\": \"CAF\", \"tv_audience_share\": 0.0, \"gdp_weighted_share\": 0.0, \"population_share\": 0.1}, {\"country\": \"Grenada\", \"confederation\": \"CONCACAF\", \"tv_audience_share\": 0.0, \"gdp_weighted_share\": 0.0, \"population_share\": 0.0}, {\"country\": \"Lesotho\", \"confederation\": \"CAF\", \"tv_audience_share\": 0.0, \"gdp_weighted_share\": 0.0, \"population_share\": 0.0}, {\"country\": \"St. Vincent\", \"confederation\": \"CONCACAF\", \"tv_audience_share\": 0.0, \"gdp_weighted_share\": 0.0, \"population_share\": 0.0}, {\"country\": \"Malawi\", \"confederation\": \"CAF\", \"tv_audience_share\": 0.0, \"gdp_weighted_share\": 0.0, \"population_share\": 0.2}, {\"country\": \"Sierra Leone\", \"confederation\": \"CAF\", \"tv_audience_share\": 0.0, \"gdp_weighted_share\": 0.0, \"population_share\": 0.1}, {\"country\": \"Mauritania\", \"confederation\": \"CAF\", \"tv_audience_share\": 0.0, \"gdp_weighted_share\": 0.0, \"population_share\": 0.1}, {\"country\": \"Solomon Islands\", \"confederation\": \"OFC\", \"tv_audience_share\": 0.0, \"gdp_weighted_share\": 0.0, \"population_share\": 0.0}, {\"country\": \"Dominica\", \"confederation\": \"CONCACAF\", \"tv_audience_share\": 0.0, \"gdp_weighted_share\": 0.0, \"population_share\": 0.0}, {\"country\": \"Timor\", \"confederation\": \"AFC\", \"tv_audience_share\": 0.0, \"gdp_weighted_share\": 0.0, \"population_share\": 0.0}, {\"country\": \"St. Kitts\", \"confederation\": \"CONCACAF\", \"tv_audience_share\": 0.0, \"gdp_weighted_share\": 0.0, \"population_share\": 0.0}, {\"country\": \"Rwanda\", \"confederation\": \"CAF\", \"tv_audience_share\": 0.0, \"gdp_weighted_share\": 0.0, \"population_share\": 0.2}, {\"country\": \"Somalia\", \"confederation\": \"CAF\", \"tv_audience_share\": 0.0, \"gdp_weighted_share\": 0.0, \"population_share\": 0.1}, {\"country\": \"Gambia\", \"confederation\": \"CAF\", \"tv_audience_share\": 0.0, \"gdp_weighted_share\": 0.0, \"population_share\": 0.0}, {\"country\": \"Samoa\", \"confederation\": \"OFC\", \"tv_audience_share\": 0.0, \"gdp_weighted_share\": 0.0, \"population_share\": 0.0}, {\"country\": \"Guinea-Bissau\", \"confederation\": \"CAF\", \"tv_audience_share\": 0.0, \"gdp_weighted_share\": 0.0, \"population_share\": 0.0}, {\"country\": \"Central African Republic\", \"confederation\": \"CAF\", \"tv_audience_share\": 0.0, \"gdp_weighted_share\": 0.0, \"population_share\": 0.1}, {\"country\": \"Vanuatu\", \"confederation\": \"OFC\", \"tv_audience_share\": 0.0, \"gdp_weighted_share\": 0.0, \"population_share\": 0.0}, {\"country\": \"American Samoa\", \"confederation\": \"OFC\", \"tv_audience_share\": 0.0, \"gdp_weighted_share\": 0.0, \"population_share\": 0.0}, {\"country\": \"Cook Islands\", \"confederation\": \"OFC\", \"tv_audience_share\": 0.0, \"gdp_weighted_share\": 0.0, \"population_share\": 0.0}, {\"country\": \"Tonga\", \"confederation\": \"OFC\", \"tv_audience_share\": 0.0, \"gdp_weighted_share\": 0.0, \"population_share\": 0.0}, {\"country\": \"Liberia\", \"confederation\": \"CAF\", \"tv_audience_share\": 0.0, \"gdp_weighted_share\": 0.0, \"population_share\": 0.1}, {\"country\": \"Palau\", \"confederation\": \"OFC\", \"tv_audience_share\": 0.0, \"gdp_weighted_share\": 0.0, \"population_share\": 0.0}, {\"country\": \"Nauru\", \"confederation\": \"OFC\", \"tv_audience_share\": 0.0, \"gdp_weighted_share\": 0.0, \"population_share\": 0.0}, {\"country\": \"Niue\", \"confederation\": \"OFC\", \"tv_audience_share\": 0.0, \"gdp_weighted_share\": 0.0, \"population_share\": 0.0}]}}, {\"mode\": \"vega-lite\"});\n",
       "</script>"
      ],
      "text/plain": [
       "alt.Chart(...)"
      ]
     },
     "execution_count": 203,
     "metadata": {},
     "output_type": "execute_result"
    }
   ],
   "source": [
    "\n",
    "alt.Chart(df).mark_point().encode(\n",
    "    x='gdp_weighted_share',\n",
    "    y='tv_audience_share',\n",
    "    size='population_share'\n",
    ")\n"
   ]
  },
  {
   "attachments": {},
   "cell_type": "markdown",
   "metadata": {},
   "source": [
    "### Visualization 4: Interactive"
   ]
  },
  {
   "cell_type": "code",
   "execution_count": 204,
   "metadata": {},
   "outputs": [
    {
     "data": {
      "text/html": [
       "\n",
       "<div id=\"altair-viz-4ecca3765e9b4fab887f8874279389c3\"></div>\n",
       "<script type=\"text/javascript\">\n",
       "  var VEGA_DEBUG = (typeof VEGA_DEBUG == \"undefined\") ? {} : VEGA_DEBUG;\n",
       "  (function(spec, embedOpt){\n",
       "    let outputDiv = document.currentScript.previousElementSibling;\n",
       "    if (outputDiv.id !== \"altair-viz-4ecca3765e9b4fab887f8874279389c3\") {\n",
       "      outputDiv = document.getElementById(\"altair-viz-4ecca3765e9b4fab887f8874279389c3\");\n",
       "    }\n",
       "    const paths = {\n",
       "      \"vega\": \"https://cdn.jsdelivr.net/npm//vega@5?noext\",\n",
       "      \"vega-lib\": \"https://cdn.jsdelivr.net/npm//vega-lib?noext\",\n",
       "      \"vega-lite\": \"https://cdn.jsdelivr.net/npm//vega-lite@4.17.0?noext\",\n",
       "      \"vega-embed\": \"https://cdn.jsdelivr.net/npm//vega-embed@6?noext\",\n",
       "    };\n",
       "\n",
       "    function maybeLoadScript(lib, version) {\n",
       "      var key = `${lib.replace(\"-\", \"\")}_version`;\n",
       "      return (VEGA_DEBUG[key] == version) ?\n",
       "        Promise.resolve(paths[lib]) :\n",
       "        new Promise(function(resolve, reject) {\n",
       "          var s = document.createElement('script');\n",
       "          document.getElementsByTagName(\"head\")[0].appendChild(s);\n",
       "          s.async = true;\n",
       "          s.onload = () => {\n",
       "            VEGA_DEBUG[key] = version;\n",
       "            return resolve(paths[lib]);\n",
       "          };\n",
       "          s.onerror = () => reject(`Error loading script: ${paths[lib]}`);\n",
       "          s.src = paths[lib];\n",
       "        });\n",
       "    }\n",
       "\n",
       "    function showError(err) {\n",
       "      outputDiv.innerHTML = `<div class=\"error\" style=\"color:red;\">${err}</div>`;\n",
       "      throw err;\n",
       "    }\n",
       "\n",
       "    function displayChart(vegaEmbed) {\n",
       "      vegaEmbed(outputDiv, spec, embedOpt)\n",
       "        .catch(err => showError(`Javascript Error: ${err.message}<br>This usually means there's a typo in your chart specification. See the javascript console for the full traceback.`));\n",
       "    }\n",
       "\n",
       "    if(typeof define === \"function\" && define.amd) {\n",
       "      requirejs.config({paths});\n",
       "      require([\"vega-embed\"], displayChart, err => showError(`Error loading script: ${err.message}`));\n",
       "    } else {\n",
       "      maybeLoadScript(\"vega\", \"5\")\n",
       "        .then(() => maybeLoadScript(\"vega-lite\", \"4.17.0\"))\n",
       "        .then(() => maybeLoadScript(\"vega-embed\", \"6\"))\n",
       "        .catch(showError)\n",
       "        .then(() => displayChart(vegaEmbed));\n",
       "    }\n",
       "  })({\"config\": {\"view\": {\"continuousWidth\": 400, \"continuousHeight\": 300}}, \"data\": {\"name\": \"data-dfda6e87cb8b25a7162d299fe9091735\"}, \"mark\": {\"type\": \"circle\", \"size\": 60}, \"encoding\": {\"tooltip\": [{\"field\": \"gdp_weighted_share\", \"type\": \"quantitative\"}, {\"field\": \"tv_audience_share\", \"type\": \"quantitative\"}], \"x\": {\"field\": \"tv_audience_share\", \"title\": \"Confederation\", \"type\": \"quantitative\"}, \"y\": {\"field\": \"gdp_weighted_share\", \"title\": \"Count of Confederation\", \"type\": \"quantitative\"}}, \"selection\": {\"selector018\": {\"type\": \"interval\", \"bind\": \"scales\", \"encodings\": [\"x\", \"y\"]}}, \"$schema\": \"https://vega.github.io/schema/vega-lite/v4.17.0.json\", \"datasets\": {\"data-dfda6e87cb8b25a7162d299fe9091735\": [{\"country\": \"United States\", \"confederation\": \"CONCACAF\", \"tv_audience_share\": 4.3, \"gdp_weighted_share\": 11.3, \"population_share\": 4.5}, {\"country\": \"Japan\", \"confederation\": \"AFC\", \"tv_audience_share\": 4.9, \"gdp_weighted_share\": 9.1, \"population_share\": 1.9}, {\"country\": \"China\", \"confederation\": \"AFC\", \"tv_audience_share\": 14.8, \"gdp_weighted_share\": 7.3, \"population_share\": 19.5}, {\"country\": \"Germany\", \"confederation\": \"UEFA\", \"tv_audience_share\": 2.9, \"gdp_weighted_share\": 6.3, \"population_share\": 1.2}, {\"country\": \"Brazil\", \"confederation\": \"CONMEBOL\", \"tv_audience_share\": 7.1, \"gdp_weighted_share\": 5.4, \"population_share\": 2.8}, {\"country\": \"United Kingdom\", \"confederation\": \"UEFA\", \"tv_audience_share\": 2.1, \"gdp_weighted_share\": 4.2, \"population_share\": 0.9}, {\"country\": \"Italy\", \"confederation\": \"UEFA\", \"tv_audience_share\": 2.1, \"gdp_weighted_share\": 4.0, \"population_share\": 0.9}, {\"country\": \"France\", \"confederation\": \"UEFA\", \"tv_audience_share\": 2.0, \"gdp_weighted_share\": 4.0, \"population_share\": 0.9}, {\"country\": \"Russia\", \"confederation\": \"UEFA\", \"tv_audience_share\": 3.1, \"gdp_weighted_share\": 3.5, \"population_share\": 2.1}, {\"country\": \"Spain\", \"confederation\": \"UEFA\", \"tv_audience_share\": 1.8, \"gdp_weighted_share\": 3.1, \"population_share\": 0.7}, {\"country\": \"South Korea\", \"confederation\": \"AFC\", \"tv_audience_share\": 1.8, \"gdp_weighted_share\": 3.0, \"population_share\": 0.7}, {\"country\": \"Indonesia\", \"confederation\": \"AFC\", \"tv_audience_share\": 6.7, \"gdp_weighted_share\": 2.9, \"population_share\": 3.5}, {\"country\": \"Mexico\", \"confederation\": \"CONCACAF\", \"tv_audience_share\": 3.2, \"gdp_weighted_share\": 2.6, \"population_share\": 1.7}, {\"country\": \"Turkey\", \"confederation\": \"UEFA\", \"tv_audience_share\": 2.3, \"gdp_weighted_share\": 2.0, \"population_share\": 1.1}, {\"country\": \"Thailand\", \"confederation\": \"AFC\", \"tv_audience_share\": 2.4, \"gdp_weighted_share\": 1.6, \"population_share\": 1.0}, {\"country\": \"Argentina\", \"confederation\": \"CONMEBOL\", \"tv_audience_share\": 1.5, \"gdp_weighted_share\": 1.6, \"population_share\": 0.6}, {\"country\": \"Netherlands\", \"confederation\": \"UEFA\", \"tv_audience_share\": 0.6, \"gdp_weighted_share\": 1.5, \"population_share\": 0.2}, {\"country\": \"Poland\", \"confederation\": \"UEFA\", \"tv_audience_share\": 1.2, \"gdp_weighted_share\": 1.3, \"population_share\": 0.6}, {\"country\": \"Saudi Arabia\", \"confederation\": \"AFC\", \"tv_audience_share\": 0.5, \"gdp_weighted_share\": 1.2, \"population_share\": 0.4}, {\"country\": \"Taiwan\", \"confederation\": \"AFC\", \"tv_audience_share\": 0.5, \"gdp_weighted_share\": 1.0, \"population_share\": 0.3}, {\"country\": \"Canada\", \"confederation\": \"CONCACAF\", \"tv_audience_share\": 0.5, \"gdp_weighted_share\": 1.0, \"population_share\": 0.5}, {\"country\": \"Colombia\", \"confederation\": \"CONMEBOL\", \"tv_audience_share\": 1.6, \"gdp_weighted_share\": 0.9, \"population_share\": 0.7}, {\"country\": \"Venezuela\", \"confederation\": \"CONMEBOL\", \"tv_audience_share\": 1.0, \"gdp_weighted_share\": 0.9, \"population_share\": 0.4}, {\"country\": \"South Africa\", \"confederation\": \"CAF\", \"tv_audience_share\": 1.3, \"gdp_weighted_share\": 0.8, \"population_share\": 0.7}, {\"country\": \"Malaysia\", \"confederation\": \"AFC\", \"tv_audience_share\": 0.7, \"gdp_weighted_share\": 0.7, \"population_share\": 0.4}, {\"country\": \"Switzerland\", \"confederation\": \"UEFA\", \"tv_audience_share\": 0.3, \"gdp_weighted_share\": 0.7, \"population_share\": 0.1}, {\"country\": \"Nigeria\", \"confederation\": \"CAF\", \"tv_audience_share\": 2.6, \"gdp_weighted_share\": 0.7, \"population_share\": 2.3}, {\"country\": \"Belgium\", \"confederation\": \"UEFA\", \"tv_audience_share\": 0.3, \"gdp_weighted_share\": 0.7, \"population_share\": 0.2}, {\"country\": \"Sweden\", \"confederation\": \"UEFA\", \"tv_audience_share\": 0.3, \"gdp_weighted_share\": 0.7, \"population_share\": 0.1}, {\"country\": \"Vietnam\", \"confederation\": \"AFC\", \"tv_audience_share\": 2.6, \"gdp_weighted_share\": 0.6, \"population_share\": 1.3}, {\"country\": \"Iran\", \"confederation\": \"AFC\", \"tv_audience_share\": 0.7, \"gdp_weighted_share\": 0.6, \"population_share\": 1.1}, {\"country\": \"Chile\", \"confederation\": \"CONMEBOL\", \"tv_audience_share\": 0.6, \"gdp_weighted_share\": 0.6, \"population_share\": 0.3}, {\"country\": \"Romania\", \"confederation\": \"UEFA\", \"tv_audience_share\": 0.7, \"gdp_weighted_share\": 0.6, \"population_share\": 0.3}, {\"country\": \"Austria\", \"confederation\": \"UEFA\", \"tv_audience_share\": 0.3, \"gdp_weighted_share\": 0.6, \"population_share\": 0.1}, {\"country\": \"Singapore\", \"confederation\": \"AFC\", \"tv_audience_share\": 0.2, \"gdp_weighted_share\": 0.6, \"population_share\": 0.1}, {\"country\": \"Australia\", \"confederation\": \"AFC\", \"tv_audience_share\": 0.3, \"gdp_weighted_share\": 0.5, \"population_share\": 0.3}, {\"country\": \"Greece\", \"confederation\": \"UEFA\", \"tv_audience_share\": 0.3, \"gdp_weighted_share\": 0.5, \"population_share\": 0.2}, {\"country\": \"Portugal\", \"confederation\": \"UEFA\", \"tv_audience_share\": 0.4, \"gdp_weighted_share\": 0.5, \"population_share\": 0.2}, {\"country\": \"India\", \"confederation\": \"AFC\", \"tv_audience_share\": 2.0, \"gdp_weighted_share\": 0.5, \"population_share\": 17.6}, {\"country\": \"Czech Republic\", \"confederation\": \"UEFA\", \"tv_audience_share\": 0.3, \"gdp_weighted_share\": 0.5, \"population_share\": 0.2}, {\"country\": \"Egypt\", \"confederation\": \"CAF\", \"tv_audience_share\": 0.8, \"gdp_weighted_share\": 0.5, \"population_share\": 1.1}, {\"country\": \"Denmark\", \"confederation\": \"UEFA\", \"tv_audience_share\": 0.2, \"gdp_weighted_share\": 0.5, \"population_share\": 0.1}, {\"country\": \"Norway\", \"confederation\": \"UEFA\", \"tv_audience_share\": 0.1, \"gdp_weighted_share\": 0.4, \"population_share\": 0.1}, {\"country\": \"Peru\", \"confederation\": \"CONMEBOL\", \"tv_audience_share\": 0.8, \"gdp_weighted_share\": 0.4, \"population_share\": 0.4}, {\"country\": \"Ukraine\", \"confederation\": \"UEFA\", \"tv_audience_share\": 0.9, \"gdp_weighted_share\": 0.4, \"population_share\": 0.7}, {\"country\": \"Iraq\", \"confederation\": \"AFC\", \"tv_audience_share\": 0.5, \"gdp_weighted_share\": 0.4, \"population_share\": 0.5}, {\"country\": \"Hungary\", \"confederation\": \"UEFA\", \"tv_audience_share\": 0.3, \"gdp_weighted_share\": 0.4, \"population_share\": 0.1}, {\"country\": \"Kazakhstan\", \"confederation\": \"UEFA\", \"tv_audience_share\": 0.3, \"gdp_weighted_share\": 0.3, \"population_share\": 0.2}, {\"country\": \"Finland\", \"confederation\": \"UEFA\", \"tv_audience_share\": 0.2, \"gdp_weighted_share\": 0.3, \"population_share\": 0.1}, {\"country\": \"Ireland\", \"confederation\": \"UEFA\", \"tv_audience_share\": 0.1, \"gdp_weighted_share\": 0.3, \"population_share\": 0.1}, {\"country\": \"Algeria\", \"confederation\": \"CAF\", \"tv_audience_share\": 0.4, \"gdp_weighted_share\": 0.3, \"population_share\": 0.5}, {\"country\": \"Cuba\", \"confederation\": \"CONCACAF\", \"tv_audience_share\": 0.3, \"gdp_weighted_share\": 0.3, \"population_share\": 0.2}, {\"country\": \"Ecuador\", \"confederation\": \"CONMEBOL\", \"tv_audience_share\": 0.5, \"gdp_weighted_share\": 0.3, \"population_share\": 0.2}, {\"country\": \"Slovakia\", \"confederation\": \"UEFA\", \"tv_audience_share\": 0.2, \"gdp_weighted_share\": 0.3, \"population_share\": 0.1}, {\"country\": \"Qatar\", \"confederation\": \"AFC\", \"tv_audience_share\": 0.0, \"gdp_weighted_share\": 0.2, \"population_share\": 0.0}, {\"country\": \"Kuwait\", \"confederation\": \"AFC\", \"tv_audience_share\": 0.1, \"gdp_weighted_share\": 0.2, \"population_share\": 0.0}, {\"country\": \"Bulgaria\", \"confederation\": \"UEFA\", \"tv_audience_share\": 0.2, \"gdp_weighted_share\": 0.2, \"population_share\": 0.1}, {\"country\": \"Serbia\", \"confederation\": \"UEFA\", \"tv_audience_share\": 0.3, \"gdp_weighted_share\": 0.2, \"population_share\": 0.1}, {\"country\": \"Belarus\", \"confederation\": \"UEFA\", \"tv_audience_share\": 0.2, \"gdp_weighted_share\": 0.2, \"population_share\": 0.1}, {\"country\": \"Hong Kong\", \"confederation\": \"AFC\", \"tv_audience_share\": 0.1, \"gdp_weighted_share\": 0.2, \"population_share\": 0.1}, {\"country\": \"Croatia\", \"confederation\": \"UEFA\", \"tv_audience_share\": 0.1, \"gdp_weighted_share\": 0.1, \"population_share\": 0.1}, {\"country\": \"Oman\", \"confederation\": \"AFC\", \"tv_audience_share\": 0.0, \"gdp_weighted_share\": 0.1, \"population_share\": 0.0}, {\"country\": \"Dominica Republic\", \"confederation\": \"CONCACAF\", \"tv_audience_share\": 0.2, \"gdp_weighted_share\": 0.1, \"population_share\": 0.1}, {\"country\": \"Azerbaijan\", \"confederation\": \"UEFA\", \"tv_audience_share\": 0.1, \"gdp_weighted_share\": 0.1, \"population_share\": 0.1}, {\"country\": \"New Zealand\", \"confederation\": \"OFC\", \"tv_audience_share\": 0.1, \"gdp_weighted_share\": 0.1, \"population_share\": 0.1}, {\"country\": \"Lithuania\", \"confederation\": \"UEFA\", \"tv_audience_share\": 0.1, \"gdp_weighted_share\": 0.1, \"population_share\": 0.0}, {\"country\": \"Slovenia\", \"confederation\": \"UEFA\", \"tv_audience_share\": 0.1, \"gdp_weighted_share\": 0.1, \"population_share\": 0.0}, {\"country\": \"Uruguay\", \"confederation\": \"CONMEBOL\", \"tv_audience_share\": 0.1, \"gdp_weighted_share\": 0.1, \"population_share\": 0.0}, {\"country\": \"Costa Rica\", \"confederation\": \"CONCACAF\", \"tv_audience_share\": 0.2, \"gdp_weighted_share\": 0.1, \"population_share\": 0.1}, {\"country\": \"Uzbekistan\", \"confederation\": \"AFC\", \"tv_audience_share\": 0.5, \"gdp_weighted_share\": 0.1, \"population_share\": 0.4}, {\"country\": \"Yemen\", \"confederation\": \"CAF\", \"tv_audience_share\": 0.4, \"gdp_weighted_share\": 0.1, \"population_share\": 0.3}, {\"country\": \"Israel\", \"confederation\": \"UEFA\", \"tv_audience_share\": 0.1, \"gdp_weighted_share\": 0.1, \"population_share\": 0.1}, {\"country\": \"El Salvador\", \"confederation\": \"CONCACAF\", \"tv_audience_share\": 0.2, \"gdp_weighted_share\": 0.1, \"population_share\": 0.1}, {\"country\": \"Syria\", \"confederation\": \"AFC\", \"tv_audience_share\": 0.3, \"gdp_weighted_share\": 0.1, \"population_share\": 0.3}, {\"country\": \"Pakistan\", \"confederation\": \"AFC\", \"tv_audience_share\": 0.4, \"gdp_weighted_share\": 0.1, \"population_share\": 2.5}, {\"country\": \"Guatemala\", \"confederation\": \"CONCACAF\", \"tv_audience_share\": 0.2, \"gdp_weighted_share\": 0.1, \"population_share\": 0.2}, {\"country\": \"Paraguay\", \"confederation\": \"CONMEBOL\", \"tv_audience_share\": 0.2, \"gdp_weighted_share\": 0.1, \"population_share\": 0.1}, {\"country\": \"Panama\", \"confederation\": \"CONCACAF\", \"tv_audience_share\": 0.1, \"gdp_weighted_share\": 0.1, \"population_share\": 0.1}, {\"country\": \"Bosnia-Herzegovina\", \"confederation\": \"UEFA\", \"tv_audience_share\": 0.1, \"gdp_weighted_share\": 0.1, \"population_share\": 0.1}, {\"country\": \"Cambodia\", \"confederation\": \"AFC\", \"tv_audience_share\": 0.5, \"gdp_weighted_share\": 0.1, \"population_share\": 0.2}, {\"country\": \"Ivory Coast\", \"confederation\": \"CAF\", \"tv_audience_share\": 0.4, \"gdp_weighted_share\": 0.1, \"population_share\": 0.3}, {\"country\": \"Macau\", \"confederation\": \"AFC\", \"tv_audience_share\": 0.0, \"gdp_weighted_share\": 0.1, \"population_share\": 0.0}, {\"country\": \"Latvia\", \"confederation\": \"UEFA\", \"tv_audience_share\": 0.1, \"gdp_weighted_share\": 0.1, \"population_share\": 0.0}, {\"country\": \"Lebanon\", \"confederation\": \"AFC\", \"tv_audience_share\": 0.1, \"gdp_weighted_share\": 0.1, \"population_share\": 0.1}, {\"country\": \"Jordan\", \"confederation\": \"AFC\", \"tv_audience_share\": 0.1, \"gdp_weighted_share\": 0.1, \"population_share\": 0.1}, {\"country\": \"Honduras\", \"confederation\": \"CONCACAF\", \"tv_audience_share\": 0.3, \"gdp_weighted_share\": 0.1, \"population_share\": 0.1}, {\"country\": \"Brunei\", \"confederation\": \"AFC\", \"tv_audience_share\": 0.0, \"gdp_weighted_share\": 0.1, \"population_share\": 0.0}, {\"country\": \"Albania\", \"confederation\": \"UEFA\", \"tv_audience_share\": 0.1, \"gdp_weighted_share\": 0.1, \"population_share\": 0.0}, {\"country\": \"Turkmenistan\", \"confederation\": \"AFC\", \"tv_audience_share\": 0.1, \"gdp_weighted_share\": 0.1, \"population_share\": 0.1}, {\"country\": \"Angola\", \"confederation\": \"CAF\", \"tv_audience_share\": 0.1, \"gdp_weighted_share\": 0.1, \"population_share\": 0.3}, {\"country\": \"Estonia\", \"confederation\": \"UEFA\", \"tv_audience_share\": 0.0, \"gdp_weighted_share\": 0.0, \"population_share\": 0.0}, {\"country\": \"Bahrain\", \"confederation\": \"AFC\", \"tv_audience_share\": 0.0, \"gdp_weighted_share\": 0.0, \"population_share\": 0.0}, {\"country\": \"Nepal\", \"confederation\": \"AFC\", \"tv_audience_share\": 0.4, \"gdp_weighted_share\": 0.0, \"population_share\": 0.4}, {\"country\": \"Cyprus\", \"confederation\": \"UEFA\", \"tv_audience_share\": 0.0, \"gdp_weighted_share\": 0.0, \"population_share\": 0.0}, {\"country\": \"Ghana\", \"confederation\": \"CAF\", \"tv_audience_share\": 0.2, \"gdp_weighted_share\": 0.0, \"population_share\": 0.4}, {\"country\": \"Mauritius\", \"confederation\": \"CAF\", \"tv_audience_share\": 0.0, \"gdp_weighted_share\": 0.0, \"population_share\": 0.0}, {\"country\": \"Macedonia\", \"confederation\": \"UEFA\", \"tv_audience_share\": 0.1, \"gdp_weighted_share\": 0.0, \"population_share\": 0.0}, {\"country\": \"Kenya\", \"confederation\": \"CAF\", \"tv_audience_share\": 0.3, \"gdp_weighted_share\": 0.0, \"population_share\": 0.6}, {\"country\": \"Trinidad &Tobago\", \"confederation\": \"CONCACAF\", \"tv_audience_share\": 0.0, \"gdp_weighted_share\": 0.0, \"population_share\": 0.0}, {\"country\": \"Philippines\", \"confederation\": \"AFC\", \"tv_audience_share\": 0.1, \"gdp_weighted_share\": 0.0, \"population_share\": 1.4}, {\"country\": \"Bolivia\", \"confederation\": \"CONMEBOL\", \"tv_audience_share\": 0.1, \"gdp_weighted_share\": 0.0, \"population_share\": 0.1}, {\"country\": \"Laos\", \"confederation\": \"AFC\", \"tv_audience_share\": 0.2, \"gdp_weighted_share\": 0.0, \"population_share\": 0.1}, {\"country\": \"Armenia\", \"confederation\": \"UEFA\", \"tv_audience_share\": 0.1, \"gdp_weighted_share\": 0.0, \"population_share\": 0.0}, {\"country\": \"Nicaragua\", \"confederation\": \"CONCACAF\", \"tv_audience_share\": 0.1, \"gdp_weighted_share\": 0.0, \"population_share\": 0.1}, {\"country\": \"Afghanistan\", \"confederation\": \"AFC\", \"tv_audience_share\": 0.3, \"gdp_weighted_share\": 0.0, \"population_share\": 0.4}, {\"country\": \"Kosovo\", \"confederation\": \"UEFA\", \"tv_audience_share\": 0.1, \"gdp_weighted_share\": 0.0, \"population_share\": 0.0}, {\"country\": \"Cameroon\", \"confederation\": \"CAF\", \"tv_audience_share\": 0.2, \"gdp_weighted_share\": 0.0, \"population_share\": 0.3}, {\"country\": \"Senegal\", \"confederation\": \"CAF\", \"tv_audience_share\": 0.2, \"gdp_weighted_share\": 0.0, \"population_share\": 0.2}, {\"country\": \"Jamaica\", \"confederation\": \"CONCACAF\", \"tv_audience_share\": 0.1, \"gdp_weighted_share\": 0.0, \"population_share\": 0.0}, {\"country\": \"Sri Lanka\", \"confederation\": \"AFC\", \"tv_audience_share\": 0.1, \"gdp_weighted_share\": 0.0, \"population_share\": 0.3}, {\"country\": \"Myanmar\", \"confederation\": \"AFC\", \"tv_audience_share\": 0.1, \"gdp_weighted_share\": 0.0, \"population_share\": 0.8}, {\"country\": \"Moldova\", \"confederation\": \"UEFA\", \"tv_audience_share\": 0.1, \"gdp_weighted_share\": 0.0, \"population_share\": 0.1}, {\"country\": \"Malta\", \"confederation\": \"UEFA\", \"tv_audience_share\": 0.0, \"gdp_weighted_share\": 0.0, \"population_share\": 0.0}, {\"country\": \"Bangladesh\", \"confederation\": \"AFC\", \"tv_audience_share\": 0.1, \"gdp_weighted_share\": 0.0, \"population_share\": 2.2}, {\"country\": \"Zambia\", \"confederation\": \"CAF\", \"tv_audience_share\": 0.1, \"gdp_weighted_share\": 0.0, \"population_share\": 0.2}, {\"country\": \"Morocco\", \"confederation\": \"CAF\", \"tv_audience_share\": 0.1, \"gdp_weighted_share\": 0.0, \"population_share\": 0.5}, {\"country\": \"North Korea\", \"confederation\": \"AFC\", \"tv_audience_share\": 0.2, \"gdp_weighted_share\": 0.0, \"population_share\": 0.4}, {\"country\": \"Botswana\", \"confederation\": \"CAF\", \"tv_audience_share\": 0.0, \"gdp_weighted_share\": 0.0, \"population_share\": 0.0}, {\"country\": \"Tajikistan\", \"confederation\": \"AFC\", \"tv_audience_share\": 0.1, \"gdp_weighted_share\": 0.0, \"population_share\": 0.1}, {\"country\": \"Iceland\", \"confederation\": \"UEFA\", \"tv_audience_share\": 0.0, \"gdp_weighted_share\": 0.0, \"population_share\": 0.0}, {\"country\": \"Uganda\", \"confederation\": \"CAF\", \"tv_audience_share\": 0.2, \"gdp_weighted_share\": 0.0, \"population_share\": 0.5}, {\"country\": \"Libya\", \"confederation\": \"CAF\", \"tv_audience_share\": 0.0, \"gdp_weighted_share\": 0.0, \"population_share\": 0.1}, {\"country\": \"Palestine\", \"confederation\": \"AFC\", \"tv_audience_share\": 0.1, \"gdp_weighted_share\": 0.0, \"population_share\": 0.1}, {\"country\": \"Kyrgyzstan\", \"confederation\": \"AFC\", \"tv_audience_share\": 0.1, \"gdp_weighted_share\": 0.0, \"population_share\": 0.1}, {\"country\": \"Mongolia\", \"confederation\": \"AFC\", \"tv_audience_share\": 0.0, \"gdp_weighted_share\": 0.0, \"population_share\": 0.0}, {\"country\": \"Montenegro\", \"confederation\": \"UEFA\", \"tv_audience_share\": 0.0, \"gdp_weighted_share\": 0.0, \"population_share\": 0.0}, {\"country\": \"Tanzania\", \"confederation\": \"CAF\", \"tv_audience_share\": 0.1, \"gdp_weighted_share\": 0.0, \"population_share\": 0.7}, {\"country\": \"Georgia\", \"confederation\": \"UEFA\", \"tv_audience_share\": 0.0, \"gdp_weighted_share\": 0.0, \"population_share\": 0.1}, {\"country\": \"Suriname\", \"confederation\": \"CONCACAF\", \"tv_audience_share\": 0.0, \"gdp_weighted_share\": 0.0, \"population_share\": 0.0}, {\"country\": \"Sudan\", \"confederation\": \"CAF\", \"tv_audience_share\": 0.1, \"gdp_weighted_share\": 0.0, \"population_share\": 0.5}, {\"country\": \"Gabon\", \"confederation\": \"CAF\", \"tv_audience_share\": 0.0, \"gdp_weighted_share\": 0.0, \"population_share\": 0.0}, {\"country\": \"Madagascar\", \"confederation\": \"CAF\", \"tv_audience_share\": 0.1, \"gdp_weighted_share\": 0.0, \"population_share\": 0.3}, {\"country\": \"Tunisia\", \"confederation\": \"AFC\", \"tv_audience_share\": 0.0, \"gdp_weighted_share\": 0.0, \"population_share\": 0.2}, {\"country\": \"Ethiopia\", \"confederation\": \"CAF\", \"tv_audience_share\": 0.2, \"gdp_weighted_share\": 0.0, \"population_share\": 1.3}, {\"country\": \"Zimbabwe\", \"confederation\": \"CAF\", \"tv_audience_share\": 0.1, \"gdp_weighted_share\": 0.0, \"population_share\": 0.2}, {\"country\": \"Namibia\", \"confederation\": \"CAF\", \"tv_audience_share\": 0.0, \"gdp_weighted_share\": 0.0, \"population_share\": 0.0}, {\"country\": \"Bahamas\", \"confederation\": \"CONCACAF\", \"tv_audience_share\": 0.0, \"gdp_weighted_share\": 0.0, \"population_share\": 0.0}, {\"country\": \"Papua New Guinea\", \"confederation\": \"OFC\", \"tv_audience_share\": 0.1, \"gdp_weighted_share\": 0.0, \"population_share\": 0.1}, {\"country\": \"Guyana\", \"confederation\": \"CONCACAF\", \"tv_audience_share\": 0.0, \"gdp_weighted_share\": 0.0, \"population_share\": 0.0}, {\"country\": \"Turks & Caicos\", \"confederation\": \"CONCACAF\", \"tv_audience_share\": 0.0, \"gdp_weighted_share\": 0.0, \"population_share\": 0.0}, {\"country\": \"Congo DR\", \"confederation\": \"CAF\", \"tv_audience_share\": 0.2, \"gdp_weighted_share\": 0.0, \"population_share\": 0.9}, {\"country\": \"Burkina Faso\", \"confederation\": \"CAF\", \"tv_audience_share\": 0.1, \"gdp_weighted_share\": 0.0, \"population_share\": 0.2}, {\"country\": \"Guinea\", \"confederation\": \"CAF\", \"tv_audience_share\": 0.1, \"gdp_weighted_share\": 0.0, \"population_share\": 0.2}, {\"country\": \"Haiti\", \"confederation\": \"CONCACAF\", \"tv_audience_share\": 0.1, \"gdp_weighted_share\": 0.0, \"population_share\": 0.1}, {\"country\": \"Fiji\", \"confederation\": \"OFC\", \"tv_audience_share\": 0.0, \"gdp_weighted_share\": 0.0, \"population_share\": 0.0}, {\"country\": \"Barbados\", \"confederation\": \"CONCACAF\", \"tv_audience_share\": 0.0, \"gdp_weighted_share\": 0.0, \"population_share\": 0.0}, {\"country\": \"Mali\", \"confederation\": \"CAF\", \"tv_audience_share\": 0.0, \"gdp_weighted_share\": 0.0, \"population_share\": 0.2}, {\"country\": \"Bermuda\", \"confederation\": \"CONCACAF\", \"tv_audience_share\": 0.0, \"gdp_weighted_share\": 0.0, \"population_share\": 0.0}, {\"country\": \"St. Maarten\", \"confederation\": \"CONCACAF\", \"tv_audience_share\": 0.0, \"gdp_weighted_share\": 0.0, \"population_share\": 0.0}, {\"country\": \"Equatorial Guinea\", \"confederation\": \"CAF\", \"tv_audience_share\": 0.0, \"gdp_weighted_share\": 0.0, \"population_share\": 0.0}, {\"country\": \"Mozambique\", \"confederation\": \"CAF\", \"tv_audience_share\": 0.1, \"gdp_weighted_share\": 0.0, \"population_share\": 0.3}, {\"country\": \"Seychelles\", \"confederation\": \"CAF\", \"tv_audience_share\": 0.0, \"gdp_weighted_share\": 0.0, \"population_share\": 0.0}, {\"country\": \"Cape Verde\", \"confederation\": \"CAF\", \"tv_audience_share\": 0.0, \"gdp_weighted_share\": 0.0, \"population_share\": 0.0}, {\"country\": \"Benin\", \"confederation\": \"CAF\", \"tv_audience_share\": 0.0, \"gdp_weighted_share\": 0.0, \"population_share\": 0.1}, {\"country\": \"Swaziland\", \"confederation\": \"CAF\", \"tv_audience_share\": 0.0, \"gdp_weighted_share\": 0.0, \"population_share\": 0.0}, {\"country\": \"Cayman Islands\", \"confederation\": \"CONCACAF\", \"tv_audience_share\": 0.0, \"gdp_weighted_share\": 0.0, \"population_share\": 0.0}, {\"country\": \"Aruba\", \"confederation\": \"CONCACAF\", \"tv_audience_share\": 0.0, \"gdp_weighted_share\": 0.0, \"population_share\": 0.0}, {\"country\": \"Maldives\", \"confederation\": \"AFC\", \"tv_audience_share\": 0.0, \"gdp_weighted_share\": 0.0, \"population_share\": 0.0}, {\"country\": \"Niger\", \"confederation\": \"CAF\", \"tv_audience_share\": 0.1, \"gdp_weighted_share\": 0.0, \"population_share\": 0.2}, {\"country\": \"Curacao\", \"confederation\": \"CONCACAF\", \"tv_audience_share\": 0.0, \"gdp_weighted_share\": 0.0, \"population_share\": 0.0}, {\"country\": \"St. Lucia\", \"confederation\": \"CONCACAF\", \"tv_audience_share\": 0.0, \"gdp_weighted_share\": 0.0, \"population_share\": 0.0}, {\"country\": \"Togo\", \"confederation\": \"CAF\", \"tv_audience_share\": 0.0, \"gdp_weighted_share\": 0.0, \"population_share\": 0.1}, {\"country\": \"Burundi\", \"confederation\": \"CAF\", \"tv_audience_share\": 0.1, \"gdp_weighted_share\": 0.0, \"population_share\": 0.1}, {\"country\": \"Congo, Rep.\", \"confederation\": \"CAF\", \"tv_audience_share\": 0.0, \"gdp_weighted_share\": 0.0, \"population_share\": 0.1}, {\"country\": \"Antigua & Barbuda\", \"confederation\": \"CONCACAF\", \"tv_audience_share\": 0.0, \"gdp_weighted_share\": 0.0, \"population_share\": 0.0}, {\"country\": \"Chad\", \"confederation\": \"CAF\", \"tv_audience_share\": 0.0, \"gdp_weighted_share\": 0.0, \"population_share\": 0.2}, {\"country\": \"Eritrea\", \"confederation\": \"CAF\", \"tv_audience_share\": 0.0, \"gdp_weighted_share\": 0.0, \"population_share\": 0.1}, {\"country\": \"Grenada\", \"confederation\": \"CONCACAF\", \"tv_audience_share\": 0.0, \"gdp_weighted_share\": 0.0, \"population_share\": 0.0}, {\"country\": \"Lesotho\", \"confederation\": \"CAF\", \"tv_audience_share\": 0.0, \"gdp_weighted_share\": 0.0, \"population_share\": 0.0}, {\"country\": \"St. Vincent\", \"confederation\": \"CONCACAF\", \"tv_audience_share\": 0.0, \"gdp_weighted_share\": 0.0, \"population_share\": 0.0}, {\"country\": \"Malawi\", \"confederation\": \"CAF\", \"tv_audience_share\": 0.0, \"gdp_weighted_share\": 0.0, \"population_share\": 0.2}, {\"country\": \"Sierra Leone\", \"confederation\": \"CAF\", \"tv_audience_share\": 0.0, \"gdp_weighted_share\": 0.0, \"population_share\": 0.1}, {\"country\": \"Mauritania\", \"confederation\": \"CAF\", \"tv_audience_share\": 0.0, \"gdp_weighted_share\": 0.0, \"population_share\": 0.1}, {\"country\": \"Solomon Islands\", \"confederation\": \"OFC\", \"tv_audience_share\": 0.0, \"gdp_weighted_share\": 0.0, \"population_share\": 0.0}, {\"country\": \"Dominica\", \"confederation\": \"CONCACAF\", \"tv_audience_share\": 0.0, \"gdp_weighted_share\": 0.0, \"population_share\": 0.0}, {\"country\": \"Timor\", \"confederation\": \"AFC\", \"tv_audience_share\": 0.0, \"gdp_weighted_share\": 0.0, \"population_share\": 0.0}, {\"country\": \"St. Kitts\", \"confederation\": \"CONCACAF\", \"tv_audience_share\": 0.0, \"gdp_weighted_share\": 0.0, \"population_share\": 0.0}, {\"country\": \"Rwanda\", \"confederation\": \"CAF\", \"tv_audience_share\": 0.0, \"gdp_weighted_share\": 0.0, \"population_share\": 0.2}, {\"country\": \"Somalia\", \"confederation\": \"CAF\", \"tv_audience_share\": 0.0, \"gdp_weighted_share\": 0.0, \"population_share\": 0.1}, {\"country\": \"Gambia\", \"confederation\": \"CAF\", \"tv_audience_share\": 0.0, \"gdp_weighted_share\": 0.0, \"population_share\": 0.0}, {\"country\": \"Samoa\", \"confederation\": \"OFC\", \"tv_audience_share\": 0.0, \"gdp_weighted_share\": 0.0, \"population_share\": 0.0}, {\"country\": \"Guinea-Bissau\", \"confederation\": \"CAF\", \"tv_audience_share\": 0.0, \"gdp_weighted_share\": 0.0, \"population_share\": 0.0}, {\"country\": \"Central African Republic\", \"confederation\": \"CAF\", \"tv_audience_share\": 0.0, \"gdp_weighted_share\": 0.0, \"population_share\": 0.1}, {\"country\": \"Vanuatu\", \"confederation\": \"OFC\", \"tv_audience_share\": 0.0, \"gdp_weighted_share\": 0.0, \"population_share\": 0.0}, {\"country\": \"American Samoa\", \"confederation\": \"OFC\", \"tv_audience_share\": 0.0, \"gdp_weighted_share\": 0.0, \"population_share\": 0.0}, {\"country\": \"Cook Islands\", \"confederation\": \"OFC\", \"tv_audience_share\": 0.0, \"gdp_weighted_share\": 0.0, \"population_share\": 0.0}, {\"country\": \"Tonga\", \"confederation\": \"OFC\", \"tv_audience_share\": 0.0, \"gdp_weighted_share\": 0.0, \"population_share\": 0.0}, {\"country\": \"Liberia\", \"confederation\": \"CAF\", \"tv_audience_share\": 0.0, \"gdp_weighted_share\": 0.0, \"population_share\": 0.1}, {\"country\": \"Palau\", \"confederation\": \"OFC\", \"tv_audience_share\": 0.0, \"gdp_weighted_share\": 0.0, \"population_share\": 0.0}, {\"country\": \"Nauru\", \"confederation\": \"OFC\", \"tv_audience_share\": 0.0, \"gdp_weighted_share\": 0.0, \"population_share\": 0.0}, {\"country\": \"Niue\", \"confederation\": \"OFC\", \"tv_audience_share\": 0.0, \"gdp_weighted_share\": 0.0, \"population_share\": 0.0}]}}, {\"mode\": \"vega-lite\"});\n",
       "</script>"
      ],
      "text/plain": [
       "alt.Chart(...)"
      ]
     },
     "execution_count": 204,
     "metadata": {},
     "output_type": "execute_result"
    }
   ],
   "source": [
    "alt.Chart(df).mark_circle(size=60).encode( #acme\n",
    "    x=alt.X('tv_audience_share', \n",
    "            title='Confederation'),\n",
    "    y=alt.Y('gdp_weighted_share', \n",
    "            title='Count of Confederation'),\n",
    "    tooltip=['gdp_weighted_share', 'tv_audience_share']\n",
    ").interactive()"
   ]
  },
  {
   "cell_type": "code",
   "execution_count": 205,
   "metadata": {},
   "outputs": [
    {
     "data": {
      "text/html": [
       "\n",
       "<div id=\"altair-viz-7144007407bb455eb76b47dbcd523742\"></div>\n",
       "<script type=\"text/javascript\">\n",
       "  var VEGA_DEBUG = (typeof VEGA_DEBUG == \"undefined\") ? {} : VEGA_DEBUG;\n",
       "  (function(spec, embedOpt){\n",
       "    let outputDiv = document.currentScript.previousElementSibling;\n",
       "    if (outputDiv.id !== \"altair-viz-7144007407bb455eb76b47dbcd523742\") {\n",
       "      outputDiv = document.getElementById(\"altair-viz-7144007407bb455eb76b47dbcd523742\");\n",
       "    }\n",
       "    const paths = {\n",
       "      \"vega\": \"https://cdn.jsdelivr.net/npm//vega@5?noext\",\n",
       "      \"vega-lib\": \"https://cdn.jsdelivr.net/npm//vega-lib?noext\",\n",
       "      \"vega-lite\": \"https://cdn.jsdelivr.net/npm//vega-lite@4.17.0?noext\",\n",
       "      \"vega-embed\": \"https://cdn.jsdelivr.net/npm//vega-embed@6?noext\",\n",
       "    };\n",
       "\n",
       "    function maybeLoadScript(lib, version) {\n",
       "      var key = `${lib.replace(\"-\", \"\")}_version`;\n",
       "      return (VEGA_DEBUG[key] == version) ?\n",
       "        Promise.resolve(paths[lib]) :\n",
       "        new Promise(function(resolve, reject) {\n",
       "          var s = document.createElement('script');\n",
       "          document.getElementsByTagName(\"head\")[0].appendChild(s);\n",
       "          s.async = true;\n",
       "          s.onload = () => {\n",
       "            VEGA_DEBUG[key] = version;\n",
       "            return resolve(paths[lib]);\n",
       "          };\n",
       "          s.onerror = () => reject(`Error loading script: ${paths[lib]}`);\n",
       "          s.src = paths[lib];\n",
       "        });\n",
       "    }\n",
       "\n",
       "    function showError(err) {\n",
       "      outputDiv.innerHTML = `<div class=\"error\" style=\"color:red;\">${err}</div>`;\n",
       "      throw err;\n",
       "    }\n",
       "\n",
       "    function displayChart(vegaEmbed) {\n",
       "      vegaEmbed(outputDiv, spec, embedOpt)\n",
       "        .catch(err => showError(`Javascript Error: ${err.message}<br>This usually means there's a typo in your chart specification. See the javascript console for the full traceback.`));\n",
       "    }\n",
       "\n",
       "    if(typeof define === \"function\" && define.amd) {\n",
       "      requirejs.config({paths});\n",
       "      require([\"vega-embed\"], displayChart, err => showError(`Error loading script: ${err.message}`));\n",
       "    } else {\n",
       "      maybeLoadScript(\"vega\", \"5\")\n",
       "        .then(() => maybeLoadScript(\"vega-lite\", \"4.17.0\"))\n",
       "        .then(() => maybeLoadScript(\"vega-embed\", \"6\"))\n",
       "        .catch(showError)\n",
       "        .then(() => displayChart(vegaEmbed));\n",
       "    }\n",
       "  })({\"config\": {\"view\": {\"continuousWidth\": 400, \"continuousHeight\": 300}}, \"data\": {\"name\": \"data-dfda6e87cb8b25a7162d299fe9091735\"}, \"mark\": {\"type\": \"point\", \"size\": 60}, \"encoding\": {\"x\": {\"field\": \"tv_audience_share\", \"title\": \"Confederation\", \"type\": \"quantitative\"}, \"y\": {\"field\": \"gdp_weighted_share\", \"title\": \"Count of Confederation\", \"type\": \"quantitative\"}}, \"$schema\": \"https://vega.github.io/schema/vega-lite/v4.17.0.json\", \"datasets\": {\"data-dfda6e87cb8b25a7162d299fe9091735\": [{\"country\": \"United States\", \"confederation\": \"CONCACAF\", \"tv_audience_share\": 4.3, \"gdp_weighted_share\": 11.3, \"population_share\": 4.5}, {\"country\": \"Japan\", \"confederation\": \"AFC\", \"tv_audience_share\": 4.9, \"gdp_weighted_share\": 9.1, \"population_share\": 1.9}, {\"country\": \"China\", \"confederation\": \"AFC\", \"tv_audience_share\": 14.8, \"gdp_weighted_share\": 7.3, \"population_share\": 19.5}, {\"country\": \"Germany\", \"confederation\": \"UEFA\", \"tv_audience_share\": 2.9, \"gdp_weighted_share\": 6.3, \"population_share\": 1.2}, {\"country\": \"Brazil\", \"confederation\": \"CONMEBOL\", \"tv_audience_share\": 7.1, \"gdp_weighted_share\": 5.4, \"population_share\": 2.8}, {\"country\": \"United Kingdom\", \"confederation\": \"UEFA\", \"tv_audience_share\": 2.1, \"gdp_weighted_share\": 4.2, \"population_share\": 0.9}, {\"country\": \"Italy\", \"confederation\": \"UEFA\", \"tv_audience_share\": 2.1, \"gdp_weighted_share\": 4.0, \"population_share\": 0.9}, {\"country\": \"France\", \"confederation\": \"UEFA\", \"tv_audience_share\": 2.0, \"gdp_weighted_share\": 4.0, \"population_share\": 0.9}, {\"country\": \"Russia\", \"confederation\": \"UEFA\", \"tv_audience_share\": 3.1, \"gdp_weighted_share\": 3.5, \"population_share\": 2.1}, {\"country\": \"Spain\", \"confederation\": \"UEFA\", \"tv_audience_share\": 1.8, \"gdp_weighted_share\": 3.1, \"population_share\": 0.7}, {\"country\": \"South Korea\", \"confederation\": \"AFC\", \"tv_audience_share\": 1.8, \"gdp_weighted_share\": 3.0, \"population_share\": 0.7}, {\"country\": \"Indonesia\", \"confederation\": \"AFC\", \"tv_audience_share\": 6.7, \"gdp_weighted_share\": 2.9, \"population_share\": 3.5}, {\"country\": \"Mexico\", \"confederation\": \"CONCACAF\", \"tv_audience_share\": 3.2, \"gdp_weighted_share\": 2.6, \"population_share\": 1.7}, {\"country\": \"Turkey\", \"confederation\": \"UEFA\", \"tv_audience_share\": 2.3, \"gdp_weighted_share\": 2.0, \"population_share\": 1.1}, {\"country\": \"Thailand\", \"confederation\": \"AFC\", \"tv_audience_share\": 2.4, \"gdp_weighted_share\": 1.6, \"population_share\": 1.0}, {\"country\": \"Argentina\", \"confederation\": \"CONMEBOL\", \"tv_audience_share\": 1.5, \"gdp_weighted_share\": 1.6, \"population_share\": 0.6}, {\"country\": \"Netherlands\", \"confederation\": \"UEFA\", \"tv_audience_share\": 0.6, \"gdp_weighted_share\": 1.5, \"population_share\": 0.2}, {\"country\": \"Poland\", \"confederation\": \"UEFA\", \"tv_audience_share\": 1.2, \"gdp_weighted_share\": 1.3, \"population_share\": 0.6}, {\"country\": \"Saudi Arabia\", \"confederation\": \"AFC\", \"tv_audience_share\": 0.5, \"gdp_weighted_share\": 1.2, \"population_share\": 0.4}, {\"country\": \"Taiwan\", \"confederation\": \"AFC\", \"tv_audience_share\": 0.5, \"gdp_weighted_share\": 1.0, \"population_share\": 0.3}, {\"country\": \"Canada\", \"confederation\": \"CONCACAF\", \"tv_audience_share\": 0.5, \"gdp_weighted_share\": 1.0, \"population_share\": 0.5}, {\"country\": \"Colombia\", \"confederation\": \"CONMEBOL\", \"tv_audience_share\": 1.6, \"gdp_weighted_share\": 0.9, \"population_share\": 0.7}, {\"country\": \"Venezuela\", \"confederation\": \"CONMEBOL\", \"tv_audience_share\": 1.0, \"gdp_weighted_share\": 0.9, \"population_share\": 0.4}, {\"country\": \"South Africa\", \"confederation\": \"CAF\", \"tv_audience_share\": 1.3, \"gdp_weighted_share\": 0.8, \"population_share\": 0.7}, {\"country\": \"Malaysia\", \"confederation\": \"AFC\", \"tv_audience_share\": 0.7, \"gdp_weighted_share\": 0.7, \"population_share\": 0.4}, {\"country\": \"Switzerland\", \"confederation\": \"UEFA\", \"tv_audience_share\": 0.3, \"gdp_weighted_share\": 0.7, \"population_share\": 0.1}, {\"country\": \"Nigeria\", \"confederation\": \"CAF\", \"tv_audience_share\": 2.6, \"gdp_weighted_share\": 0.7, \"population_share\": 2.3}, {\"country\": \"Belgium\", \"confederation\": \"UEFA\", \"tv_audience_share\": 0.3, \"gdp_weighted_share\": 0.7, \"population_share\": 0.2}, {\"country\": \"Sweden\", \"confederation\": \"UEFA\", \"tv_audience_share\": 0.3, \"gdp_weighted_share\": 0.7, \"population_share\": 0.1}, {\"country\": \"Vietnam\", \"confederation\": \"AFC\", \"tv_audience_share\": 2.6, \"gdp_weighted_share\": 0.6, \"population_share\": 1.3}, {\"country\": \"Iran\", \"confederation\": \"AFC\", \"tv_audience_share\": 0.7, \"gdp_weighted_share\": 0.6, \"population_share\": 1.1}, {\"country\": \"Chile\", \"confederation\": \"CONMEBOL\", \"tv_audience_share\": 0.6, \"gdp_weighted_share\": 0.6, \"population_share\": 0.3}, {\"country\": \"Romania\", \"confederation\": \"UEFA\", \"tv_audience_share\": 0.7, \"gdp_weighted_share\": 0.6, \"population_share\": 0.3}, {\"country\": \"Austria\", \"confederation\": \"UEFA\", \"tv_audience_share\": 0.3, \"gdp_weighted_share\": 0.6, \"population_share\": 0.1}, {\"country\": \"Singapore\", \"confederation\": \"AFC\", \"tv_audience_share\": 0.2, \"gdp_weighted_share\": 0.6, \"population_share\": 0.1}, {\"country\": \"Australia\", \"confederation\": \"AFC\", \"tv_audience_share\": 0.3, \"gdp_weighted_share\": 0.5, \"population_share\": 0.3}, {\"country\": \"Greece\", \"confederation\": \"UEFA\", \"tv_audience_share\": 0.3, \"gdp_weighted_share\": 0.5, \"population_share\": 0.2}, {\"country\": \"Portugal\", \"confederation\": \"UEFA\", \"tv_audience_share\": 0.4, \"gdp_weighted_share\": 0.5, \"population_share\": 0.2}, {\"country\": \"India\", \"confederation\": \"AFC\", \"tv_audience_share\": 2.0, \"gdp_weighted_share\": 0.5, \"population_share\": 17.6}, {\"country\": \"Czech Republic\", \"confederation\": \"UEFA\", \"tv_audience_share\": 0.3, \"gdp_weighted_share\": 0.5, \"population_share\": 0.2}, {\"country\": \"Egypt\", \"confederation\": \"CAF\", \"tv_audience_share\": 0.8, \"gdp_weighted_share\": 0.5, \"population_share\": 1.1}, {\"country\": \"Denmark\", \"confederation\": \"UEFA\", \"tv_audience_share\": 0.2, \"gdp_weighted_share\": 0.5, \"population_share\": 0.1}, {\"country\": \"Norway\", \"confederation\": \"UEFA\", \"tv_audience_share\": 0.1, \"gdp_weighted_share\": 0.4, \"population_share\": 0.1}, {\"country\": \"Peru\", \"confederation\": \"CONMEBOL\", \"tv_audience_share\": 0.8, \"gdp_weighted_share\": 0.4, \"population_share\": 0.4}, {\"country\": \"Ukraine\", \"confederation\": \"UEFA\", \"tv_audience_share\": 0.9, \"gdp_weighted_share\": 0.4, \"population_share\": 0.7}, {\"country\": \"Iraq\", \"confederation\": \"AFC\", \"tv_audience_share\": 0.5, \"gdp_weighted_share\": 0.4, \"population_share\": 0.5}, {\"country\": \"Hungary\", \"confederation\": \"UEFA\", \"tv_audience_share\": 0.3, \"gdp_weighted_share\": 0.4, \"population_share\": 0.1}, {\"country\": \"Kazakhstan\", \"confederation\": \"UEFA\", \"tv_audience_share\": 0.3, \"gdp_weighted_share\": 0.3, \"population_share\": 0.2}, {\"country\": \"Finland\", \"confederation\": \"UEFA\", \"tv_audience_share\": 0.2, \"gdp_weighted_share\": 0.3, \"population_share\": 0.1}, {\"country\": \"Ireland\", \"confederation\": \"UEFA\", \"tv_audience_share\": 0.1, \"gdp_weighted_share\": 0.3, \"population_share\": 0.1}, {\"country\": \"Algeria\", \"confederation\": \"CAF\", \"tv_audience_share\": 0.4, \"gdp_weighted_share\": 0.3, \"population_share\": 0.5}, {\"country\": \"Cuba\", \"confederation\": \"CONCACAF\", \"tv_audience_share\": 0.3, \"gdp_weighted_share\": 0.3, \"population_share\": 0.2}, {\"country\": \"Ecuador\", \"confederation\": \"CONMEBOL\", \"tv_audience_share\": 0.5, \"gdp_weighted_share\": 0.3, \"population_share\": 0.2}, {\"country\": \"Slovakia\", \"confederation\": \"UEFA\", \"tv_audience_share\": 0.2, \"gdp_weighted_share\": 0.3, \"population_share\": 0.1}, {\"country\": \"Qatar\", \"confederation\": \"AFC\", \"tv_audience_share\": 0.0, \"gdp_weighted_share\": 0.2, \"population_share\": 0.0}, {\"country\": \"Kuwait\", \"confederation\": \"AFC\", \"tv_audience_share\": 0.1, \"gdp_weighted_share\": 0.2, \"population_share\": 0.0}, {\"country\": \"Bulgaria\", \"confederation\": \"UEFA\", \"tv_audience_share\": 0.2, \"gdp_weighted_share\": 0.2, \"population_share\": 0.1}, {\"country\": \"Serbia\", \"confederation\": \"UEFA\", \"tv_audience_share\": 0.3, \"gdp_weighted_share\": 0.2, \"population_share\": 0.1}, {\"country\": \"Belarus\", \"confederation\": \"UEFA\", \"tv_audience_share\": 0.2, \"gdp_weighted_share\": 0.2, \"population_share\": 0.1}, {\"country\": \"Hong Kong\", \"confederation\": \"AFC\", \"tv_audience_share\": 0.1, \"gdp_weighted_share\": 0.2, \"population_share\": 0.1}, {\"country\": \"Croatia\", \"confederation\": \"UEFA\", \"tv_audience_share\": 0.1, \"gdp_weighted_share\": 0.1, \"population_share\": 0.1}, {\"country\": \"Oman\", \"confederation\": \"AFC\", \"tv_audience_share\": 0.0, \"gdp_weighted_share\": 0.1, \"population_share\": 0.0}, {\"country\": \"Dominica Republic\", \"confederation\": \"CONCACAF\", \"tv_audience_share\": 0.2, \"gdp_weighted_share\": 0.1, \"population_share\": 0.1}, {\"country\": \"Azerbaijan\", \"confederation\": \"UEFA\", \"tv_audience_share\": 0.1, \"gdp_weighted_share\": 0.1, \"population_share\": 0.1}, {\"country\": \"New Zealand\", \"confederation\": \"OFC\", \"tv_audience_share\": 0.1, \"gdp_weighted_share\": 0.1, \"population_share\": 0.1}, {\"country\": \"Lithuania\", \"confederation\": \"UEFA\", \"tv_audience_share\": 0.1, \"gdp_weighted_share\": 0.1, \"population_share\": 0.0}, {\"country\": \"Slovenia\", \"confederation\": \"UEFA\", \"tv_audience_share\": 0.1, \"gdp_weighted_share\": 0.1, \"population_share\": 0.0}, {\"country\": \"Uruguay\", \"confederation\": \"CONMEBOL\", \"tv_audience_share\": 0.1, \"gdp_weighted_share\": 0.1, \"population_share\": 0.0}, {\"country\": \"Costa Rica\", \"confederation\": \"CONCACAF\", \"tv_audience_share\": 0.2, \"gdp_weighted_share\": 0.1, \"population_share\": 0.1}, {\"country\": \"Uzbekistan\", \"confederation\": \"AFC\", \"tv_audience_share\": 0.5, \"gdp_weighted_share\": 0.1, \"population_share\": 0.4}, {\"country\": \"Yemen\", \"confederation\": \"CAF\", \"tv_audience_share\": 0.4, \"gdp_weighted_share\": 0.1, \"population_share\": 0.3}, {\"country\": \"Israel\", \"confederation\": \"UEFA\", \"tv_audience_share\": 0.1, \"gdp_weighted_share\": 0.1, \"population_share\": 0.1}, {\"country\": \"El Salvador\", \"confederation\": \"CONCACAF\", \"tv_audience_share\": 0.2, \"gdp_weighted_share\": 0.1, \"population_share\": 0.1}, {\"country\": \"Syria\", \"confederation\": \"AFC\", \"tv_audience_share\": 0.3, \"gdp_weighted_share\": 0.1, \"population_share\": 0.3}, {\"country\": \"Pakistan\", \"confederation\": \"AFC\", \"tv_audience_share\": 0.4, \"gdp_weighted_share\": 0.1, \"population_share\": 2.5}, {\"country\": \"Guatemala\", \"confederation\": \"CONCACAF\", \"tv_audience_share\": 0.2, \"gdp_weighted_share\": 0.1, \"population_share\": 0.2}, {\"country\": \"Paraguay\", \"confederation\": \"CONMEBOL\", \"tv_audience_share\": 0.2, \"gdp_weighted_share\": 0.1, \"population_share\": 0.1}, {\"country\": \"Panama\", \"confederation\": \"CONCACAF\", \"tv_audience_share\": 0.1, \"gdp_weighted_share\": 0.1, \"population_share\": 0.1}, {\"country\": \"Bosnia-Herzegovina\", \"confederation\": \"UEFA\", \"tv_audience_share\": 0.1, \"gdp_weighted_share\": 0.1, \"population_share\": 0.1}, {\"country\": \"Cambodia\", \"confederation\": \"AFC\", \"tv_audience_share\": 0.5, \"gdp_weighted_share\": 0.1, \"population_share\": 0.2}, {\"country\": \"Ivory Coast\", \"confederation\": \"CAF\", \"tv_audience_share\": 0.4, \"gdp_weighted_share\": 0.1, \"population_share\": 0.3}, {\"country\": \"Macau\", \"confederation\": \"AFC\", \"tv_audience_share\": 0.0, \"gdp_weighted_share\": 0.1, \"population_share\": 0.0}, {\"country\": \"Latvia\", \"confederation\": \"UEFA\", \"tv_audience_share\": 0.1, \"gdp_weighted_share\": 0.1, \"population_share\": 0.0}, {\"country\": \"Lebanon\", \"confederation\": \"AFC\", \"tv_audience_share\": 0.1, \"gdp_weighted_share\": 0.1, \"population_share\": 0.1}, {\"country\": \"Jordan\", \"confederation\": \"AFC\", \"tv_audience_share\": 0.1, \"gdp_weighted_share\": 0.1, \"population_share\": 0.1}, {\"country\": \"Honduras\", \"confederation\": \"CONCACAF\", \"tv_audience_share\": 0.3, \"gdp_weighted_share\": 0.1, \"population_share\": 0.1}, {\"country\": \"Brunei\", \"confederation\": \"AFC\", \"tv_audience_share\": 0.0, \"gdp_weighted_share\": 0.1, \"population_share\": 0.0}, {\"country\": \"Albania\", \"confederation\": \"UEFA\", \"tv_audience_share\": 0.1, \"gdp_weighted_share\": 0.1, \"population_share\": 0.0}, {\"country\": \"Turkmenistan\", \"confederation\": \"AFC\", \"tv_audience_share\": 0.1, \"gdp_weighted_share\": 0.1, \"population_share\": 0.1}, {\"country\": \"Angola\", \"confederation\": \"CAF\", \"tv_audience_share\": 0.1, \"gdp_weighted_share\": 0.1, \"population_share\": 0.3}, {\"country\": \"Estonia\", \"confederation\": \"UEFA\", \"tv_audience_share\": 0.0, \"gdp_weighted_share\": 0.0, \"population_share\": 0.0}, {\"country\": \"Bahrain\", \"confederation\": \"AFC\", \"tv_audience_share\": 0.0, \"gdp_weighted_share\": 0.0, \"population_share\": 0.0}, {\"country\": \"Nepal\", \"confederation\": \"AFC\", \"tv_audience_share\": 0.4, \"gdp_weighted_share\": 0.0, \"population_share\": 0.4}, {\"country\": \"Cyprus\", \"confederation\": \"UEFA\", \"tv_audience_share\": 0.0, \"gdp_weighted_share\": 0.0, \"population_share\": 0.0}, {\"country\": \"Ghana\", \"confederation\": \"CAF\", \"tv_audience_share\": 0.2, \"gdp_weighted_share\": 0.0, \"population_share\": 0.4}, {\"country\": \"Mauritius\", \"confederation\": \"CAF\", \"tv_audience_share\": 0.0, \"gdp_weighted_share\": 0.0, \"population_share\": 0.0}, {\"country\": \"Macedonia\", \"confederation\": \"UEFA\", \"tv_audience_share\": 0.1, \"gdp_weighted_share\": 0.0, \"population_share\": 0.0}, {\"country\": \"Kenya\", \"confederation\": \"CAF\", \"tv_audience_share\": 0.3, \"gdp_weighted_share\": 0.0, \"population_share\": 0.6}, {\"country\": \"Trinidad &Tobago\", \"confederation\": \"CONCACAF\", \"tv_audience_share\": 0.0, \"gdp_weighted_share\": 0.0, \"population_share\": 0.0}, {\"country\": \"Philippines\", \"confederation\": \"AFC\", \"tv_audience_share\": 0.1, \"gdp_weighted_share\": 0.0, \"population_share\": 1.4}, {\"country\": \"Bolivia\", \"confederation\": \"CONMEBOL\", \"tv_audience_share\": 0.1, \"gdp_weighted_share\": 0.0, \"population_share\": 0.1}, {\"country\": \"Laos\", \"confederation\": \"AFC\", \"tv_audience_share\": 0.2, \"gdp_weighted_share\": 0.0, \"population_share\": 0.1}, {\"country\": \"Armenia\", \"confederation\": \"UEFA\", \"tv_audience_share\": 0.1, \"gdp_weighted_share\": 0.0, \"population_share\": 0.0}, {\"country\": \"Nicaragua\", \"confederation\": \"CONCACAF\", \"tv_audience_share\": 0.1, \"gdp_weighted_share\": 0.0, \"population_share\": 0.1}, {\"country\": \"Afghanistan\", \"confederation\": \"AFC\", \"tv_audience_share\": 0.3, \"gdp_weighted_share\": 0.0, \"population_share\": 0.4}, {\"country\": \"Kosovo\", \"confederation\": \"UEFA\", \"tv_audience_share\": 0.1, \"gdp_weighted_share\": 0.0, \"population_share\": 0.0}, {\"country\": \"Cameroon\", \"confederation\": \"CAF\", \"tv_audience_share\": 0.2, \"gdp_weighted_share\": 0.0, \"population_share\": 0.3}, {\"country\": \"Senegal\", \"confederation\": \"CAF\", \"tv_audience_share\": 0.2, \"gdp_weighted_share\": 0.0, \"population_share\": 0.2}, {\"country\": \"Jamaica\", \"confederation\": \"CONCACAF\", \"tv_audience_share\": 0.1, \"gdp_weighted_share\": 0.0, \"population_share\": 0.0}, {\"country\": \"Sri Lanka\", \"confederation\": \"AFC\", \"tv_audience_share\": 0.1, \"gdp_weighted_share\": 0.0, \"population_share\": 0.3}, {\"country\": \"Myanmar\", \"confederation\": \"AFC\", \"tv_audience_share\": 0.1, \"gdp_weighted_share\": 0.0, \"population_share\": 0.8}, {\"country\": \"Moldova\", \"confederation\": \"UEFA\", \"tv_audience_share\": 0.1, \"gdp_weighted_share\": 0.0, \"population_share\": 0.1}, {\"country\": \"Malta\", \"confederation\": \"UEFA\", \"tv_audience_share\": 0.0, \"gdp_weighted_share\": 0.0, \"population_share\": 0.0}, {\"country\": \"Bangladesh\", \"confederation\": \"AFC\", \"tv_audience_share\": 0.1, \"gdp_weighted_share\": 0.0, \"population_share\": 2.2}, {\"country\": \"Zambia\", \"confederation\": \"CAF\", \"tv_audience_share\": 0.1, \"gdp_weighted_share\": 0.0, \"population_share\": 0.2}, {\"country\": \"Morocco\", \"confederation\": \"CAF\", \"tv_audience_share\": 0.1, \"gdp_weighted_share\": 0.0, \"population_share\": 0.5}, {\"country\": \"North Korea\", \"confederation\": \"AFC\", \"tv_audience_share\": 0.2, \"gdp_weighted_share\": 0.0, \"population_share\": 0.4}, {\"country\": \"Botswana\", \"confederation\": \"CAF\", \"tv_audience_share\": 0.0, \"gdp_weighted_share\": 0.0, \"population_share\": 0.0}, {\"country\": \"Tajikistan\", \"confederation\": \"AFC\", \"tv_audience_share\": 0.1, \"gdp_weighted_share\": 0.0, \"population_share\": 0.1}, {\"country\": \"Iceland\", \"confederation\": \"UEFA\", \"tv_audience_share\": 0.0, \"gdp_weighted_share\": 0.0, \"population_share\": 0.0}, {\"country\": \"Uganda\", \"confederation\": \"CAF\", \"tv_audience_share\": 0.2, \"gdp_weighted_share\": 0.0, \"population_share\": 0.5}, {\"country\": \"Libya\", \"confederation\": \"CAF\", \"tv_audience_share\": 0.0, \"gdp_weighted_share\": 0.0, \"population_share\": 0.1}, {\"country\": \"Palestine\", \"confederation\": \"AFC\", \"tv_audience_share\": 0.1, \"gdp_weighted_share\": 0.0, \"population_share\": 0.1}, {\"country\": \"Kyrgyzstan\", \"confederation\": \"AFC\", \"tv_audience_share\": 0.1, \"gdp_weighted_share\": 0.0, \"population_share\": 0.1}, {\"country\": \"Mongolia\", \"confederation\": \"AFC\", \"tv_audience_share\": 0.0, \"gdp_weighted_share\": 0.0, \"population_share\": 0.0}, {\"country\": \"Montenegro\", \"confederation\": \"UEFA\", \"tv_audience_share\": 0.0, \"gdp_weighted_share\": 0.0, \"population_share\": 0.0}, {\"country\": \"Tanzania\", \"confederation\": \"CAF\", \"tv_audience_share\": 0.1, \"gdp_weighted_share\": 0.0, \"population_share\": 0.7}, {\"country\": \"Georgia\", \"confederation\": \"UEFA\", \"tv_audience_share\": 0.0, \"gdp_weighted_share\": 0.0, \"population_share\": 0.1}, {\"country\": \"Suriname\", \"confederation\": \"CONCACAF\", \"tv_audience_share\": 0.0, \"gdp_weighted_share\": 0.0, \"population_share\": 0.0}, {\"country\": \"Sudan\", \"confederation\": \"CAF\", \"tv_audience_share\": 0.1, \"gdp_weighted_share\": 0.0, \"population_share\": 0.5}, {\"country\": \"Gabon\", \"confederation\": \"CAF\", \"tv_audience_share\": 0.0, \"gdp_weighted_share\": 0.0, \"population_share\": 0.0}, {\"country\": \"Madagascar\", \"confederation\": \"CAF\", \"tv_audience_share\": 0.1, \"gdp_weighted_share\": 0.0, \"population_share\": 0.3}, {\"country\": \"Tunisia\", \"confederation\": \"AFC\", \"tv_audience_share\": 0.0, \"gdp_weighted_share\": 0.0, \"population_share\": 0.2}, {\"country\": \"Ethiopia\", \"confederation\": \"CAF\", \"tv_audience_share\": 0.2, \"gdp_weighted_share\": 0.0, \"population_share\": 1.3}, {\"country\": \"Zimbabwe\", \"confederation\": \"CAF\", \"tv_audience_share\": 0.1, \"gdp_weighted_share\": 0.0, \"population_share\": 0.2}, {\"country\": \"Namibia\", \"confederation\": \"CAF\", \"tv_audience_share\": 0.0, \"gdp_weighted_share\": 0.0, \"population_share\": 0.0}, {\"country\": \"Bahamas\", \"confederation\": \"CONCACAF\", \"tv_audience_share\": 0.0, \"gdp_weighted_share\": 0.0, \"population_share\": 0.0}, {\"country\": \"Papua New Guinea\", \"confederation\": \"OFC\", \"tv_audience_share\": 0.1, \"gdp_weighted_share\": 0.0, \"population_share\": 0.1}, {\"country\": \"Guyana\", \"confederation\": \"CONCACAF\", \"tv_audience_share\": 0.0, \"gdp_weighted_share\": 0.0, \"population_share\": 0.0}, {\"country\": \"Turks & Caicos\", \"confederation\": \"CONCACAF\", \"tv_audience_share\": 0.0, \"gdp_weighted_share\": 0.0, \"population_share\": 0.0}, {\"country\": \"Congo DR\", \"confederation\": \"CAF\", \"tv_audience_share\": 0.2, \"gdp_weighted_share\": 0.0, \"population_share\": 0.9}, {\"country\": \"Burkina Faso\", \"confederation\": \"CAF\", \"tv_audience_share\": 0.1, \"gdp_weighted_share\": 0.0, \"population_share\": 0.2}, {\"country\": \"Guinea\", \"confederation\": \"CAF\", \"tv_audience_share\": 0.1, \"gdp_weighted_share\": 0.0, \"population_share\": 0.2}, {\"country\": \"Haiti\", \"confederation\": \"CONCACAF\", \"tv_audience_share\": 0.1, \"gdp_weighted_share\": 0.0, \"population_share\": 0.1}, {\"country\": \"Fiji\", \"confederation\": \"OFC\", \"tv_audience_share\": 0.0, \"gdp_weighted_share\": 0.0, \"population_share\": 0.0}, {\"country\": \"Barbados\", \"confederation\": \"CONCACAF\", \"tv_audience_share\": 0.0, \"gdp_weighted_share\": 0.0, \"population_share\": 0.0}, {\"country\": \"Mali\", \"confederation\": \"CAF\", \"tv_audience_share\": 0.0, \"gdp_weighted_share\": 0.0, \"population_share\": 0.2}, {\"country\": \"Bermuda\", \"confederation\": \"CONCACAF\", \"tv_audience_share\": 0.0, \"gdp_weighted_share\": 0.0, \"population_share\": 0.0}, {\"country\": \"St. Maarten\", \"confederation\": \"CONCACAF\", \"tv_audience_share\": 0.0, \"gdp_weighted_share\": 0.0, \"population_share\": 0.0}, {\"country\": \"Equatorial Guinea\", \"confederation\": \"CAF\", \"tv_audience_share\": 0.0, \"gdp_weighted_share\": 0.0, \"population_share\": 0.0}, {\"country\": \"Mozambique\", \"confederation\": \"CAF\", \"tv_audience_share\": 0.1, \"gdp_weighted_share\": 0.0, \"population_share\": 0.3}, {\"country\": \"Seychelles\", \"confederation\": \"CAF\", \"tv_audience_share\": 0.0, \"gdp_weighted_share\": 0.0, \"population_share\": 0.0}, {\"country\": \"Cape Verde\", \"confederation\": \"CAF\", \"tv_audience_share\": 0.0, \"gdp_weighted_share\": 0.0, \"population_share\": 0.0}, {\"country\": \"Benin\", \"confederation\": \"CAF\", \"tv_audience_share\": 0.0, \"gdp_weighted_share\": 0.0, \"population_share\": 0.1}, {\"country\": \"Swaziland\", \"confederation\": \"CAF\", \"tv_audience_share\": 0.0, \"gdp_weighted_share\": 0.0, \"population_share\": 0.0}, {\"country\": \"Cayman Islands\", \"confederation\": \"CONCACAF\", \"tv_audience_share\": 0.0, \"gdp_weighted_share\": 0.0, \"population_share\": 0.0}, {\"country\": \"Aruba\", \"confederation\": \"CONCACAF\", \"tv_audience_share\": 0.0, \"gdp_weighted_share\": 0.0, \"population_share\": 0.0}, {\"country\": \"Maldives\", \"confederation\": \"AFC\", \"tv_audience_share\": 0.0, \"gdp_weighted_share\": 0.0, \"population_share\": 0.0}, {\"country\": \"Niger\", \"confederation\": \"CAF\", \"tv_audience_share\": 0.1, \"gdp_weighted_share\": 0.0, \"population_share\": 0.2}, {\"country\": \"Curacao\", \"confederation\": \"CONCACAF\", \"tv_audience_share\": 0.0, \"gdp_weighted_share\": 0.0, \"population_share\": 0.0}, {\"country\": \"St. Lucia\", \"confederation\": \"CONCACAF\", \"tv_audience_share\": 0.0, \"gdp_weighted_share\": 0.0, \"population_share\": 0.0}, {\"country\": \"Togo\", \"confederation\": \"CAF\", \"tv_audience_share\": 0.0, \"gdp_weighted_share\": 0.0, \"population_share\": 0.1}, {\"country\": \"Burundi\", \"confederation\": \"CAF\", \"tv_audience_share\": 0.1, \"gdp_weighted_share\": 0.0, \"population_share\": 0.1}, {\"country\": \"Congo, Rep.\", \"confederation\": \"CAF\", \"tv_audience_share\": 0.0, \"gdp_weighted_share\": 0.0, \"population_share\": 0.1}, {\"country\": \"Antigua & Barbuda\", \"confederation\": \"CONCACAF\", \"tv_audience_share\": 0.0, \"gdp_weighted_share\": 0.0, \"population_share\": 0.0}, {\"country\": \"Chad\", \"confederation\": \"CAF\", \"tv_audience_share\": 0.0, \"gdp_weighted_share\": 0.0, \"population_share\": 0.2}, {\"country\": \"Eritrea\", \"confederation\": \"CAF\", \"tv_audience_share\": 0.0, \"gdp_weighted_share\": 0.0, \"population_share\": 0.1}, {\"country\": \"Grenada\", \"confederation\": \"CONCACAF\", \"tv_audience_share\": 0.0, \"gdp_weighted_share\": 0.0, \"population_share\": 0.0}, {\"country\": \"Lesotho\", \"confederation\": \"CAF\", \"tv_audience_share\": 0.0, \"gdp_weighted_share\": 0.0, \"population_share\": 0.0}, {\"country\": \"St. Vincent\", \"confederation\": \"CONCACAF\", \"tv_audience_share\": 0.0, \"gdp_weighted_share\": 0.0, \"population_share\": 0.0}, {\"country\": \"Malawi\", \"confederation\": \"CAF\", \"tv_audience_share\": 0.0, \"gdp_weighted_share\": 0.0, \"population_share\": 0.2}, {\"country\": \"Sierra Leone\", \"confederation\": \"CAF\", \"tv_audience_share\": 0.0, \"gdp_weighted_share\": 0.0, \"population_share\": 0.1}, {\"country\": \"Mauritania\", \"confederation\": \"CAF\", \"tv_audience_share\": 0.0, \"gdp_weighted_share\": 0.0, \"population_share\": 0.1}, {\"country\": \"Solomon Islands\", \"confederation\": \"OFC\", \"tv_audience_share\": 0.0, \"gdp_weighted_share\": 0.0, \"population_share\": 0.0}, {\"country\": \"Dominica\", \"confederation\": \"CONCACAF\", \"tv_audience_share\": 0.0, \"gdp_weighted_share\": 0.0, \"population_share\": 0.0}, {\"country\": \"Timor\", \"confederation\": \"AFC\", \"tv_audience_share\": 0.0, \"gdp_weighted_share\": 0.0, \"population_share\": 0.0}, {\"country\": \"St. Kitts\", \"confederation\": \"CONCACAF\", \"tv_audience_share\": 0.0, \"gdp_weighted_share\": 0.0, \"population_share\": 0.0}, {\"country\": \"Rwanda\", \"confederation\": \"CAF\", \"tv_audience_share\": 0.0, \"gdp_weighted_share\": 0.0, \"population_share\": 0.2}, {\"country\": \"Somalia\", \"confederation\": \"CAF\", \"tv_audience_share\": 0.0, \"gdp_weighted_share\": 0.0, \"population_share\": 0.1}, {\"country\": \"Gambia\", \"confederation\": \"CAF\", \"tv_audience_share\": 0.0, \"gdp_weighted_share\": 0.0, \"population_share\": 0.0}, {\"country\": \"Samoa\", \"confederation\": \"OFC\", \"tv_audience_share\": 0.0, \"gdp_weighted_share\": 0.0, \"population_share\": 0.0}, {\"country\": \"Guinea-Bissau\", \"confederation\": \"CAF\", \"tv_audience_share\": 0.0, \"gdp_weighted_share\": 0.0, \"population_share\": 0.0}, {\"country\": \"Central African Republic\", \"confederation\": \"CAF\", \"tv_audience_share\": 0.0, \"gdp_weighted_share\": 0.0, \"population_share\": 0.1}, {\"country\": \"Vanuatu\", \"confederation\": \"OFC\", \"tv_audience_share\": 0.0, \"gdp_weighted_share\": 0.0, \"population_share\": 0.0}, {\"country\": \"American Samoa\", \"confederation\": \"OFC\", \"tv_audience_share\": 0.0, \"gdp_weighted_share\": 0.0, \"population_share\": 0.0}, {\"country\": \"Cook Islands\", \"confederation\": \"OFC\", \"tv_audience_share\": 0.0, \"gdp_weighted_share\": 0.0, \"population_share\": 0.0}, {\"country\": \"Tonga\", \"confederation\": \"OFC\", \"tv_audience_share\": 0.0, \"gdp_weighted_share\": 0.0, \"population_share\": 0.0}, {\"country\": \"Liberia\", \"confederation\": \"CAF\", \"tv_audience_share\": 0.0, \"gdp_weighted_share\": 0.0, \"population_share\": 0.1}, {\"country\": \"Palau\", \"confederation\": \"OFC\", \"tv_audience_share\": 0.0, \"gdp_weighted_share\": 0.0, \"population_share\": 0.0}, {\"country\": \"Nauru\", \"confederation\": \"OFC\", \"tv_audience_share\": 0.0, \"gdp_weighted_share\": 0.0, \"population_share\": 0.0}, {\"country\": \"Niue\", \"confederation\": \"OFC\", \"tv_audience_share\": 0.0, \"gdp_weighted_share\": 0.0, \"population_share\": 0.0}]}}, {\"mode\": \"vega-lite\"});\n",
       "</script>"
      ],
      "text/plain": [
       "alt.Chart(...)"
      ]
     },
     "execution_count": 205,
     "metadata": {},
     "output_type": "execute_result"
    }
   ],
   "source": [
    "alt.Chart(df).mark_point(size=60).encode( #acme\n",
    "    x=alt.X('tv_audience_share', \n",
    "            title='Confederation'),\n",
    "    y=alt.Y('gdp_weighted_share', \n",
    "            title='Count of Confederation'))"
   ]
  },
  {
   "cell_type": "code",
   "execution_count": 206,
   "metadata": {},
   "outputs": [
    {
     "name": "stdout",
     "output_type": "stream",
     "text": [
      "<class 'pandas.core.frame.DataFrame'>\n",
      "RangeIndex: 191 entries, 0 to 190\n",
      "Data columns (total 5 columns):\n",
      " #   Column              Non-Null Count  Dtype   \n",
      "---  ------              --------------  -----   \n",
      " 0   country             191 non-null    category\n",
      " 1   confederation       191 non-null    category\n",
      " 2   tv_audience_share   191 non-null    float64 \n",
      " 3   gdp_weighted_share  191 non-null    float64 \n",
      " 4   population_share    191 non-null    float64 \n",
      "dtypes: category(2), float64(3)\n",
      "memory usage: 10.9 KB\n"
     ]
    }
   ],
   "source": [
    "df.info()"
   ]
  }
 ],
 "metadata": {
  "kernelspec": {
   "display_name": "bigdata",
   "language": "python",
   "name": "python3"
  },
  "language_info": {
   "codemirror_mode": {
    "name": "ipython",
    "version": 3
   },
   "file_extension": ".py",
   "mimetype": "text/x-python",
   "name": "python",
   "nbconvert_exporter": "python",
   "pygments_lexer": "ipython3",
   "version": "3.9.13"
  },
  "orig_nbformat": 4,
  "vscode": {
   "interpreter": {
    "hash": "1507ba80c64189e7cb5ef2c59e184db8cda2243c893e7000df2521cf41f47866"
   }
  }
 },
 "nbformat": 4,
 "nbformat_minor": 2
}
