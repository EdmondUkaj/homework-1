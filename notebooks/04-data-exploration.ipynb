{
 "cells": [
  {
   "cell_type": "markdown",
   "metadata": {},
   "source": [
    "# Data exploration \n",
    "\n",
    "---\n",
    "\n",
    "Group name: K\n",
    "\n",
    "---\n"
   ]
  },
  {
   "cell_type": "markdown",
   "metadata": {},
   "source": [
    "## Introduction\n",
    "\n",
    "*This section includes a short description of the data* "
   ]
  },
  {
   "cell_type": "markdown",
   "metadata": {},
   "source": [
    "## Setup"
   ]
  },
  {
   "cell_type": "code",
   "execution_count": 167,
   "metadata": {},
   "outputs": [],
   "source": [
    "import pandas as pd\n",
    "import altair as alt"
   ]
  },
  {
   "cell_type": "markdown",
   "metadata": {},
   "source": [
    "## Data"
   ]
  },
  {
   "cell_type": "markdown",
   "metadata": {},
   "source": [
    "### Import data"
   ]
  },
  {
   "cell_type": "code",
   "execution_count": 168,
   "metadata": {},
   "outputs": [],
   "source": [
    "ROOT = \"/Users/helenbruker/Uni/OMM4/BigData/homework-1/data/external/\"\n",
    "DATA = \"fifa_countries_audience.csv\"\n",
    "\n",
    "df = pd.read_csv(ROOT + DATA)"
   ]
  },
  {
   "cell_type": "markdown",
   "metadata": {},
   "source": [
    "### Data structure"
   ]
  },
  {
   "cell_type": "code",
   "execution_count": 169,
   "metadata": {},
   "outputs": [
    {
     "data": {
      "text/html": [
       "<div>\n",
       "<style scoped>\n",
       "    .dataframe tbody tr th:only-of-type {\n",
       "        vertical-align: middle;\n",
       "    }\n",
       "\n",
       "    .dataframe tbody tr th {\n",
       "        vertical-align: top;\n",
       "    }\n",
       "\n",
       "    .dataframe thead th {\n",
       "        text-align: right;\n",
       "    }\n",
       "</style>\n",
       "<table border=\"1\" class=\"dataframe\">\n",
       "  <thead>\n",
       "    <tr style=\"text-align: right;\">\n",
       "      <th></th>\n",
       "      <th>country</th>\n",
       "      <th>confederation</th>\n",
       "      <th>population_share</th>\n",
       "      <th>tv_audience_share</th>\n",
       "      <th>gdp_weighted_share</th>\n",
       "    </tr>\n",
       "  </thead>\n",
       "  <tbody>\n",
       "    <tr>\n",
       "      <th>0</th>\n",
       "      <td>United States</td>\n",
       "      <td>CONCACAF</td>\n",
       "      <td>4.5</td>\n",
       "      <td>4.3</td>\n",
       "      <td>11.3</td>\n",
       "    </tr>\n",
       "    <tr>\n",
       "      <th>1</th>\n",
       "      <td>Japan</td>\n",
       "      <td>AFC</td>\n",
       "      <td>1.9</td>\n",
       "      <td>4.9</td>\n",
       "      <td>9.1</td>\n",
       "    </tr>\n",
       "    <tr>\n",
       "      <th>2</th>\n",
       "      <td>China</td>\n",
       "      <td>AFC</td>\n",
       "      <td>19.5</td>\n",
       "      <td>14.8</td>\n",
       "      <td>7.3</td>\n",
       "    </tr>\n",
       "    <tr>\n",
       "      <th>3</th>\n",
       "      <td>Germany</td>\n",
       "      <td>UEFA</td>\n",
       "      <td>1.2</td>\n",
       "      <td>2.9</td>\n",
       "      <td>6.3</td>\n",
       "    </tr>\n",
       "    <tr>\n",
       "      <th>4</th>\n",
       "      <td>Brazil</td>\n",
       "      <td>CONMEBOL</td>\n",
       "      <td>2.8</td>\n",
       "      <td>7.1</td>\n",
       "      <td>5.4</td>\n",
       "    </tr>\n",
       "    <tr>\n",
       "      <th>...</th>\n",
       "      <td>...</td>\n",
       "      <td>...</td>\n",
       "      <td>...</td>\n",
       "      <td>...</td>\n",
       "      <td>...</td>\n",
       "    </tr>\n",
       "    <tr>\n",
       "      <th>186</th>\n",
       "      <td>Tonga</td>\n",
       "      <td>OFC</td>\n",
       "      <td>0.0</td>\n",
       "      <td>0.0</td>\n",
       "      <td>0.0</td>\n",
       "    </tr>\n",
       "    <tr>\n",
       "      <th>187</th>\n",
       "      <td>Liberia</td>\n",
       "      <td>CAF</td>\n",
       "      <td>0.1</td>\n",
       "      <td>0.0</td>\n",
       "      <td>0.0</td>\n",
       "    </tr>\n",
       "    <tr>\n",
       "      <th>188</th>\n",
       "      <td>Palau</td>\n",
       "      <td>OFC</td>\n",
       "      <td>0.0</td>\n",
       "      <td>0.0</td>\n",
       "      <td>0.0</td>\n",
       "    </tr>\n",
       "    <tr>\n",
       "      <th>189</th>\n",
       "      <td>Nauru</td>\n",
       "      <td>OFC</td>\n",
       "      <td>0.0</td>\n",
       "      <td>0.0</td>\n",
       "      <td>0.0</td>\n",
       "    </tr>\n",
       "    <tr>\n",
       "      <th>190</th>\n",
       "      <td>Niue</td>\n",
       "      <td>OFC</td>\n",
       "      <td>0.0</td>\n",
       "      <td>0.0</td>\n",
       "      <td>0.0</td>\n",
       "    </tr>\n",
       "  </tbody>\n",
       "</table>\n",
       "<p>191 rows × 5 columns</p>\n",
       "</div>"
      ],
      "text/plain": [
       "           country confederation  population_share  tv_audience_share  \\\n",
       "0    United States      CONCACAF               4.5                4.3   \n",
       "1            Japan           AFC               1.9                4.9   \n",
       "2            China           AFC              19.5               14.8   \n",
       "3          Germany          UEFA               1.2                2.9   \n",
       "4           Brazil      CONMEBOL               2.8                7.1   \n",
       "..             ...           ...               ...                ...   \n",
       "186          Tonga           OFC               0.0                0.0   \n",
       "187        Liberia           CAF               0.1                0.0   \n",
       "188          Palau           OFC               0.0                0.0   \n",
       "189          Nauru           OFC               0.0                0.0   \n",
       "190           Niue           OFC               0.0                0.0   \n",
       "\n",
       "     gdp_weighted_share  \n",
       "0                  11.3  \n",
       "1                   9.1  \n",
       "2                   7.3  \n",
       "3                   6.3  \n",
       "4                   5.4  \n",
       "..                  ...  \n",
       "186                 0.0  \n",
       "187                 0.0  \n",
       "188                 0.0  \n",
       "189                 0.0  \n",
       "190                 0.0  \n",
       "\n",
       "[191 rows x 5 columns]"
      ]
     },
     "execution_count": 169,
     "metadata": {},
     "output_type": "execute_result"
    }
   ],
   "source": [
    "df"
   ]
  },
  {
   "cell_type": "code",
   "execution_count": 170,
   "metadata": {},
   "outputs": [
    {
     "name": "stdout",
     "output_type": "stream",
     "text": [
      "<class 'pandas.core.frame.DataFrame'>\n",
      "RangeIndex: 191 entries, 0 to 190\n",
      "Data columns (total 5 columns):\n",
      " #   Column              Non-Null Count  Dtype  \n",
      "---  ------              --------------  -----  \n",
      " 0   country             191 non-null    object \n",
      " 1   confederation       191 non-null    object \n",
      " 2   population_share    191 non-null    float64\n",
      " 3   tv_audience_share   191 non-null    float64\n",
      " 4   gdp_weighted_share  191 non-null    float64\n",
      "dtypes: float64(3), object(2)\n",
      "memory usage: 7.6+ KB\n"
     ]
    }
   ],
   "source": [
    "df.info()"
   ]
  },
  {
   "cell_type": "markdown",
   "metadata": {},
   "source": [
    "### Data corrections"
   ]
  },
  {
   "cell_type": "markdown",
   "metadata": {},
   "source": [
    "Change data format from object to category"
   ]
  },
  {
   "cell_type": "code",
   "execution_count": 171,
   "metadata": {},
   "outputs": [],
   "source": [
    "df.country = df.country.astype(\"category\")\n",
    "df.population_share = df.population_share.astype(\"category\")\n",
    "df.tv_audience_share = df.tv_audience_share.astype(\"category\")\n",
    "df.gdp_weighted_share = df.gdp_weighted_share.astype(\"category\")\n",
    "df.confederation = df.confederation.astype(\"category\")"
   ]
  },
  {
   "cell_type": "markdown",
   "metadata": {},
   "source": [
    "## Exploratory data analysis"
   ]
  },
  {
   "attachments": {},
   "cell_type": "markdown",
   "metadata": {},
   "source": [
    "### Visualization 1: Standard bar chart"
   ]
  },
  {
   "attachments": {},
   "cell_type": "markdown",
   "metadata": {},
   "source": [
    "Explanation of choice:"
   ]
  },
  {
   "cell_type": "code",
   "execution_count": 172,
   "metadata": {},
   "outputs": [
    {
     "data": {
      "text/plain": [
       "['country', 'confederation']"
      ]
     },
     "execution_count": 172,
     "metadata": {},
     "output_type": "execute_result"
    }
   ],
   "source": [
    "var_list = ['country', 'confederation']\n",
    "\n",
    "var_list"
   ]
  },
  {
   "cell_type": "code",
   "execution_count": 173,
   "metadata": {},
   "outputs": [
    {
     "data": {
      "text/html": [
       "<div>\n",
       "<style scoped>\n",
       "    .dataframe tbody tr th:only-of-type {\n",
       "        vertical-align: middle;\n",
       "    }\n",
       "\n",
       "    .dataframe tbody tr th {\n",
       "        vertical-align: top;\n",
       "    }\n",
       "\n",
       "    .dataframe thead th {\n",
       "        text-align: right;\n",
       "    }\n",
       "</style>\n",
       "<table border=\"1\" class=\"dataframe\">\n",
       "  <thead>\n",
       "    <tr style=\"text-align: right;\">\n",
       "      <th></th>\n",
       "      <th>country</th>\n",
       "      <th>confederation</th>\n",
       "    </tr>\n",
       "  </thead>\n",
       "  <tbody>\n",
       "    <tr>\n",
       "      <th>0</th>\n",
       "      <td>United States</td>\n",
       "      <td>CONCACAF</td>\n",
       "    </tr>\n",
       "    <tr>\n",
       "      <th>1</th>\n",
       "      <td>Japan</td>\n",
       "      <td>AFC</td>\n",
       "    </tr>\n",
       "    <tr>\n",
       "      <th>2</th>\n",
       "      <td>China</td>\n",
       "      <td>AFC</td>\n",
       "    </tr>\n",
       "    <tr>\n",
       "      <th>3</th>\n",
       "      <td>Germany</td>\n",
       "      <td>UEFA</td>\n",
       "    </tr>\n",
       "    <tr>\n",
       "      <th>4</th>\n",
       "      <td>Brazil</td>\n",
       "      <td>CONMEBOL</td>\n",
       "    </tr>\n",
       "    <tr>\n",
       "      <th>...</th>\n",
       "      <td>...</td>\n",
       "      <td>...</td>\n",
       "    </tr>\n",
       "    <tr>\n",
       "      <th>186</th>\n",
       "      <td>Tonga</td>\n",
       "      <td>OFC</td>\n",
       "    </tr>\n",
       "    <tr>\n",
       "      <th>187</th>\n",
       "      <td>Liberia</td>\n",
       "      <td>CAF</td>\n",
       "    </tr>\n",
       "    <tr>\n",
       "      <th>188</th>\n",
       "      <td>Palau</td>\n",
       "      <td>OFC</td>\n",
       "    </tr>\n",
       "    <tr>\n",
       "      <th>189</th>\n",
       "      <td>Nauru</td>\n",
       "      <td>OFC</td>\n",
       "    </tr>\n",
       "    <tr>\n",
       "      <th>190</th>\n",
       "      <td>Niue</td>\n",
       "      <td>OFC</td>\n",
       "    </tr>\n",
       "  </tbody>\n",
       "</table>\n",
       "<p>191 rows × 2 columns</p>\n",
       "</div>"
      ],
      "text/plain": [
       "           country confederation\n",
       "0    United States      CONCACAF\n",
       "1            Japan           AFC\n",
       "2            China           AFC\n",
       "3          Germany          UEFA\n",
       "4           Brazil      CONMEBOL\n",
       "..             ...           ...\n",
       "186          Tonga           OFC\n",
       "187        Liberia           CAF\n",
       "188          Palau           OFC\n",
       "189          Nauru           OFC\n",
       "190           Niue           OFC\n",
       "\n",
       "[191 rows x 2 columns]"
      ]
     },
     "execution_count": 173,
     "metadata": {},
     "output_type": "execute_result"
    }
   ],
   "source": [
    "source = df[var_list]\n",
    "\n",
    "source"
   ]
  },
  {
   "attachments": {},
   "cell_type": "markdown",
   "metadata": {},
   "source": [
    "### Visualizing:"
   ]
  },
  {
   "cell_type": "code",
   "execution_count": 174,
   "metadata": {},
   "outputs": [
    {
     "name": "stderr",
     "output_type": "stream",
     "text": [
      "/opt/anaconda3/envs/bigdata/lib/python3.9/site-packages/altair/utils/core.py:317: FutureWarning: iteritems is deprecated and will be removed in a future version. Use .items instead.\n",
      "  for col_name, dtype in df.dtypes.iteritems():\n"
     ]
    },
    {
     "data": {
      "text/html": [
       "\n",
       "<div id=\"altair-viz-7ba5b44f6107478bbe02a2d0d7ca9f65\"></div>\n",
       "<script type=\"text/javascript\">\n",
       "  var VEGA_DEBUG = (typeof VEGA_DEBUG == \"undefined\") ? {} : VEGA_DEBUG;\n",
       "  (function(spec, embedOpt){\n",
       "    let outputDiv = document.currentScript.previousElementSibling;\n",
       "    if (outputDiv.id !== \"altair-viz-7ba5b44f6107478bbe02a2d0d7ca9f65\") {\n",
       "      outputDiv = document.getElementById(\"altair-viz-7ba5b44f6107478bbe02a2d0d7ca9f65\");\n",
       "    }\n",
       "    const paths = {\n",
       "      \"vega\": \"https://cdn.jsdelivr.net/npm//vega@5?noext\",\n",
       "      \"vega-lib\": \"https://cdn.jsdelivr.net/npm//vega-lib?noext\",\n",
       "      \"vega-lite\": \"https://cdn.jsdelivr.net/npm//vega-lite@4.17.0?noext\",\n",
       "      \"vega-embed\": \"https://cdn.jsdelivr.net/npm//vega-embed@6?noext\",\n",
       "    };\n",
       "\n",
       "    function maybeLoadScript(lib, version) {\n",
       "      var key = `${lib.replace(\"-\", \"\")}_version`;\n",
       "      return (VEGA_DEBUG[key] == version) ?\n",
       "        Promise.resolve(paths[lib]) :\n",
       "        new Promise(function(resolve, reject) {\n",
       "          var s = document.createElement('script');\n",
       "          document.getElementsByTagName(\"head\")[0].appendChild(s);\n",
       "          s.async = true;\n",
       "          s.onload = () => {\n",
       "            VEGA_DEBUG[key] = version;\n",
       "            return resolve(paths[lib]);\n",
       "          };\n",
       "          s.onerror = () => reject(`Error loading script: ${paths[lib]}`);\n",
       "          s.src = paths[lib];\n",
       "        });\n",
       "    }\n",
       "\n",
       "    function showError(err) {\n",
       "      outputDiv.innerHTML = `<div class=\"error\" style=\"color:red;\">${err}</div>`;\n",
       "      throw err;\n",
       "    }\n",
       "\n",
       "    function displayChart(vegaEmbed) {\n",
       "      vegaEmbed(outputDiv, spec, embedOpt)\n",
       "        .catch(err => showError(`Javascript Error: ${err.message}<br>This usually means there's a typo in your chart specification. See the javascript console for the full traceback.`));\n",
       "    }\n",
       "\n",
       "    if(typeof define === \"function\" && define.amd) {\n",
       "      requirejs.config({paths});\n",
       "      require([\"vega-embed\"], displayChart, err => showError(`Error loading script: ${err.message}`));\n",
       "    } else {\n",
       "      maybeLoadScript(\"vega\", \"5\")\n",
       "        .then(() => maybeLoadScript(\"vega-lite\", \"4.17.0\"))\n",
       "        .then(() => maybeLoadScript(\"vega-embed\", \"6\"))\n",
       "        .catch(showError)\n",
       "        .then(() => displayChart(vegaEmbed));\n",
       "    }\n",
       "  })({\"config\": {\"view\": {\"continuousWidth\": 400, \"continuousHeight\": 300}}, \"data\": {\"name\": \"data-dfda6e87cb8b25a7162d299fe9091735\"}, \"mark\": \"bar\", \"encoding\": {\"x\": {\"field\": \"confederation\", \"type\": \"nominal\"}, \"y\": {\"aggregate\": \"count\", \"field\": \"confederation\", \"type\": \"nominal\"}}, \"$schema\": \"https://vega.github.io/schema/vega-lite/v4.17.0.json\", \"datasets\": {\"data-dfda6e87cb8b25a7162d299fe9091735\": [{\"country\": \"United States\", \"confederation\": \"CONCACAF\", \"population_share\": 4.5, \"tv_audience_share\": 4.3, \"gdp_weighted_share\": 11.3}, {\"country\": \"Japan\", \"confederation\": \"AFC\", \"population_share\": 1.9, \"tv_audience_share\": 4.9, \"gdp_weighted_share\": 9.1}, {\"country\": \"China\", \"confederation\": \"AFC\", \"population_share\": 19.5, \"tv_audience_share\": 14.8, \"gdp_weighted_share\": 7.3}, {\"country\": \"Germany\", \"confederation\": \"UEFA\", \"population_share\": 1.2, \"tv_audience_share\": 2.9, \"gdp_weighted_share\": 6.3}, {\"country\": \"Brazil\", \"confederation\": \"CONMEBOL\", \"population_share\": 2.8, \"tv_audience_share\": 7.1, \"gdp_weighted_share\": 5.4}, {\"country\": \"United Kingdom\", \"confederation\": \"UEFA\", \"population_share\": 0.9, \"tv_audience_share\": 2.1, \"gdp_weighted_share\": 4.2}, {\"country\": \"Italy\", \"confederation\": \"UEFA\", \"population_share\": 0.9, \"tv_audience_share\": 2.1, \"gdp_weighted_share\": 4.0}, {\"country\": \"France\", \"confederation\": \"UEFA\", \"population_share\": 0.9, \"tv_audience_share\": 2.0, \"gdp_weighted_share\": 4.0}, {\"country\": \"Russia\", \"confederation\": \"UEFA\", \"population_share\": 2.1, \"tv_audience_share\": 3.1, \"gdp_weighted_share\": 3.5}, {\"country\": \"Spain\", \"confederation\": \"UEFA\", \"population_share\": 0.7, \"tv_audience_share\": 1.8, \"gdp_weighted_share\": 3.1}, {\"country\": \"South Korea\", \"confederation\": \"AFC\", \"population_share\": 0.7, \"tv_audience_share\": 1.8, \"gdp_weighted_share\": 3.0}, {\"country\": \"Indonesia\", \"confederation\": \"AFC\", \"population_share\": 3.5, \"tv_audience_share\": 6.7, \"gdp_weighted_share\": 2.9}, {\"country\": \"Mexico\", \"confederation\": \"CONCACAF\", \"population_share\": 1.7, \"tv_audience_share\": 3.2, \"gdp_weighted_share\": 2.6}, {\"country\": \"Turkey\", \"confederation\": \"UEFA\", \"population_share\": 1.1, \"tv_audience_share\": 2.3, \"gdp_weighted_share\": 2.0}, {\"country\": \"Thailand\", \"confederation\": \"AFC\", \"population_share\": 1.0, \"tv_audience_share\": 2.4, \"gdp_weighted_share\": 1.6}, {\"country\": \"Argentina\", \"confederation\": \"CONMEBOL\", \"population_share\": 0.6, \"tv_audience_share\": 1.5, \"gdp_weighted_share\": 1.6}, {\"country\": \"Netherlands\", \"confederation\": \"UEFA\", \"population_share\": 0.2, \"tv_audience_share\": 0.6, \"gdp_weighted_share\": 1.5}, {\"country\": \"Poland\", \"confederation\": \"UEFA\", \"population_share\": 0.6, \"tv_audience_share\": 1.2, \"gdp_weighted_share\": 1.3}, {\"country\": \"Saudi Arabia\", \"confederation\": \"AFC\", \"population_share\": 0.4, \"tv_audience_share\": 0.5, \"gdp_weighted_share\": 1.2}, {\"country\": \"Taiwan\", \"confederation\": \"AFC\", \"population_share\": 0.3, \"tv_audience_share\": 0.5, \"gdp_weighted_share\": 1.0}, {\"country\": \"Canada\", \"confederation\": \"CONCACAF\", \"population_share\": 0.5, \"tv_audience_share\": 0.5, \"gdp_weighted_share\": 1.0}, {\"country\": \"Colombia\", \"confederation\": \"CONMEBOL\", \"population_share\": 0.7, \"tv_audience_share\": 1.6, \"gdp_weighted_share\": 0.9}, {\"country\": \"Venezuela\", \"confederation\": \"CONMEBOL\", \"population_share\": 0.4, \"tv_audience_share\": 1.0, \"gdp_weighted_share\": 0.9}, {\"country\": \"South Africa\", \"confederation\": \"CAF\", \"population_share\": 0.7, \"tv_audience_share\": 1.3, \"gdp_weighted_share\": 0.8}, {\"country\": \"Malaysia\", \"confederation\": \"AFC\", \"population_share\": 0.4, \"tv_audience_share\": 0.7, \"gdp_weighted_share\": 0.7}, {\"country\": \"Switzerland\", \"confederation\": \"UEFA\", \"population_share\": 0.1, \"tv_audience_share\": 0.3, \"gdp_weighted_share\": 0.7}, {\"country\": \"Nigeria\", \"confederation\": \"CAF\", \"population_share\": 2.3, \"tv_audience_share\": 2.6, \"gdp_weighted_share\": 0.7}, {\"country\": \"Belgium\", \"confederation\": \"UEFA\", \"population_share\": 0.2, \"tv_audience_share\": 0.3, \"gdp_weighted_share\": 0.7}, {\"country\": \"Sweden\", \"confederation\": \"UEFA\", \"population_share\": 0.1, \"tv_audience_share\": 0.3, \"gdp_weighted_share\": 0.7}, {\"country\": \"Vietnam\", \"confederation\": \"AFC\", \"population_share\": 1.3, \"tv_audience_share\": 2.6, \"gdp_weighted_share\": 0.6}, {\"country\": \"Iran\", \"confederation\": \"AFC\", \"population_share\": 1.1, \"tv_audience_share\": 0.7, \"gdp_weighted_share\": 0.6}, {\"country\": \"Chile\", \"confederation\": \"CONMEBOL\", \"population_share\": 0.3, \"tv_audience_share\": 0.6, \"gdp_weighted_share\": 0.6}, {\"country\": \"Romania\", \"confederation\": \"UEFA\", \"population_share\": 0.3, \"tv_audience_share\": 0.7, \"gdp_weighted_share\": 0.6}, {\"country\": \"Austria\", \"confederation\": \"UEFA\", \"population_share\": 0.1, \"tv_audience_share\": 0.3, \"gdp_weighted_share\": 0.6}, {\"country\": \"Singapore\", \"confederation\": \"AFC\", \"population_share\": 0.1, \"tv_audience_share\": 0.2, \"gdp_weighted_share\": 0.6}, {\"country\": \"Australia\", \"confederation\": \"AFC\", \"population_share\": 0.3, \"tv_audience_share\": 0.3, \"gdp_weighted_share\": 0.5}, {\"country\": \"Greece\", \"confederation\": \"UEFA\", \"population_share\": 0.2, \"tv_audience_share\": 0.3, \"gdp_weighted_share\": 0.5}, {\"country\": \"Portugal\", \"confederation\": \"UEFA\", \"population_share\": 0.2, \"tv_audience_share\": 0.4, \"gdp_weighted_share\": 0.5}, {\"country\": \"India\", \"confederation\": \"AFC\", \"population_share\": 17.6, \"tv_audience_share\": 2.0, \"gdp_weighted_share\": 0.5}, {\"country\": \"Czech Republic\", \"confederation\": \"UEFA\", \"population_share\": 0.2, \"tv_audience_share\": 0.3, \"gdp_weighted_share\": 0.5}, {\"country\": \"Egypt\", \"confederation\": \"CAF\", \"population_share\": 1.1, \"tv_audience_share\": 0.8, \"gdp_weighted_share\": 0.5}, {\"country\": \"Denmark\", \"confederation\": \"UEFA\", \"population_share\": 0.1, \"tv_audience_share\": 0.2, \"gdp_weighted_share\": 0.5}, {\"country\": \"Norway\", \"confederation\": \"UEFA\", \"population_share\": 0.1, \"tv_audience_share\": 0.1, \"gdp_weighted_share\": 0.4}, {\"country\": \"Peru\", \"confederation\": \"CONMEBOL\", \"population_share\": 0.4, \"tv_audience_share\": 0.8, \"gdp_weighted_share\": 0.4}, {\"country\": \"Ukraine\", \"confederation\": \"UEFA\", \"population_share\": 0.7, \"tv_audience_share\": 0.9, \"gdp_weighted_share\": 0.4}, {\"country\": \"Iraq\", \"confederation\": \"AFC\", \"population_share\": 0.5, \"tv_audience_share\": 0.5, \"gdp_weighted_share\": 0.4}, {\"country\": \"Hungary\", \"confederation\": \"UEFA\", \"population_share\": 0.1, \"tv_audience_share\": 0.3, \"gdp_weighted_share\": 0.4}, {\"country\": \"Kazakhstan\", \"confederation\": \"UEFA\", \"population_share\": 0.2, \"tv_audience_share\": 0.3, \"gdp_weighted_share\": 0.3}, {\"country\": \"Finland\", \"confederation\": \"UEFA\", \"population_share\": 0.1, \"tv_audience_share\": 0.2, \"gdp_weighted_share\": 0.3}, {\"country\": \"Ireland\", \"confederation\": \"UEFA\", \"population_share\": 0.1, \"tv_audience_share\": 0.1, \"gdp_weighted_share\": 0.3}, {\"country\": \"Algeria\", \"confederation\": \"CAF\", \"population_share\": 0.5, \"tv_audience_share\": 0.4, \"gdp_weighted_share\": 0.3}, {\"country\": \"Cuba\", \"confederation\": \"CONCACAF\", \"population_share\": 0.2, \"tv_audience_share\": 0.3, \"gdp_weighted_share\": 0.3}, {\"country\": \"Ecuador\", \"confederation\": \"CONMEBOL\", \"population_share\": 0.2, \"tv_audience_share\": 0.5, \"gdp_weighted_share\": 0.3}, {\"country\": \"Slovakia\", \"confederation\": \"UEFA\", \"population_share\": 0.1, \"tv_audience_share\": 0.2, \"gdp_weighted_share\": 0.3}, {\"country\": \"Qatar\", \"confederation\": \"AFC\", \"population_share\": 0.0, \"tv_audience_share\": 0.0, \"gdp_weighted_share\": 0.2}, {\"country\": \"Kuwait\", \"confederation\": \"AFC\", \"population_share\": 0.0, \"tv_audience_share\": 0.1, \"gdp_weighted_share\": 0.2}, {\"country\": \"Bulgaria\", \"confederation\": \"UEFA\", \"population_share\": 0.1, \"tv_audience_share\": 0.2, \"gdp_weighted_share\": 0.2}, {\"country\": \"Serbia\", \"confederation\": \"UEFA\", \"population_share\": 0.1, \"tv_audience_share\": 0.3, \"gdp_weighted_share\": 0.2}, {\"country\": \"Belarus\", \"confederation\": \"UEFA\", \"population_share\": 0.1, \"tv_audience_share\": 0.2, \"gdp_weighted_share\": 0.2}, {\"country\": \"Hong Kong\", \"confederation\": \"AFC\", \"population_share\": 0.1, \"tv_audience_share\": 0.1, \"gdp_weighted_share\": 0.2}, {\"country\": \"Croatia\", \"confederation\": \"UEFA\", \"population_share\": 0.1, \"tv_audience_share\": 0.1, \"gdp_weighted_share\": 0.1}, {\"country\": \"Oman\", \"confederation\": \"AFC\", \"population_share\": 0.0, \"tv_audience_share\": 0.0, \"gdp_weighted_share\": 0.1}, {\"country\": \"Dominica Republic\", \"confederation\": \"CONCACAF\", \"population_share\": 0.1, \"tv_audience_share\": 0.2, \"gdp_weighted_share\": 0.1}, {\"country\": \"Azerbaijan\", \"confederation\": \"UEFA\", \"population_share\": 0.1, \"tv_audience_share\": 0.1, \"gdp_weighted_share\": 0.1}, {\"country\": \"New Zealand\", \"confederation\": \"OFC\", \"population_share\": 0.1, \"tv_audience_share\": 0.1, \"gdp_weighted_share\": 0.1}, {\"country\": \"Lithuania\", \"confederation\": \"UEFA\", \"population_share\": 0.0, \"tv_audience_share\": 0.1, \"gdp_weighted_share\": 0.1}, {\"country\": \"Slovenia\", \"confederation\": \"UEFA\", \"population_share\": 0.0, \"tv_audience_share\": 0.1, \"gdp_weighted_share\": 0.1}, {\"country\": \"Uruguay\", \"confederation\": \"CONMEBOL\", \"population_share\": 0.0, \"tv_audience_share\": 0.1, \"gdp_weighted_share\": 0.1}, {\"country\": \"Costa Rica\", \"confederation\": \"CONCACAF\", \"population_share\": 0.1, \"tv_audience_share\": 0.2, \"gdp_weighted_share\": 0.1}, {\"country\": \"Uzbekistan\", \"confederation\": \"AFC\", \"population_share\": 0.4, \"tv_audience_share\": 0.5, \"gdp_weighted_share\": 0.1}, {\"country\": \"Yemen\", \"confederation\": \"CAF\", \"population_share\": 0.3, \"tv_audience_share\": 0.4, \"gdp_weighted_share\": 0.1}, {\"country\": \"Israel\", \"confederation\": \"UEFA\", \"population_share\": 0.1, \"tv_audience_share\": 0.1, \"gdp_weighted_share\": 0.1}, {\"country\": \"El Salvador\", \"confederation\": \"CONCACAF\", \"population_share\": 0.1, \"tv_audience_share\": 0.2, \"gdp_weighted_share\": 0.1}, {\"country\": \"Syria\", \"confederation\": \"AFC\", \"population_share\": 0.3, \"tv_audience_share\": 0.3, \"gdp_weighted_share\": 0.1}, {\"country\": \"Pakistan\", \"confederation\": \"AFC\", \"population_share\": 2.5, \"tv_audience_share\": 0.4, \"gdp_weighted_share\": 0.1}, {\"country\": \"Guatemala\", \"confederation\": \"CONCACAF\", \"population_share\": 0.2, \"tv_audience_share\": 0.2, \"gdp_weighted_share\": 0.1}, {\"country\": \"Paraguay\", \"confederation\": \"CONMEBOL\", \"population_share\": 0.1, \"tv_audience_share\": 0.2, \"gdp_weighted_share\": 0.1}, {\"country\": \"Panama\", \"confederation\": \"CONCACAF\", \"population_share\": 0.1, \"tv_audience_share\": 0.1, \"gdp_weighted_share\": 0.1}, {\"country\": \"Bosnia-Herzegovina\", \"confederation\": \"UEFA\", \"population_share\": 0.1, \"tv_audience_share\": 0.1, \"gdp_weighted_share\": 0.1}, {\"country\": \"Cambodia\", \"confederation\": \"AFC\", \"population_share\": 0.2, \"tv_audience_share\": 0.5, \"gdp_weighted_share\": 0.1}, {\"country\": \"Ivory Coast\", \"confederation\": \"CAF\", \"population_share\": 0.3, \"tv_audience_share\": 0.4, \"gdp_weighted_share\": 0.1}, {\"country\": \"Macau\", \"confederation\": \"AFC\", \"population_share\": 0.0, \"tv_audience_share\": 0.0, \"gdp_weighted_share\": 0.1}, {\"country\": \"Latvia\", \"confederation\": \"UEFA\", \"population_share\": 0.0, \"tv_audience_share\": 0.1, \"gdp_weighted_share\": 0.1}, {\"country\": \"Lebanon\", \"confederation\": \"AFC\", \"population_share\": 0.1, \"tv_audience_share\": 0.1, \"gdp_weighted_share\": 0.1}, {\"country\": \"Jordan\", \"confederation\": \"AFC\", \"population_share\": 0.1, \"tv_audience_share\": 0.1, \"gdp_weighted_share\": 0.1}, {\"country\": \"Honduras\", \"confederation\": \"CONCACAF\", \"population_share\": 0.1, \"tv_audience_share\": 0.3, \"gdp_weighted_share\": 0.1}, {\"country\": \"Brunei\", \"confederation\": \"AFC\", \"population_share\": 0.0, \"tv_audience_share\": 0.0, \"gdp_weighted_share\": 0.1}, {\"country\": \"Albania\", \"confederation\": \"UEFA\", \"population_share\": 0.0, \"tv_audience_share\": 0.1, \"gdp_weighted_share\": 0.1}, {\"country\": \"Turkmenistan\", \"confederation\": \"AFC\", \"population_share\": 0.1, \"tv_audience_share\": 0.1, \"gdp_weighted_share\": 0.1}, {\"country\": \"Angola\", \"confederation\": \"CAF\", \"population_share\": 0.3, \"tv_audience_share\": 0.1, \"gdp_weighted_share\": 0.1}, {\"country\": \"Estonia\", \"confederation\": \"UEFA\", \"population_share\": 0.0, \"tv_audience_share\": 0.0, \"gdp_weighted_share\": 0.0}, {\"country\": \"Bahrain\", \"confederation\": \"AFC\", \"population_share\": 0.0, \"tv_audience_share\": 0.0, \"gdp_weighted_share\": 0.0}, {\"country\": \"Nepal\", \"confederation\": \"AFC\", \"population_share\": 0.4, \"tv_audience_share\": 0.4, \"gdp_weighted_share\": 0.0}, {\"country\": \"Cyprus\", \"confederation\": \"UEFA\", \"population_share\": 0.0, \"tv_audience_share\": 0.0, \"gdp_weighted_share\": 0.0}, {\"country\": \"Ghana\", \"confederation\": \"CAF\", \"population_share\": 0.4, \"tv_audience_share\": 0.2, \"gdp_weighted_share\": 0.0}, {\"country\": \"Mauritius\", \"confederation\": \"CAF\", \"population_share\": 0.0, \"tv_audience_share\": 0.0, \"gdp_weighted_share\": 0.0}, {\"country\": \"Macedonia\", \"confederation\": \"UEFA\", \"population_share\": 0.0, \"tv_audience_share\": 0.1, \"gdp_weighted_share\": 0.0}, {\"country\": \"Kenya\", \"confederation\": \"CAF\", \"population_share\": 0.6, \"tv_audience_share\": 0.3, \"gdp_weighted_share\": 0.0}, {\"country\": \"Trinidad &Tobago\", \"confederation\": \"CONCACAF\", \"population_share\": 0.0, \"tv_audience_share\": 0.0, \"gdp_weighted_share\": 0.0}, {\"country\": \"Philippines\", \"confederation\": \"AFC\", \"population_share\": 1.4, \"tv_audience_share\": 0.1, \"gdp_weighted_share\": 0.0}, {\"country\": \"Bolivia\", \"confederation\": \"CONMEBOL\", \"population_share\": 0.1, \"tv_audience_share\": 0.1, \"gdp_weighted_share\": 0.0}, {\"country\": \"Laos\", \"confederation\": \"AFC\", \"population_share\": 0.1, \"tv_audience_share\": 0.2, \"gdp_weighted_share\": 0.0}, {\"country\": \"Armenia\", \"confederation\": \"UEFA\", \"population_share\": 0.0, \"tv_audience_share\": 0.1, \"gdp_weighted_share\": 0.0}, {\"country\": \"Nicaragua\", \"confederation\": \"CONCACAF\", \"population_share\": 0.1, \"tv_audience_share\": 0.1, \"gdp_weighted_share\": 0.0}, {\"country\": \"Afghanistan\", \"confederation\": \"AFC\", \"population_share\": 0.4, \"tv_audience_share\": 0.3, \"gdp_weighted_share\": 0.0}, {\"country\": \"Kosovo\", \"confederation\": \"UEFA\", \"population_share\": 0.0, \"tv_audience_share\": 0.1, \"gdp_weighted_share\": 0.0}, {\"country\": \"Cameroon\", \"confederation\": \"CAF\", \"population_share\": 0.3, \"tv_audience_share\": 0.2, \"gdp_weighted_share\": 0.0}, {\"country\": \"Senegal\", \"confederation\": \"CAF\", \"population_share\": 0.2, \"tv_audience_share\": 0.2, \"gdp_weighted_share\": 0.0}, {\"country\": \"Jamaica\", \"confederation\": \"CONCACAF\", \"population_share\": 0.0, \"tv_audience_share\": 0.1, \"gdp_weighted_share\": 0.0}, {\"country\": \"Sri Lanka\", \"confederation\": \"AFC\", \"population_share\": 0.3, \"tv_audience_share\": 0.1, \"gdp_weighted_share\": 0.0}, {\"country\": \"Myanmar\", \"confederation\": \"AFC\", \"population_share\": 0.8, \"tv_audience_share\": 0.1, \"gdp_weighted_share\": 0.0}, {\"country\": \"Moldova\", \"confederation\": \"UEFA\", \"population_share\": 0.1, \"tv_audience_share\": 0.1, \"gdp_weighted_share\": 0.0}, {\"country\": \"Malta\", \"confederation\": \"UEFA\", \"population_share\": 0.0, \"tv_audience_share\": 0.0, \"gdp_weighted_share\": 0.0}, {\"country\": \"Bangladesh\", \"confederation\": \"AFC\", \"population_share\": 2.2, \"tv_audience_share\": 0.1, \"gdp_weighted_share\": 0.0}, {\"country\": \"Zambia\", \"confederation\": \"CAF\", \"population_share\": 0.2, \"tv_audience_share\": 0.1, \"gdp_weighted_share\": 0.0}, {\"country\": \"Morocco\", \"confederation\": \"CAF\", \"population_share\": 0.5, \"tv_audience_share\": 0.1, \"gdp_weighted_share\": 0.0}, {\"country\": \"North Korea\", \"confederation\": \"AFC\", \"population_share\": 0.4, \"tv_audience_share\": 0.2, \"gdp_weighted_share\": 0.0}, {\"country\": \"Botswana\", \"confederation\": \"CAF\", \"population_share\": 0.0, \"tv_audience_share\": 0.0, \"gdp_weighted_share\": 0.0}, {\"country\": \"Tajikistan\", \"confederation\": \"AFC\", \"population_share\": 0.1, \"tv_audience_share\": 0.1, \"gdp_weighted_share\": 0.0}, {\"country\": \"Iceland\", \"confederation\": \"UEFA\", \"population_share\": 0.0, \"tv_audience_share\": 0.0, \"gdp_weighted_share\": 0.0}, {\"country\": \"Uganda\", \"confederation\": \"CAF\", \"population_share\": 0.5, \"tv_audience_share\": 0.2, \"gdp_weighted_share\": 0.0}, {\"country\": \"Libya\", \"confederation\": \"CAF\", \"population_share\": 0.1, \"tv_audience_share\": 0.0, \"gdp_weighted_share\": 0.0}, {\"country\": \"Palestine\", \"confederation\": \"AFC\", \"population_share\": 0.1, \"tv_audience_share\": 0.1, \"gdp_weighted_share\": 0.0}, {\"country\": \"Kyrgyzstan\", \"confederation\": \"AFC\", \"population_share\": 0.1, \"tv_audience_share\": 0.1, \"gdp_weighted_share\": 0.0}, {\"country\": \"Mongolia\", \"confederation\": \"AFC\", \"population_share\": 0.0, \"tv_audience_share\": 0.0, \"gdp_weighted_share\": 0.0}, {\"country\": \"Montenegro\", \"confederation\": \"UEFA\", \"population_share\": 0.0, \"tv_audience_share\": 0.0, \"gdp_weighted_share\": 0.0}, {\"country\": \"Tanzania\", \"confederation\": \"CAF\", \"population_share\": 0.7, \"tv_audience_share\": 0.1, \"gdp_weighted_share\": 0.0}, {\"country\": \"Georgia\", \"confederation\": \"UEFA\", \"population_share\": 0.1, \"tv_audience_share\": 0.0, \"gdp_weighted_share\": 0.0}, {\"country\": \"Suriname\", \"confederation\": \"CONCACAF\", \"population_share\": 0.0, \"tv_audience_share\": 0.0, \"gdp_weighted_share\": 0.0}, {\"country\": \"Sudan\", \"confederation\": \"CAF\", \"population_share\": 0.5, \"tv_audience_share\": 0.1, \"gdp_weighted_share\": 0.0}, {\"country\": \"Gabon\", \"confederation\": \"CAF\", \"population_share\": 0.0, \"tv_audience_share\": 0.0, \"gdp_weighted_share\": 0.0}, {\"country\": \"Madagascar\", \"confederation\": \"CAF\", \"population_share\": 0.3, \"tv_audience_share\": 0.1, \"gdp_weighted_share\": 0.0}, {\"country\": \"Tunisia\", \"confederation\": \"AFC\", \"population_share\": 0.2, \"tv_audience_share\": 0.0, \"gdp_weighted_share\": 0.0}, {\"country\": \"Ethiopia\", \"confederation\": \"CAF\", \"population_share\": 1.3, \"tv_audience_share\": 0.2, \"gdp_weighted_share\": 0.0}, {\"country\": \"Zimbabwe\", \"confederation\": \"CAF\", \"population_share\": 0.2, \"tv_audience_share\": 0.1, \"gdp_weighted_share\": 0.0}, {\"country\": \"Namibia\", \"confederation\": \"CAF\", \"population_share\": 0.0, \"tv_audience_share\": 0.0, \"gdp_weighted_share\": 0.0}, {\"country\": \"Bahamas\", \"confederation\": \"CONCACAF\", \"population_share\": 0.0, \"tv_audience_share\": 0.0, \"gdp_weighted_share\": 0.0}, {\"country\": \"Papua New Guinea\", \"confederation\": \"OFC\", \"population_share\": 0.1, \"tv_audience_share\": 0.1, \"gdp_weighted_share\": 0.0}, {\"country\": \"Guyana\", \"confederation\": \"CONCACAF\", \"population_share\": 0.0, \"tv_audience_share\": 0.0, \"gdp_weighted_share\": 0.0}, {\"country\": \"Turks & Caicos\", \"confederation\": \"CONCACAF\", \"population_share\": 0.0, \"tv_audience_share\": 0.0, \"gdp_weighted_share\": 0.0}, {\"country\": \"Congo DR\", \"confederation\": \"CAF\", \"population_share\": 0.9, \"tv_audience_share\": 0.2, \"gdp_weighted_share\": 0.0}, {\"country\": \"Burkina Faso\", \"confederation\": \"CAF\", \"population_share\": 0.2, \"tv_audience_share\": 0.1, \"gdp_weighted_share\": 0.0}, {\"country\": \"Guinea\", \"confederation\": \"CAF\", \"population_share\": 0.2, \"tv_audience_share\": 0.1, \"gdp_weighted_share\": 0.0}, {\"country\": \"Haiti\", \"confederation\": \"CONCACAF\", \"population_share\": 0.1, \"tv_audience_share\": 0.1, \"gdp_weighted_share\": 0.0}, {\"country\": \"Fiji\", \"confederation\": \"OFC\", \"population_share\": 0.0, \"tv_audience_share\": 0.0, \"gdp_weighted_share\": 0.0}, {\"country\": \"Barbados\", \"confederation\": \"CONCACAF\", \"population_share\": 0.0, \"tv_audience_share\": 0.0, \"gdp_weighted_share\": 0.0}, {\"country\": \"Mali\", \"confederation\": \"CAF\", \"population_share\": 0.2, \"tv_audience_share\": 0.0, \"gdp_weighted_share\": 0.0}, {\"country\": \"Bermuda\", \"confederation\": \"CONCACAF\", \"population_share\": 0.0, \"tv_audience_share\": 0.0, \"gdp_weighted_share\": 0.0}, {\"country\": \"St. Maarten\", \"confederation\": \"CONCACAF\", \"population_share\": 0.0, \"tv_audience_share\": 0.0, \"gdp_weighted_share\": 0.0}, {\"country\": \"Equatorial Guinea\", \"confederation\": \"CAF\", \"population_share\": 0.0, \"tv_audience_share\": 0.0, \"gdp_weighted_share\": 0.0}, {\"country\": \"Mozambique\", \"confederation\": \"CAF\", \"population_share\": 0.3, \"tv_audience_share\": 0.1, \"gdp_weighted_share\": 0.0}, {\"country\": \"Seychelles\", \"confederation\": \"CAF\", \"population_share\": 0.0, \"tv_audience_share\": 0.0, \"gdp_weighted_share\": 0.0}, {\"country\": \"Cape Verde\", \"confederation\": \"CAF\", \"population_share\": 0.0, \"tv_audience_share\": 0.0, \"gdp_weighted_share\": 0.0}, {\"country\": \"Benin\", \"confederation\": \"CAF\", \"population_share\": 0.1, \"tv_audience_share\": 0.0, \"gdp_weighted_share\": 0.0}, {\"country\": \"Swaziland\", \"confederation\": \"CAF\", \"population_share\": 0.0, \"tv_audience_share\": 0.0, \"gdp_weighted_share\": 0.0}, {\"country\": \"Cayman Islands\", \"confederation\": \"CONCACAF\", \"population_share\": 0.0, \"tv_audience_share\": 0.0, \"gdp_weighted_share\": 0.0}, {\"country\": \"Aruba\", \"confederation\": \"CONCACAF\", \"population_share\": 0.0, \"tv_audience_share\": 0.0, \"gdp_weighted_share\": 0.0}, {\"country\": \"Maldives\", \"confederation\": \"AFC\", \"population_share\": 0.0, \"tv_audience_share\": 0.0, \"gdp_weighted_share\": 0.0}, {\"country\": \"Niger\", \"confederation\": \"CAF\", \"population_share\": 0.2, \"tv_audience_share\": 0.1, \"gdp_weighted_share\": 0.0}, {\"country\": \"Curacao\", \"confederation\": \"CONCACAF\", \"population_share\": 0.0, \"tv_audience_share\": 0.0, \"gdp_weighted_share\": 0.0}, {\"country\": \"St. Lucia\", \"confederation\": \"CONCACAF\", \"population_share\": 0.0, \"tv_audience_share\": 0.0, \"gdp_weighted_share\": 0.0}, {\"country\": \"Togo\", \"confederation\": \"CAF\", \"population_share\": 0.1, \"tv_audience_share\": 0.0, \"gdp_weighted_share\": 0.0}, {\"country\": \"Burundi\", \"confederation\": \"CAF\", \"population_share\": 0.1, \"tv_audience_share\": 0.1, \"gdp_weighted_share\": 0.0}, {\"country\": \"Congo, Rep.\", \"confederation\": \"CAF\", \"population_share\": 0.1, \"tv_audience_share\": 0.0, \"gdp_weighted_share\": 0.0}, {\"country\": \"Antigua & Barbuda\", \"confederation\": \"CONCACAF\", \"population_share\": 0.0, \"tv_audience_share\": 0.0, \"gdp_weighted_share\": 0.0}, {\"country\": \"Chad\", \"confederation\": \"CAF\", \"population_share\": 0.2, \"tv_audience_share\": 0.0, \"gdp_weighted_share\": 0.0}, {\"country\": \"Eritrea\", \"confederation\": \"CAF\", \"population_share\": 0.1, \"tv_audience_share\": 0.0, \"gdp_weighted_share\": 0.0}, {\"country\": \"Grenada\", \"confederation\": \"CONCACAF\", \"population_share\": 0.0, \"tv_audience_share\": 0.0, \"gdp_weighted_share\": 0.0}, {\"country\": \"Lesotho\", \"confederation\": \"CAF\", \"population_share\": 0.0, \"tv_audience_share\": 0.0, \"gdp_weighted_share\": 0.0}, {\"country\": \"St. Vincent\", \"confederation\": \"CONCACAF\", \"population_share\": 0.0, \"tv_audience_share\": 0.0, \"gdp_weighted_share\": 0.0}, {\"country\": \"Malawi\", \"confederation\": \"CAF\", \"population_share\": 0.2, \"tv_audience_share\": 0.0, \"gdp_weighted_share\": 0.0}, {\"country\": \"Sierra Leone\", \"confederation\": \"CAF\", \"population_share\": 0.1, \"tv_audience_share\": 0.0, \"gdp_weighted_share\": 0.0}, {\"country\": \"Mauritania\", \"confederation\": \"CAF\", \"population_share\": 0.1, \"tv_audience_share\": 0.0, \"gdp_weighted_share\": 0.0}, {\"country\": \"Solomon Islands\", \"confederation\": \"OFC\", \"population_share\": 0.0, \"tv_audience_share\": 0.0, \"gdp_weighted_share\": 0.0}, {\"country\": \"Dominica\", \"confederation\": \"CONCACAF\", \"population_share\": 0.0, \"tv_audience_share\": 0.0, \"gdp_weighted_share\": 0.0}, {\"country\": \"Timor\", \"confederation\": \"AFC\", \"population_share\": 0.0, \"tv_audience_share\": 0.0, \"gdp_weighted_share\": 0.0}, {\"country\": \"St. Kitts\", \"confederation\": \"CONCACAF\", \"population_share\": 0.0, \"tv_audience_share\": 0.0, \"gdp_weighted_share\": 0.0}, {\"country\": \"Rwanda\", \"confederation\": \"CAF\", \"population_share\": 0.2, \"tv_audience_share\": 0.0, \"gdp_weighted_share\": 0.0}, {\"country\": \"Somalia\", \"confederation\": \"CAF\", \"population_share\": 0.1, \"tv_audience_share\": 0.0, \"gdp_weighted_share\": 0.0}, {\"country\": \"Gambia\", \"confederation\": \"CAF\", \"population_share\": 0.0, \"tv_audience_share\": 0.0, \"gdp_weighted_share\": 0.0}, {\"country\": \"Samoa\", \"confederation\": \"OFC\", \"population_share\": 0.0, \"tv_audience_share\": 0.0, \"gdp_weighted_share\": 0.0}, {\"country\": \"Guinea-Bissau\", \"confederation\": \"CAF\", \"population_share\": 0.0, \"tv_audience_share\": 0.0, \"gdp_weighted_share\": 0.0}, {\"country\": \"Central African Republic\", \"confederation\": \"CAF\", \"population_share\": 0.1, \"tv_audience_share\": 0.0, \"gdp_weighted_share\": 0.0}, {\"country\": \"Vanuatu\", \"confederation\": \"OFC\", \"population_share\": 0.0, \"tv_audience_share\": 0.0, \"gdp_weighted_share\": 0.0}, {\"country\": \"American Samoa\", \"confederation\": \"OFC\", \"population_share\": 0.0, \"tv_audience_share\": 0.0, \"gdp_weighted_share\": 0.0}, {\"country\": \"Cook Islands\", \"confederation\": \"OFC\", \"population_share\": 0.0, \"tv_audience_share\": 0.0, \"gdp_weighted_share\": 0.0}, {\"country\": \"Tonga\", \"confederation\": \"OFC\", \"population_share\": 0.0, \"tv_audience_share\": 0.0, \"gdp_weighted_share\": 0.0}, {\"country\": \"Liberia\", \"confederation\": \"CAF\", \"population_share\": 0.1, \"tv_audience_share\": 0.0, \"gdp_weighted_share\": 0.0}, {\"country\": \"Palau\", \"confederation\": \"OFC\", \"population_share\": 0.0, \"tv_audience_share\": 0.0, \"gdp_weighted_share\": 0.0}, {\"country\": \"Nauru\", \"confederation\": \"OFC\", \"population_share\": 0.0, \"tv_audience_share\": 0.0, \"gdp_weighted_share\": 0.0}, {\"country\": \"Niue\", \"confederation\": \"OFC\", \"population_share\": 0.0, \"tv_audience_share\": 0.0, \"gdp_weighted_share\": 0.0}]}}, {\"mode\": \"vega-lite\"});\n",
       "</script>"
      ],
      "text/plain": [
       "alt.Chart(...)"
      ]
     },
     "execution_count": 174,
     "metadata": {},
     "output_type": "execute_result"
    }
   ],
   "source": [
    "alt.Chart(df).mark_bar().encode(\n",
    "    x=('confederation'),\n",
    "    y=alt.Y('count(confederation)')\n",
    ")"
   ]
  },
  {
   "cell_type": "code",
   "execution_count": 175,
   "metadata": {},
   "outputs": [
    {
     "data": {
      "text/html": [
       "\n",
       "<div id=\"altair-viz-f480b47a864548748b6039bbaacf9974\"></div>\n",
       "<script type=\"text/javascript\">\n",
       "  var VEGA_DEBUG = (typeof VEGA_DEBUG == \"undefined\") ? {} : VEGA_DEBUG;\n",
       "  (function(spec, embedOpt){\n",
       "    let outputDiv = document.currentScript.previousElementSibling;\n",
       "    if (outputDiv.id !== \"altair-viz-f480b47a864548748b6039bbaacf9974\") {\n",
       "      outputDiv = document.getElementById(\"altair-viz-f480b47a864548748b6039bbaacf9974\");\n",
       "    }\n",
       "    const paths = {\n",
       "      \"vega\": \"https://cdn.jsdelivr.net/npm//vega@5?noext\",\n",
       "      \"vega-lib\": \"https://cdn.jsdelivr.net/npm//vega-lib?noext\",\n",
       "      \"vega-lite\": \"https://cdn.jsdelivr.net/npm//vega-lite@4.17.0?noext\",\n",
       "      \"vega-embed\": \"https://cdn.jsdelivr.net/npm//vega-embed@6?noext\",\n",
       "    };\n",
       "\n",
       "    function maybeLoadScript(lib, version) {\n",
       "      var key = `${lib.replace(\"-\", \"\")}_version`;\n",
       "      return (VEGA_DEBUG[key] == version) ?\n",
       "        Promise.resolve(paths[lib]) :\n",
       "        new Promise(function(resolve, reject) {\n",
       "          var s = document.createElement('script');\n",
       "          document.getElementsByTagName(\"head\")[0].appendChild(s);\n",
       "          s.async = true;\n",
       "          s.onload = () => {\n",
       "            VEGA_DEBUG[key] = version;\n",
       "            return resolve(paths[lib]);\n",
       "          };\n",
       "          s.onerror = () => reject(`Error loading script: ${paths[lib]}`);\n",
       "          s.src = paths[lib];\n",
       "        });\n",
       "    }\n",
       "\n",
       "    function showError(err) {\n",
       "      outputDiv.innerHTML = `<div class=\"error\" style=\"color:red;\">${err}</div>`;\n",
       "      throw err;\n",
       "    }\n",
       "\n",
       "    function displayChart(vegaEmbed) {\n",
       "      vegaEmbed(outputDiv, spec, embedOpt)\n",
       "        .catch(err => showError(`Javascript Error: ${err.message}<br>This usually means there's a typo in your chart specification. See the javascript console for the full traceback.`));\n",
       "    }\n",
       "\n",
       "    if(typeof define === \"function\" && define.amd) {\n",
       "      requirejs.config({paths});\n",
       "      require([\"vega-embed\"], displayChart, err => showError(`Error loading script: ${err.message}`));\n",
       "    } else {\n",
       "      maybeLoadScript(\"vega\", \"5\")\n",
       "        .then(() => maybeLoadScript(\"vega-lite\", \"4.17.0\"))\n",
       "        .then(() => maybeLoadScript(\"vega-embed\", \"6\"))\n",
       "        .catch(showError)\n",
       "        .then(() => displayChart(vegaEmbed));\n",
       "    }\n",
       "  })({\"config\": {\"view\": {\"continuousWidth\": 400, \"continuousHeight\": 300}}, \"data\": {\"name\": \"data-dfda6e87cb8b25a7162d299fe9091735\"}, \"mark\": \"bar\", \"encoding\": {\"color\": {\"aggregate\": \"count\", \"field\": \"confederation\", \"legend\": {\"title\": \"Count\"}, \"type\": \"nominal\"}, \"x\": {\"axis\": {\"labelAngle\": 0, \"title\": \"confederation\", \"titleAnchor\": \"start\"}, \"field\": \"confederation\", \"sort\": \"-y\", \"type\": \"nominal\"}, \"y\": {\"aggregate\": \"count\", \"axis\": {\"title\": \"Count\", \"titleAnchor\": \"end\"}, \"field\": \"confederation\", \"type\": \"nominal\"}}, \"height\": 150, \"title\": \"FIFA Confederation\", \"width\": 350, \"$schema\": \"https://vega.github.io/schema/vega-lite/v4.17.0.json\", \"datasets\": {\"data-dfda6e87cb8b25a7162d299fe9091735\": [{\"country\": \"United States\", \"confederation\": \"CONCACAF\", \"population_share\": 4.5, \"tv_audience_share\": 4.3, \"gdp_weighted_share\": 11.3}, {\"country\": \"Japan\", \"confederation\": \"AFC\", \"population_share\": 1.9, \"tv_audience_share\": 4.9, \"gdp_weighted_share\": 9.1}, {\"country\": \"China\", \"confederation\": \"AFC\", \"population_share\": 19.5, \"tv_audience_share\": 14.8, \"gdp_weighted_share\": 7.3}, {\"country\": \"Germany\", \"confederation\": \"UEFA\", \"population_share\": 1.2, \"tv_audience_share\": 2.9, \"gdp_weighted_share\": 6.3}, {\"country\": \"Brazil\", \"confederation\": \"CONMEBOL\", \"population_share\": 2.8, \"tv_audience_share\": 7.1, \"gdp_weighted_share\": 5.4}, {\"country\": \"United Kingdom\", \"confederation\": \"UEFA\", \"population_share\": 0.9, \"tv_audience_share\": 2.1, \"gdp_weighted_share\": 4.2}, {\"country\": \"Italy\", \"confederation\": \"UEFA\", \"population_share\": 0.9, \"tv_audience_share\": 2.1, \"gdp_weighted_share\": 4.0}, {\"country\": \"France\", \"confederation\": \"UEFA\", \"population_share\": 0.9, \"tv_audience_share\": 2.0, \"gdp_weighted_share\": 4.0}, {\"country\": \"Russia\", \"confederation\": \"UEFA\", \"population_share\": 2.1, \"tv_audience_share\": 3.1, \"gdp_weighted_share\": 3.5}, {\"country\": \"Spain\", \"confederation\": \"UEFA\", \"population_share\": 0.7, \"tv_audience_share\": 1.8, \"gdp_weighted_share\": 3.1}, {\"country\": \"South Korea\", \"confederation\": \"AFC\", \"population_share\": 0.7, \"tv_audience_share\": 1.8, \"gdp_weighted_share\": 3.0}, {\"country\": \"Indonesia\", \"confederation\": \"AFC\", \"population_share\": 3.5, \"tv_audience_share\": 6.7, \"gdp_weighted_share\": 2.9}, {\"country\": \"Mexico\", \"confederation\": \"CONCACAF\", \"population_share\": 1.7, \"tv_audience_share\": 3.2, \"gdp_weighted_share\": 2.6}, {\"country\": \"Turkey\", \"confederation\": \"UEFA\", \"population_share\": 1.1, \"tv_audience_share\": 2.3, \"gdp_weighted_share\": 2.0}, {\"country\": \"Thailand\", \"confederation\": \"AFC\", \"population_share\": 1.0, \"tv_audience_share\": 2.4, \"gdp_weighted_share\": 1.6}, {\"country\": \"Argentina\", \"confederation\": \"CONMEBOL\", \"population_share\": 0.6, \"tv_audience_share\": 1.5, \"gdp_weighted_share\": 1.6}, {\"country\": \"Netherlands\", \"confederation\": \"UEFA\", \"population_share\": 0.2, \"tv_audience_share\": 0.6, \"gdp_weighted_share\": 1.5}, {\"country\": \"Poland\", \"confederation\": \"UEFA\", \"population_share\": 0.6, \"tv_audience_share\": 1.2, \"gdp_weighted_share\": 1.3}, {\"country\": \"Saudi Arabia\", \"confederation\": \"AFC\", \"population_share\": 0.4, \"tv_audience_share\": 0.5, \"gdp_weighted_share\": 1.2}, {\"country\": \"Taiwan\", \"confederation\": \"AFC\", \"population_share\": 0.3, \"tv_audience_share\": 0.5, \"gdp_weighted_share\": 1.0}, {\"country\": \"Canada\", \"confederation\": \"CONCACAF\", \"population_share\": 0.5, \"tv_audience_share\": 0.5, \"gdp_weighted_share\": 1.0}, {\"country\": \"Colombia\", \"confederation\": \"CONMEBOL\", \"population_share\": 0.7, \"tv_audience_share\": 1.6, \"gdp_weighted_share\": 0.9}, {\"country\": \"Venezuela\", \"confederation\": \"CONMEBOL\", \"population_share\": 0.4, \"tv_audience_share\": 1.0, \"gdp_weighted_share\": 0.9}, {\"country\": \"South Africa\", \"confederation\": \"CAF\", \"population_share\": 0.7, \"tv_audience_share\": 1.3, \"gdp_weighted_share\": 0.8}, {\"country\": \"Malaysia\", \"confederation\": \"AFC\", \"population_share\": 0.4, \"tv_audience_share\": 0.7, \"gdp_weighted_share\": 0.7}, {\"country\": \"Switzerland\", \"confederation\": \"UEFA\", \"population_share\": 0.1, \"tv_audience_share\": 0.3, \"gdp_weighted_share\": 0.7}, {\"country\": \"Nigeria\", \"confederation\": \"CAF\", \"population_share\": 2.3, \"tv_audience_share\": 2.6, \"gdp_weighted_share\": 0.7}, {\"country\": \"Belgium\", \"confederation\": \"UEFA\", \"population_share\": 0.2, \"tv_audience_share\": 0.3, \"gdp_weighted_share\": 0.7}, {\"country\": \"Sweden\", \"confederation\": \"UEFA\", \"population_share\": 0.1, \"tv_audience_share\": 0.3, \"gdp_weighted_share\": 0.7}, {\"country\": \"Vietnam\", \"confederation\": \"AFC\", \"population_share\": 1.3, \"tv_audience_share\": 2.6, \"gdp_weighted_share\": 0.6}, {\"country\": \"Iran\", \"confederation\": \"AFC\", \"population_share\": 1.1, \"tv_audience_share\": 0.7, \"gdp_weighted_share\": 0.6}, {\"country\": \"Chile\", \"confederation\": \"CONMEBOL\", \"population_share\": 0.3, \"tv_audience_share\": 0.6, \"gdp_weighted_share\": 0.6}, {\"country\": \"Romania\", \"confederation\": \"UEFA\", \"population_share\": 0.3, \"tv_audience_share\": 0.7, \"gdp_weighted_share\": 0.6}, {\"country\": \"Austria\", \"confederation\": \"UEFA\", \"population_share\": 0.1, \"tv_audience_share\": 0.3, \"gdp_weighted_share\": 0.6}, {\"country\": \"Singapore\", \"confederation\": \"AFC\", \"population_share\": 0.1, \"tv_audience_share\": 0.2, \"gdp_weighted_share\": 0.6}, {\"country\": \"Australia\", \"confederation\": \"AFC\", \"population_share\": 0.3, \"tv_audience_share\": 0.3, \"gdp_weighted_share\": 0.5}, {\"country\": \"Greece\", \"confederation\": \"UEFA\", \"population_share\": 0.2, \"tv_audience_share\": 0.3, \"gdp_weighted_share\": 0.5}, {\"country\": \"Portugal\", \"confederation\": \"UEFA\", \"population_share\": 0.2, \"tv_audience_share\": 0.4, \"gdp_weighted_share\": 0.5}, {\"country\": \"India\", \"confederation\": \"AFC\", \"population_share\": 17.6, \"tv_audience_share\": 2.0, \"gdp_weighted_share\": 0.5}, {\"country\": \"Czech Republic\", \"confederation\": \"UEFA\", \"population_share\": 0.2, \"tv_audience_share\": 0.3, \"gdp_weighted_share\": 0.5}, {\"country\": \"Egypt\", \"confederation\": \"CAF\", \"population_share\": 1.1, \"tv_audience_share\": 0.8, \"gdp_weighted_share\": 0.5}, {\"country\": \"Denmark\", \"confederation\": \"UEFA\", \"population_share\": 0.1, \"tv_audience_share\": 0.2, \"gdp_weighted_share\": 0.5}, {\"country\": \"Norway\", \"confederation\": \"UEFA\", \"population_share\": 0.1, \"tv_audience_share\": 0.1, \"gdp_weighted_share\": 0.4}, {\"country\": \"Peru\", \"confederation\": \"CONMEBOL\", \"population_share\": 0.4, \"tv_audience_share\": 0.8, \"gdp_weighted_share\": 0.4}, {\"country\": \"Ukraine\", \"confederation\": \"UEFA\", \"population_share\": 0.7, \"tv_audience_share\": 0.9, \"gdp_weighted_share\": 0.4}, {\"country\": \"Iraq\", \"confederation\": \"AFC\", \"population_share\": 0.5, \"tv_audience_share\": 0.5, \"gdp_weighted_share\": 0.4}, {\"country\": \"Hungary\", \"confederation\": \"UEFA\", \"population_share\": 0.1, \"tv_audience_share\": 0.3, \"gdp_weighted_share\": 0.4}, {\"country\": \"Kazakhstan\", \"confederation\": \"UEFA\", \"population_share\": 0.2, \"tv_audience_share\": 0.3, \"gdp_weighted_share\": 0.3}, {\"country\": \"Finland\", \"confederation\": \"UEFA\", \"population_share\": 0.1, \"tv_audience_share\": 0.2, \"gdp_weighted_share\": 0.3}, {\"country\": \"Ireland\", \"confederation\": \"UEFA\", \"population_share\": 0.1, \"tv_audience_share\": 0.1, \"gdp_weighted_share\": 0.3}, {\"country\": \"Algeria\", \"confederation\": \"CAF\", \"population_share\": 0.5, \"tv_audience_share\": 0.4, \"gdp_weighted_share\": 0.3}, {\"country\": \"Cuba\", \"confederation\": \"CONCACAF\", \"population_share\": 0.2, \"tv_audience_share\": 0.3, \"gdp_weighted_share\": 0.3}, {\"country\": \"Ecuador\", \"confederation\": \"CONMEBOL\", \"population_share\": 0.2, \"tv_audience_share\": 0.5, \"gdp_weighted_share\": 0.3}, {\"country\": \"Slovakia\", \"confederation\": \"UEFA\", \"population_share\": 0.1, \"tv_audience_share\": 0.2, \"gdp_weighted_share\": 0.3}, {\"country\": \"Qatar\", \"confederation\": \"AFC\", \"population_share\": 0.0, \"tv_audience_share\": 0.0, \"gdp_weighted_share\": 0.2}, {\"country\": \"Kuwait\", \"confederation\": \"AFC\", \"population_share\": 0.0, \"tv_audience_share\": 0.1, \"gdp_weighted_share\": 0.2}, {\"country\": \"Bulgaria\", \"confederation\": \"UEFA\", \"population_share\": 0.1, \"tv_audience_share\": 0.2, \"gdp_weighted_share\": 0.2}, {\"country\": \"Serbia\", \"confederation\": \"UEFA\", \"population_share\": 0.1, \"tv_audience_share\": 0.3, \"gdp_weighted_share\": 0.2}, {\"country\": \"Belarus\", \"confederation\": \"UEFA\", \"population_share\": 0.1, \"tv_audience_share\": 0.2, \"gdp_weighted_share\": 0.2}, {\"country\": \"Hong Kong\", \"confederation\": \"AFC\", \"population_share\": 0.1, \"tv_audience_share\": 0.1, \"gdp_weighted_share\": 0.2}, {\"country\": \"Croatia\", \"confederation\": \"UEFA\", \"population_share\": 0.1, \"tv_audience_share\": 0.1, \"gdp_weighted_share\": 0.1}, {\"country\": \"Oman\", \"confederation\": \"AFC\", \"population_share\": 0.0, \"tv_audience_share\": 0.0, \"gdp_weighted_share\": 0.1}, {\"country\": \"Dominica Republic\", \"confederation\": \"CONCACAF\", \"population_share\": 0.1, \"tv_audience_share\": 0.2, \"gdp_weighted_share\": 0.1}, {\"country\": \"Azerbaijan\", \"confederation\": \"UEFA\", \"population_share\": 0.1, \"tv_audience_share\": 0.1, \"gdp_weighted_share\": 0.1}, {\"country\": \"New Zealand\", \"confederation\": \"OFC\", \"population_share\": 0.1, \"tv_audience_share\": 0.1, \"gdp_weighted_share\": 0.1}, {\"country\": \"Lithuania\", \"confederation\": \"UEFA\", \"population_share\": 0.0, \"tv_audience_share\": 0.1, \"gdp_weighted_share\": 0.1}, {\"country\": \"Slovenia\", \"confederation\": \"UEFA\", \"population_share\": 0.0, \"tv_audience_share\": 0.1, \"gdp_weighted_share\": 0.1}, {\"country\": \"Uruguay\", \"confederation\": \"CONMEBOL\", \"population_share\": 0.0, \"tv_audience_share\": 0.1, \"gdp_weighted_share\": 0.1}, {\"country\": \"Costa Rica\", \"confederation\": \"CONCACAF\", \"population_share\": 0.1, \"tv_audience_share\": 0.2, \"gdp_weighted_share\": 0.1}, {\"country\": \"Uzbekistan\", \"confederation\": \"AFC\", \"population_share\": 0.4, \"tv_audience_share\": 0.5, \"gdp_weighted_share\": 0.1}, {\"country\": \"Yemen\", \"confederation\": \"CAF\", \"population_share\": 0.3, \"tv_audience_share\": 0.4, \"gdp_weighted_share\": 0.1}, {\"country\": \"Israel\", \"confederation\": \"UEFA\", \"population_share\": 0.1, \"tv_audience_share\": 0.1, \"gdp_weighted_share\": 0.1}, {\"country\": \"El Salvador\", \"confederation\": \"CONCACAF\", \"population_share\": 0.1, \"tv_audience_share\": 0.2, \"gdp_weighted_share\": 0.1}, {\"country\": \"Syria\", \"confederation\": \"AFC\", \"population_share\": 0.3, \"tv_audience_share\": 0.3, \"gdp_weighted_share\": 0.1}, {\"country\": \"Pakistan\", \"confederation\": \"AFC\", \"population_share\": 2.5, \"tv_audience_share\": 0.4, \"gdp_weighted_share\": 0.1}, {\"country\": \"Guatemala\", \"confederation\": \"CONCACAF\", \"population_share\": 0.2, \"tv_audience_share\": 0.2, \"gdp_weighted_share\": 0.1}, {\"country\": \"Paraguay\", \"confederation\": \"CONMEBOL\", \"population_share\": 0.1, \"tv_audience_share\": 0.2, \"gdp_weighted_share\": 0.1}, {\"country\": \"Panama\", \"confederation\": \"CONCACAF\", \"population_share\": 0.1, \"tv_audience_share\": 0.1, \"gdp_weighted_share\": 0.1}, {\"country\": \"Bosnia-Herzegovina\", \"confederation\": \"UEFA\", \"population_share\": 0.1, \"tv_audience_share\": 0.1, \"gdp_weighted_share\": 0.1}, {\"country\": \"Cambodia\", \"confederation\": \"AFC\", \"population_share\": 0.2, \"tv_audience_share\": 0.5, \"gdp_weighted_share\": 0.1}, {\"country\": \"Ivory Coast\", \"confederation\": \"CAF\", \"population_share\": 0.3, \"tv_audience_share\": 0.4, \"gdp_weighted_share\": 0.1}, {\"country\": \"Macau\", \"confederation\": \"AFC\", \"population_share\": 0.0, \"tv_audience_share\": 0.0, \"gdp_weighted_share\": 0.1}, {\"country\": \"Latvia\", \"confederation\": \"UEFA\", \"population_share\": 0.0, \"tv_audience_share\": 0.1, \"gdp_weighted_share\": 0.1}, {\"country\": \"Lebanon\", \"confederation\": \"AFC\", \"population_share\": 0.1, \"tv_audience_share\": 0.1, \"gdp_weighted_share\": 0.1}, {\"country\": \"Jordan\", \"confederation\": \"AFC\", \"population_share\": 0.1, \"tv_audience_share\": 0.1, \"gdp_weighted_share\": 0.1}, {\"country\": \"Honduras\", \"confederation\": \"CONCACAF\", \"population_share\": 0.1, \"tv_audience_share\": 0.3, \"gdp_weighted_share\": 0.1}, {\"country\": \"Brunei\", \"confederation\": \"AFC\", \"population_share\": 0.0, \"tv_audience_share\": 0.0, \"gdp_weighted_share\": 0.1}, {\"country\": \"Albania\", \"confederation\": \"UEFA\", \"population_share\": 0.0, \"tv_audience_share\": 0.1, \"gdp_weighted_share\": 0.1}, {\"country\": \"Turkmenistan\", \"confederation\": \"AFC\", \"population_share\": 0.1, \"tv_audience_share\": 0.1, \"gdp_weighted_share\": 0.1}, {\"country\": \"Angola\", \"confederation\": \"CAF\", \"population_share\": 0.3, \"tv_audience_share\": 0.1, \"gdp_weighted_share\": 0.1}, {\"country\": \"Estonia\", \"confederation\": \"UEFA\", \"population_share\": 0.0, \"tv_audience_share\": 0.0, \"gdp_weighted_share\": 0.0}, {\"country\": \"Bahrain\", \"confederation\": \"AFC\", \"population_share\": 0.0, \"tv_audience_share\": 0.0, \"gdp_weighted_share\": 0.0}, {\"country\": \"Nepal\", \"confederation\": \"AFC\", \"population_share\": 0.4, \"tv_audience_share\": 0.4, \"gdp_weighted_share\": 0.0}, {\"country\": \"Cyprus\", \"confederation\": \"UEFA\", \"population_share\": 0.0, \"tv_audience_share\": 0.0, \"gdp_weighted_share\": 0.0}, {\"country\": \"Ghana\", \"confederation\": \"CAF\", \"population_share\": 0.4, \"tv_audience_share\": 0.2, \"gdp_weighted_share\": 0.0}, {\"country\": \"Mauritius\", \"confederation\": \"CAF\", \"population_share\": 0.0, \"tv_audience_share\": 0.0, \"gdp_weighted_share\": 0.0}, {\"country\": \"Macedonia\", \"confederation\": \"UEFA\", \"population_share\": 0.0, \"tv_audience_share\": 0.1, \"gdp_weighted_share\": 0.0}, {\"country\": \"Kenya\", \"confederation\": \"CAF\", \"population_share\": 0.6, \"tv_audience_share\": 0.3, \"gdp_weighted_share\": 0.0}, {\"country\": \"Trinidad &Tobago\", \"confederation\": \"CONCACAF\", \"population_share\": 0.0, \"tv_audience_share\": 0.0, \"gdp_weighted_share\": 0.0}, {\"country\": \"Philippines\", \"confederation\": \"AFC\", \"population_share\": 1.4, \"tv_audience_share\": 0.1, \"gdp_weighted_share\": 0.0}, {\"country\": \"Bolivia\", \"confederation\": \"CONMEBOL\", \"population_share\": 0.1, \"tv_audience_share\": 0.1, \"gdp_weighted_share\": 0.0}, {\"country\": \"Laos\", \"confederation\": \"AFC\", \"population_share\": 0.1, \"tv_audience_share\": 0.2, \"gdp_weighted_share\": 0.0}, {\"country\": \"Armenia\", \"confederation\": \"UEFA\", \"population_share\": 0.0, \"tv_audience_share\": 0.1, \"gdp_weighted_share\": 0.0}, {\"country\": \"Nicaragua\", \"confederation\": \"CONCACAF\", \"population_share\": 0.1, \"tv_audience_share\": 0.1, \"gdp_weighted_share\": 0.0}, {\"country\": \"Afghanistan\", \"confederation\": \"AFC\", \"population_share\": 0.4, \"tv_audience_share\": 0.3, \"gdp_weighted_share\": 0.0}, {\"country\": \"Kosovo\", \"confederation\": \"UEFA\", \"population_share\": 0.0, \"tv_audience_share\": 0.1, \"gdp_weighted_share\": 0.0}, {\"country\": \"Cameroon\", \"confederation\": \"CAF\", \"population_share\": 0.3, \"tv_audience_share\": 0.2, \"gdp_weighted_share\": 0.0}, {\"country\": \"Senegal\", \"confederation\": \"CAF\", \"population_share\": 0.2, \"tv_audience_share\": 0.2, \"gdp_weighted_share\": 0.0}, {\"country\": \"Jamaica\", \"confederation\": \"CONCACAF\", \"population_share\": 0.0, \"tv_audience_share\": 0.1, \"gdp_weighted_share\": 0.0}, {\"country\": \"Sri Lanka\", \"confederation\": \"AFC\", \"population_share\": 0.3, \"tv_audience_share\": 0.1, \"gdp_weighted_share\": 0.0}, {\"country\": \"Myanmar\", \"confederation\": \"AFC\", \"population_share\": 0.8, \"tv_audience_share\": 0.1, \"gdp_weighted_share\": 0.0}, {\"country\": \"Moldova\", \"confederation\": \"UEFA\", \"population_share\": 0.1, \"tv_audience_share\": 0.1, \"gdp_weighted_share\": 0.0}, {\"country\": \"Malta\", \"confederation\": \"UEFA\", \"population_share\": 0.0, \"tv_audience_share\": 0.0, \"gdp_weighted_share\": 0.0}, {\"country\": \"Bangladesh\", \"confederation\": \"AFC\", \"population_share\": 2.2, \"tv_audience_share\": 0.1, \"gdp_weighted_share\": 0.0}, {\"country\": \"Zambia\", \"confederation\": \"CAF\", \"population_share\": 0.2, \"tv_audience_share\": 0.1, \"gdp_weighted_share\": 0.0}, {\"country\": \"Morocco\", \"confederation\": \"CAF\", \"population_share\": 0.5, \"tv_audience_share\": 0.1, \"gdp_weighted_share\": 0.0}, {\"country\": \"North Korea\", \"confederation\": \"AFC\", \"population_share\": 0.4, \"tv_audience_share\": 0.2, \"gdp_weighted_share\": 0.0}, {\"country\": \"Botswana\", \"confederation\": \"CAF\", \"population_share\": 0.0, \"tv_audience_share\": 0.0, \"gdp_weighted_share\": 0.0}, {\"country\": \"Tajikistan\", \"confederation\": \"AFC\", \"population_share\": 0.1, \"tv_audience_share\": 0.1, \"gdp_weighted_share\": 0.0}, {\"country\": \"Iceland\", \"confederation\": \"UEFA\", \"population_share\": 0.0, \"tv_audience_share\": 0.0, \"gdp_weighted_share\": 0.0}, {\"country\": \"Uganda\", \"confederation\": \"CAF\", \"population_share\": 0.5, \"tv_audience_share\": 0.2, \"gdp_weighted_share\": 0.0}, {\"country\": \"Libya\", \"confederation\": \"CAF\", \"population_share\": 0.1, \"tv_audience_share\": 0.0, \"gdp_weighted_share\": 0.0}, {\"country\": \"Palestine\", \"confederation\": \"AFC\", \"population_share\": 0.1, \"tv_audience_share\": 0.1, \"gdp_weighted_share\": 0.0}, {\"country\": \"Kyrgyzstan\", \"confederation\": \"AFC\", \"population_share\": 0.1, \"tv_audience_share\": 0.1, \"gdp_weighted_share\": 0.0}, {\"country\": \"Mongolia\", \"confederation\": \"AFC\", \"population_share\": 0.0, \"tv_audience_share\": 0.0, \"gdp_weighted_share\": 0.0}, {\"country\": \"Montenegro\", \"confederation\": \"UEFA\", \"population_share\": 0.0, \"tv_audience_share\": 0.0, \"gdp_weighted_share\": 0.0}, {\"country\": \"Tanzania\", \"confederation\": \"CAF\", \"population_share\": 0.7, \"tv_audience_share\": 0.1, \"gdp_weighted_share\": 0.0}, {\"country\": \"Georgia\", \"confederation\": \"UEFA\", \"population_share\": 0.1, \"tv_audience_share\": 0.0, \"gdp_weighted_share\": 0.0}, {\"country\": \"Suriname\", \"confederation\": \"CONCACAF\", \"population_share\": 0.0, \"tv_audience_share\": 0.0, \"gdp_weighted_share\": 0.0}, {\"country\": \"Sudan\", \"confederation\": \"CAF\", \"population_share\": 0.5, \"tv_audience_share\": 0.1, \"gdp_weighted_share\": 0.0}, {\"country\": \"Gabon\", \"confederation\": \"CAF\", \"population_share\": 0.0, \"tv_audience_share\": 0.0, \"gdp_weighted_share\": 0.0}, {\"country\": \"Madagascar\", \"confederation\": \"CAF\", \"population_share\": 0.3, \"tv_audience_share\": 0.1, \"gdp_weighted_share\": 0.0}, {\"country\": \"Tunisia\", \"confederation\": \"AFC\", \"population_share\": 0.2, \"tv_audience_share\": 0.0, \"gdp_weighted_share\": 0.0}, {\"country\": \"Ethiopia\", \"confederation\": \"CAF\", \"population_share\": 1.3, \"tv_audience_share\": 0.2, \"gdp_weighted_share\": 0.0}, {\"country\": \"Zimbabwe\", \"confederation\": \"CAF\", \"population_share\": 0.2, \"tv_audience_share\": 0.1, \"gdp_weighted_share\": 0.0}, {\"country\": \"Namibia\", \"confederation\": \"CAF\", \"population_share\": 0.0, \"tv_audience_share\": 0.0, \"gdp_weighted_share\": 0.0}, {\"country\": \"Bahamas\", \"confederation\": \"CONCACAF\", \"population_share\": 0.0, \"tv_audience_share\": 0.0, \"gdp_weighted_share\": 0.0}, {\"country\": \"Papua New Guinea\", \"confederation\": \"OFC\", \"population_share\": 0.1, \"tv_audience_share\": 0.1, \"gdp_weighted_share\": 0.0}, {\"country\": \"Guyana\", \"confederation\": \"CONCACAF\", \"population_share\": 0.0, \"tv_audience_share\": 0.0, \"gdp_weighted_share\": 0.0}, {\"country\": \"Turks & Caicos\", \"confederation\": \"CONCACAF\", \"population_share\": 0.0, \"tv_audience_share\": 0.0, \"gdp_weighted_share\": 0.0}, {\"country\": \"Congo DR\", \"confederation\": \"CAF\", \"population_share\": 0.9, \"tv_audience_share\": 0.2, \"gdp_weighted_share\": 0.0}, {\"country\": \"Burkina Faso\", \"confederation\": \"CAF\", \"population_share\": 0.2, \"tv_audience_share\": 0.1, \"gdp_weighted_share\": 0.0}, {\"country\": \"Guinea\", \"confederation\": \"CAF\", \"population_share\": 0.2, \"tv_audience_share\": 0.1, \"gdp_weighted_share\": 0.0}, {\"country\": \"Haiti\", \"confederation\": \"CONCACAF\", \"population_share\": 0.1, \"tv_audience_share\": 0.1, \"gdp_weighted_share\": 0.0}, {\"country\": \"Fiji\", \"confederation\": \"OFC\", \"population_share\": 0.0, \"tv_audience_share\": 0.0, \"gdp_weighted_share\": 0.0}, {\"country\": \"Barbados\", \"confederation\": \"CONCACAF\", \"population_share\": 0.0, \"tv_audience_share\": 0.0, \"gdp_weighted_share\": 0.0}, {\"country\": \"Mali\", \"confederation\": \"CAF\", \"population_share\": 0.2, \"tv_audience_share\": 0.0, \"gdp_weighted_share\": 0.0}, {\"country\": \"Bermuda\", \"confederation\": \"CONCACAF\", \"population_share\": 0.0, \"tv_audience_share\": 0.0, \"gdp_weighted_share\": 0.0}, {\"country\": \"St. Maarten\", \"confederation\": \"CONCACAF\", \"population_share\": 0.0, \"tv_audience_share\": 0.0, \"gdp_weighted_share\": 0.0}, {\"country\": \"Equatorial Guinea\", \"confederation\": \"CAF\", \"population_share\": 0.0, \"tv_audience_share\": 0.0, \"gdp_weighted_share\": 0.0}, {\"country\": \"Mozambique\", \"confederation\": \"CAF\", \"population_share\": 0.3, \"tv_audience_share\": 0.1, \"gdp_weighted_share\": 0.0}, {\"country\": \"Seychelles\", \"confederation\": \"CAF\", \"population_share\": 0.0, \"tv_audience_share\": 0.0, \"gdp_weighted_share\": 0.0}, {\"country\": \"Cape Verde\", \"confederation\": \"CAF\", \"population_share\": 0.0, \"tv_audience_share\": 0.0, \"gdp_weighted_share\": 0.0}, {\"country\": \"Benin\", \"confederation\": \"CAF\", \"population_share\": 0.1, \"tv_audience_share\": 0.0, \"gdp_weighted_share\": 0.0}, {\"country\": \"Swaziland\", \"confederation\": \"CAF\", \"population_share\": 0.0, \"tv_audience_share\": 0.0, \"gdp_weighted_share\": 0.0}, {\"country\": \"Cayman Islands\", \"confederation\": \"CONCACAF\", \"population_share\": 0.0, \"tv_audience_share\": 0.0, \"gdp_weighted_share\": 0.0}, {\"country\": \"Aruba\", \"confederation\": \"CONCACAF\", \"population_share\": 0.0, \"tv_audience_share\": 0.0, \"gdp_weighted_share\": 0.0}, {\"country\": \"Maldives\", \"confederation\": \"AFC\", \"population_share\": 0.0, \"tv_audience_share\": 0.0, \"gdp_weighted_share\": 0.0}, {\"country\": \"Niger\", \"confederation\": \"CAF\", \"population_share\": 0.2, \"tv_audience_share\": 0.1, \"gdp_weighted_share\": 0.0}, {\"country\": \"Curacao\", \"confederation\": \"CONCACAF\", \"population_share\": 0.0, \"tv_audience_share\": 0.0, \"gdp_weighted_share\": 0.0}, {\"country\": \"St. Lucia\", \"confederation\": \"CONCACAF\", \"population_share\": 0.0, \"tv_audience_share\": 0.0, \"gdp_weighted_share\": 0.0}, {\"country\": \"Togo\", \"confederation\": \"CAF\", \"population_share\": 0.1, \"tv_audience_share\": 0.0, \"gdp_weighted_share\": 0.0}, {\"country\": \"Burundi\", \"confederation\": \"CAF\", \"population_share\": 0.1, \"tv_audience_share\": 0.1, \"gdp_weighted_share\": 0.0}, {\"country\": \"Congo, Rep.\", \"confederation\": \"CAF\", \"population_share\": 0.1, \"tv_audience_share\": 0.0, \"gdp_weighted_share\": 0.0}, {\"country\": \"Antigua & Barbuda\", \"confederation\": \"CONCACAF\", \"population_share\": 0.0, \"tv_audience_share\": 0.0, \"gdp_weighted_share\": 0.0}, {\"country\": \"Chad\", \"confederation\": \"CAF\", \"population_share\": 0.2, \"tv_audience_share\": 0.0, \"gdp_weighted_share\": 0.0}, {\"country\": \"Eritrea\", \"confederation\": \"CAF\", \"population_share\": 0.1, \"tv_audience_share\": 0.0, \"gdp_weighted_share\": 0.0}, {\"country\": \"Grenada\", \"confederation\": \"CONCACAF\", \"population_share\": 0.0, \"tv_audience_share\": 0.0, \"gdp_weighted_share\": 0.0}, {\"country\": \"Lesotho\", \"confederation\": \"CAF\", \"population_share\": 0.0, \"tv_audience_share\": 0.0, \"gdp_weighted_share\": 0.0}, {\"country\": \"St. Vincent\", \"confederation\": \"CONCACAF\", \"population_share\": 0.0, \"tv_audience_share\": 0.0, \"gdp_weighted_share\": 0.0}, {\"country\": \"Malawi\", \"confederation\": \"CAF\", \"population_share\": 0.2, \"tv_audience_share\": 0.0, \"gdp_weighted_share\": 0.0}, {\"country\": \"Sierra Leone\", \"confederation\": \"CAF\", \"population_share\": 0.1, \"tv_audience_share\": 0.0, \"gdp_weighted_share\": 0.0}, {\"country\": \"Mauritania\", \"confederation\": \"CAF\", \"population_share\": 0.1, \"tv_audience_share\": 0.0, \"gdp_weighted_share\": 0.0}, {\"country\": \"Solomon Islands\", \"confederation\": \"OFC\", \"population_share\": 0.0, \"tv_audience_share\": 0.0, \"gdp_weighted_share\": 0.0}, {\"country\": \"Dominica\", \"confederation\": \"CONCACAF\", \"population_share\": 0.0, \"tv_audience_share\": 0.0, \"gdp_weighted_share\": 0.0}, {\"country\": \"Timor\", \"confederation\": \"AFC\", \"population_share\": 0.0, \"tv_audience_share\": 0.0, \"gdp_weighted_share\": 0.0}, {\"country\": \"St. Kitts\", \"confederation\": \"CONCACAF\", \"population_share\": 0.0, \"tv_audience_share\": 0.0, \"gdp_weighted_share\": 0.0}, {\"country\": \"Rwanda\", \"confederation\": \"CAF\", \"population_share\": 0.2, \"tv_audience_share\": 0.0, \"gdp_weighted_share\": 0.0}, {\"country\": \"Somalia\", \"confederation\": \"CAF\", \"population_share\": 0.1, \"tv_audience_share\": 0.0, \"gdp_weighted_share\": 0.0}, {\"country\": \"Gambia\", \"confederation\": \"CAF\", \"population_share\": 0.0, \"tv_audience_share\": 0.0, \"gdp_weighted_share\": 0.0}, {\"country\": \"Samoa\", \"confederation\": \"OFC\", \"population_share\": 0.0, \"tv_audience_share\": 0.0, \"gdp_weighted_share\": 0.0}, {\"country\": \"Guinea-Bissau\", \"confederation\": \"CAF\", \"population_share\": 0.0, \"tv_audience_share\": 0.0, \"gdp_weighted_share\": 0.0}, {\"country\": \"Central African Republic\", \"confederation\": \"CAF\", \"population_share\": 0.1, \"tv_audience_share\": 0.0, \"gdp_weighted_share\": 0.0}, {\"country\": \"Vanuatu\", \"confederation\": \"OFC\", \"population_share\": 0.0, \"tv_audience_share\": 0.0, \"gdp_weighted_share\": 0.0}, {\"country\": \"American Samoa\", \"confederation\": \"OFC\", \"population_share\": 0.0, \"tv_audience_share\": 0.0, \"gdp_weighted_share\": 0.0}, {\"country\": \"Cook Islands\", \"confederation\": \"OFC\", \"population_share\": 0.0, \"tv_audience_share\": 0.0, \"gdp_weighted_share\": 0.0}, {\"country\": \"Tonga\", \"confederation\": \"OFC\", \"population_share\": 0.0, \"tv_audience_share\": 0.0, \"gdp_weighted_share\": 0.0}, {\"country\": \"Liberia\", \"confederation\": \"CAF\", \"population_share\": 0.1, \"tv_audience_share\": 0.0, \"gdp_weighted_share\": 0.0}, {\"country\": \"Palau\", \"confederation\": \"OFC\", \"population_share\": 0.0, \"tv_audience_share\": 0.0, \"gdp_weighted_share\": 0.0}, {\"country\": \"Nauru\", \"confederation\": \"OFC\", \"population_share\": 0.0, \"tv_audience_share\": 0.0, \"gdp_weighted_share\": 0.0}, {\"country\": \"Niue\", \"confederation\": \"OFC\", \"population_share\": 0.0, \"tv_audience_share\": 0.0, \"gdp_weighted_share\": 0.0}]}}, {\"mode\": \"vega-lite\"});\n",
       "</script>"
      ],
      "text/plain": [
       "alt.Chart(...)"
      ]
     },
     "execution_count": 175,
     "metadata": {},
     "output_type": "execute_result"
    }
   ],
   "source": [
    "chart = alt.Chart(df).mark_bar().encode(\n",
    "    x=alt.X('confederation',\n",
    "            sort='-y',\n",
    "            axis=alt.Axis(title=\"confederation\", \n",
    "                          titleAnchor=\"start\", \n",
    "                          labelAngle=0)),\n",
    "    y=alt.Y('count(confederation)', \n",
    "            axis=alt.Axis(title = \"Count\", \n",
    "                          titleAnchor=\"end\")),\n",
    "    color= alt.Color('count(confederation)', \n",
    "                     legend=alt.Legend(title=\"Count\"))\n",
    ").properties(\n",
    "    title='FIFA Confederation',\n",
    "    width=350,\n",
    "    height=150\n",
    ")\n",
    "\n",
    "chart"
   ]
  },
  {
   "attachments": {},
   "cell_type": "markdown",
   "metadata": {},
   "source": [
    "### Visualization 2: Bubble chart"
   ]
  },
  {
   "cell_type": "code",
   "execution_count": 178,
   "metadata": {},
   "outputs": [
    {
     "data": {
      "text/html": [
       "\n",
       "<div id=\"altair-viz-543f5791cf7f4a08893defd8dd99c009\"></div>\n",
       "<script type=\"text/javascript\">\n",
       "  var VEGA_DEBUG = (typeof VEGA_DEBUG == \"undefined\") ? {} : VEGA_DEBUG;\n",
       "  (function(spec, embedOpt){\n",
       "    let outputDiv = document.currentScript.previousElementSibling;\n",
       "    if (outputDiv.id !== \"altair-viz-543f5791cf7f4a08893defd8dd99c009\") {\n",
       "      outputDiv = document.getElementById(\"altair-viz-543f5791cf7f4a08893defd8dd99c009\");\n",
       "    }\n",
       "    const paths = {\n",
       "      \"vega\": \"https://cdn.jsdelivr.net/npm//vega@5?noext\",\n",
       "      \"vega-lib\": \"https://cdn.jsdelivr.net/npm//vega-lib?noext\",\n",
       "      \"vega-lite\": \"https://cdn.jsdelivr.net/npm//vega-lite@4.17.0?noext\",\n",
       "      \"vega-embed\": \"https://cdn.jsdelivr.net/npm//vega-embed@6?noext\",\n",
       "    };\n",
       "\n",
       "    function maybeLoadScript(lib, version) {\n",
       "      var key = `${lib.replace(\"-\", \"\")}_version`;\n",
       "      return (VEGA_DEBUG[key] == version) ?\n",
       "        Promise.resolve(paths[lib]) :\n",
       "        new Promise(function(resolve, reject) {\n",
       "          var s = document.createElement('script');\n",
       "          document.getElementsByTagName(\"head\")[0].appendChild(s);\n",
       "          s.async = true;\n",
       "          s.onload = () => {\n",
       "            VEGA_DEBUG[key] = version;\n",
       "            return resolve(paths[lib]);\n",
       "          };\n",
       "          s.onerror = () => reject(`Error loading script: ${paths[lib]}`);\n",
       "          s.src = paths[lib];\n",
       "        });\n",
       "    }\n",
       "\n",
       "    function showError(err) {\n",
       "      outputDiv.innerHTML = `<div class=\"error\" style=\"color:red;\">${err}</div>`;\n",
       "      throw err;\n",
       "    }\n",
       "\n",
       "    function displayChart(vegaEmbed) {\n",
       "      vegaEmbed(outputDiv, spec, embedOpt)\n",
       "        .catch(err => showError(`Javascript Error: ${err.message}<br>This usually means there's a typo in your chart specification. See the javascript console for the full traceback.`));\n",
       "    }\n",
       "\n",
       "    if(typeof define === \"function\" && define.amd) {\n",
       "      requirejs.config({paths});\n",
       "      require([\"vega-embed\"], displayChart, err => showError(`Error loading script: ${err.message}`));\n",
       "    } else {\n",
       "      maybeLoadScript(\"vega\", \"5\")\n",
       "        .then(() => maybeLoadScript(\"vega-lite\", \"4.17.0\"))\n",
       "        .then(() => maybeLoadScript(\"vega-embed\", \"6\"))\n",
       "        .catch(showError)\n",
       "        .then(() => displayChart(vegaEmbed));\n",
       "    }\n",
       "  })({\"config\": {\"view\": {\"continuousWidth\": 400, \"continuousHeight\": 300}}, \"data\": {\"name\": \"data-6dee66d464f2943716634fd3e5515b86\"}, \"mark\": \"point\", \"encoding\": {\"size\": {\"aggregate\": \"count\", \"field\": \"confederation\", \"type\": \"nominal\"}, \"x\": {\"field\": \"confederation\", \"type\": \"nominal\"}, \"y\": {\"aggregate\": \"count\", \"field\": \"confederation\", \"type\": \"nominal\"}}, \"$schema\": \"https://vega.github.io/schema/vega-lite/v4.17.0.json\", \"datasets\": {\"data-6dee66d464f2943716634fd3e5515b86\": [{\"country\": \"United States\", \"confederation\": \"CONCACAF\"}, {\"country\": \"Japan\", \"confederation\": \"AFC\"}, {\"country\": \"China\", \"confederation\": \"AFC\"}, {\"country\": \"Germany\", \"confederation\": \"UEFA\"}, {\"country\": \"Brazil\", \"confederation\": \"CONMEBOL\"}, {\"country\": \"United Kingdom\", \"confederation\": \"UEFA\"}, {\"country\": \"Italy\", \"confederation\": \"UEFA\"}, {\"country\": \"France\", \"confederation\": \"UEFA\"}, {\"country\": \"Russia\", \"confederation\": \"UEFA\"}, {\"country\": \"Spain\", \"confederation\": \"UEFA\"}, {\"country\": \"South Korea\", \"confederation\": \"AFC\"}, {\"country\": \"Indonesia\", \"confederation\": \"AFC\"}, {\"country\": \"Mexico\", \"confederation\": \"CONCACAF\"}, {\"country\": \"Turkey\", \"confederation\": \"UEFA\"}, {\"country\": \"Thailand\", \"confederation\": \"AFC\"}, {\"country\": \"Argentina\", \"confederation\": \"CONMEBOL\"}, {\"country\": \"Netherlands\", \"confederation\": \"UEFA\"}, {\"country\": \"Poland\", \"confederation\": \"UEFA\"}, {\"country\": \"Saudi Arabia\", \"confederation\": \"AFC\"}, {\"country\": \"Taiwan\", \"confederation\": \"AFC\"}, {\"country\": \"Canada\", \"confederation\": \"CONCACAF\"}, {\"country\": \"Colombia\", \"confederation\": \"CONMEBOL\"}, {\"country\": \"Venezuela\", \"confederation\": \"CONMEBOL\"}, {\"country\": \"South Africa\", \"confederation\": \"CAF\"}, {\"country\": \"Malaysia\", \"confederation\": \"AFC\"}, {\"country\": \"Switzerland\", \"confederation\": \"UEFA\"}, {\"country\": \"Nigeria\", \"confederation\": \"CAF\"}, {\"country\": \"Belgium\", \"confederation\": \"UEFA\"}, {\"country\": \"Sweden\", \"confederation\": \"UEFA\"}, {\"country\": \"Vietnam\", \"confederation\": \"AFC\"}, {\"country\": \"Iran\", \"confederation\": \"AFC\"}, {\"country\": \"Chile\", \"confederation\": \"CONMEBOL\"}, {\"country\": \"Romania\", \"confederation\": \"UEFA\"}, {\"country\": \"Austria\", \"confederation\": \"UEFA\"}, {\"country\": \"Singapore\", \"confederation\": \"AFC\"}, {\"country\": \"Australia\", \"confederation\": \"AFC\"}, {\"country\": \"Greece\", \"confederation\": \"UEFA\"}, {\"country\": \"Portugal\", \"confederation\": \"UEFA\"}, {\"country\": \"India\", \"confederation\": \"AFC\"}, {\"country\": \"Czech Republic\", \"confederation\": \"UEFA\"}, {\"country\": \"Egypt\", \"confederation\": \"CAF\"}, {\"country\": \"Denmark\", \"confederation\": \"UEFA\"}, {\"country\": \"Norway\", \"confederation\": \"UEFA\"}, {\"country\": \"Peru\", \"confederation\": \"CONMEBOL\"}, {\"country\": \"Ukraine\", \"confederation\": \"UEFA\"}, {\"country\": \"Iraq\", \"confederation\": \"AFC\"}, {\"country\": \"Hungary\", \"confederation\": \"UEFA\"}, {\"country\": \"Kazakhstan\", \"confederation\": \"UEFA\"}, {\"country\": \"Finland\", \"confederation\": \"UEFA\"}, {\"country\": \"Ireland\", \"confederation\": \"UEFA\"}, {\"country\": \"Algeria\", \"confederation\": \"CAF\"}, {\"country\": \"Cuba\", \"confederation\": \"CONCACAF\"}, {\"country\": \"Ecuador\", \"confederation\": \"CONMEBOL\"}, {\"country\": \"Slovakia\", \"confederation\": \"UEFA\"}, {\"country\": \"Qatar\", \"confederation\": \"AFC\"}, {\"country\": \"Kuwait\", \"confederation\": \"AFC\"}, {\"country\": \"Bulgaria\", \"confederation\": \"UEFA\"}, {\"country\": \"Serbia\", \"confederation\": \"UEFA\"}, {\"country\": \"Belarus\", \"confederation\": \"UEFA\"}, {\"country\": \"Hong Kong\", \"confederation\": \"AFC\"}, {\"country\": \"Croatia\", \"confederation\": \"UEFA\"}, {\"country\": \"Oman\", \"confederation\": \"AFC\"}, {\"country\": \"Dominica Republic\", \"confederation\": \"CONCACAF\"}, {\"country\": \"Azerbaijan\", \"confederation\": \"UEFA\"}, {\"country\": \"New Zealand\", \"confederation\": \"OFC\"}, {\"country\": \"Lithuania\", \"confederation\": \"UEFA\"}, {\"country\": \"Slovenia\", \"confederation\": \"UEFA\"}, {\"country\": \"Uruguay\", \"confederation\": \"CONMEBOL\"}, {\"country\": \"Costa Rica\", \"confederation\": \"CONCACAF\"}, {\"country\": \"Uzbekistan\", \"confederation\": \"AFC\"}, {\"country\": \"Yemen\", \"confederation\": \"CAF\"}, {\"country\": \"Israel\", \"confederation\": \"UEFA\"}, {\"country\": \"El Salvador\", \"confederation\": \"CONCACAF\"}, {\"country\": \"Syria\", \"confederation\": \"AFC\"}, {\"country\": \"Pakistan\", \"confederation\": \"AFC\"}, {\"country\": \"Guatemala\", \"confederation\": \"CONCACAF\"}, {\"country\": \"Paraguay\", \"confederation\": \"CONMEBOL\"}, {\"country\": \"Panama\", \"confederation\": \"CONCACAF\"}, {\"country\": \"Bosnia-Herzegovina\", \"confederation\": \"UEFA\"}, {\"country\": \"Cambodia\", \"confederation\": \"AFC\"}, {\"country\": \"Ivory Coast\", \"confederation\": \"CAF\"}, {\"country\": \"Macau\", \"confederation\": \"AFC\"}, {\"country\": \"Latvia\", \"confederation\": \"UEFA\"}, {\"country\": \"Lebanon\", \"confederation\": \"AFC\"}, {\"country\": \"Jordan\", \"confederation\": \"AFC\"}, {\"country\": \"Honduras\", \"confederation\": \"CONCACAF\"}, {\"country\": \"Brunei\", \"confederation\": \"AFC\"}, {\"country\": \"Albania\", \"confederation\": \"UEFA\"}, {\"country\": \"Turkmenistan\", \"confederation\": \"AFC\"}, {\"country\": \"Angola\", \"confederation\": \"CAF\"}, {\"country\": \"Estonia\", \"confederation\": \"UEFA\"}, {\"country\": \"Bahrain\", \"confederation\": \"AFC\"}, {\"country\": \"Nepal\", \"confederation\": \"AFC\"}, {\"country\": \"Cyprus\", \"confederation\": \"UEFA\"}, {\"country\": \"Ghana\", \"confederation\": \"CAF\"}, {\"country\": \"Mauritius\", \"confederation\": \"CAF\"}, {\"country\": \"Macedonia\", \"confederation\": \"UEFA\"}, {\"country\": \"Kenya\", \"confederation\": \"CAF\"}, {\"country\": \"Trinidad &Tobago\", \"confederation\": \"CONCACAF\"}, {\"country\": \"Philippines\", \"confederation\": \"AFC\"}, {\"country\": \"Bolivia\", \"confederation\": \"CONMEBOL\"}, {\"country\": \"Laos\", \"confederation\": \"AFC\"}, {\"country\": \"Armenia\", \"confederation\": \"UEFA\"}, {\"country\": \"Nicaragua\", \"confederation\": \"CONCACAF\"}, {\"country\": \"Afghanistan\", \"confederation\": \"AFC\"}, {\"country\": \"Kosovo\", \"confederation\": \"UEFA\"}, {\"country\": \"Cameroon\", \"confederation\": \"CAF\"}, {\"country\": \"Senegal\", \"confederation\": \"CAF\"}, {\"country\": \"Jamaica\", \"confederation\": \"CONCACAF\"}, {\"country\": \"Sri Lanka\", \"confederation\": \"AFC\"}, {\"country\": \"Myanmar\", \"confederation\": \"AFC\"}, {\"country\": \"Moldova\", \"confederation\": \"UEFA\"}, {\"country\": \"Malta\", \"confederation\": \"UEFA\"}, {\"country\": \"Bangladesh\", \"confederation\": \"AFC\"}, {\"country\": \"Zambia\", \"confederation\": \"CAF\"}, {\"country\": \"Morocco\", \"confederation\": \"CAF\"}, {\"country\": \"North Korea\", \"confederation\": \"AFC\"}, {\"country\": \"Botswana\", \"confederation\": \"CAF\"}, {\"country\": \"Tajikistan\", \"confederation\": \"AFC\"}, {\"country\": \"Iceland\", \"confederation\": \"UEFA\"}, {\"country\": \"Uganda\", \"confederation\": \"CAF\"}, {\"country\": \"Libya\", \"confederation\": \"CAF\"}, {\"country\": \"Palestine\", \"confederation\": \"AFC\"}, {\"country\": \"Kyrgyzstan\", \"confederation\": \"AFC\"}, {\"country\": \"Mongolia\", \"confederation\": \"AFC\"}, {\"country\": \"Montenegro\", \"confederation\": \"UEFA\"}, {\"country\": \"Tanzania\", \"confederation\": \"CAF\"}, {\"country\": \"Georgia\", \"confederation\": \"UEFA\"}, {\"country\": \"Suriname\", \"confederation\": \"CONCACAF\"}, {\"country\": \"Sudan\", \"confederation\": \"CAF\"}, {\"country\": \"Gabon\", \"confederation\": \"CAF\"}, {\"country\": \"Madagascar\", \"confederation\": \"CAF\"}, {\"country\": \"Tunisia\", \"confederation\": \"AFC\"}, {\"country\": \"Ethiopia\", \"confederation\": \"CAF\"}, {\"country\": \"Zimbabwe\", \"confederation\": \"CAF\"}, {\"country\": \"Namibia\", \"confederation\": \"CAF\"}, {\"country\": \"Bahamas\", \"confederation\": \"CONCACAF\"}, {\"country\": \"Papua New Guinea\", \"confederation\": \"OFC\"}, {\"country\": \"Guyana\", \"confederation\": \"CONCACAF\"}, {\"country\": \"Turks & Caicos\", \"confederation\": \"CONCACAF\"}, {\"country\": \"Congo DR\", \"confederation\": \"CAF\"}, {\"country\": \"Burkina Faso\", \"confederation\": \"CAF\"}, {\"country\": \"Guinea\", \"confederation\": \"CAF\"}, {\"country\": \"Haiti\", \"confederation\": \"CONCACAF\"}, {\"country\": \"Fiji\", \"confederation\": \"OFC\"}, {\"country\": \"Barbados\", \"confederation\": \"CONCACAF\"}, {\"country\": \"Mali\", \"confederation\": \"CAF\"}, {\"country\": \"Bermuda\", \"confederation\": \"CONCACAF\"}, {\"country\": \"St. Maarten\", \"confederation\": \"CONCACAF\"}, {\"country\": \"Equatorial Guinea\", \"confederation\": \"CAF\"}, {\"country\": \"Mozambique\", \"confederation\": \"CAF\"}, {\"country\": \"Seychelles\", \"confederation\": \"CAF\"}, {\"country\": \"Cape Verde\", \"confederation\": \"CAF\"}, {\"country\": \"Benin\", \"confederation\": \"CAF\"}, {\"country\": \"Swaziland\", \"confederation\": \"CAF\"}, {\"country\": \"Cayman Islands\", \"confederation\": \"CONCACAF\"}, {\"country\": \"Aruba\", \"confederation\": \"CONCACAF\"}, {\"country\": \"Maldives\", \"confederation\": \"AFC\"}, {\"country\": \"Niger\", \"confederation\": \"CAF\"}, {\"country\": \"Curacao\", \"confederation\": \"CONCACAF\"}, {\"country\": \"St. Lucia\", \"confederation\": \"CONCACAF\"}, {\"country\": \"Togo\", \"confederation\": \"CAF\"}, {\"country\": \"Burundi\", \"confederation\": \"CAF\"}, {\"country\": \"Congo, Rep.\", \"confederation\": \"CAF\"}, {\"country\": \"Antigua & Barbuda\", \"confederation\": \"CONCACAF\"}, {\"country\": \"Chad\", \"confederation\": \"CAF\"}, {\"country\": \"Eritrea\", \"confederation\": \"CAF\"}, {\"country\": \"Grenada\", \"confederation\": \"CONCACAF\"}, {\"country\": \"Lesotho\", \"confederation\": \"CAF\"}, {\"country\": \"St. Vincent\", \"confederation\": \"CONCACAF\"}, {\"country\": \"Malawi\", \"confederation\": \"CAF\"}, {\"country\": \"Sierra Leone\", \"confederation\": \"CAF\"}, {\"country\": \"Mauritania\", \"confederation\": \"CAF\"}, {\"country\": \"Solomon Islands\", \"confederation\": \"OFC\"}, {\"country\": \"Dominica\", \"confederation\": \"CONCACAF\"}, {\"country\": \"Timor\", \"confederation\": \"AFC\"}, {\"country\": \"St. Kitts\", \"confederation\": \"CONCACAF\"}, {\"country\": \"Rwanda\", \"confederation\": \"CAF\"}, {\"country\": \"Somalia\", \"confederation\": \"CAF\"}, {\"country\": \"Gambia\", \"confederation\": \"CAF\"}, {\"country\": \"Samoa\", \"confederation\": \"OFC\"}, {\"country\": \"Guinea-Bissau\", \"confederation\": \"CAF\"}, {\"country\": \"Central African Republic\", \"confederation\": \"CAF\"}, {\"country\": \"Vanuatu\", \"confederation\": \"OFC\"}, {\"country\": \"American Samoa\", \"confederation\": \"OFC\"}, {\"country\": \"Cook Islands\", \"confederation\": \"OFC\"}, {\"country\": \"Tonga\", \"confederation\": \"OFC\"}, {\"country\": \"Liberia\", \"confederation\": \"CAF\"}, {\"country\": \"Palau\", \"confederation\": \"OFC\"}, {\"country\": \"Nauru\", \"confederation\": \"OFC\"}, {\"country\": \"Niue\", \"confederation\": \"OFC\"}]}}, {\"mode\": \"vega-lite\"});\n",
       "</script>"
      ],
      "text/plain": [
       "alt.Chart(...)"
      ]
     },
     "execution_count": 178,
     "metadata": {},
     "output_type": "execute_result"
    }
   ],
   "source": [
    "\n",
    "alt.Chart(source).mark_point().encode(\n",
    "    x='confederation',\n",
    "    y='count(confederation)',\n",
    "    size='count(confederation)'\n",
    ")\n"
   ]
  },
  {
   "attachments": {},
   "cell_type": "markdown",
   "metadata": {},
   "source": [
    "### Visualization 3: Interactive"
   ]
  },
  {
   "cell_type": "code",
   "execution_count": 177,
   "metadata": {},
   "outputs": [
    {
     "data": {
      "text/html": [
       "\n",
       "<div id=\"altair-viz-3257aad986c14739a1a4d29daa59bb5d\"></div>\n",
       "<script type=\"text/javascript\">\n",
       "  var VEGA_DEBUG = (typeof VEGA_DEBUG == \"undefined\") ? {} : VEGA_DEBUG;\n",
       "  (function(spec, embedOpt){\n",
       "    let outputDiv = document.currentScript.previousElementSibling;\n",
       "    if (outputDiv.id !== \"altair-viz-3257aad986c14739a1a4d29daa59bb5d\") {\n",
       "      outputDiv = document.getElementById(\"altair-viz-3257aad986c14739a1a4d29daa59bb5d\");\n",
       "    }\n",
       "    const paths = {\n",
       "      \"vega\": \"https://cdn.jsdelivr.net/npm//vega@5?noext\",\n",
       "      \"vega-lib\": \"https://cdn.jsdelivr.net/npm//vega-lib?noext\",\n",
       "      \"vega-lite\": \"https://cdn.jsdelivr.net/npm//vega-lite@4.17.0?noext\",\n",
       "      \"vega-embed\": \"https://cdn.jsdelivr.net/npm//vega-embed@6?noext\",\n",
       "    };\n",
       "\n",
       "    function maybeLoadScript(lib, version) {\n",
       "      var key = `${lib.replace(\"-\", \"\")}_version`;\n",
       "      return (VEGA_DEBUG[key] == version) ?\n",
       "        Promise.resolve(paths[lib]) :\n",
       "        new Promise(function(resolve, reject) {\n",
       "          var s = document.createElement('script');\n",
       "          document.getElementsByTagName(\"head\")[0].appendChild(s);\n",
       "          s.async = true;\n",
       "          s.onload = () => {\n",
       "            VEGA_DEBUG[key] = version;\n",
       "            return resolve(paths[lib]);\n",
       "          };\n",
       "          s.onerror = () => reject(`Error loading script: ${paths[lib]}`);\n",
       "          s.src = paths[lib];\n",
       "        });\n",
       "    }\n",
       "\n",
       "    function showError(err) {\n",
       "      outputDiv.innerHTML = `<div class=\"error\" style=\"color:red;\">${err}</div>`;\n",
       "      throw err;\n",
       "    }\n",
       "\n",
       "    function displayChart(vegaEmbed) {\n",
       "      vegaEmbed(outputDiv, spec, embedOpt)\n",
       "        .catch(err => showError(`Javascript Error: ${err.message}<br>This usually means there's a typo in your chart specification. See the javascript console for the full traceback.`));\n",
       "    }\n",
       "\n",
       "    if(typeof define === \"function\" && define.amd) {\n",
       "      requirejs.config({paths});\n",
       "      require([\"vega-embed\"], displayChart, err => showError(`Error loading script: ${err.message}`));\n",
       "    } else {\n",
       "      maybeLoadScript(\"vega\", \"5\")\n",
       "        .then(() => maybeLoadScript(\"vega-lite\", \"4.17.0\"))\n",
       "        .then(() => maybeLoadScript(\"vega-embed\", \"6\"))\n",
       "        .catch(showError)\n",
       "        .then(() => displayChart(vegaEmbed));\n",
       "    }\n",
       "  })({\"config\": {\"view\": {\"continuousWidth\": 400, \"continuousHeight\": 300}}, \"data\": {\"name\": \"data-dfda6e87cb8b25a7162d299fe9091735\"}, \"mark\": {\"type\": \"circle\", \"size\": 60}, \"encoding\": {\"tooltip\": [{\"field\": \"confederation\", \"type\": \"nominal\"}, {\"aggregate\": \"count\", \"field\": \"confederation\", \"type\": \"nominal\"}], \"x\": {\"field\": \"confederation\", \"title\": \"confederation\", \"type\": \"nominal\"}, \"y\": {\"aggregate\": \"count\", \"field\": \"confederation\", \"title\": \"count(confederation)\", \"type\": \"nominal\"}}, \"selection\": {\"selector013\": {\"type\": \"interval\", \"bind\": \"scales\", \"encodings\": [\"x\", \"y\"]}}, \"$schema\": \"https://vega.github.io/schema/vega-lite/v4.17.0.json\", \"datasets\": {\"data-dfda6e87cb8b25a7162d299fe9091735\": [{\"country\": \"United States\", \"confederation\": \"CONCACAF\", \"population_share\": 4.5, \"tv_audience_share\": 4.3, \"gdp_weighted_share\": 11.3}, {\"country\": \"Japan\", \"confederation\": \"AFC\", \"population_share\": 1.9, \"tv_audience_share\": 4.9, \"gdp_weighted_share\": 9.1}, {\"country\": \"China\", \"confederation\": \"AFC\", \"population_share\": 19.5, \"tv_audience_share\": 14.8, \"gdp_weighted_share\": 7.3}, {\"country\": \"Germany\", \"confederation\": \"UEFA\", \"population_share\": 1.2, \"tv_audience_share\": 2.9, \"gdp_weighted_share\": 6.3}, {\"country\": \"Brazil\", \"confederation\": \"CONMEBOL\", \"population_share\": 2.8, \"tv_audience_share\": 7.1, \"gdp_weighted_share\": 5.4}, {\"country\": \"United Kingdom\", \"confederation\": \"UEFA\", \"population_share\": 0.9, \"tv_audience_share\": 2.1, \"gdp_weighted_share\": 4.2}, {\"country\": \"Italy\", \"confederation\": \"UEFA\", \"population_share\": 0.9, \"tv_audience_share\": 2.1, \"gdp_weighted_share\": 4.0}, {\"country\": \"France\", \"confederation\": \"UEFA\", \"population_share\": 0.9, \"tv_audience_share\": 2.0, \"gdp_weighted_share\": 4.0}, {\"country\": \"Russia\", \"confederation\": \"UEFA\", \"population_share\": 2.1, \"tv_audience_share\": 3.1, \"gdp_weighted_share\": 3.5}, {\"country\": \"Spain\", \"confederation\": \"UEFA\", \"population_share\": 0.7, \"tv_audience_share\": 1.8, \"gdp_weighted_share\": 3.1}, {\"country\": \"South Korea\", \"confederation\": \"AFC\", \"population_share\": 0.7, \"tv_audience_share\": 1.8, \"gdp_weighted_share\": 3.0}, {\"country\": \"Indonesia\", \"confederation\": \"AFC\", \"population_share\": 3.5, \"tv_audience_share\": 6.7, \"gdp_weighted_share\": 2.9}, {\"country\": \"Mexico\", \"confederation\": \"CONCACAF\", \"population_share\": 1.7, \"tv_audience_share\": 3.2, \"gdp_weighted_share\": 2.6}, {\"country\": \"Turkey\", \"confederation\": \"UEFA\", \"population_share\": 1.1, \"tv_audience_share\": 2.3, \"gdp_weighted_share\": 2.0}, {\"country\": \"Thailand\", \"confederation\": \"AFC\", \"population_share\": 1.0, \"tv_audience_share\": 2.4, \"gdp_weighted_share\": 1.6}, {\"country\": \"Argentina\", \"confederation\": \"CONMEBOL\", \"population_share\": 0.6, \"tv_audience_share\": 1.5, \"gdp_weighted_share\": 1.6}, {\"country\": \"Netherlands\", \"confederation\": \"UEFA\", \"population_share\": 0.2, \"tv_audience_share\": 0.6, \"gdp_weighted_share\": 1.5}, {\"country\": \"Poland\", \"confederation\": \"UEFA\", \"population_share\": 0.6, \"tv_audience_share\": 1.2, \"gdp_weighted_share\": 1.3}, {\"country\": \"Saudi Arabia\", \"confederation\": \"AFC\", \"population_share\": 0.4, \"tv_audience_share\": 0.5, \"gdp_weighted_share\": 1.2}, {\"country\": \"Taiwan\", \"confederation\": \"AFC\", \"population_share\": 0.3, \"tv_audience_share\": 0.5, \"gdp_weighted_share\": 1.0}, {\"country\": \"Canada\", \"confederation\": \"CONCACAF\", \"population_share\": 0.5, \"tv_audience_share\": 0.5, \"gdp_weighted_share\": 1.0}, {\"country\": \"Colombia\", \"confederation\": \"CONMEBOL\", \"population_share\": 0.7, \"tv_audience_share\": 1.6, \"gdp_weighted_share\": 0.9}, {\"country\": \"Venezuela\", \"confederation\": \"CONMEBOL\", \"population_share\": 0.4, \"tv_audience_share\": 1.0, \"gdp_weighted_share\": 0.9}, {\"country\": \"South Africa\", \"confederation\": \"CAF\", \"population_share\": 0.7, \"tv_audience_share\": 1.3, \"gdp_weighted_share\": 0.8}, {\"country\": \"Malaysia\", \"confederation\": \"AFC\", \"population_share\": 0.4, \"tv_audience_share\": 0.7, \"gdp_weighted_share\": 0.7}, {\"country\": \"Switzerland\", \"confederation\": \"UEFA\", \"population_share\": 0.1, \"tv_audience_share\": 0.3, \"gdp_weighted_share\": 0.7}, {\"country\": \"Nigeria\", \"confederation\": \"CAF\", \"population_share\": 2.3, \"tv_audience_share\": 2.6, \"gdp_weighted_share\": 0.7}, {\"country\": \"Belgium\", \"confederation\": \"UEFA\", \"population_share\": 0.2, \"tv_audience_share\": 0.3, \"gdp_weighted_share\": 0.7}, {\"country\": \"Sweden\", \"confederation\": \"UEFA\", \"population_share\": 0.1, \"tv_audience_share\": 0.3, \"gdp_weighted_share\": 0.7}, {\"country\": \"Vietnam\", \"confederation\": \"AFC\", \"population_share\": 1.3, \"tv_audience_share\": 2.6, \"gdp_weighted_share\": 0.6}, {\"country\": \"Iran\", \"confederation\": \"AFC\", \"population_share\": 1.1, \"tv_audience_share\": 0.7, \"gdp_weighted_share\": 0.6}, {\"country\": \"Chile\", \"confederation\": \"CONMEBOL\", \"population_share\": 0.3, \"tv_audience_share\": 0.6, \"gdp_weighted_share\": 0.6}, {\"country\": \"Romania\", \"confederation\": \"UEFA\", \"population_share\": 0.3, \"tv_audience_share\": 0.7, \"gdp_weighted_share\": 0.6}, {\"country\": \"Austria\", \"confederation\": \"UEFA\", \"population_share\": 0.1, \"tv_audience_share\": 0.3, \"gdp_weighted_share\": 0.6}, {\"country\": \"Singapore\", \"confederation\": \"AFC\", \"population_share\": 0.1, \"tv_audience_share\": 0.2, \"gdp_weighted_share\": 0.6}, {\"country\": \"Australia\", \"confederation\": \"AFC\", \"population_share\": 0.3, \"tv_audience_share\": 0.3, \"gdp_weighted_share\": 0.5}, {\"country\": \"Greece\", \"confederation\": \"UEFA\", \"population_share\": 0.2, \"tv_audience_share\": 0.3, \"gdp_weighted_share\": 0.5}, {\"country\": \"Portugal\", \"confederation\": \"UEFA\", \"population_share\": 0.2, \"tv_audience_share\": 0.4, \"gdp_weighted_share\": 0.5}, {\"country\": \"India\", \"confederation\": \"AFC\", \"population_share\": 17.6, \"tv_audience_share\": 2.0, \"gdp_weighted_share\": 0.5}, {\"country\": \"Czech Republic\", \"confederation\": \"UEFA\", \"population_share\": 0.2, \"tv_audience_share\": 0.3, \"gdp_weighted_share\": 0.5}, {\"country\": \"Egypt\", \"confederation\": \"CAF\", \"population_share\": 1.1, \"tv_audience_share\": 0.8, \"gdp_weighted_share\": 0.5}, {\"country\": \"Denmark\", \"confederation\": \"UEFA\", \"population_share\": 0.1, \"tv_audience_share\": 0.2, \"gdp_weighted_share\": 0.5}, {\"country\": \"Norway\", \"confederation\": \"UEFA\", \"population_share\": 0.1, \"tv_audience_share\": 0.1, \"gdp_weighted_share\": 0.4}, {\"country\": \"Peru\", \"confederation\": \"CONMEBOL\", \"population_share\": 0.4, \"tv_audience_share\": 0.8, \"gdp_weighted_share\": 0.4}, {\"country\": \"Ukraine\", \"confederation\": \"UEFA\", \"population_share\": 0.7, \"tv_audience_share\": 0.9, \"gdp_weighted_share\": 0.4}, {\"country\": \"Iraq\", \"confederation\": \"AFC\", \"population_share\": 0.5, \"tv_audience_share\": 0.5, \"gdp_weighted_share\": 0.4}, {\"country\": \"Hungary\", \"confederation\": \"UEFA\", \"population_share\": 0.1, \"tv_audience_share\": 0.3, \"gdp_weighted_share\": 0.4}, {\"country\": \"Kazakhstan\", \"confederation\": \"UEFA\", \"population_share\": 0.2, \"tv_audience_share\": 0.3, \"gdp_weighted_share\": 0.3}, {\"country\": \"Finland\", \"confederation\": \"UEFA\", \"population_share\": 0.1, \"tv_audience_share\": 0.2, \"gdp_weighted_share\": 0.3}, {\"country\": \"Ireland\", \"confederation\": \"UEFA\", \"population_share\": 0.1, \"tv_audience_share\": 0.1, \"gdp_weighted_share\": 0.3}, {\"country\": \"Algeria\", \"confederation\": \"CAF\", \"population_share\": 0.5, \"tv_audience_share\": 0.4, \"gdp_weighted_share\": 0.3}, {\"country\": \"Cuba\", \"confederation\": \"CONCACAF\", \"population_share\": 0.2, \"tv_audience_share\": 0.3, \"gdp_weighted_share\": 0.3}, {\"country\": \"Ecuador\", \"confederation\": \"CONMEBOL\", \"population_share\": 0.2, \"tv_audience_share\": 0.5, \"gdp_weighted_share\": 0.3}, {\"country\": \"Slovakia\", \"confederation\": \"UEFA\", \"population_share\": 0.1, \"tv_audience_share\": 0.2, \"gdp_weighted_share\": 0.3}, {\"country\": \"Qatar\", \"confederation\": \"AFC\", \"population_share\": 0.0, \"tv_audience_share\": 0.0, \"gdp_weighted_share\": 0.2}, {\"country\": \"Kuwait\", \"confederation\": \"AFC\", \"population_share\": 0.0, \"tv_audience_share\": 0.1, \"gdp_weighted_share\": 0.2}, {\"country\": \"Bulgaria\", \"confederation\": \"UEFA\", \"population_share\": 0.1, \"tv_audience_share\": 0.2, \"gdp_weighted_share\": 0.2}, {\"country\": \"Serbia\", \"confederation\": \"UEFA\", \"population_share\": 0.1, \"tv_audience_share\": 0.3, \"gdp_weighted_share\": 0.2}, {\"country\": \"Belarus\", \"confederation\": \"UEFA\", \"population_share\": 0.1, \"tv_audience_share\": 0.2, \"gdp_weighted_share\": 0.2}, {\"country\": \"Hong Kong\", \"confederation\": \"AFC\", \"population_share\": 0.1, \"tv_audience_share\": 0.1, \"gdp_weighted_share\": 0.2}, {\"country\": \"Croatia\", \"confederation\": \"UEFA\", \"population_share\": 0.1, \"tv_audience_share\": 0.1, \"gdp_weighted_share\": 0.1}, {\"country\": \"Oman\", \"confederation\": \"AFC\", \"population_share\": 0.0, \"tv_audience_share\": 0.0, \"gdp_weighted_share\": 0.1}, {\"country\": \"Dominica Republic\", \"confederation\": \"CONCACAF\", \"population_share\": 0.1, \"tv_audience_share\": 0.2, \"gdp_weighted_share\": 0.1}, {\"country\": \"Azerbaijan\", \"confederation\": \"UEFA\", \"population_share\": 0.1, \"tv_audience_share\": 0.1, \"gdp_weighted_share\": 0.1}, {\"country\": \"New Zealand\", \"confederation\": \"OFC\", \"population_share\": 0.1, \"tv_audience_share\": 0.1, \"gdp_weighted_share\": 0.1}, {\"country\": \"Lithuania\", \"confederation\": \"UEFA\", \"population_share\": 0.0, \"tv_audience_share\": 0.1, \"gdp_weighted_share\": 0.1}, {\"country\": \"Slovenia\", \"confederation\": \"UEFA\", \"population_share\": 0.0, \"tv_audience_share\": 0.1, \"gdp_weighted_share\": 0.1}, {\"country\": \"Uruguay\", \"confederation\": \"CONMEBOL\", \"population_share\": 0.0, \"tv_audience_share\": 0.1, \"gdp_weighted_share\": 0.1}, {\"country\": \"Costa Rica\", \"confederation\": \"CONCACAF\", \"population_share\": 0.1, \"tv_audience_share\": 0.2, \"gdp_weighted_share\": 0.1}, {\"country\": \"Uzbekistan\", \"confederation\": \"AFC\", \"population_share\": 0.4, \"tv_audience_share\": 0.5, \"gdp_weighted_share\": 0.1}, {\"country\": \"Yemen\", \"confederation\": \"CAF\", \"population_share\": 0.3, \"tv_audience_share\": 0.4, \"gdp_weighted_share\": 0.1}, {\"country\": \"Israel\", \"confederation\": \"UEFA\", \"population_share\": 0.1, \"tv_audience_share\": 0.1, \"gdp_weighted_share\": 0.1}, {\"country\": \"El Salvador\", \"confederation\": \"CONCACAF\", \"population_share\": 0.1, \"tv_audience_share\": 0.2, \"gdp_weighted_share\": 0.1}, {\"country\": \"Syria\", \"confederation\": \"AFC\", \"population_share\": 0.3, \"tv_audience_share\": 0.3, \"gdp_weighted_share\": 0.1}, {\"country\": \"Pakistan\", \"confederation\": \"AFC\", \"population_share\": 2.5, \"tv_audience_share\": 0.4, \"gdp_weighted_share\": 0.1}, {\"country\": \"Guatemala\", \"confederation\": \"CONCACAF\", \"population_share\": 0.2, \"tv_audience_share\": 0.2, \"gdp_weighted_share\": 0.1}, {\"country\": \"Paraguay\", \"confederation\": \"CONMEBOL\", \"population_share\": 0.1, \"tv_audience_share\": 0.2, \"gdp_weighted_share\": 0.1}, {\"country\": \"Panama\", \"confederation\": \"CONCACAF\", \"population_share\": 0.1, \"tv_audience_share\": 0.1, \"gdp_weighted_share\": 0.1}, {\"country\": \"Bosnia-Herzegovina\", \"confederation\": \"UEFA\", \"population_share\": 0.1, \"tv_audience_share\": 0.1, \"gdp_weighted_share\": 0.1}, {\"country\": \"Cambodia\", \"confederation\": \"AFC\", \"population_share\": 0.2, \"tv_audience_share\": 0.5, \"gdp_weighted_share\": 0.1}, {\"country\": \"Ivory Coast\", \"confederation\": \"CAF\", \"population_share\": 0.3, \"tv_audience_share\": 0.4, \"gdp_weighted_share\": 0.1}, {\"country\": \"Macau\", \"confederation\": \"AFC\", \"population_share\": 0.0, \"tv_audience_share\": 0.0, \"gdp_weighted_share\": 0.1}, {\"country\": \"Latvia\", \"confederation\": \"UEFA\", \"population_share\": 0.0, \"tv_audience_share\": 0.1, \"gdp_weighted_share\": 0.1}, {\"country\": \"Lebanon\", \"confederation\": \"AFC\", \"population_share\": 0.1, \"tv_audience_share\": 0.1, \"gdp_weighted_share\": 0.1}, {\"country\": \"Jordan\", \"confederation\": \"AFC\", \"population_share\": 0.1, \"tv_audience_share\": 0.1, \"gdp_weighted_share\": 0.1}, {\"country\": \"Honduras\", \"confederation\": \"CONCACAF\", \"population_share\": 0.1, \"tv_audience_share\": 0.3, \"gdp_weighted_share\": 0.1}, {\"country\": \"Brunei\", \"confederation\": \"AFC\", \"population_share\": 0.0, \"tv_audience_share\": 0.0, \"gdp_weighted_share\": 0.1}, {\"country\": \"Albania\", \"confederation\": \"UEFA\", \"population_share\": 0.0, \"tv_audience_share\": 0.1, \"gdp_weighted_share\": 0.1}, {\"country\": \"Turkmenistan\", \"confederation\": \"AFC\", \"population_share\": 0.1, \"tv_audience_share\": 0.1, \"gdp_weighted_share\": 0.1}, {\"country\": \"Angola\", \"confederation\": \"CAF\", \"population_share\": 0.3, \"tv_audience_share\": 0.1, \"gdp_weighted_share\": 0.1}, {\"country\": \"Estonia\", \"confederation\": \"UEFA\", \"population_share\": 0.0, \"tv_audience_share\": 0.0, \"gdp_weighted_share\": 0.0}, {\"country\": \"Bahrain\", \"confederation\": \"AFC\", \"population_share\": 0.0, \"tv_audience_share\": 0.0, \"gdp_weighted_share\": 0.0}, {\"country\": \"Nepal\", \"confederation\": \"AFC\", \"population_share\": 0.4, \"tv_audience_share\": 0.4, \"gdp_weighted_share\": 0.0}, {\"country\": \"Cyprus\", \"confederation\": \"UEFA\", \"population_share\": 0.0, \"tv_audience_share\": 0.0, \"gdp_weighted_share\": 0.0}, {\"country\": \"Ghana\", \"confederation\": \"CAF\", \"population_share\": 0.4, \"tv_audience_share\": 0.2, \"gdp_weighted_share\": 0.0}, {\"country\": \"Mauritius\", \"confederation\": \"CAF\", \"population_share\": 0.0, \"tv_audience_share\": 0.0, \"gdp_weighted_share\": 0.0}, {\"country\": \"Macedonia\", \"confederation\": \"UEFA\", \"population_share\": 0.0, \"tv_audience_share\": 0.1, \"gdp_weighted_share\": 0.0}, {\"country\": \"Kenya\", \"confederation\": \"CAF\", \"population_share\": 0.6, \"tv_audience_share\": 0.3, \"gdp_weighted_share\": 0.0}, {\"country\": \"Trinidad &Tobago\", \"confederation\": \"CONCACAF\", \"population_share\": 0.0, \"tv_audience_share\": 0.0, \"gdp_weighted_share\": 0.0}, {\"country\": \"Philippines\", \"confederation\": \"AFC\", \"population_share\": 1.4, \"tv_audience_share\": 0.1, \"gdp_weighted_share\": 0.0}, {\"country\": \"Bolivia\", \"confederation\": \"CONMEBOL\", \"population_share\": 0.1, \"tv_audience_share\": 0.1, \"gdp_weighted_share\": 0.0}, {\"country\": \"Laos\", \"confederation\": \"AFC\", \"population_share\": 0.1, \"tv_audience_share\": 0.2, \"gdp_weighted_share\": 0.0}, {\"country\": \"Armenia\", \"confederation\": \"UEFA\", \"population_share\": 0.0, \"tv_audience_share\": 0.1, \"gdp_weighted_share\": 0.0}, {\"country\": \"Nicaragua\", \"confederation\": \"CONCACAF\", \"population_share\": 0.1, \"tv_audience_share\": 0.1, \"gdp_weighted_share\": 0.0}, {\"country\": \"Afghanistan\", \"confederation\": \"AFC\", \"population_share\": 0.4, \"tv_audience_share\": 0.3, \"gdp_weighted_share\": 0.0}, {\"country\": \"Kosovo\", \"confederation\": \"UEFA\", \"population_share\": 0.0, \"tv_audience_share\": 0.1, \"gdp_weighted_share\": 0.0}, {\"country\": \"Cameroon\", \"confederation\": \"CAF\", \"population_share\": 0.3, \"tv_audience_share\": 0.2, \"gdp_weighted_share\": 0.0}, {\"country\": \"Senegal\", \"confederation\": \"CAF\", \"population_share\": 0.2, \"tv_audience_share\": 0.2, \"gdp_weighted_share\": 0.0}, {\"country\": \"Jamaica\", \"confederation\": \"CONCACAF\", \"population_share\": 0.0, \"tv_audience_share\": 0.1, \"gdp_weighted_share\": 0.0}, {\"country\": \"Sri Lanka\", \"confederation\": \"AFC\", \"population_share\": 0.3, \"tv_audience_share\": 0.1, \"gdp_weighted_share\": 0.0}, {\"country\": \"Myanmar\", \"confederation\": \"AFC\", \"population_share\": 0.8, \"tv_audience_share\": 0.1, \"gdp_weighted_share\": 0.0}, {\"country\": \"Moldova\", \"confederation\": \"UEFA\", \"population_share\": 0.1, \"tv_audience_share\": 0.1, \"gdp_weighted_share\": 0.0}, {\"country\": \"Malta\", \"confederation\": \"UEFA\", \"population_share\": 0.0, \"tv_audience_share\": 0.0, \"gdp_weighted_share\": 0.0}, {\"country\": \"Bangladesh\", \"confederation\": \"AFC\", \"population_share\": 2.2, \"tv_audience_share\": 0.1, \"gdp_weighted_share\": 0.0}, {\"country\": \"Zambia\", \"confederation\": \"CAF\", \"population_share\": 0.2, \"tv_audience_share\": 0.1, \"gdp_weighted_share\": 0.0}, {\"country\": \"Morocco\", \"confederation\": \"CAF\", \"population_share\": 0.5, \"tv_audience_share\": 0.1, \"gdp_weighted_share\": 0.0}, {\"country\": \"North Korea\", \"confederation\": \"AFC\", \"population_share\": 0.4, \"tv_audience_share\": 0.2, \"gdp_weighted_share\": 0.0}, {\"country\": \"Botswana\", \"confederation\": \"CAF\", \"population_share\": 0.0, \"tv_audience_share\": 0.0, \"gdp_weighted_share\": 0.0}, {\"country\": \"Tajikistan\", \"confederation\": \"AFC\", \"population_share\": 0.1, \"tv_audience_share\": 0.1, \"gdp_weighted_share\": 0.0}, {\"country\": \"Iceland\", \"confederation\": \"UEFA\", \"population_share\": 0.0, \"tv_audience_share\": 0.0, \"gdp_weighted_share\": 0.0}, {\"country\": \"Uganda\", \"confederation\": \"CAF\", \"population_share\": 0.5, \"tv_audience_share\": 0.2, \"gdp_weighted_share\": 0.0}, {\"country\": \"Libya\", \"confederation\": \"CAF\", \"population_share\": 0.1, \"tv_audience_share\": 0.0, \"gdp_weighted_share\": 0.0}, {\"country\": \"Palestine\", \"confederation\": \"AFC\", \"population_share\": 0.1, \"tv_audience_share\": 0.1, \"gdp_weighted_share\": 0.0}, {\"country\": \"Kyrgyzstan\", \"confederation\": \"AFC\", \"population_share\": 0.1, \"tv_audience_share\": 0.1, \"gdp_weighted_share\": 0.0}, {\"country\": \"Mongolia\", \"confederation\": \"AFC\", \"population_share\": 0.0, \"tv_audience_share\": 0.0, \"gdp_weighted_share\": 0.0}, {\"country\": \"Montenegro\", \"confederation\": \"UEFA\", \"population_share\": 0.0, \"tv_audience_share\": 0.0, \"gdp_weighted_share\": 0.0}, {\"country\": \"Tanzania\", \"confederation\": \"CAF\", \"population_share\": 0.7, \"tv_audience_share\": 0.1, \"gdp_weighted_share\": 0.0}, {\"country\": \"Georgia\", \"confederation\": \"UEFA\", \"population_share\": 0.1, \"tv_audience_share\": 0.0, \"gdp_weighted_share\": 0.0}, {\"country\": \"Suriname\", \"confederation\": \"CONCACAF\", \"population_share\": 0.0, \"tv_audience_share\": 0.0, \"gdp_weighted_share\": 0.0}, {\"country\": \"Sudan\", \"confederation\": \"CAF\", \"population_share\": 0.5, \"tv_audience_share\": 0.1, \"gdp_weighted_share\": 0.0}, {\"country\": \"Gabon\", \"confederation\": \"CAF\", \"population_share\": 0.0, \"tv_audience_share\": 0.0, \"gdp_weighted_share\": 0.0}, {\"country\": \"Madagascar\", \"confederation\": \"CAF\", \"population_share\": 0.3, \"tv_audience_share\": 0.1, \"gdp_weighted_share\": 0.0}, {\"country\": \"Tunisia\", \"confederation\": \"AFC\", \"population_share\": 0.2, \"tv_audience_share\": 0.0, \"gdp_weighted_share\": 0.0}, {\"country\": \"Ethiopia\", \"confederation\": \"CAF\", \"population_share\": 1.3, \"tv_audience_share\": 0.2, \"gdp_weighted_share\": 0.0}, {\"country\": \"Zimbabwe\", \"confederation\": \"CAF\", \"population_share\": 0.2, \"tv_audience_share\": 0.1, \"gdp_weighted_share\": 0.0}, {\"country\": \"Namibia\", \"confederation\": \"CAF\", \"population_share\": 0.0, \"tv_audience_share\": 0.0, \"gdp_weighted_share\": 0.0}, {\"country\": \"Bahamas\", \"confederation\": \"CONCACAF\", \"population_share\": 0.0, \"tv_audience_share\": 0.0, \"gdp_weighted_share\": 0.0}, {\"country\": \"Papua New Guinea\", \"confederation\": \"OFC\", \"population_share\": 0.1, \"tv_audience_share\": 0.1, \"gdp_weighted_share\": 0.0}, {\"country\": \"Guyana\", \"confederation\": \"CONCACAF\", \"population_share\": 0.0, \"tv_audience_share\": 0.0, \"gdp_weighted_share\": 0.0}, {\"country\": \"Turks & Caicos\", \"confederation\": \"CONCACAF\", \"population_share\": 0.0, \"tv_audience_share\": 0.0, \"gdp_weighted_share\": 0.0}, {\"country\": \"Congo DR\", \"confederation\": \"CAF\", \"population_share\": 0.9, \"tv_audience_share\": 0.2, \"gdp_weighted_share\": 0.0}, {\"country\": \"Burkina Faso\", \"confederation\": \"CAF\", \"population_share\": 0.2, \"tv_audience_share\": 0.1, \"gdp_weighted_share\": 0.0}, {\"country\": \"Guinea\", \"confederation\": \"CAF\", \"population_share\": 0.2, \"tv_audience_share\": 0.1, \"gdp_weighted_share\": 0.0}, {\"country\": \"Haiti\", \"confederation\": \"CONCACAF\", \"population_share\": 0.1, \"tv_audience_share\": 0.1, \"gdp_weighted_share\": 0.0}, {\"country\": \"Fiji\", \"confederation\": \"OFC\", \"population_share\": 0.0, \"tv_audience_share\": 0.0, \"gdp_weighted_share\": 0.0}, {\"country\": \"Barbados\", \"confederation\": \"CONCACAF\", \"population_share\": 0.0, \"tv_audience_share\": 0.0, \"gdp_weighted_share\": 0.0}, {\"country\": \"Mali\", \"confederation\": \"CAF\", \"population_share\": 0.2, \"tv_audience_share\": 0.0, \"gdp_weighted_share\": 0.0}, {\"country\": \"Bermuda\", \"confederation\": \"CONCACAF\", \"population_share\": 0.0, \"tv_audience_share\": 0.0, \"gdp_weighted_share\": 0.0}, {\"country\": \"St. Maarten\", \"confederation\": \"CONCACAF\", \"population_share\": 0.0, \"tv_audience_share\": 0.0, \"gdp_weighted_share\": 0.0}, {\"country\": \"Equatorial Guinea\", \"confederation\": \"CAF\", \"population_share\": 0.0, \"tv_audience_share\": 0.0, \"gdp_weighted_share\": 0.0}, {\"country\": \"Mozambique\", \"confederation\": \"CAF\", \"population_share\": 0.3, \"tv_audience_share\": 0.1, \"gdp_weighted_share\": 0.0}, {\"country\": \"Seychelles\", \"confederation\": \"CAF\", \"population_share\": 0.0, \"tv_audience_share\": 0.0, \"gdp_weighted_share\": 0.0}, {\"country\": \"Cape Verde\", \"confederation\": \"CAF\", \"population_share\": 0.0, \"tv_audience_share\": 0.0, \"gdp_weighted_share\": 0.0}, {\"country\": \"Benin\", \"confederation\": \"CAF\", \"population_share\": 0.1, \"tv_audience_share\": 0.0, \"gdp_weighted_share\": 0.0}, {\"country\": \"Swaziland\", \"confederation\": \"CAF\", \"population_share\": 0.0, \"tv_audience_share\": 0.0, \"gdp_weighted_share\": 0.0}, {\"country\": \"Cayman Islands\", \"confederation\": \"CONCACAF\", \"population_share\": 0.0, \"tv_audience_share\": 0.0, \"gdp_weighted_share\": 0.0}, {\"country\": \"Aruba\", \"confederation\": \"CONCACAF\", \"population_share\": 0.0, \"tv_audience_share\": 0.0, \"gdp_weighted_share\": 0.0}, {\"country\": \"Maldives\", \"confederation\": \"AFC\", \"population_share\": 0.0, \"tv_audience_share\": 0.0, \"gdp_weighted_share\": 0.0}, {\"country\": \"Niger\", \"confederation\": \"CAF\", \"population_share\": 0.2, \"tv_audience_share\": 0.1, \"gdp_weighted_share\": 0.0}, {\"country\": \"Curacao\", \"confederation\": \"CONCACAF\", \"population_share\": 0.0, \"tv_audience_share\": 0.0, \"gdp_weighted_share\": 0.0}, {\"country\": \"St. Lucia\", \"confederation\": \"CONCACAF\", \"population_share\": 0.0, \"tv_audience_share\": 0.0, \"gdp_weighted_share\": 0.0}, {\"country\": \"Togo\", \"confederation\": \"CAF\", \"population_share\": 0.1, \"tv_audience_share\": 0.0, \"gdp_weighted_share\": 0.0}, {\"country\": \"Burundi\", \"confederation\": \"CAF\", \"population_share\": 0.1, \"tv_audience_share\": 0.1, \"gdp_weighted_share\": 0.0}, {\"country\": \"Congo, Rep.\", \"confederation\": \"CAF\", \"population_share\": 0.1, \"tv_audience_share\": 0.0, \"gdp_weighted_share\": 0.0}, {\"country\": \"Antigua & Barbuda\", \"confederation\": \"CONCACAF\", \"population_share\": 0.0, \"tv_audience_share\": 0.0, \"gdp_weighted_share\": 0.0}, {\"country\": \"Chad\", \"confederation\": \"CAF\", \"population_share\": 0.2, \"tv_audience_share\": 0.0, \"gdp_weighted_share\": 0.0}, {\"country\": \"Eritrea\", \"confederation\": \"CAF\", \"population_share\": 0.1, \"tv_audience_share\": 0.0, \"gdp_weighted_share\": 0.0}, {\"country\": \"Grenada\", \"confederation\": \"CONCACAF\", \"population_share\": 0.0, \"tv_audience_share\": 0.0, \"gdp_weighted_share\": 0.0}, {\"country\": \"Lesotho\", \"confederation\": \"CAF\", \"population_share\": 0.0, \"tv_audience_share\": 0.0, \"gdp_weighted_share\": 0.0}, {\"country\": \"St. Vincent\", \"confederation\": \"CONCACAF\", \"population_share\": 0.0, \"tv_audience_share\": 0.0, \"gdp_weighted_share\": 0.0}, {\"country\": \"Malawi\", \"confederation\": \"CAF\", \"population_share\": 0.2, \"tv_audience_share\": 0.0, \"gdp_weighted_share\": 0.0}, {\"country\": \"Sierra Leone\", \"confederation\": \"CAF\", \"population_share\": 0.1, \"tv_audience_share\": 0.0, \"gdp_weighted_share\": 0.0}, {\"country\": \"Mauritania\", \"confederation\": \"CAF\", \"population_share\": 0.1, \"tv_audience_share\": 0.0, \"gdp_weighted_share\": 0.0}, {\"country\": \"Solomon Islands\", \"confederation\": \"OFC\", \"population_share\": 0.0, \"tv_audience_share\": 0.0, \"gdp_weighted_share\": 0.0}, {\"country\": \"Dominica\", \"confederation\": \"CONCACAF\", \"population_share\": 0.0, \"tv_audience_share\": 0.0, \"gdp_weighted_share\": 0.0}, {\"country\": \"Timor\", \"confederation\": \"AFC\", \"population_share\": 0.0, \"tv_audience_share\": 0.0, \"gdp_weighted_share\": 0.0}, {\"country\": \"St. Kitts\", \"confederation\": \"CONCACAF\", \"population_share\": 0.0, \"tv_audience_share\": 0.0, \"gdp_weighted_share\": 0.0}, {\"country\": \"Rwanda\", \"confederation\": \"CAF\", \"population_share\": 0.2, \"tv_audience_share\": 0.0, \"gdp_weighted_share\": 0.0}, {\"country\": \"Somalia\", \"confederation\": \"CAF\", \"population_share\": 0.1, \"tv_audience_share\": 0.0, \"gdp_weighted_share\": 0.0}, {\"country\": \"Gambia\", \"confederation\": \"CAF\", \"population_share\": 0.0, \"tv_audience_share\": 0.0, \"gdp_weighted_share\": 0.0}, {\"country\": \"Samoa\", \"confederation\": \"OFC\", \"population_share\": 0.0, \"tv_audience_share\": 0.0, \"gdp_weighted_share\": 0.0}, {\"country\": \"Guinea-Bissau\", \"confederation\": \"CAF\", \"population_share\": 0.0, \"tv_audience_share\": 0.0, \"gdp_weighted_share\": 0.0}, {\"country\": \"Central African Republic\", \"confederation\": \"CAF\", \"population_share\": 0.1, \"tv_audience_share\": 0.0, \"gdp_weighted_share\": 0.0}, {\"country\": \"Vanuatu\", \"confederation\": \"OFC\", \"population_share\": 0.0, \"tv_audience_share\": 0.0, \"gdp_weighted_share\": 0.0}, {\"country\": \"American Samoa\", \"confederation\": \"OFC\", \"population_share\": 0.0, \"tv_audience_share\": 0.0, \"gdp_weighted_share\": 0.0}, {\"country\": \"Cook Islands\", \"confederation\": \"OFC\", \"population_share\": 0.0, \"tv_audience_share\": 0.0, \"gdp_weighted_share\": 0.0}, {\"country\": \"Tonga\", \"confederation\": \"OFC\", \"population_share\": 0.0, \"tv_audience_share\": 0.0, \"gdp_weighted_share\": 0.0}, {\"country\": \"Liberia\", \"confederation\": \"CAF\", \"population_share\": 0.1, \"tv_audience_share\": 0.0, \"gdp_weighted_share\": 0.0}, {\"country\": \"Palau\", \"confederation\": \"OFC\", \"population_share\": 0.0, \"tv_audience_share\": 0.0, \"gdp_weighted_share\": 0.0}, {\"country\": \"Nauru\", \"confederation\": \"OFC\", \"population_share\": 0.0, \"tv_audience_share\": 0.0, \"gdp_weighted_share\": 0.0}, {\"country\": \"Niue\", \"confederation\": \"OFC\", \"population_share\": 0.0, \"tv_audience_share\": 0.0, \"gdp_weighted_share\": 0.0}]}}, {\"mode\": \"vega-lite\"});\n",
       "</script>"
      ],
      "text/plain": [
       "alt.Chart(...)"
      ]
     },
     "execution_count": 177,
     "metadata": {},
     "output_type": "execute_result"
    }
   ],
   "source": [
    "alt.Chart(df).mark_circle(size=60).encode( #acme\n",
    "    x=alt.X('confederation', \n",
    "            title='confederation'),\n",
    "    y=alt.Y('count(confederation)', \n",
    "            title='count(confederation)'),\n",
    "    tooltip=['confederation', 'count(confederation)']\n",
    ").interactive()"
   ]
  }
 ],
 "metadata": {
  "kernelspec": {
   "display_name": "bigdata",
   "language": "python",
   "name": "python3"
  },
  "language_info": {
   "codemirror_mode": {
    "name": "ipython",
    "version": 3
   },
   "file_extension": ".py",
   "mimetype": "text/x-python",
   "name": "python",
   "nbconvert_exporter": "python",
   "pygments_lexer": "ipython3",
   "version": "3.9.13"
  },
  "orig_nbformat": 4,
  "vscode": {
   "interpreter": {
    "hash": "1507ba80c64189e7cb5ef2c59e184db8cda2243c893e7000df2521cf41f47866"
   }
  }
 },
 "nbformat": 4,
 "nbformat_minor": 2
}
