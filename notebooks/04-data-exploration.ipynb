{
 "cells": [
  {
   "cell_type": "markdown",
   "metadata": {},
   "source": [
    "# Data exploration \n",
    "\n",
    "---\n",
    "\n",
    "Group name: K\n",
    "\n",
    "---\n"
   ]
  },
  {
   "cell_type": "markdown",
   "metadata": {},
   "source": [
    "## Introduction\n",
    "\n",
    "*This section includes a short description of the data* "
   ]
  },
  {
   "cell_type": "markdown",
   "metadata": {},
   "source": [
    "## Setup"
   ]
  },
  {
   "cell_type": "code",
   "execution_count": 36,
   "metadata": {},
   "outputs": [],
   "source": [
    "import pandas as pd\n",
    "import altair as alt"
   ]
  },
  {
   "cell_type": "markdown",
   "metadata": {},
   "source": [
    "## Data"
   ]
  },
  {
   "cell_type": "markdown",
   "metadata": {},
   "source": [
    "### Import data"
   ]
  },
  {
   "cell_type": "code",
   "execution_count": 37,
   "metadata": {},
   "outputs": [],
   "source": [
    "ROOT = \"/Users/helenbruker/Uni/OMM4/BigData/homework-1/data/external/\"\n",
    "DATA = \"fifa_countries_audience.csv\"\n",
    "\n",
    "df = pd.read_csv(ROOT + DATA)"
   ]
  },
  {
   "cell_type": "markdown",
   "metadata": {},
   "source": [
    "### Data structure"
   ]
  },
  {
   "cell_type": "code",
   "execution_count": 38,
   "metadata": {},
   "outputs": [
    {
     "data": {
      "text/html": [
       "<div>\n",
       "<style scoped>\n",
       "    .dataframe tbody tr th:only-of-type {\n",
       "        vertical-align: middle;\n",
       "    }\n",
       "\n",
       "    .dataframe tbody tr th {\n",
       "        vertical-align: top;\n",
       "    }\n",
       "\n",
       "    .dataframe thead th {\n",
       "        text-align: right;\n",
       "    }\n",
       "</style>\n",
       "<table border=\"1\" class=\"dataframe\">\n",
       "  <thead>\n",
       "    <tr style=\"text-align: right;\">\n",
       "      <th></th>\n",
       "      <th>country</th>\n",
       "      <th>confederation</th>\n",
       "      <th>population_share</th>\n",
       "      <th>tv_audience_share</th>\n",
       "      <th>gdp_weighted_share</th>\n",
       "    </tr>\n",
       "  </thead>\n",
       "  <tbody>\n",
       "    <tr>\n",
       "      <th>0</th>\n",
       "      <td>United States</td>\n",
       "      <td>CONCACAF</td>\n",
       "      <td>4.5</td>\n",
       "      <td>4.3</td>\n",
       "      <td>11.3</td>\n",
       "    </tr>\n",
       "    <tr>\n",
       "      <th>1</th>\n",
       "      <td>Japan</td>\n",
       "      <td>AFC</td>\n",
       "      <td>1.9</td>\n",
       "      <td>4.9</td>\n",
       "      <td>9.1</td>\n",
       "    </tr>\n",
       "    <tr>\n",
       "      <th>2</th>\n",
       "      <td>China</td>\n",
       "      <td>AFC</td>\n",
       "      <td>19.5</td>\n",
       "      <td>14.8</td>\n",
       "      <td>7.3</td>\n",
       "    </tr>\n",
       "    <tr>\n",
       "      <th>3</th>\n",
       "      <td>Germany</td>\n",
       "      <td>UEFA</td>\n",
       "      <td>1.2</td>\n",
       "      <td>2.9</td>\n",
       "      <td>6.3</td>\n",
       "    </tr>\n",
       "    <tr>\n",
       "      <th>4</th>\n",
       "      <td>Brazil</td>\n",
       "      <td>CONMEBOL</td>\n",
       "      <td>2.8</td>\n",
       "      <td>7.1</td>\n",
       "      <td>5.4</td>\n",
       "    </tr>\n",
       "    <tr>\n",
       "      <th>...</th>\n",
       "      <td>...</td>\n",
       "      <td>...</td>\n",
       "      <td>...</td>\n",
       "      <td>...</td>\n",
       "      <td>...</td>\n",
       "    </tr>\n",
       "    <tr>\n",
       "      <th>186</th>\n",
       "      <td>Tonga</td>\n",
       "      <td>OFC</td>\n",
       "      <td>0.0</td>\n",
       "      <td>0.0</td>\n",
       "      <td>0.0</td>\n",
       "    </tr>\n",
       "    <tr>\n",
       "      <th>187</th>\n",
       "      <td>Liberia</td>\n",
       "      <td>CAF</td>\n",
       "      <td>0.1</td>\n",
       "      <td>0.0</td>\n",
       "      <td>0.0</td>\n",
       "    </tr>\n",
       "    <tr>\n",
       "      <th>188</th>\n",
       "      <td>Palau</td>\n",
       "      <td>OFC</td>\n",
       "      <td>0.0</td>\n",
       "      <td>0.0</td>\n",
       "      <td>0.0</td>\n",
       "    </tr>\n",
       "    <tr>\n",
       "      <th>189</th>\n",
       "      <td>Nauru</td>\n",
       "      <td>OFC</td>\n",
       "      <td>0.0</td>\n",
       "      <td>0.0</td>\n",
       "      <td>0.0</td>\n",
       "    </tr>\n",
       "    <tr>\n",
       "      <th>190</th>\n",
       "      <td>Niue</td>\n",
       "      <td>OFC</td>\n",
       "      <td>0.0</td>\n",
       "      <td>0.0</td>\n",
       "      <td>0.0</td>\n",
       "    </tr>\n",
       "  </tbody>\n",
       "</table>\n",
       "<p>191 rows × 5 columns</p>\n",
       "</div>"
      ],
      "text/plain": [
       "           country confederation  population_share  tv_audience_share  \\\n",
       "0    United States      CONCACAF               4.5                4.3   \n",
       "1            Japan           AFC               1.9                4.9   \n",
       "2            China           AFC              19.5               14.8   \n",
       "3          Germany          UEFA               1.2                2.9   \n",
       "4           Brazil      CONMEBOL               2.8                7.1   \n",
       "..             ...           ...               ...                ...   \n",
       "186          Tonga           OFC               0.0                0.0   \n",
       "187        Liberia           CAF               0.1                0.0   \n",
       "188          Palau           OFC               0.0                0.0   \n",
       "189          Nauru           OFC               0.0                0.0   \n",
       "190           Niue           OFC               0.0                0.0   \n",
       "\n",
       "     gdp_weighted_share  \n",
       "0                  11.3  \n",
       "1                   9.1  \n",
       "2                   7.3  \n",
       "3                   6.3  \n",
       "4                   5.4  \n",
       "..                  ...  \n",
       "186                 0.0  \n",
       "187                 0.0  \n",
       "188                 0.0  \n",
       "189                 0.0  \n",
       "190                 0.0  \n",
       "\n",
       "[191 rows x 5 columns]"
      ]
     },
     "execution_count": 38,
     "metadata": {},
     "output_type": "execute_result"
    }
   ],
   "source": [
    "df"
   ]
  },
  {
   "cell_type": "code",
   "execution_count": 39,
   "metadata": {},
   "outputs": [
    {
     "name": "stdout",
     "output_type": "stream",
     "text": [
      "<class 'pandas.core.frame.DataFrame'>\n",
      "RangeIndex: 191 entries, 0 to 190\n",
      "Data columns (total 5 columns):\n",
      " #   Column              Non-Null Count  Dtype  \n",
      "---  ------              --------------  -----  \n",
      " 0   country             191 non-null    object \n",
      " 1   confederation       191 non-null    object \n",
      " 2   population_share    191 non-null    float64\n",
      " 3   tv_audience_share   191 non-null    float64\n",
      " 4   gdp_weighted_share  191 non-null    float64\n",
      "dtypes: float64(3), object(2)\n",
      "memory usage: 7.6+ KB\n"
     ]
    }
   ],
   "source": [
    "df.info()"
   ]
  },
  {
   "cell_type": "markdown",
   "metadata": {},
   "source": [
    "### Data corrections"
   ]
  },
  {
   "cell_type": "markdown",
   "metadata": {},
   "source": [
    "Change data format from object to category"
   ]
  },
  {
   "cell_type": "code",
   "execution_count": 40,
   "metadata": {},
   "outputs": [],
   "source": [
    "df.country = df.country.astype(\"category\")\n",
    "df.population_share = df.population_share.astype(\"category\")\n",
    "df.tv_audience_share = df.tv_audience_share.astype(\"category\")\n",
    "df.gdp_weighted_share = df.gdp_weighted_share.astype(\"category\")\n",
    "df.confederation = df.confederation.astype(\"category\")"
   ]
  },
  {
   "cell_type": "markdown",
   "metadata": {},
   "source": [
    "## Exploratory data analysis"
   ]
  },
  {
   "attachments": {},
   "cell_type": "markdown",
   "metadata": {},
   "source": [
    "### 1. Visualization: Standard bar chart"
   ]
  },
  {
   "attachments": {},
   "cell_type": "markdown",
   "metadata": {},
   "source": [
    "Explanation of choice:"
   ]
  },
  {
   "cell_type": "code",
   "execution_count": 54,
   "metadata": {},
   "outputs": [
    {
     "data": {
      "text/plain": [
       "['country', 'confederation', 'population_share']"
      ]
     },
     "execution_count": 54,
     "metadata": {},
     "output_type": "execute_result"
    }
   ],
   "source": [
    "var_list = ['country', 'confederation', 'population_share']\n",
    "\n",
    "var_list"
   ]
  },
  {
   "cell_type": "code",
   "execution_count": 55,
   "metadata": {},
   "outputs": [
    {
     "data": {
      "text/html": [
       "<div>\n",
       "<style scoped>\n",
       "    .dataframe tbody tr th:only-of-type {\n",
       "        vertical-align: middle;\n",
       "    }\n",
       "\n",
       "    .dataframe tbody tr th {\n",
       "        vertical-align: top;\n",
       "    }\n",
       "\n",
       "    .dataframe thead th {\n",
       "        text-align: right;\n",
       "    }\n",
       "</style>\n",
       "<table border=\"1\" class=\"dataframe\">\n",
       "  <thead>\n",
       "    <tr style=\"text-align: right;\">\n",
       "      <th></th>\n",
       "      <th>country</th>\n",
       "      <th>confederation</th>\n",
       "      <th>population_share</th>\n",
       "    </tr>\n",
       "  </thead>\n",
       "  <tbody>\n",
       "    <tr>\n",
       "      <th>0</th>\n",
       "      <td>United States</td>\n",
       "      <td>CONCACAF</td>\n",
       "      <td>4.5</td>\n",
       "    </tr>\n",
       "    <tr>\n",
       "      <th>1</th>\n",
       "      <td>Japan</td>\n",
       "      <td>AFC</td>\n",
       "      <td>1.9</td>\n",
       "    </tr>\n",
       "    <tr>\n",
       "      <th>2</th>\n",
       "      <td>China</td>\n",
       "      <td>AFC</td>\n",
       "      <td>19.5</td>\n",
       "    </tr>\n",
       "    <tr>\n",
       "      <th>3</th>\n",
       "      <td>Germany</td>\n",
       "      <td>UEFA</td>\n",
       "      <td>1.2</td>\n",
       "    </tr>\n",
       "    <tr>\n",
       "      <th>4</th>\n",
       "      <td>Brazil</td>\n",
       "      <td>CONMEBOL</td>\n",
       "      <td>2.8</td>\n",
       "    </tr>\n",
       "    <tr>\n",
       "      <th>...</th>\n",
       "      <td>...</td>\n",
       "      <td>...</td>\n",
       "      <td>...</td>\n",
       "    </tr>\n",
       "    <tr>\n",
       "      <th>186</th>\n",
       "      <td>Tonga</td>\n",
       "      <td>OFC</td>\n",
       "      <td>0.0</td>\n",
       "    </tr>\n",
       "    <tr>\n",
       "      <th>187</th>\n",
       "      <td>Liberia</td>\n",
       "      <td>CAF</td>\n",
       "      <td>0.1</td>\n",
       "    </tr>\n",
       "    <tr>\n",
       "      <th>188</th>\n",
       "      <td>Palau</td>\n",
       "      <td>OFC</td>\n",
       "      <td>0.0</td>\n",
       "    </tr>\n",
       "    <tr>\n",
       "      <th>189</th>\n",
       "      <td>Nauru</td>\n",
       "      <td>OFC</td>\n",
       "      <td>0.0</td>\n",
       "    </tr>\n",
       "    <tr>\n",
       "      <th>190</th>\n",
       "      <td>Niue</td>\n",
       "      <td>OFC</td>\n",
       "      <td>0.0</td>\n",
       "    </tr>\n",
       "  </tbody>\n",
       "</table>\n",
       "<p>191 rows × 3 columns</p>\n",
       "</div>"
      ],
      "text/plain": [
       "           country confederation population_share\n",
       "0    United States      CONCACAF              4.5\n",
       "1            Japan           AFC              1.9\n",
       "2            China           AFC             19.5\n",
       "3          Germany          UEFA              1.2\n",
       "4           Brazil      CONMEBOL              2.8\n",
       "..             ...           ...              ...\n",
       "186          Tonga           OFC              0.0\n",
       "187        Liberia           CAF              0.1\n",
       "188          Palau           OFC              0.0\n",
       "189          Nauru           OFC              0.0\n",
       "190           Niue           OFC              0.0\n",
       "\n",
       "[191 rows x 3 columns]"
      ]
     },
     "execution_count": 55,
     "metadata": {},
     "output_type": "execute_result"
    }
   ],
   "source": [
    "source = df[var_list]\n",
    "\n",
    "source"
   ]
  },
  {
   "attachments": {},
   "cell_type": "markdown",
   "metadata": {},
   "source": [
    "### Visualizing:"
   ]
  },
  {
   "cell_type": "code",
   "execution_count": 56,
   "metadata": {},
   "outputs": [
    {
     "name": "stderr",
     "output_type": "stream",
     "text": [
      "/opt/anaconda3/envs/bigdata/lib/python3.9/site-packages/altair/utils/core.py:317: FutureWarning: iteritems is deprecated and will be removed in a future version. Use .items instead.\n",
      "  for col_name, dtype in df.dtypes.iteritems():\n"
     ]
    },
    {
     "data": {
      "text/html": [
       "\n",
       "<div id=\"altair-viz-c33697b56450470b98488fc922681e17\"></div>\n",
       "<script type=\"text/javascript\">\n",
       "  var VEGA_DEBUG = (typeof VEGA_DEBUG == \"undefined\") ? {} : VEGA_DEBUG;\n",
       "  (function(spec, embedOpt){\n",
       "    let outputDiv = document.currentScript.previousElementSibling;\n",
       "    if (outputDiv.id !== \"altair-viz-c33697b56450470b98488fc922681e17\") {\n",
       "      outputDiv = document.getElementById(\"altair-viz-c33697b56450470b98488fc922681e17\");\n",
       "    }\n",
       "    const paths = {\n",
       "      \"vega\": \"https://cdn.jsdelivr.net/npm//vega@5?noext\",\n",
       "      \"vega-lib\": \"https://cdn.jsdelivr.net/npm//vega-lib?noext\",\n",
       "      \"vega-lite\": \"https://cdn.jsdelivr.net/npm//vega-lite@4.17.0?noext\",\n",
       "      \"vega-embed\": \"https://cdn.jsdelivr.net/npm//vega-embed@6?noext\",\n",
       "    };\n",
       "\n",
       "    function maybeLoadScript(lib, version) {\n",
       "      var key = `${lib.replace(\"-\", \"\")}_version`;\n",
       "      return (VEGA_DEBUG[key] == version) ?\n",
       "        Promise.resolve(paths[lib]) :\n",
       "        new Promise(function(resolve, reject) {\n",
       "          var s = document.createElement('script');\n",
       "          document.getElementsByTagName(\"head\")[0].appendChild(s);\n",
       "          s.async = true;\n",
       "          s.onload = () => {\n",
       "            VEGA_DEBUG[key] = version;\n",
       "            return resolve(paths[lib]);\n",
       "          };\n",
       "          s.onerror = () => reject(`Error loading script: ${paths[lib]}`);\n",
       "          s.src = paths[lib];\n",
       "        });\n",
       "    }\n",
       "\n",
       "    function showError(err) {\n",
       "      outputDiv.innerHTML = `<div class=\"error\" style=\"color:red;\">${err}</div>`;\n",
       "      throw err;\n",
       "    }\n",
       "\n",
       "    function displayChart(vegaEmbed) {\n",
       "      vegaEmbed(outputDiv, spec, embedOpt)\n",
       "        .catch(err => showError(`Javascript Error: ${err.message}<br>This usually means there's a typo in your chart specification. See the javascript console for the full traceback.`));\n",
       "    }\n",
       "\n",
       "    if(typeof define === \"function\" && define.amd) {\n",
       "      requirejs.config({paths});\n",
       "      require([\"vega-embed\"], displayChart, err => showError(`Error loading script: ${err.message}`));\n",
       "    } else {\n",
       "      maybeLoadScript(\"vega\", \"5\")\n",
       "        .then(() => maybeLoadScript(\"vega-lite\", \"4.17.0\"))\n",
       "        .then(() => maybeLoadScript(\"vega-embed\", \"6\"))\n",
       "        .catch(showError)\n",
       "        .then(() => displayChart(vegaEmbed));\n",
       "    }\n",
       "  })({\"config\": {\"view\": {\"continuousWidth\": 400, \"continuousHeight\": 300}}, \"data\": {\"name\": \"data-2df3496c75c1ca577297875071eb407e\"}, \"mark\": \"bar\", \"encoding\": {\"x\": {\"field\": \"confederation\", \"type\": \"nominal\"}, \"y\": {\"aggregate\": \"count\", \"field\": \"confederation\", \"type\": \"nominal\"}}, \"$schema\": \"https://vega.github.io/schema/vega-lite/v4.17.0.json\", \"datasets\": {\"data-2df3496c75c1ca577297875071eb407e\": [{\"country\": \"United States\", \"confederation\": \"CONCACAF\", \"population_share\": 4.5}, {\"country\": \"Japan\", \"confederation\": \"AFC\", \"population_share\": 1.9}, {\"country\": \"China\", \"confederation\": \"AFC\", \"population_share\": 19.5}, {\"country\": \"Germany\", \"confederation\": \"UEFA\", \"population_share\": 1.2}, {\"country\": \"Brazil\", \"confederation\": \"CONMEBOL\", \"population_share\": 2.8}, {\"country\": \"United Kingdom\", \"confederation\": \"UEFA\", \"population_share\": 0.9}, {\"country\": \"Italy\", \"confederation\": \"UEFA\", \"population_share\": 0.9}, {\"country\": \"France\", \"confederation\": \"UEFA\", \"population_share\": 0.9}, {\"country\": \"Russia\", \"confederation\": \"UEFA\", \"population_share\": 2.1}, {\"country\": \"Spain\", \"confederation\": \"UEFA\", \"population_share\": 0.7}, {\"country\": \"South Korea\", \"confederation\": \"AFC\", \"population_share\": 0.7}, {\"country\": \"Indonesia\", \"confederation\": \"AFC\", \"population_share\": 3.5}, {\"country\": \"Mexico\", \"confederation\": \"CONCACAF\", \"population_share\": 1.7}, {\"country\": \"Turkey\", \"confederation\": \"UEFA\", \"population_share\": 1.1}, {\"country\": \"Thailand\", \"confederation\": \"AFC\", \"population_share\": 1.0}, {\"country\": \"Argentina\", \"confederation\": \"CONMEBOL\", \"population_share\": 0.6}, {\"country\": \"Netherlands\", \"confederation\": \"UEFA\", \"population_share\": 0.2}, {\"country\": \"Poland\", \"confederation\": \"UEFA\", \"population_share\": 0.6}, {\"country\": \"Saudi Arabia\", \"confederation\": \"AFC\", \"population_share\": 0.4}, {\"country\": \"Taiwan\", \"confederation\": \"AFC\", \"population_share\": 0.3}, {\"country\": \"Canada\", \"confederation\": \"CONCACAF\", \"population_share\": 0.5}, {\"country\": \"Colombia\", \"confederation\": \"CONMEBOL\", \"population_share\": 0.7}, {\"country\": \"Venezuela\", \"confederation\": \"CONMEBOL\", \"population_share\": 0.4}, {\"country\": \"South Africa\", \"confederation\": \"CAF\", \"population_share\": 0.7}, {\"country\": \"Malaysia\", \"confederation\": \"AFC\", \"population_share\": 0.4}, {\"country\": \"Switzerland\", \"confederation\": \"UEFA\", \"population_share\": 0.1}, {\"country\": \"Nigeria\", \"confederation\": \"CAF\", \"population_share\": 2.3}, {\"country\": \"Belgium\", \"confederation\": \"UEFA\", \"population_share\": 0.2}, {\"country\": \"Sweden\", \"confederation\": \"UEFA\", \"population_share\": 0.1}, {\"country\": \"Vietnam\", \"confederation\": \"AFC\", \"population_share\": 1.3}, {\"country\": \"Iran\", \"confederation\": \"AFC\", \"population_share\": 1.1}, {\"country\": \"Chile\", \"confederation\": \"CONMEBOL\", \"population_share\": 0.3}, {\"country\": \"Romania\", \"confederation\": \"UEFA\", \"population_share\": 0.3}, {\"country\": \"Austria\", \"confederation\": \"UEFA\", \"population_share\": 0.1}, {\"country\": \"Singapore\", \"confederation\": \"AFC\", \"population_share\": 0.1}, {\"country\": \"Australia\", \"confederation\": \"AFC\", \"population_share\": 0.3}, {\"country\": \"Greece\", \"confederation\": \"UEFA\", \"population_share\": 0.2}, {\"country\": \"Portugal\", \"confederation\": \"UEFA\", \"population_share\": 0.2}, {\"country\": \"India\", \"confederation\": \"AFC\", \"population_share\": 17.6}, {\"country\": \"Czech Republic\", \"confederation\": \"UEFA\", \"population_share\": 0.2}, {\"country\": \"Egypt\", \"confederation\": \"CAF\", \"population_share\": 1.1}, {\"country\": \"Denmark\", \"confederation\": \"UEFA\", \"population_share\": 0.1}, {\"country\": \"Norway\", \"confederation\": \"UEFA\", \"population_share\": 0.1}, {\"country\": \"Peru\", \"confederation\": \"CONMEBOL\", \"population_share\": 0.4}, {\"country\": \"Ukraine\", \"confederation\": \"UEFA\", \"population_share\": 0.7}, {\"country\": \"Iraq\", \"confederation\": \"AFC\", \"population_share\": 0.5}, {\"country\": \"Hungary\", \"confederation\": \"UEFA\", \"population_share\": 0.1}, {\"country\": \"Kazakhstan\", \"confederation\": \"UEFA\", \"population_share\": 0.2}, {\"country\": \"Finland\", \"confederation\": \"UEFA\", \"population_share\": 0.1}, {\"country\": \"Ireland\", \"confederation\": \"UEFA\", \"population_share\": 0.1}, {\"country\": \"Algeria\", \"confederation\": \"CAF\", \"population_share\": 0.5}, {\"country\": \"Cuba\", \"confederation\": \"CONCACAF\", \"population_share\": 0.2}, {\"country\": \"Ecuador\", \"confederation\": \"CONMEBOL\", \"population_share\": 0.2}, {\"country\": \"Slovakia\", \"confederation\": \"UEFA\", \"population_share\": 0.1}, {\"country\": \"Qatar\", \"confederation\": \"AFC\", \"population_share\": 0.0}, {\"country\": \"Kuwait\", \"confederation\": \"AFC\", \"population_share\": 0.0}, {\"country\": \"Bulgaria\", \"confederation\": \"UEFA\", \"population_share\": 0.1}, {\"country\": \"Serbia\", \"confederation\": \"UEFA\", \"population_share\": 0.1}, {\"country\": \"Belarus\", \"confederation\": \"UEFA\", \"population_share\": 0.1}, {\"country\": \"Hong Kong\", \"confederation\": \"AFC\", \"population_share\": 0.1}, {\"country\": \"Croatia\", \"confederation\": \"UEFA\", \"population_share\": 0.1}, {\"country\": \"Oman\", \"confederation\": \"AFC\", \"population_share\": 0.0}, {\"country\": \"Dominica Republic\", \"confederation\": \"CONCACAF\", \"population_share\": 0.1}, {\"country\": \"Azerbaijan\", \"confederation\": \"UEFA\", \"population_share\": 0.1}, {\"country\": \"New Zealand\", \"confederation\": \"OFC\", \"population_share\": 0.1}, {\"country\": \"Lithuania\", \"confederation\": \"UEFA\", \"population_share\": 0.0}, {\"country\": \"Slovenia\", \"confederation\": \"UEFA\", \"population_share\": 0.0}, {\"country\": \"Uruguay\", \"confederation\": \"CONMEBOL\", \"population_share\": 0.0}, {\"country\": \"Costa Rica\", \"confederation\": \"CONCACAF\", \"population_share\": 0.1}, {\"country\": \"Uzbekistan\", \"confederation\": \"AFC\", \"population_share\": 0.4}, {\"country\": \"Yemen\", \"confederation\": \"CAF\", \"population_share\": 0.3}, {\"country\": \"Israel\", \"confederation\": \"UEFA\", \"population_share\": 0.1}, {\"country\": \"El Salvador\", \"confederation\": \"CONCACAF\", \"population_share\": 0.1}, {\"country\": \"Syria\", \"confederation\": \"AFC\", \"population_share\": 0.3}, {\"country\": \"Pakistan\", \"confederation\": \"AFC\", \"population_share\": 2.5}, {\"country\": \"Guatemala\", \"confederation\": \"CONCACAF\", \"population_share\": 0.2}, {\"country\": \"Paraguay\", \"confederation\": \"CONMEBOL\", \"population_share\": 0.1}, {\"country\": \"Panama\", \"confederation\": \"CONCACAF\", \"population_share\": 0.1}, {\"country\": \"Bosnia-Herzegovina\", \"confederation\": \"UEFA\", \"population_share\": 0.1}, {\"country\": \"Cambodia\", \"confederation\": \"AFC\", \"population_share\": 0.2}, {\"country\": \"Ivory Coast\", \"confederation\": \"CAF\", \"population_share\": 0.3}, {\"country\": \"Macau\", \"confederation\": \"AFC\", \"population_share\": 0.0}, {\"country\": \"Latvia\", \"confederation\": \"UEFA\", \"population_share\": 0.0}, {\"country\": \"Lebanon\", \"confederation\": \"AFC\", \"population_share\": 0.1}, {\"country\": \"Jordan\", \"confederation\": \"AFC\", \"population_share\": 0.1}, {\"country\": \"Honduras\", \"confederation\": \"CONCACAF\", \"population_share\": 0.1}, {\"country\": \"Brunei\", \"confederation\": \"AFC\", \"population_share\": 0.0}, {\"country\": \"Albania\", \"confederation\": \"UEFA\", \"population_share\": 0.0}, {\"country\": \"Turkmenistan\", \"confederation\": \"AFC\", \"population_share\": 0.1}, {\"country\": \"Angola\", \"confederation\": \"CAF\", \"population_share\": 0.3}, {\"country\": \"Estonia\", \"confederation\": \"UEFA\", \"population_share\": 0.0}, {\"country\": \"Bahrain\", \"confederation\": \"AFC\", \"population_share\": 0.0}, {\"country\": \"Nepal\", \"confederation\": \"AFC\", \"population_share\": 0.4}, {\"country\": \"Cyprus\", \"confederation\": \"UEFA\", \"population_share\": 0.0}, {\"country\": \"Ghana\", \"confederation\": \"CAF\", \"population_share\": 0.4}, {\"country\": \"Mauritius\", \"confederation\": \"CAF\", \"population_share\": 0.0}, {\"country\": \"Macedonia\", \"confederation\": \"UEFA\", \"population_share\": 0.0}, {\"country\": \"Kenya\", \"confederation\": \"CAF\", \"population_share\": 0.6}, {\"country\": \"Trinidad &Tobago\", \"confederation\": \"CONCACAF\", \"population_share\": 0.0}, {\"country\": \"Philippines\", \"confederation\": \"AFC\", \"population_share\": 1.4}, {\"country\": \"Bolivia\", \"confederation\": \"CONMEBOL\", \"population_share\": 0.1}, {\"country\": \"Laos\", \"confederation\": \"AFC\", \"population_share\": 0.1}, {\"country\": \"Armenia\", \"confederation\": \"UEFA\", \"population_share\": 0.0}, {\"country\": \"Nicaragua\", \"confederation\": \"CONCACAF\", \"population_share\": 0.1}, {\"country\": \"Afghanistan\", \"confederation\": \"AFC\", \"population_share\": 0.4}, {\"country\": \"Kosovo\", \"confederation\": \"UEFA\", \"population_share\": 0.0}, {\"country\": \"Cameroon\", \"confederation\": \"CAF\", \"population_share\": 0.3}, {\"country\": \"Senegal\", \"confederation\": \"CAF\", \"population_share\": 0.2}, {\"country\": \"Jamaica\", \"confederation\": \"CONCACAF\", \"population_share\": 0.0}, {\"country\": \"Sri Lanka\", \"confederation\": \"AFC\", \"population_share\": 0.3}, {\"country\": \"Myanmar\", \"confederation\": \"AFC\", \"population_share\": 0.8}, {\"country\": \"Moldova\", \"confederation\": \"UEFA\", \"population_share\": 0.1}, {\"country\": \"Malta\", \"confederation\": \"UEFA\", \"population_share\": 0.0}, {\"country\": \"Bangladesh\", \"confederation\": \"AFC\", \"population_share\": 2.2}, {\"country\": \"Zambia\", \"confederation\": \"CAF\", \"population_share\": 0.2}, {\"country\": \"Morocco\", \"confederation\": \"CAF\", \"population_share\": 0.5}, {\"country\": \"North Korea\", \"confederation\": \"AFC\", \"population_share\": 0.4}, {\"country\": \"Botswana\", \"confederation\": \"CAF\", \"population_share\": 0.0}, {\"country\": \"Tajikistan\", \"confederation\": \"AFC\", \"population_share\": 0.1}, {\"country\": \"Iceland\", \"confederation\": \"UEFA\", \"population_share\": 0.0}, {\"country\": \"Uganda\", \"confederation\": \"CAF\", \"population_share\": 0.5}, {\"country\": \"Libya\", \"confederation\": \"CAF\", \"population_share\": 0.1}, {\"country\": \"Palestine\", \"confederation\": \"AFC\", \"population_share\": 0.1}, {\"country\": \"Kyrgyzstan\", \"confederation\": \"AFC\", \"population_share\": 0.1}, {\"country\": \"Mongolia\", \"confederation\": \"AFC\", \"population_share\": 0.0}, {\"country\": \"Montenegro\", \"confederation\": \"UEFA\", \"population_share\": 0.0}, {\"country\": \"Tanzania\", \"confederation\": \"CAF\", \"population_share\": 0.7}, {\"country\": \"Georgia\", \"confederation\": \"UEFA\", \"population_share\": 0.1}, {\"country\": \"Suriname\", \"confederation\": \"CONCACAF\", \"population_share\": 0.0}, {\"country\": \"Sudan\", \"confederation\": \"CAF\", \"population_share\": 0.5}, {\"country\": \"Gabon\", \"confederation\": \"CAF\", \"population_share\": 0.0}, {\"country\": \"Madagascar\", \"confederation\": \"CAF\", \"population_share\": 0.3}, {\"country\": \"Tunisia\", \"confederation\": \"AFC\", \"population_share\": 0.2}, {\"country\": \"Ethiopia\", \"confederation\": \"CAF\", \"population_share\": 1.3}, {\"country\": \"Zimbabwe\", \"confederation\": \"CAF\", \"population_share\": 0.2}, {\"country\": \"Namibia\", \"confederation\": \"CAF\", \"population_share\": 0.0}, {\"country\": \"Bahamas\", \"confederation\": \"CONCACAF\", \"population_share\": 0.0}, {\"country\": \"Papua New Guinea\", \"confederation\": \"OFC\", \"population_share\": 0.1}, {\"country\": \"Guyana\", \"confederation\": \"CONCACAF\", \"population_share\": 0.0}, {\"country\": \"Turks & Caicos\", \"confederation\": \"CONCACAF\", \"population_share\": 0.0}, {\"country\": \"Congo DR\", \"confederation\": \"CAF\", \"population_share\": 0.9}, {\"country\": \"Burkina Faso\", \"confederation\": \"CAF\", \"population_share\": 0.2}, {\"country\": \"Guinea\", \"confederation\": \"CAF\", \"population_share\": 0.2}, {\"country\": \"Haiti\", \"confederation\": \"CONCACAF\", \"population_share\": 0.1}, {\"country\": \"Fiji\", \"confederation\": \"OFC\", \"population_share\": 0.0}, {\"country\": \"Barbados\", \"confederation\": \"CONCACAF\", \"population_share\": 0.0}, {\"country\": \"Mali\", \"confederation\": \"CAF\", \"population_share\": 0.2}, {\"country\": \"Bermuda\", \"confederation\": \"CONCACAF\", \"population_share\": 0.0}, {\"country\": \"St. Maarten\", \"confederation\": \"CONCACAF\", \"population_share\": 0.0}, {\"country\": \"Equatorial Guinea\", \"confederation\": \"CAF\", \"population_share\": 0.0}, {\"country\": \"Mozambique\", \"confederation\": \"CAF\", \"population_share\": 0.3}, {\"country\": \"Seychelles\", \"confederation\": \"CAF\", \"population_share\": 0.0}, {\"country\": \"Cape Verde\", \"confederation\": \"CAF\", \"population_share\": 0.0}, {\"country\": \"Benin\", \"confederation\": \"CAF\", \"population_share\": 0.1}, {\"country\": \"Swaziland\", \"confederation\": \"CAF\", \"population_share\": 0.0}, {\"country\": \"Cayman Islands\", \"confederation\": \"CONCACAF\", \"population_share\": 0.0}, {\"country\": \"Aruba\", \"confederation\": \"CONCACAF\", \"population_share\": 0.0}, {\"country\": \"Maldives\", \"confederation\": \"AFC\", \"population_share\": 0.0}, {\"country\": \"Niger\", \"confederation\": \"CAF\", \"population_share\": 0.2}, {\"country\": \"Curacao\", \"confederation\": \"CONCACAF\", \"population_share\": 0.0}, {\"country\": \"St. Lucia\", \"confederation\": \"CONCACAF\", \"population_share\": 0.0}, {\"country\": \"Togo\", \"confederation\": \"CAF\", \"population_share\": 0.1}, {\"country\": \"Burundi\", \"confederation\": \"CAF\", \"population_share\": 0.1}, {\"country\": \"Congo, Rep.\", \"confederation\": \"CAF\", \"population_share\": 0.1}, {\"country\": \"Antigua & Barbuda\", \"confederation\": \"CONCACAF\", \"population_share\": 0.0}, {\"country\": \"Chad\", \"confederation\": \"CAF\", \"population_share\": 0.2}, {\"country\": \"Eritrea\", \"confederation\": \"CAF\", \"population_share\": 0.1}, {\"country\": \"Grenada\", \"confederation\": \"CONCACAF\", \"population_share\": 0.0}, {\"country\": \"Lesotho\", \"confederation\": \"CAF\", \"population_share\": 0.0}, {\"country\": \"St. Vincent\", \"confederation\": \"CONCACAF\", \"population_share\": 0.0}, {\"country\": \"Malawi\", \"confederation\": \"CAF\", \"population_share\": 0.2}, {\"country\": \"Sierra Leone\", \"confederation\": \"CAF\", \"population_share\": 0.1}, {\"country\": \"Mauritania\", \"confederation\": \"CAF\", \"population_share\": 0.1}, {\"country\": \"Solomon Islands\", \"confederation\": \"OFC\", \"population_share\": 0.0}, {\"country\": \"Dominica\", \"confederation\": \"CONCACAF\", \"population_share\": 0.0}, {\"country\": \"Timor\", \"confederation\": \"AFC\", \"population_share\": 0.0}, {\"country\": \"St. Kitts\", \"confederation\": \"CONCACAF\", \"population_share\": 0.0}, {\"country\": \"Rwanda\", \"confederation\": \"CAF\", \"population_share\": 0.2}, {\"country\": \"Somalia\", \"confederation\": \"CAF\", \"population_share\": 0.1}, {\"country\": \"Gambia\", \"confederation\": \"CAF\", \"population_share\": 0.0}, {\"country\": \"Samoa\", \"confederation\": \"OFC\", \"population_share\": 0.0}, {\"country\": \"Guinea-Bissau\", \"confederation\": \"CAF\", \"population_share\": 0.0}, {\"country\": \"Central African Republic\", \"confederation\": \"CAF\", \"population_share\": 0.1}, {\"country\": \"Vanuatu\", \"confederation\": \"OFC\", \"population_share\": 0.0}, {\"country\": \"American Samoa\", \"confederation\": \"OFC\", \"population_share\": 0.0}, {\"country\": \"Cook Islands\", \"confederation\": \"OFC\", \"population_share\": 0.0}, {\"country\": \"Tonga\", \"confederation\": \"OFC\", \"population_share\": 0.0}, {\"country\": \"Liberia\", \"confederation\": \"CAF\", \"population_share\": 0.1}, {\"country\": \"Palau\", \"confederation\": \"OFC\", \"population_share\": 0.0}, {\"country\": \"Nauru\", \"confederation\": \"OFC\", \"population_share\": 0.0}, {\"country\": \"Niue\", \"confederation\": \"OFC\", \"population_share\": 0.0}]}}, {\"mode\": \"vega-lite\"});\n",
       "</script>"
      ],
      "text/plain": [
       "alt.Chart(...)"
      ]
     },
     "execution_count": 56,
     "metadata": {},
     "output_type": "execute_result"
    }
   ],
   "source": [
    "alt.Chart(source).mark_bar().encode(\n",
    "    x=('confederation'),\n",
    "    y=alt.Y('count(confederation)')\n",
    ")"
   ]
  }
 ],
 "metadata": {
  "kernelspec": {
   "display_name": "bigdata",
   "language": "python",
   "name": "python3"
  },
  "language_info": {
   "codemirror_mode": {
    "name": "ipython",
    "version": 3
   },
   "file_extension": ".py",
   "mimetype": "text/x-python",
   "name": "python",
   "nbconvert_exporter": "python",
   "pygments_lexer": "ipython3",
   "version": "3.9.13"
  },
  "orig_nbformat": 4,
  "vscode": {
   "interpreter": {
    "hash": "1507ba80c64189e7cb5ef2c59e184db8cda2243c893e7000df2521cf41f47866"
   }
  }
 },
 "nbformat": 4,
 "nbformat_minor": 2
}
