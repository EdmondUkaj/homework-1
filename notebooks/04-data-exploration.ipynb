{
 "cells": [
  {
   "cell_type": "markdown",
   "metadata": {},
   "source": [
    "# Data exploration \n",
    "\n",
    "---\n",
    "\n",
    "Group name: K\n",
    "\n",
    "---\n"
   ]
  },
  {
   "cell_type": "markdown",
   "metadata": {},
   "source": [
    "## Introduction\n",
    "\n",
    "*This section includes a short description of the data* "
   ]
  },
  {
   "cell_type": "markdown",
   "metadata": {},
   "source": [
    "## Setup"
   ]
  },
  {
   "cell_type": "code",
   "execution_count": 1,
   "metadata": {},
   "outputs": [],
   "source": [
    "import pandas as pd\n",
    "import altair as alt"
   ]
  },
  {
   "cell_type": "markdown",
   "metadata": {},
   "source": [
    "## Data"
   ]
  },
  {
   "cell_type": "markdown",
   "metadata": {},
   "source": [
    "### Import data"
   ]
  },
  {
   "cell_type": "code",
   "execution_count": 6,
   "metadata": {},
   "outputs": [],
   "source": [
    "ROOT = \"/Users/helenbruker/Uni/OMM4/BigData/homework-1/data/external/\"\n",
    "DATA = \"fifa_countries_audience.csv\"\n",
    "\n",
    "df = pd.read_csv(ROOT + DATA)"
   ]
  },
  {
   "cell_type": "markdown",
   "metadata": {},
   "source": [
    "### Data structure"
   ]
  },
  {
   "cell_type": "code",
   "execution_count": 11,
   "metadata": {},
   "outputs": [
    {
     "data": {
      "text/html": [
       "<div>\n",
       "<style scoped>\n",
       "    .dataframe tbody tr th:only-of-type {\n",
       "        vertical-align: middle;\n",
       "    }\n",
       "\n",
       "    .dataframe tbody tr th {\n",
       "        vertical-align: top;\n",
       "    }\n",
       "\n",
       "    .dataframe thead th {\n",
       "        text-align: right;\n",
       "    }\n",
       "</style>\n",
       "<table border=\"1\" class=\"dataframe\">\n",
       "  <thead>\n",
       "    <tr style=\"text-align: right;\">\n",
       "      <th></th>\n",
       "      <th>country</th>\n",
       "      <th>confederation</th>\n",
       "      <th>population_share</th>\n",
       "      <th>tv_audience_share</th>\n",
       "      <th>gdp_weighted_share</th>\n",
       "    </tr>\n",
       "  </thead>\n",
       "  <tbody>\n",
       "    <tr>\n",
       "      <th>0</th>\n",
       "      <td>United States</td>\n",
       "      <td>CONCACAF</td>\n",
       "      <td>4.5</td>\n",
       "      <td>4.3</td>\n",
       "      <td>11.3</td>\n",
       "    </tr>\n",
       "    <tr>\n",
       "      <th>1</th>\n",
       "      <td>Japan</td>\n",
       "      <td>AFC</td>\n",
       "      <td>1.9</td>\n",
       "      <td>4.9</td>\n",
       "      <td>9.1</td>\n",
       "    </tr>\n",
       "    <tr>\n",
       "      <th>2</th>\n",
       "      <td>China</td>\n",
       "      <td>AFC</td>\n",
       "      <td>19.5</td>\n",
       "      <td>14.8</td>\n",
       "      <td>7.3</td>\n",
       "    </tr>\n",
       "    <tr>\n",
       "      <th>3</th>\n",
       "      <td>Germany</td>\n",
       "      <td>UEFA</td>\n",
       "      <td>1.2</td>\n",
       "      <td>2.9</td>\n",
       "      <td>6.3</td>\n",
       "    </tr>\n",
       "    <tr>\n",
       "      <th>4</th>\n",
       "      <td>Brazil</td>\n",
       "      <td>CONMEBOL</td>\n",
       "      <td>2.8</td>\n",
       "      <td>7.1</td>\n",
       "      <td>5.4</td>\n",
       "    </tr>\n",
       "    <tr>\n",
       "      <th>...</th>\n",
       "      <td>...</td>\n",
       "      <td>...</td>\n",
       "      <td>...</td>\n",
       "      <td>...</td>\n",
       "      <td>...</td>\n",
       "    </tr>\n",
       "    <tr>\n",
       "      <th>186</th>\n",
       "      <td>Tonga</td>\n",
       "      <td>OFC</td>\n",
       "      <td>0.0</td>\n",
       "      <td>0.0</td>\n",
       "      <td>0.0</td>\n",
       "    </tr>\n",
       "    <tr>\n",
       "      <th>187</th>\n",
       "      <td>Liberia</td>\n",
       "      <td>CAF</td>\n",
       "      <td>0.1</td>\n",
       "      <td>0.0</td>\n",
       "      <td>0.0</td>\n",
       "    </tr>\n",
       "    <tr>\n",
       "      <th>188</th>\n",
       "      <td>Palau</td>\n",
       "      <td>OFC</td>\n",
       "      <td>0.0</td>\n",
       "      <td>0.0</td>\n",
       "      <td>0.0</td>\n",
       "    </tr>\n",
       "    <tr>\n",
       "      <th>189</th>\n",
       "      <td>Nauru</td>\n",
       "      <td>OFC</td>\n",
       "      <td>0.0</td>\n",
       "      <td>0.0</td>\n",
       "      <td>0.0</td>\n",
       "    </tr>\n",
       "    <tr>\n",
       "      <th>190</th>\n",
       "      <td>Niue</td>\n",
       "      <td>OFC</td>\n",
       "      <td>0.0</td>\n",
       "      <td>0.0</td>\n",
       "      <td>0.0</td>\n",
       "    </tr>\n",
       "  </tbody>\n",
       "</table>\n",
       "<p>191 rows × 5 columns</p>\n",
       "</div>"
      ],
      "text/plain": [
       "           country confederation population_share tv_audience_share  \\\n",
       "0    United States      CONCACAF              4.5               4.3   \n",
       "1            Japan           AFC              1.9               4.9   \n",
       "2            China           AFC             19.5              14.8   \n",
       "3          Germany          UEFA              1.2               2.9   \n",
       "4           Brazil      CONMEBOL              2.8               7.1   \n",
       "..             ...           ...              ...               ...   \n",
       "186          Tonga           OFC              0.0               0.0   \n",
       "187        Liberia           CAF              0.1               0.0   \n",
       "188          Palau           OFC              0.0               0.0   \n",
       "189          Nauru           OFC              0.0               0.0   \n",
       "190           Niue           OFC              0.0               0.0   \n",
       "\n",
       "    gdp_weighted_share  \n",
       "0                 11.3  \n",
       "1                  9.1  \n",
       "2                  7.3  \n",
       "3                  6.3  \n",
       "4                  5.4  \n",
       "..                 ...  \n",
       "186                0.0  \n",
       "187                0.0  \n",
       "188                0.0  \n",
       "189                0.0  \n",
       "190                0.0  \n",
       "\n",
       "[191 rows x 5 columns]"
      ]
     },
     "execution_count": 11,
     "metadata": {},
     "output_type": "execute_result"
    }
   ],
   "source": [
    "df"
   ]
  },
  {
   "cell_type": "markdown",
   "metadata": {},
   "source": [
    "### Data corrections"
   ]
  },
  {
   "cell_type": "markdown",
   "metadata": {},
   "source": [
    "Change data format from object to category"
   ]
  },
  {
   "cell_type": "code",
   "execution_count": 10,
   "metadata": {},
   "outputs": [],
   "source": [
    "df.country = df.country.astype(\"category\")\n",
    "df.population_share = df.population_share.astype(\"category\")\n",
    "df.tv_audience_share = df.tv_audience_share.astype(\"category\")\n",
    "df.gdp_weighted_share = df.gdp_weighted_share.astype(\"category\")"
   ]
  },
  {
   "cell_type": "markdown",
   "metadata": {},
   "source": [
    "## Exploratory data analysis"
   ]
  },
  {
   "cell_type": "code",
   "execution_count": 14,
   "metadata": {},
   "outputs": [
    {
     "data": {
      "text/plain": [
       "['country']"
      ]
     },
     "execution_count": 14,
     "metadata": {},
     "output_type": "execute_result"
    }
   ],
   "source": [
    "var_list = ['country']\n",
    "\n",
    "var_list"
   ]
  },
  {
   "cell_type": "code",
   "execution_count": 15,
   "metadata": {},
   "outputs": [
    {
     "data": {
      "text/html": [
       "<div>\n",
       "<style scoped>\n",
       "    .dataframe tbody tr th:only-of-type {\n",
       "        vertical-align: middle;\n",
       "    }\n",
       "\n",
       "    .dataframe tbody tr th {\n",
       "        vertical-align: top;\n",
       "    }\n",
       "\n",
       "    .dataframe thead th {\n",
       "        text-align: right;\n",
       "    }\n",
       "</style>\n",
       "<table border=\"1\" class=\"dataframe\">\n",
       "  <thead>\n",
       "    <tr style=\"text-align: right;\">\n",
       "      <th></th>\n",
       "      <th>country</th>\n",
       "    </tr>\n",
       "  </thead>\n",
       "  <tbody>\n",
       "    <tr>\n",
       "      <th>0</th>\n",
       "      <td>United States</td>\n",
       "    </tr>\n",
       "    <tr>\n",
       "      <th>1</th>\n",
       "      <td>Japan</td>\n",
       "    </tr>\n",
       "    <tr>\n",
       "      <th>2</th>\n",
       "      <td>China</td>\n",
       "    </tr>\n",
       "    <tr>\n",
       "      <th>3</th>\n",
       "      <td>Germany</td>\n",
       "    </tr>\n",
       "    <tr>\n",
       "      <th>4</th>\n",
       "      <td>Brazil</td>\n",
       "    </tr>\n",
       "    <tr>\n",
       "      <th>...</th>\n",
       "      <td>...</td>\n",
       "    </tr>\n",
       "    <tr>\n",
       "      <th>186</th>\n",
       "      <td>Tonga</td>\n",
       "    </tr>\n",
       "    <tr>\n",
       "      <th>187</th>\n",
       "      <td>Liberia</td>\n",
       "    </tr>\n",
       "    <tr>\n",
       "      <th>188</th>\n",
       "      <td>Palau</td>\n",
       "    </tr>\n",
       "    <tr>\n",
       "      <th>189</th>\n",
       "      <td>Nauru</td>\n",
       "    </tr>\n",
       "    <tr>\n",
       "      <th>190</th>\n",
       "      <td>Niue</td>\n",
       "    </tr>\n",
       "  </tbody>\n",
       "</table>\n",
       "<p>191 rows × 1 columns</p>\n",
       "</div>"
      ],
      "text/plain": [
       "           country\n",
       "0    United States\n",
       "1            Japan\n",
       "2            China\n",
       "3          Germany\n",
       "4           Brazil\n",
       "..             ...\n",
       "186          Tonga\n",
       "187        Liberia\n",
       "188          Palau\n",
       "189          Nauru\n",
       "190           Niue\n",
       "\n",
       "[191 rows x 1 columns]"
      ]
     },
     "execution_count": 15,
     "metadata": {},
     "output_type": "execute_result"
    }
   ],
   "source": [
    "source = df[var_list]\n",
    "\n",
    "source"
   ]
  },
  {
   "cell_type": "markdown",
   "metadata": {},
   "source": [
    "### 1. Standard bar chart"
   ]
  },
  {
   "cell_type": "code",
   "execution_count": 19,
   "metadata": {},
   "outputs": [
    {
     "data": {
      "text/html": [
       "\n",
       "<div id=\"altair-viz-a5fc2d056d0c4b8fb660c55a3e5db3b4\"></div>\n",
       "<script type=\"text/javascript\">\n",
       "  var VEGA_DEBUG = (typeof VEGA_DEBUG == \"undefined\") ? {} : VEGA_DEBUG;\n",
       "  (function(spec, embedOpt){\n",
       "    let outputDiv = document.currentScript.previousElementSibling;\n",
       "    if (outputDiv.id !== \"altair-viz-a5fc2d056d0c4b8fb660c55a3e5db3b4\") {\n",
       "      outputDiv = document.getElementById(\"altair-viz-a5fc2d056d0c4b8fb660c55a3e5db3b4\");\n",
       "    }\n",
       "    const paths = {\n",
       "      \"vega\": \"https://cdn.jsdelivr.net/npm//vega@5?noext\",\n",
       "      \"vega-lib\": \"https://cdn.jsdelivr.net/npm//vega-lib?noext\",\n",
       "      \"vega-lite\": \"https://cdn.jsdelivr.net/npm//vega-lite@4.17.0?noext\",\n",
       "      \"vega-embed\": \"https://cdn.jsdelivr.net/npm//vega-embed@6?noext\",\n",
       "    };\n",
       "\n",
       "    function maybeLoadScript(lib, version) {\n",
       "      var key = `${lib.replace(\"-\", \"\")}_version`;\n",
       "      return (VEGA_DEBUG[key] == version) ?\n",
       "        Promise.resolve(paths[lib]) :\n",
       "        new Promise(function(resolve, reject) {\n",
       "          var s = document.createElement('script');\n",
       "          document.getElementsByTagName(\"head\")[0].appendChild(s);\n",
       "          s.async = true;\n",
       "          s.onload = () => {\n",
       "            VEGA_DEBUG[key] = version;\n",
       "            return resolve(paths[lib]);\n",
       "          };\n",
       "          s.onerror = () => reject(`Error loading script: ${paths[lib]}`);\n",
       "          s.src = paths[lib];\n",
       "        });\n",
       "    }\n",
       "\n",
       "    function showError(err) {\n",
       "      outputDiv.innerHTML = `<div class=\"error\" style=\"color:red;\">${err}</div>`;\n",
       "      throw err;\n",
       "    }\n",
       "\n",
       "    function displayChart(vegaEmbed) {\n",
       "      vegaEmbed(outputDiv, spec, embedOpt)\n",
       "        .catch(err => showError(`Javascript Error: ${err.message}<br>This usually means there's a typo in your chart specification. See the javascript console for the full traceback.`));\n",
       "    }\n",
       "\n",
       "    if(typeof define === \"function\" && define.amd) {\n",
       "      requirejs.config({paths});\n",
       "      require([\"vega-embed\"], displayChart, err => showError(`Error loading script: ${err.message}`));\n",
       "    } else {\n",
       "      maybeLoadScript(\"vega\", \"5\")\n",
       "        .then(() => maybeLoadScript(\"vega-lite\", \"4.17.0\"))\n",
       "        .then(() => maybeLoadScript(\"vega-embed\", \"6\"))\n",
       "        .catch(showError)\n",
       "        .then(() => displayChart(vegaEmbed));\n",
       "    }\n",
       "  })({\"config\": {\"view\": {\"continuousWidth\": 400, \"continuousHeight\": 300}}, \"data\": {\"name\": \"data-231d8aa3ea485555af1164656c3a8b81\"}, \"mark\": \"bar\", \"encoding\": {\"x\": {\"field\": \"country\", \"type\": \"nominal\"}, \"y\": {\"aggregate\": \"count\", \"field\": \"country\", \"type\": \"nominal\"}}, \"$schema\": \"https://vega.github.io/schema/vega-lite/v4.17.0.json\", \"datasets\": {\"data-231d8aa3ea485555af1164656c3a8b81\": [{\"country\": \"United States\"}, {\"country\": \"Japan\"}, {\"country\": \"China\"}, {\"country\": \"Germany\"}, {\"country\": \"Brazil\"}, {\"country\": \"United Kingdom\"}, {\"country\": \"Italy\"}, {\"country\": \"France\"}, {\"country\": \"Russia\"}, {\"country\": \"Spain\"}, {\"country\": \"South Korea\"}, {\"country\": \"Indonesia\"}, {\"country\": \"Mexico\"}, {\"country\": \"Turkey\"}, {\"country\": \"Thailand\"}, {\"country\": \"Argentina\"}, {\"country\": \"Netherlands\"}, {\"country\": \"Poland\"}, {\"country\": \"Saudi Arabia\"}, {\"country\": \"Taiwan\"}, {\"country\": \"Canada\"}, {\"country\": \"Colombia\"}, {\"country\": \"Venezuela\"}, {\"country\": \"South Africa\"}, {\"country\": \"Malaysia\"}, {\"country\": \"Switzerland\"}, {\"country\": \"Nigeria\"}, {\"country\": \"Belgium\"}, {\"country\": \"Sweden\"}, {\"country\": \"Vietnam\"}, {\"country\": \"Iran\"}, {\"country\": \"Chile\"}, {\"country\": \"Romania\"}, {\"country\": \"Austria\"}, {\"country\": \"Singapore\"}, {\"country\": \"Australia\"}, {\"country\": \"Greece\"}, {\"country\": \"Portugal\"}, {\"country\": \"India\"}, {\"country\": \"Czech Republic\"}, {\"country\": \"Egypt\"}, {\"country\": \"Denmark\"}, {\"country\": \"Norway\"}, {\"country\": \"Peru\"}, {\"country\": \"Ukraine\"}, {\"country\": \"Iraq\"}, {\"country\": \"Hungary\"}, {\"country\": \"Kazakhstan\"}, {\"country\": \"Finland\"}, {\"country\": \"Ireland\"}, {\"country\": \"Algeria\"}, {\"country\": \"Cuba\"}, {\"country\": \"Ecuador\"}, {\"country\": \"Slovakia\"}, {\"country\": \"Qatar\"}, {\"country\": \"Kuwait\"}, {\"country\": \"Bulgaria\"}, {\"country\": \"Serbia\"}, {\"country\": \"Belarus\"}, {\"country\": \"Hong Kong\"}, {\"country\": \"Croatia\"}, {\"country\": \"Oman\"}, {\"country\": \"Dominica Republic\"}, {\"country\": \"Azerbaijan\"}, {\"country\": \"New Zealand\"}, {\"country\": \"Lithuania\"}, {\"country\": \"Slovenia\"}, {\"country\": \"Uruguay\"}, {\"country\": \"Costa Rica\"}, {\"country\": \"Uzbekistan\"}, {\"country\": \"Yemen\"}, {\"country\": \"Israel\"}, {\"country\": \"El Salvador\"}, {\"country\": \"Syria\"}, {\"country\": \"Pakistan\"}, {\"country\": \"Guatemala\"}, {\"country\": \"Paraguay\"}, {\"country\": \"Panama\"}, {\"country\": \"Bosnia-Herzegovina\"}, {\"country\": \"Cambodia\"}, {\"country\": \"Ivory Coast\"}, {\"country\": \"Macau\"}, {\"country\": \"Latvia\"}, {\"country\": \"Lebanon\"}, {\"country\": \"Jordan\"}, {\"country\": \"Honduras\"}, {\"country\": \"Brunei\"}, {\"country\": \"Albania\"}, {\"country\": \"Turkmenistan\"}, {\"country\": \"Angola\"}, {\"country\": \"Estonia\"}, {\"country\": \"Bahrain\"}, {\"country\": \"Nepal\"}, {\"country\": \"Cyprus\"}, {\"country\": \"Ghana\"}, {\"country\": \"Mauritius\"}, {\"country\": \"Macedonia\"}, {\"country\": \"Kenya\"}, {\"country\": \"Trinidad &Tobago\"}, {\"country\": \"Philippines\"}, {\"country\": \"Bolivia\"}, {\"country\": \"Laos\"}, {\"country\": \"Armenia\"}, {\"country\": \"Nicaragua\"}, {\"country\": \"Afghanistan\"}, {\"country\": \"Kosovo\"}, {\"country\": \"Cameroon\"}, {\"country\": \"Senegal\"}, {\"country\": \"Jamaica\"}, {\"country\": \"Sri Lanka\"}, {\"country\": \"Myanmar\"}, {\"country\": \"Moldova\"}, {\"country\": \"Malta\"}, {\"country\": \"Bangladesh\"}, {\"country\": \"Zambia\"}, {\"country\": \"Morocco\"}, {\"country\": \"North Korea\"}, {\"country\": \"Botswana\"}, {\"country\": \"Tajikistan\"}, {\"country\": \"Iceland\"}, {\"country\": \"Uganda\"}, {\"country\": \"Libya\"}, {\"country\": \"Palestine\"}, {\"country\": \"Kyrgyzstan\"}, {\"country\": \"Mongolia\"}, {\"country\": \"Montenegro\"}, {\"country\": \"Tanzania\"}, {\"country\": \"Georgia\"}, {\"country\": \"Suriname\"}, {\"country\": \"Sudan\"}, {\"country\": \"Gabon\"}, {\"country\": \"Madagascar\"}, {\"country\": \"Tunisia\"}, {\"country\": \"Ethiopia\"}, {\"country\": \"Zimbabwe\"}, {\"country\": \"Namibia\"}, {\"country\": \"Bahamas\"}, {\"country\": \"Papua New Guinea\"}, {\"country\": \"Guyana\"}, {\"country\": \"Turks & Caicos\"}, {\"country\": \"Congo DR\"}, {\"country\": \"Burkina Faso\"}, {\"country\": \"Guinea\"}, {\"country\": \"Haiti\"}, {\"country\": \"Fiji\"}, {\"country\": \"Barbados\"}, {\"country\": \"Mali\"}, {\"country\": \"Bermuda\"}, {\"country\": \"St. Maarten\"}, {\"country\": \"Equatorial Guinea\"}, {\"country\": \"Mozambique\"}, {\"country\": \"Seychelles\"}, {\"country\": \"Cape Verde\"}, {\"country\": \"Benin\"}, {\"country\": \"Swaziland\"}, {\"country\": \"Cayman Islands\"}, {\"country\": \"Aruba\"}, {\"country\": \"Maldives\"}, {\"country\": \"Niger\"}, {\"country\": \"Curacao\"}, {\"country\": \"St. Lucia\"}, {\"country\": \"Togo\"}, {\"country\": \"Burundi\"}, {\"country\": \"Congo, Rep.\"}, {\"country\": \"Antigua & Barbuda\"}, {\"country\": \"Chad\"}, {\"country\": \"Eritrea\"}, {\"country\": \"Grenada\"}, {\"country\": \"Lesotho\"}, {\"country\": \"St. Vincent\"}, {\"country\": \"Malawi\"}, {\"country\": \"Sierra Leone\"}, {\"country\": \"Mauritania\"}, {\"country\": \"Solomon Islands\"}, {\"country\": \"Dominica\"}, {\"country\": \"Timor\"}, {\"country\": \"St. Kitts\"}, {\"country\": \"Rwanda\"}, {\"country\": \"Somalia\"}, {\"country\": \"Gambia\"}, {\"country\": \"Samoa\"}, {\"country\": \"Guinea-Bissau\"}, {\"country\": \"Central African Republic\"}, {\"country\": \"Vanuatu\"}, {\"country\": \"American Samoa\"}, {\"country\": \"Cook Islands\"}, {\"country\": \"Tonga\"}, {\"country\": \"Liberia\"}, {\"country\": \"Palau\"}, {\"country\": \"Nauru\"}, {\"country\": \"Niue\"}]}}, {\"mode\": \"vega-lite\"});\n",
       "</script>"
      ],
      "text/plain": [
       "alt.Chart(...)"
      ]
     },
     "execution_count": 19,
     "metadata": {},
     "output_type": "execute_result"
    }
   ],
   "source": [
    "alt.Chart(source).mark_bar().encode(\n",
    "    x=('country'),\n",
    "    y=alt.Y('count(country)')\n",
    ")"
   ]
  },
  {
   "cell_type": "markdown",
   "metadata": {},
   "source": []
  }
 ],
 "metadata": {
  "kernelspec": {
   "display_name": "Python 3.9.13 ('bigdata')",
   "language": "python",
   "name": "python3"
  },
  "language_info": {
   "codemirror_mode": {
    "name": "ipython",
    "version": 3
   },
   "file_extension": ".py",
   "mimetype": "text/x-python",
   "name": "python",
   "nbconvert_exporter": "python",
   "pygments_lexer": "ipython3",
   "version": "3.9.13"
  },
  "orig_nbformat": 4,
  "vscode": {
   "interpreter": {
    "hash": "1507ba80c64189e7cb5ef2c59e184db8cda2243c893e7000df2521cf41f47866"
   }
  }
 },
 "nbformat": 4,
 "nbformat_minor": 2
}
